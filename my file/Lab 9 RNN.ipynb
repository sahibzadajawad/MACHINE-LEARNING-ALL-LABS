{
 "cells": [
  {
   "cell_type": "code",
   "execution_count": 52,
   "metadata": {},
   "outputs": [],
   "source": [
    "import os\n",
    "os.chdir(r'C:\\Users\\Hp\\Desktop\\ml labs\\last labs\\timeseires')"
   ]
  },
  {
   "cell_type": "code",
   "execution_count": 53,
   "metadata": {},
   "outputs": [],
   "source": [
    "from sklearn.metrics import mean_squared_error, mean_absolute_error, explained_variance_score, r2_score\n",
    "from timeseires.utils.to_split import to_split\n",
    "from timeseires.utils.multivariate_multi_step import multivariate_multi_step\n",
    "from timeseires.utils.multivariate_single_step import multivariate_single_step\n",
    "from timeseires.utils.univariate_multi_step import univariate_multi_step\n",
    "from timeseires.utils.univariate_single_step import univariate_single_step\n",
    "from timeseires.utils.CosineAnnealingLRS import CosineAnnealingLRS\n",
    "from timeseires.callbacks.EpochCheckpoint import EpochCheckpoint\n",
    "from tensorflow.keras.callbacks import ModelCheckpoint\n",
    "from timeseires.callbacks.TrainingMonitor import TrainingMonitor\n",
    "from tensorflow.keras.optimizers import Adam\n",
    "from tensorflow.keras.optimizers import SGD\n",
    "from tensorflow.keras.models import load_model\n",
    "from tensorflow.keras.layers import LSTM, Bidirectional, Add\n",
    "from tensorflow.keras.layers import BatchNormalization\n",
    "from tensorflow.keras.layers import Conv1D,TimeDistributed\n",
    "from tensorflow.keras.layers import Dense, Dropout, Activation, Flatten,MaxPooling1D,Concatenate,AveragePooling1D, GlobalMaxPooling1D, Input, SimpleRNN\n",
    "from tensorflow.keras.models import Sequential,Model\n",
    "import pandas as pd\n",
    "import time, pickle\n",
    "import numpy as np\n",
    "import tensorflow.keras.backend as K\n",
    "import tensorflow\n",
    "from tensorflow.keras.layers import Input, Reshape, Lambda\n",
    "from tensorflow.keras.layers import Layer, Flatten, LeakyReLU, concatenate, Dense\n",
    "from tensorflow.keras.regularizers import l2\n",
    "import glob\n",
    "import h5py\n",
    "import matplotlib.pyplot as plt\n",
    "from keras.callbacks import Callback"
   ]
  },
  {
   "cell_type": "code",
   "execution_count": 54,
   "metadata": {},
   "outputs": [],
   "source": [
    "#lookback = 24\n",
    "model = None\n",
    "start_epoch = 0\n",
    "time_steps=24\n",
    "num_features=21"
   ]
  },
  {
   "cell_type": "code",
   "execution_count": 55,
   "metadata": {},
   "outputs": [],
   "source": [
    "def create_rnn():\n",
    "    input_data = Input(shape=(time_steps, num_features))\n",
    "    rnn_layer1 = SimpleRNN(8, return_sequences=True)(input_data)\n",
    "    rnn_layer2 = SimpleRNN(20)(rnn_layer1)\n",
    "    x = Flatten()(rnn_layer2)\n",
    "    output_data = Dense(1)(x)\n",
    "    model = Model(input_data, output_data)\n",
    "    return model"
   ]
  },
  {
   "cell_type": "code",
   "execution_count": 56,
   "metadata": {
    "scrolled": true
   },
   "outputs": [
    {
     "name": "stdout",
     "output_type": "stream",
     "text": [
      "Model: \"model\"\n",
      "_________________________________________________________________\n",
      " Layer (type)                Output Shape              Param #   \n",
      "=================================================================\n",
      " input_1 (InputLayer)        [(None, 24, 21)]          0         \n",
      "                                                                 \n",
      " simple_rnn (SimpleRNN)      (None, 24, 8)             240       \n",
      "                                                                 \n",
      " simple_rnn_1 (SimpleRNN)    (None, 20)                580       \n",
      "                                                                 \n",
      " flatten (Flatten)           (None, 20)                0         \n",
      "                                                                 \n",
      " dense (Dense)               (None, 1)                 21        \n",
      "                                                                 \n",
      "=================================================================\n",
      "Total params: 841\n",
      "Trainable params: 841\n",
      "Non-trainable params: 0\n",
      "_________________________________________________________________\n"
     ]
    }
   ],
   "source": [
    "model1 = create_rnn()\n",
    "model1.summary()"
   ]
  },
  {
   "cell_type": "code",
   "execution_count": 57,
   "metadata": {},
   "outputs": [
    {
     "data": {
      "image/png": "[encoded data removed]",
      "text/plain": [
       "<IPython.core.display.Image object>"
      ]
     },
     "execution_count": 57,
     "metadata": {},
     "output_type": "execute_result"
    }
   ],
   "source": [
    "tensorflow.keras.utils.plot_model(model1 )"
   ]
  },
  {
   "cell_type": "code",
   "execution_count": 58,
   "metadata": {},
   "outputs": [],
   "source": [
    "checkpoints = r'C:\\Users\\Hp\\Desktop\\ml labs\\last labs\\lab 9\\\\E1-cp-{epoch:04d}-loss{val_loss:.2f}.h5'\n",
    "OUTPUT_PATH = r'C:\\Users\\Hp\\Desktop\\ml labs\\last labs\\lab 9'\n",
    "FIG_PATH = os.path.sep.join([OUTPUT_PATH,\"\\history.png\"])\n",
    "JSON_PATH = os.path.sep.join([OUTPUT_PATH,\"\\history.json\"])"
   ]
  },
  {
   "cell_type": "code",
   "execution_count": 59,
   "metadata": {},
   "outputs": [],
   "source": [
    "# construct the callback to save only the *best* model to disk\n",
    "# based on the validation loss\n",
    "EpochCheckpoint1 = ModelCheckpoint(checkpoints,\n",
    "                             monitor=\"val_loss\",\n",
    "                             save_best_only=True, \n",
    "                             verbose=1)\n",
    "TrainingMonitor1=TrainingMonitor(FIG_PATH, jsonPath=JSON_PATH, startAt=start_epoch)\n",
    "\n",
    "# construct the set of callbacks\n",
    "callbacks = [EpochCheckpoint1,TrainingMonitor1]"
   ]
  },
  {
   "cell_type": "code",
   "execution_count": 60,
   "metadata": {},
   "outputs": [
    {
     "name": "stdout",
     "output_type": "stream",
     "text": [
      "[INFO] compiling model...\n"
     ]
    }
   ],
   "source": [
    "# if there is no specific model checkpoint supplied, then initialize\n",
    "# the network and compile the model\n",
    "if model is None:\n",
    "    print(\"[INFO] compiling model...\")\n",
    "    model =create_rnn()\n",
    "    opt = Adam(1e-3)\n",
    "    model.compile(loss= 'mae', optimizer=opt, metrics=[\"mae\", \"mape\"])\n",
    "# otherwise, load the checkpoint from disk\n",
    "else:\n",
    "    print(\"[INFO] loading {}...\".format(model))\n",
    "    model = load_model(model)\n",
    "\n",
    "    # update the learning rate\n",
    "    print(\"[INFO] old learning rate: {}\".format(K.get_value(model.optimizer.lr)))\n",
    "    K.set_value(model.optimizer.lr, 1e-4)\n",
    "    print(\"[INFO] new learning rate: {}\".format(K.get_value(model.optimizer.lr)))"
   ]
  },
  {
   "cell_type": "code",
   "execution_count": 62,
   "metadata": {},
   "outputs": [
    {
     "data": {
      "text/plain": [
       "((84907, 21), (24259, 21), (12130, 21))"
      ]
     },
     "execution_count": 62,
     "metadata": {},
     "output_type": "execute_result"
    }
   ],
   "source": [
    "import os\n",
    "path_dataset =r'C:\\Users\\Hp\\Desktop\\ml labs\\last labs\\AEP_hourly'\n",
    "path_tr = os.path.join(path_dataset, 'AEP_train.csv')\n",
    "df_tr = pd.read_csv(path_tr)\n",
    "train_set = df_tr.iloc[:].values\n",
    "path_v = os.path.join(path_dataset, 'AEP_validation.csv')\n",
    "df_v = pd.read_csv(path_v)\n",
    "validation_set = df_v.iloc[:].values \n",
    "path_te = os.path.join(path_dataset, 'AEP_test.csv')\n",
    "df_te = pd.read_csv(path_te)\n",
    "test_set = df_te.iloc[:].values \n",
    "\n",
    "path_scaler = os.path.join(path_dataset, 'AEP_Scaler.pkl')\n",
    "scaler         = pickle.load(open(path_scaler, 'rb'))\n",
    "\n",
    "train_set.shape, validation_set.shape, test_set.shape"
   ]
  },
  {
   "cell_type": "code",
   "execution_count": 63,
   "metadata": {},
   "outputs": [],
   "source": [
    "time_steps=24\n",
    "num_features=21"
   ]
  },
  {
   "cell_type": "code",
   "execution_count": 64,
   "metadata": {},
   "outputs": [
    {
     "name": "stdout",
     "output_type": "stream",
     "text": [
      "Time Consumed 0.9444177150726318 sec\n"
     ]
    }
   ],
   "source": [
    "start = time.time()\n",
    "train_X , train_y = univariate_multi_step(train_set, time_steps, target_col=0,target_len=1)\n",
    "validation_X, validation_y = univariate_multi_step(validation_set, time_steps, target_col=0,target_len=1)\n",
    "test_X, test_y = univariate_multi_step(test_set, time_steps, target_col=0,target_len=1)\n",
    "print('Time Consumed', time.time()-start, \"sec\")"
   ]
  },
  {
   "cell_type": "code",
   "execution_count": 65,
   "metadata": {},
   "outputs": [
    {
     "name": "stdout",
     "output_type": "stream",
     "text": [
      "Epoch 1/60\n",
      "2650/2653 [============================>.] - ETA: 0s - loss: 0.0477 - mae: 0.0477 - mape: 329.6438\n",
      "Epoch 1: val_loss improved from inf to 0.01849, saving model to C:\\Users\\Hp\\Desktop\\ml labs\\last labs\\lab 9\\E1-cp-0001-loss0.02.h5\n",
      "2653/2653 [==============================] - 54s 18ms/step - loss: 0.0477 - mae: 0.0477 - mape: 329.3316 - val_loss: 0.0185 - val_mae: 0.0185 - val_mape: 10.4334\n",
      "Epoch 2/60\n",
      "2650/2653 [============================>.] - ETA: 0s - loss: 0.0147 - mae: 0.0147 - mape: 279.3106\n",
      "Epoch 2: val_loss improved from 0.01849 to 0.01380, saving model to C:\\Users\\Hp\\Desktop\\ml labs\\last labs\\lab 9\\E1-cp-0002-loss0.01.h5\n",
      "2653/2653 [==============================] - 44s 17ms/step - loss: 0.0147 - mae: 0.0147 - mape: 279.0446 - val_loss: 0.0138 - val_mae: 0.0138 - val_mape: 5.9227\n",
      "Epoch 3/60\n",
      "2653/2653 [==============================] - ETA: 0s - loss: 0.0128 - mae: 0.0128 - mape: 302.5925\n",
      "Epoch 3: val_loss improved from 0.01380 to 0.01128, saving model to C:\\Users\\Hp\\Desktop\\ml labs\\last labs\\lab 9\\E1-cp-0003-loss0.01.h5\n",
      "2653/2653 [==============================] - 47s 18ms/step - loss: 0.0128 - mae: 0.0128 - mape: 302.5925 - val_loss: 0.0113 - val_mae: 0.0113 - val_mape: 5.1237\n",
      "Epoch 4/60\n",
      "2650/2653 [============================>.] - ETA: 0s - loss: 0.0120 - mae: 0.0120 - mape: 63.0997\n",
      "Epoch 4: val_loss improved from 0.01128 to 0.01088, saving model to C:\\Users\\Hp\\Desktop\\ml labs\\last labs\\lab 9\\E1-cp-0004-loss0.01.h5\n",
      "2653/2653 [==============================] - 42s 16ms/step - loss: 0.0120 - mae: 0.0120 - mape: 63.0421 - val_loss: 0.0109 - val_mae: 0.0109 - val_mape: 5.4202\n",
      "Epoch 5/60\n",
      "2652/2653 [============================>.] - ETA: 0s - loss: 0.0109 - mae: 0.0109 - mape: 62.7589\n",
      "Epoch 5: val_loss did not improve from 0.01088\n",
      "2653/2653 [==============================] - 45s 17ms/step - loss: 0.0109 - mae: 0.0109 - mape: 62.7460 - val_loss: 0.0130 - val_mae: 0.0130 - val_mape: 5.9483\n",
      "Epoch 6/60\n",
      "2653/2653 [==============================] - ETA: 0s - loss: 0.0103 - mae: 0.0103 - mape: 48.9533\n",
      "Epoch 6: val_loss improved from 0.01088 to 0.00882, saving model to C:\\Users\\Hp\\Desktop\\ml labs\\last labs\\lab 9\\E1-cp-0006-loss0.01.h5\n",
      "2653/2653 [==============================] - 49s 19ms/step - loss: 0.0103 - mae: 0.0103 - mape: 48.9533 - val_loss: 0.0088 - val_mae: 0.0088 - val_mape: 4.0240\n",
      "Epoch 7/60\n",
      "2653/2653 [==============================] - ETA: 0s - loss: 0.0102 - mae: 0.0102 - mape: 110.1066\n",
      "Epoch 7: val_loss did not improve from 0.00882\n",
      "2653/2653 [==============================] - 47s 18ms/step - loss: 0.0102 - mae: 0.0102 - mape: 110.1066 - val_loss: 0.0101 - val_mae: 0.0101 - val_mape: 5.0632\n",
      "Epoch 8/60\n",
      "2651/2653 [============================>.] - ETA: 0s - loss: 0.0099 - mae: 0.0099 - mape: 77.4358\n",
      "Epoch 8: val_loss improved from 0.00882 to 0.00851, saving model to C:\\Users\\Hp\\Desktop\\ml labs\\last labs\\lab 9\\E1-cp-0008-loss0.01.h5\n",
      "2653/2653 [==============================] - 58s 22ms/step - loss: 0.0099 - mae: 0.0099 - mape: 77.3921 - val_loss: 0.0085 - val_mae: 0.0085 - val_mape: 3.9079\n",
      "Epoch 9/60\n",
      "2653/2653 [==============================] - ETA: 0s - loss: 0.0097 - mae: 0.0097 - mape: 68.4746\n",
      "Epoch 9: val_loss did not improve from 0.00851\n",
      "2653/2653 [==============================] - 62s 23ms/step - loss: 0.0097 - mae: 0.0097 - mape: 68.4746 - val_loss: 0.0087 - val_mae: 0.0087 - val_mape: 3.9607\n",
      "Epoch 10/60\n",
      "2651/2653 [============================>.] - ETA: 0s - loss: 0.0094 - mae: 0.0094 - mape: 107.0640\n",
      "Epoch 10: val_loss did not improve from 0.00851\n",
      "2653/2653 [==============================] - 52s 20ms/step - loss: 0.0094 - mae: 0.0094 - mape: 107.0022 - val_loss: 0.0098 - val_mae: 0.0098 - val_mape: 4.4481\n",
      "Epoch 11/60\n",
      "2652/2653 [============================>.] - ETA: 0s - loss: 0.0093 - mae: 0.0093 - mape: 137.4269\n",
      "Epoch 11: val_loss improved from 0.00851 to 0.00829, saving model to C:\\Users\\Hp\\Desktop\\ml labs\\last labs\\lab 9\\E1-cp-0011-loss0.01.h5\n",
      "2653/2653 [==============================] - 58s 22ms/step - loss: 0.0093 - mae: 0.0093 - mape: 137.3984 - val_loss: 0.0083 - val_mae: 0.0083 - val_mape: 3.6818\n",
      "Epoch 12/60\n",
      "2653/2653 [==============================] - ETA: 0s - loss: 0.0092 - mae: 0.0092 - mape: 25.9748\n",
      "Epoch 12: val_loss did not improve from 0.00829\n",
      "2653/2653 [==============================] - 62s 23ms/step - loss: 0.0092 - mae: 0.0092 - mape: 25.9748 - val_loss: 0.0094 - val_mae: 0.0094 - val_mape: 4.1896\n",
      "Epoch 13/60\n",
      "2652/2653 [============================>.] - ETA: 0s - loss: 0.0089 - mae: 0.0089 - mape: 17.3400\n",
      "Epoch 13: val_loss did not improve from 0.00829\n",
      "2653/2653 [==============================] - 61s 23ms/step - loss: 0.0089 - mae: 0.0089 - mape: 17.3370 - val_loss: 0.0101 - val_mae: 0.0101 - val_mape: 4.9263\n",
      "Epoch 14/60\n",
      "2653/2653 [==============================] - ETA: 0s - loss: 0.0089 - mae: 0.0089 - mape: 31.8531\n",
      "Epoch 14: val_loss improved from 0.00829 to 0.00817, saving model to C:\\Users\\Hp\\Desktop\\ml labs\\last labs\\lab 9\\E1-cp-0014-loss0.01.h5\n",
      "2653/2653 [==============================] - 58s 22ms/step - loss: 0.0089 - mae: 0.0089 - mape: 31.8531 - val_loss: 0.0082 - val_mae: 0.0082 - val_mape: 3.7074\n",
      "Epoch 15/60\n",
      "2651/2653 [============================>.] - ETA: 0s - loss: 0.0088 - mae: 0.0088 - mape: 48.4156\n",
      "Epoch 15: val_loss improved from 0.00817 to 0.00794, saving model to C:\\Users\\Hp\\Desktop\\ml labs\\last labs\\lab 9\\E1-cp-0015-loss0.01.h5\n",
      "2653/2653 [==============================] - 61s 23ms/step - loss: 0.0088 - mae: 0.0088 - mape: 48.3886 - val_loss: 0.0079 - val_mae: 0.0079 - val_mape: 3.6799\n",
      "Epoch 16/60\n",
      "2653/2653 [==============================] - ETA: 0s - loss: 0.0087 - mae: 0.0087 - mape: 113.8901\n",
      "Epoch 16: val_loss did not improve from 0.00794\n",
      "2653/2653 [==============================] - 63s 24ms/step - loss: 0.0087 - mae: 0.0087 - mape: 113.8901 - val_loss: 0.0093 - val_mae: 0.0093 - val_mape: 4.1570\n",
      "Epoch 17/60\n",
      "2651/2653 [============================>.] - ETA: 0s - loss: 0.0086 - mae: 0.0086 - mape: 10.8034\n",
      "Epoch 17: val_loss did not improve from 0.00794\n",
      "2653/2653 [==============================] - 63s 24ms/step - loss: 0.0086 - mae: 0.0086 - mape: 10.7983 - val_loss: 0.0080 - val_mae: 0.0080 - val_mape: 3.4922\n",
      "Epoch 18/60\n",
      "2651/2653 [============================>.] - ETA: 0s - loss: 0.0086 - mae: 0.0086 - mape: 31.5297\n",
      "Epoch 18: val_loss did not improve from 0.00794\n",
      "2653/2653 [==============================] - 60s 23ms/step - loss: 0.0086 - mae: 0.0086 - mape: 31.5125 - val_loss: 0.0079 - val_mae: 0.0079 - val_mape: 3.5757\n",
      "Epoch 19/60\n",
      "2651/2653 [============================>.] - ETA: 0s - loss: 0.0085 - mae: 0.0085 - mape: 5.6515\n",
      "Epoch 19: val_loss did not improve from 0.00794\n",
      "2653/2653 [==============================] - 62s 23ms/step - loss: 0.0085 - mae: 0.0085 - mape: 5.6495 - val_loss: 0.0087 - val_mae: 0.0087 - val_mape: 4.1065\n",
      "Epoch 20/60\n",
      "2650/2653 [============================>.] - ETA: 0s - loss: 0.0085 - mae: 0.0085 - mape: 128.9504\n",
      "Epoch 20: val_loss did not improve from 0.00794\n",
      "2653/2653 [==============================] - 60s 22ms/step - loss: 0.0085 - mae: 0.0085 - mape: 128.8282 - val_loss: 0.0084 - val_mae: 0.0084 - val_mape: 4.3150\n",
      "Epoch 21/60\n",
      "2653/2653 [==============================] - ETA: 0s - loss: 0.0084 - mae: 0.0084 - mape: 2.8142\n",
      "Epoch 21: val_loss did not improve from 0.00794\n",
      "2653/2653 [==============================] - 63s 24ms/step - loss: 0.0084 - mae: 0.0084 - mape: 2.8142 - val_loss: 0.0084 - val_mae: 0.0084 - val_mape: 3.6843\n",
      "Epoch 22/60\n",
      "2651/2653 [============================>.] - ETA: 0s - loss: 0.0084 - mae: 0.0084 - mape: 132.3633\n",
      "Epoch 22: val_loss did not improve from 0.00794\n",
      "2653/2653 [==============================] - 60s 23ms/step - loss: 0.0084 - mae: 0.0084 - mape: 132.2878 - val_loss: 0.0088 - val_mae: 0.0088 - val_mape: 4.0806\n",
      "Epoch 23/60\n",
      "2651/2653 [============================>.] - ETA: 0s - loss: 0.0084 - mae: 0.0084 - mape: 115.8284\n",
      "Epoch 23: val_loss did not improve from 0.00794\n",
      "2653/2653 [==============================] - 61s 23ms/step - loss: 0.0084 - mae: 0.0084 - mape: 115.7612 - val_loss: 0.0084 - val_mae: 0.0084 - val_mape: 3.8447\n",
      "Epoch 24/60\n"
     ]
    },
    {
     "name": "stdout",
     "output_type": "stream",
     "text": [
      "2651/2653 [============================>.] - ETA: 0s - loss: 0.0083 - mae: 0.0083 - mape: 162.8265\n",
      "Epoch 24: val_loss did not improve from 0.00794\n",
      "2653/2653 [==============================] - 59s 22ms/step - loss: 0.0083 - mae: 0.0083 - mape: 162.7322 - val_loss: 0.0091 - val_mae: 0.0091 - val_mape: 4.2098\n",
      "Epoch 25/60\n",
      "2651/2653 [============================>.] - ETA: 0s - loss: 0.0083 - mae: 0.0083 - mape: 12.6118\n",
      "Epoch 25: val_loss did not improve from 0.00794\n",
      "2653/2653 [==============================] - 63s 24ms/step - loss: 0.0083 - mae: 0.0083 - mape: 12.6076 - val_loss: 0.0092 - val_mae: 0.0092 - val_mape: 4.5431\n",
      "Epoch 26/60\n",
      "2652/2653 [============================>.] - ETA: 0s - loss: 0.0083 - mae: 0.0083 - mape: 29.7985\n",
      "Epoch 26: val_loss improved from 0.00794 to 0.00727, saving model to C:\\Users\\Hp\\Desktop\\ml labs\\last labs\\lab 9\\E1-cp-0026-loss0.01.h5\n",
      "2653/2653 [==============================] - 61s 23ms/step - loss: 0.0083 - mae: 0.0083 - mape: 29.7926 - val_loss: 0.0073 - val_mae: 0.0073 - val_mape: 3.1849\n",
      "Epoch 27/60\n",
      "2651/2653 [============================>.] - ETA: 0s - loss: 0.0082 - mae: 0.0082 - mape: 168.1992\n",
      "Epoch 27: val_loss did not improve from 0.00727\n",
      "2653/2653 [==============================] - 63s 24ms/step - loss: 0.0082 - mae: 0.0082 - mape: 168.1017 - val_loss: 0.0087 - val_mae: 0.0087 - val_mape: 4.0280\n",
      "Epoch 28/60\n",
      "2650/2653 [============================>.] - ETA: 0s - loss: 0.0081 - mae: 0.0081 - mape: 40.5708\n",
      "Epoch 28: val_loss did not improve from 0.00727\n",
      "2653/2653 [==============================] - 61s 23ms/step - loss: 0.0081 - mae: 0.0081 - mape: 40.5342 - val_loss: 0.0078 - val_mae: 0.0078 - val_mape: 3.7891\n",
      "Epoch 29/60\n",
      "2651/2653 [============================>.] - ETA: 0s - loss: 0.0081 - mae: 0.0081 - mape: 78.5235\n",
      "Epoch 29: val_loss did not improve from 0.00727\n",
      "2653/2653 [==============================] - 63s 24ms/step - loss: 0.0081 - mae: 0.0081 - mape: 78.4787 - val_loss: 0.0080 - val_mae: 0.0080 - val_mape: 3.5630\n",
      "Epoch 30/60\n",
      "2651/2653 [============================>.] - ETA: 0s - loss: 0.0080 - mae: 0.0080 - mape: 57.2218\n",
      "Epoch 30: val_loss did not improve from 0.00727\n",
      "2653/2653 [==============================] - 61s 23ms/step - loss: 0.0080 - mae: 0.0080 - mape: 57.1894 - val_loss: 0.0084 - val_mae: 0.0084 - val_mape: 3.4991\n",
      "Epoch 31/60\n",
      "2652/2653 [============================>.] - ETA: 0s - loss: 0.0080 - mae: 0.0080 - mape: 168.3202\n",
      "Epoch 31: val_loss did not improve from 0.00727\n",
      "2653/2653 [==============================] - 64s 24ms/step - loss: 0.0080 - mae: 0.0080 - mape: 168.2851 - val_loss: 0.0088 - val_mae: 0.0088 - val_mape: 3.8778\n",
      "Epoch 32/60\n",
      "2651/2653 [============================>.] - ETA: 0s - loss: 0.0080 - mae: 0.0080 - mape: 100.2697\n",
      "Epoch 32: val_loss did not improve from 0.00727\n",
      "2653/2653 [==============================] - 62s 23ms/step - loss: 0.0080 - mae: 0.0080 - mape: 100.2123 - val_loss: 0.0092 - val_mae: 0.0092 - val_mape: 4.3479\n",
      "Epoch 33/60\n",
      "2652/2653 [============================>.] - ETA: 0s - loss: 0.0080 - mae: 0.0080 - mape: 200.6302\n",
      "Epoch 33: val_loss did not improve from 0.00727\n",
      "2653/2653 [==============================] - 63s 24ms/step - loss: 0.0080 - mae: 0.0080 - mape: 200.5880 - val_loss: 0.0079 - val_mae: 0.0079 - val_mape: 3.4387\n",
      "Epoch 34/60\n",
      "2653/2653 [==============================] - ETA: 0s - loss: 0.0079 - mae: 0.0079 - mape: 92.9916\n",
      "Epoch 34: val_loss did not improve from 0.00727\n",
      "2653/2653 [==============================] - 61s 23ms/step - loss: 0.0079 - mae: 0.0079 - mape: 92.9916 - val_loss: 0.0078 - val_mae: 0.0078 - val_mape: 3.4367\n",
      "Epoch 35/60\n",
      "2651/2653 [============================>.] - ETA: 0s - loss: 0.0079 - mae: 0.0079 - mape: 62.5502\n",
      "Epoch 35: val_loss did not improve from 0.00727\n",
      "2653/2653 [==============================] - 65s 24ms/step - loss: 0.0079 - mae: 0.0079 - mape: 62.5149 - val_loss: 0.0083 - val_mae: 0.0083 - val_mape: 3.9418\n",
      "Epoch 36/60\n",
      "2653/2653 [==============================] - ETA: 0s - loss: 0.0079 - mae: 0.0079 - mape: 130.3703\n",
      "Epoch 36: val_loss did not improve from 0.00727\n",
      "2653/2653 [==============================] - 62s 24ms/step - loss: 0.0079 - mae: 0.0079 - mape: 130.3703 - val_loss: 0.0077 - val_mae: 0.0077 - val_mape: 3.5827\n",
      "Epoch 37/60\n",
      "2653/2653 [==============================] - ETA: 0s - loss: 0.0079 - mae: 0.0079 - mape: 33.9412\n",
      "Epoch 37: val_loss did not improve from 0.00727\n",
      "2653/2653 [==============================] - 64s 24ms/step - loss: 0.0079 - mae: 0.0079 - mape: 33.9412 - val_loss: 0.0079 - val_mae: 0.0079 - val_mape: 3.7550\n",
      "Epoch 38/60\n",
      "2653/2653 [==============================] - ETA: 0s - loss: 0.0078 - mae: 0.0078 - mape: 158.5612\n",
      "Epoch 38: val_loss did not improve from 0.00727\n",
      "2653/2653 [==============================] - 61s 23ms/step - loss: 0.0078 - mae: 0.0078 - mape: 158.5612 - val_loss: 0.0076 - val_mae: 0.0076 - val_mape: 3.4922\n",
      "Epoch 39/60\n",
      "2652/2653 [============================>.] - ETA: 0s - loss: 0.0078 - mae: 0.0078 - mape: 28.0410\n",
      "Epoch 39: val_loss did not improve from 0.00727\n",
      "2653/2653 [==============================] - 67s 25ms/step - loss: 0.0078 - mae: 0.0078 - mape: 28.0354 - val_loss: 0.0073 - val_mae: 0.0073 - val_mape: 3.3483\n",
      "Epoch 40/60\n",
      "2653/2653 [==============================] - ETA: 0s - loss: 0.0078 - mae: 0.0078 - mape: 6.5586\n",
      "Epoch 40: val_loss did not improve from 0.00727\n",
      "2653/2653 [==============================] - 62s 24ms/step - loss: 0.0078 - mae: 0.0078 - mape: 6.5586 - val_loss: 0.0077 - val_mae: 0.0077 - val_mape: 3.4383\n",
      "Epoch 41/60\n",
      "2652/2653 [============================>.] - ETA: 0s - loss: 0.0077 - mae: 0.0077 - mape: 57.5915\n",
      "Epoch 41: val_loss did not improve from 0.00727\n",
      "2653/2653 [==============================] - 64s 24ms/step - loss: 0.0077 - mae: 0.0077 - mape: 57.5797 - val_loss: 0.0079 - val_mae: 0.0079 - val_mape: 3.3743\n",
      "Epoch 42/60\n",
      "2652/2653 [============================>.] - ETA: 0s - loss: 0.0077 - mae: 0.0077 - mape: 53.1265\n",
      "Epoch 42: val_loss did not improve from 0.00727\n",
      "2653/2653 [==============================] - 62s 23ms/step - loss: 0.0077 - mae: 0.0077 - mape: 53.1159 - val_loss: 0.0074 - val_mae: 0.0074 - val_mape: 3.4262\n",
      "Epoch 43/60\n",
      "2652/2653 [============================>.] - ETA: 0s - loss: 0.0077 - mae: 0.0077 - mape: 41.8886\n",
      "Epoch 43: val_loss did not improve from 0.00727\n",
      "2653/2653 [==============================] - 64s 24ms/step - loss: 0.0077 - mae: 0.0077 - mape: 41.8801 - val_loss: 0.0082 - val_mae: 0.0082 - val_mape: 3.5902\n",
      "Epoch 44/60\n",
      "2652/2653 [============================>.] - ETA: 0s - loss: 0.0077 - mae: 0.0077 - mape: 115.9895\n",
      "Epoch 44: val_loss improved from 0.00727 to 0.00691, saving model to C:\\Users\\Hp\\Desktop\\ml labs\\last labs\\lab 9\\E1-cp-0044-loss0.01.h5\n",
      "2653/2653 [==============================] - 62s 24ms/step - loss: 0.0077 - mae: 0.0077 - mape: 115.9652 - val_loss: 0.0069 - val_mae: 0.0069 - val_mape: 2.9797\n",
      "Epoch 45/60\n",
      "2650/2653 [============================>.] - ETA: 0s - loss: 0.0076 - mae: 0.0076 - mape: 11.5721\n",
      "Epoch 45: val_loss did not improve from 0.00691\n",
      "2653/2653 [==============================] - 65s 25ms/step - loss: 0.0076 - mae: 0.0076 - mape: 11.5641 - val_loss: 0.0078 - val_mae: 0.0078 - val_mape: 3.6049\n",
      "Epoch 46/60\n",
      "2652/2653 [============================>.] - ETA: 0s - loss: 0.0076 - mae: 0.0076 - mape: 7.8815\n",
      "Epoch 46: val_loss did not improve from 0.00691\n",
      "2653/2653 [==============================] - 64s 24ms/step - loss: 0.0076 - mae: 0.0076 - mape: 7.8805 - val_loss: 0.0070 - val_mae: 0.0070 - val_mape: 3.1843\n",
      "Epoch 47/60\n",
      "2651/2653 [============================>.] - ETA: 0s - loss: 0.0077 - mae: 0.0077 - mape: 10.6732\n",
      "Epoch 47: val_loss did not improve from 0.00691\n",
      "2653/2653 [==============================] - 69s 26ms/step - loss: 0.0077 - mae: 0.0077 - mape: 10.6682 - val_loss: 0.0075 - val_mae: 0.0075 - val_mape: 3.3348\n",
      "Epoch 48/60\n",
      "2652/2653 [============================>.] - ETA: 0s - loss: 0.0077 - mae: 0.0077 - mape: 49.5481\n",
      "Epoch 48: val_loss did not improve from 0.00691\n",
      "2653/2653 [==============================] - 64s 24ms/step - loss: 0.0077 - mae: 0.0077 - mape: 49.5379 - val_loss: 0.0074 - val_mae: 0.0074 - val_mape: 3.0712\n",
      "Epoch 49/60\n"
     ]
    },
    {
     "name": "stdout",
     "output_type": "stream",
     "text": [
      "2652/2653 [============================>.] - ETA: 0s - loss: 0.0076 - mae: 0.0076 - mape: 48.4855\n",
      "Epoch 49: val_loss did not improve from 0.00691\n",
      "2653/2653 [==============================] - 69s 26ms/step - loss: 0.0076 - mae: 0.0076 - mape: 48.4767 - val_loss: 0.0089 - val_mae: 0.0089 - val_mape: 3.7328\n",
      "Epoch 50/60\n",
      "2651/2653 [============================>.] - ETA: 0s - loss: 0.0076 - mae: 0.0076 - mape: 90.1263\n",
      "Epoch 50: val_loss did not improve from 0.00691\n",
      "2653/2653 [==============================] - 64s 24ms/step - loss: 0.0076 - mae: 0.0076 - mape: 90.0747 - val_loss: 0.0090 - val_mae: 0.0090 - val_mape: 4.5629\n",
      "Epoch 51/60\n",
      "2653/2653 [==============================] - ETA: 0s - loss: 0.0076 - mae: 0.0076 - mape: 58.0517\n",
      "Epoch 51: val_loss did not improve from 0.00691\n",
      "2653/2653 [==============================] - 68s 26ms/step - loss: 0.0076 - mae: 0.0076 - mape: 58.0517 - val_loss: 0.0074 - val_mae: 0.0074 - val_mape: 3.4474\n",
      "Epoch 52/60\n",
      "2651/2653 [============================>.] - ETA: 0s - loss: 0.0075 - mae: 0.0075 - mape: 23.7235\n",
      "Epoch 52: val_loss did not improve from 0.00691\n",
      "2653/2653 [==============================] - 65s 25ms/step - loss: 0.0075 - mae: 0.0075 - mape: 23.7108 - val_loss: 0.0081 - val_mae: 0.0081 - val_mape: 3.5657\n",
      "Epoch 53/60\n",
      "2653/2653 [==============================] - ETA: 0s - loss: 0.0076 - mae: 0.0076 - mape: 106.5988\n",
      "Epoch 53: val_loss improved from 0.00691 to 0.00688, saving model to C:\\Users\\Hp\\Desktop\\ml labs\\last labs\\lab 9\\E1-cp-0053-loss0.01.h5\n",
      "2653/2653 [==============================] - 69s 26ms/step - loss: 0.0076 - mae: 0.0076 - mape: 106.5988 - val_loss: 0.0069 - val_mae: 0.0069 - val_mape: 2.9855\n",
      "Epoch 54/60\n",
      "2653/2653 [==============================] - ETA: 0s - loss: 0.0076 - mae: 0.0076 - mape: 14.0854\n",
      "Epoch 54: val_loss did not improve from 0.00688\n",
      "2653/2653 [==============================] - 63s 24ms/step - loss: 0.0076 - mae: 0.0076 - mape: 14.0854 - val_loss: 0.0077 - val_mae: 0.0077 - val_mape: 3.7245\n",
      "Epoch 55/60\n",
      "2653/2653 [==============================] - ETA: 0s - loss: 0.0075 - mae: 0.0075 - mape: 9.7735\n",
      "Epoch 55: val_loss did not improve from 0.00688\n",
      "2653/2653 [==============================] - 63s 24ms/step - loss: 0.0075 - mae: 0.0075 - mape: 9.7735 - val_loss: 0.0074 - val_mae: 0.0074 - val_mape: 3.1326\n",
      "Epoch 56/60\n",
      "2653/2653 [==============================] - ETA: 0s - loss: 0.0075 - mae: 0.0075 - mape: 86.3559\n",
      "Epoch 56: val_loss did not improve from 0.00688\n",
      "2653/2653 [==============================] - 64s 24ms/step - loss: 0.0075 - mae: 0.0075 - mape: 86.3559 - val_loss: 0.0079 - val_mae: 0.0079 - val_mape: 4.0195\n",
      "Epoch 57/60\n",
      "2652/2653 [============================>.] - ETA: 0s - loss: 0.0075 - mae: 0.0075 - mape: 62.7131\n",
      "Epoch 57: val_loss did not improve from 0.00688\n",
      "2653/2653 [==============================] - 65s 24ms/step - loss: 0.0075 - mae: 0.0075 - mape: 62.7001 - val_loss: 0.0073 - val_mae: 0.0073 - val_mape: 3.1973\n",
      "Epoch 58/60\n",
      "2651/2653 [============================>.] - ETA: 1s - loss: 0.0075 - mae: 0.0075 - mape: 71.5061\n",
      "Epoch 58: val_loss did not improve from 0.00688\n",
      "2653/2653 [==============================] - 1439s 543ms/step - loss: 0.0075 - mae: 0.0075 - mape: 71.4652 - val_loss: 0.0082 - val_mae: 0.0082 - val_mape: 3.9019\n",
      "Epoch 59/60\n",
      "2652/2653 [============================>.] - ETA: 0s - loss: 0.0075 - mae: 0.0075 - mape: 11.3770\n",
      "Epoch 59: val_loss did not improve from 0.00688\n",
      "2653/2653 [==============================] - 57s 22ms/step - loss: 0.0075 - mae: 0.0075 - mape: 11.3763 - val_loss: 0.0089 - val_mae: 0.0089 - val_mape: 3.7884\n",
      "Epoch 60/60\n",
      "2652/2653 [============================>.] - ETA: 0s - loss: 0.0075 - mae: 0.0075 - mape: 66.0355\n",
      "Epoch 60: val_loss did not improve from 0.00688\n",
      "2653/2653 [==============================] - 49s 18ms/step - loss: 0.0075 - mae: 0.0075 - mape: 66.0221 - val_loss: 0.0088 - val_mae: 0.0088 - val_mape: 4.1736\n"
     ]
    }
   ],
   "source": [
    "epochs = 60\n",
    "verbose = 1 #0\n",
    "batch_size = 32\n",
    "History = model.fit(train_X,\n",
    "                        train_y,\n",
    "                        batch_size=batch_size,   \n",
    "                        epochs = epochs, \n",
    "                        validation_data = (validation_X,validation_y),\n",
    "                        callbacks=callbacks,verbose = verbose)"
   ]
  },
  {
   "cell_type": "code",
   "execution_count": 66,
   "metadata": {},
   "outputs": [
    {
     "name": "stdout",
     "output_type": "stream",
     "text": [
      "379/379 [==============================] - 5s 6ms/step\n",
      "Mean Absolute Error (MAE): 108.51\n",
      "Median Absolute Error (MedAE): 86.88\n",
      "Mean Squared Error (MSE): 20276.24\n",
      "Root Mean Squared Error (RMSE): 142.39\n",
      "Mean Absolute Percentage Error (MAPE): 0.74 %\n",
      "Median Absolute Percentage Error (MDAPE): 0.6 %\n",
      "\n",
      "\n",
      "y_test_unscaled.shape=  (12105, 1)\n",
      "y_pred.shape=  (12105, 1)\n"
     ]
    }
   ],
   "source": [
    "\n",
    "model = load_model(r'C:\\Users\\Hp\\Desktop\\ml labs\\last labs\\lab 9\\E1-cp-0053-loss0.01.h5')\n",
    "\n",
    "y_pred_scaled   = model.predict(test_X)\n",
    "y_pred          = scaler.inverse_transform(y_pred_scaled)\n",
    "y_test_unscaled = scaler.inverse_transform(test_y)\n",
    "# Mean Absolute Error (MAE)\n",
    "MAE = np.mean(abs(y_pred - y_test_unscaled)) \n",
    "print('Mean Absolute Error (MAE): ' + str(np.round(MAE, 2)))\n",
    "\n",
    "# Median Absolute Error (MedAE)\n",
    "MEDAE = np.median(abs(y_pred - y_test_unscaled))\n",
    "print('Median Absolute Error (MedAE): ' + str(np.round(MEDAE, 2)))\n",
    "\n",
    "# Mean Squared Error (MSE)\n",
    "MSE = np.square(np.subtract(y_pred, y_test_unscaled)).mean()\n",
    "print('Mean Squared Error (MSE): ' + str(np.round(MSE, 2)))\n",
    "\n",
    "# Root Mean Squarred Error (RMSE) \n",
    "RMSE = np.sqrt(np.mean(np.square(y_pred - y_test_unscaled)))\n",
    "print('Root Mean Squared Error (RMSE): ' + str(np.round(RMSE, 2)))\n",
    "\n",
    "# Mean Absolute Percentage Error (MAPE)\n",
    "MAPE = np.mean((np.abs(np.subtract(y_test_unscaled, y_pred)/ y_test_unscaled))) * 100\n",
    "print('Mean Absolute Percentage Error (MAPE): ' + str(np.round(MAPE, 2)) + ' %')\n",
    "\n",
    "# Median Absolute Percentage Error (MDAPE)\n",
    "MDAPE = np.median((np.abs(np.subtract(y_test_unscaled, y_pred)/ y_test_unscaled))) * 100\n",
    "print('Median Absolute Percentage Error (MDAPE): ' + str(np.round(MDAPE, 2)) + ' %')\n",
    "\n",
    "print('\\n\\ny_test_unscaled.shape= ',y_test_unscaled.shape)\n",
    "print('y_pred.shape= ',y_pred.shape)"
   ]
  },
  {
   "cell_type": "code",
   "execution_count": 67,
   "metadata": {},
   "outputs": [],
   "source": [
    "checkpoints = r'C:\\Users\\Hp\\Desktop\\ml labs\\last labs\\lab 9\\E2-cp-{epoch:04d}-loss{val_loss:.2f}.h5'\n",
    "model=r'C:\\Users\\Hp\\Desktop\\ml labs\\last labs\\lab 9\\E1-cp-0053-loss0.01.h5'\n",
    "start_epoch= 54"
   ]
  },
  {
   "cell_type": "code",
   "execution_count": 68,
   "metadata": {},
   "outputs": [
    {
     "name": "stdout",
     "output_type": "stream",
     "text": [
      "[INFO] loading C:\\Users\\Hp\\Desktop\\ml labs\\last labs\\lab 9\\E1-cp-0053-loss0.01.h5...\n",
      "[INFO] old learning rate: 0.0010000000474974513\n",
      "[INFO] new learning rate: 9.999999747378752e-05\n"
     ]
    }
   ],
   "source": [
    "# construct the callback to save only the *best* model to disk\n",
    "# based on the validation loss\n",
    "EpochCheckpoint1 = ModelCheckpoint(checkpoints,\n",
    "                             monitor=\"val_loss\",\n",
    "                             save_best_only=True, \n",
    "                             verbose=1)\n",
    "TrainingMonitor1=TrainingMonitor(FIG_PATH, jsonPath=JSON_PATH, startAt=start_epoch)\n",
    "\n",
    "# construct the set of callbacks\n",
    "callbacks = [EpochCheckpoint1,TrainingMonitor1]\n",
    "# if there is no specific model checkpoint supplied, then initialize\n",
    "# the network and compile the model\n",
    "if model is None:\n",
    "    print(\"[INFO] compiling model...\")\n",
    "    model = PC.build(time_steps=24, num_features=21, reg=0.0005)\n",
    "    opt = Adam(1e-3)\n",
    "    model.compile(loss= 'mae', optimizer=opt, metrics=[\"mae\", \"mape\"])\n",
    "# otherwise, load the checkpoint from disk\n",
    "else:\n",
    "    print(\"[INFO] loading {}...\".format(model))\n",
    "    model = load_model(model)\n",
    "\n",
    "    # update the learning rate\n",
    "    print(\"[INFO] old learning rate: {}\".format(K.get_value(model.optimizer.lr)))\n",
    "    K.set_value(model.optimizer.lr, 1e-4)\n",
    "    print(\"[INFO] new learning rate: {}\".format(K.get_value(model.optimizer.lr)))"
   ]
  },
  {
   "cell_type": "code",
   "execution_count": 69,
   "metadata": {},
   "outputs": [
    {
     "name": "stdout",
     "output_type": "stream",
     "text": [
      "Epoch 1/10\n",
      "2651/2653 [============================>.] - ETA: 0s - loss: 0.0064 - mae: 0.0064 - mape: 33.7348\n",
      "Epoch 1: val_loss improved from inf to 0.00684, saving model to C:\\Users\\Hp\\Desktop\\ml labs\\last labs\\lab 9\\E2-cp-0001-loss0.01.h5\n",
      "2653/2653 [==============================] - 59s 20ms/step - loss: 0.0064 - mae: 0.0064 - mape: 33.7161 - val_loss: 0.0068 - val_mae: 0.0068 - val_mape: 2.9698\n",
      "Epoch 2/10\n",
      "2652/2653 [============================>.] - ETA: 0s - loss: 0.0063 - mae: 0.0063 - mape: 8.9531\n",
      "Epoch 2: val_loss improved from 0.00684 to 0.00664, saving model to C:\\Users\\Hp\\Desktop\\ml labs\\last labs\\lab 9\\E2-cp-0002-loss0.01.h5\n",
      "2653/2653 [==============================] - 49s 18ms/step - loss: 0.0063 - mae: 0.0063 - mape: 8.9519 - val_loss: 0.0066 - val_mae: 0.0066 - val_mape: 2.8677\n",
      "Epoch 3/10\n",
      "2652/2653 [============================>.] - ETA: 0s - loss: 0.0063 - mae: 0.0063 - mape: 22.6564\n",
      "Epoch 3: val_loss did not improve from 0.00664\n",
      "2653/2653 [==============================] - 49s 18ms/step - loss: 0.0063 - mae: 0.0063 - mape: 22.6520 - val_loss: 0.0071 - val_mae: 0.0071 - val_mape: 3.0645\n",
      "Epoch 4/10\n",
      "2653/2653 [==============================] - ETA: 0s - loss: 0.0063 - mae: 0.0063 - mape: 31.3520\n",
      "Epoch 4: val_loss improved from 0.00664 to 0.00660, saving model to C:\\Users\\Hp\\Desktop\\ml labs\\last labs\\lab 9\\E2-cp-0004-loss0.01.h5\n",
      "2653/2653 [==============================] - 55s 21ms/step - loss: 0.0063 - mae: 0.0063 - mape: 31.3520 - val_loss: 0.0066 - val_mae: 0.0066 - val_mape: 2.8530\n",
      "Epoch 5/10\n",
      "2651/2653 [============================>.] - ETA: 0s - loss: 0.0063 - mae: 0.0063 - mape: 12.8284\n",
      "Epoch 5: val_loss improved from 0.00660 to 0.00642, saving model to C:\\Users\\Hp\\Desktop\\ml labs\\last labs\\lab 9\\E2-cp-0005-loss0.01.h5\n",
      "2653/2653 [==============================] - 53s 20ms/step - loss: 0.0063 - mae: 0.0063 - mape: 12.8216 - val_loss: 0.0064 - val_mae: 0.0064 - val_mape: 2.7365\n",
      "Epoch 6/10\n",
      "2653/2653 [==============================] - ETA: 0s - loss: 0.0063 - mae: 0.0063 - mape: 5.4064\n",
      "Epoch 6: val_loss did not improve from 0.00642\n",
      "2653/2653 [==============================] - 52s 20ms/step - loss: 0.0063 - mae: 0.0063 - mape: 5.4064 - val_loss: 0.0066 - val_mae: 0.0066 - val_mape: 2.8156\n",
      "Epoch 7/10\n",
      "2651/2653 [============================>.] - ETA: 0s - loss: 0.0063 - mae: 0.0063 - mape: 18.0435\n",
      "Epoch 7: val_loss did not improve from 0.00642\n",
      "2653/2653 [==============================] - 52s 20ms/step - loss: 0.0063 - mae: 0.0063 - mape: 18.0338 - val_loss: 0.0068 - val_mae: 0.0068 - val_mape: 2.9862\n",
      "Epoch 8/10\n",
      "2652/2653 [============================>.] - ETA: 0s - loss: 0.0063 - mae: 0.0063 - mape: 8.2138\n",
      "Epoch 8: val_loss did not improve from 0.00642\n",
      "2653/2653 [==============================] - 53s 20ms/step - loss: 0.0063 - mae: 0.0063 - mape: 8.2126 - val_loss: 0.0066 - val_mae: 0.0066 - val_mape: 2.8150\n",
      "Epoch 9/10\n",
      "2653/2653 [==============================] - ETA: 0s - loss: 0.0063 - mae: 0.0063 - mape: 2.8613\n",
      "Epoch 9: val_loss did not improve from 0.00642\n",
      "2653/2653 [==============================] - 53s 20ms/step - loss: 0.0063 - mae: 0.0063 - mape: 2.8613 - val_loss: 0.0066 - val_mae: 0.0066 - val_mape: 2.8037\n",
      "Epoch 10/10\n",
      "2652/2653 [============================>.] - ETA: 0s - loss: 0.0063 - mae: 0.0063 - mape: 23.1216\n",
      "Epoch 10: val_loss did not improve from 0.00642\n",
      "2653/2653 [==============================] - 52s 20ms/step - loss: 0.0063 - mae: 0.0063 - mape: 23.1175 - val_loss: 0.0065 - val_mae: 0.0065 - val_mape: 2.7631\n"
     ]
    }
   ],
   "source": [
    "epochs = 10\n",
    "verbose = 1 #0\n",
    "batch_size = 32\n",
    "History = model.fit(train_X,\n",
    "                        train_y,\n",
    "                        batch_size=batch_size,   \n",
    "                        epochs = epochs, \n",
    "                        validation_data = (validation_X,validation_y),\n",
    "                        callbacks=callbacks,\n",
    "                        verbose = verbose)"
   ]
  },
  {
   "cell_type": "code",
   "execution_count": 71,
   "metadata": {},
   "outputs": [
    {
     "name": "stdout",
     "output_type": "stream",
     "text": [
      "379/379 [==============================] - 4s 7ms/step\n",
      "Mean Absolute Error (MAE): 102.81\n",
      "Median Absolute Error (MedAE): 81.57\n",
      "Mean Squared Error (MSE): 18532.36\n",
      "Root Mean Squared Error (RMSE): 136.13\n",
      "Mean Absolute Percentage Error (MAPE): 0.7 %\n",
      "Median Absolute Percentage Error (MDAPE): 0.56 %\n",
      "\n",
      "\n",
      "y_test_unscaled.shape=  (12105, 1)\n",
      "y_pred.shape=  (12105, 1)\n"
     ]
    }
   ],
   "source": [
    "\n",
    "model = load_model(r'C:\\Users\\Hp\\Desktop\\ml labs\\last labs\\lab 9\\E2-cp-0005-loss0.01.h5')\n",
    "\n",
    "y_pred_scaled   = model.predict(test_X)\n",
    "y_pred          = scaler.inverse_transform(y_pred_scaled)\n",
    "y_test_unscaled = scaler.inverse_transform(test_y)\n",
    "# Mean Absolute Error (MAE)\n",
    "MAE = np.mean(abs(y_pred - y_test_unscaled)) \n",
    "print('Mean Absolute Error (MAE): ' + str(np.round(MAE, 2)))\n",
    "\n",
    "# Median Absolute Error (MedAE)\n",
    "MEDAE = np.median(abs(y_pred - y_test_unscaled))\n",
    "print('Median Absolute Error (MedAE): ' + str(np.round(MEDAE, 2)))\n",
    "\n",
    "# Mean Squared Error (MSE)\n",
    "MSE = np.square(np.subtract(y_pred, y_test_unscaled)).mean()\n",
    "print('Mean Squared Error (MSE): ' + str(np.round(MSE, 2)))\n",
    "\n",
    "# Root Mean Squarred Error (RMSE) \n",
    "RMSE = np.sqrt(np.mean(np.square(y_pred - y_test_unscaled)))\n",
    "print('Root Mean Squared Error (RMSE): ' + str(np.round(RMSE, 2)))\n",
    "\n",
    "# Mean Absolute Percentage Error (MAPE)\n",
    "MAPE = np.mean((np.abs(np.subtract(y_test_unscaled, y_pred)/ y_test_unscaled))) * 100\n",
    "print('Mean Absolute Percentage Error (MAPE): ' + str(np.round(MAPE, 2)) + ' %')\n",
    "\n",
    "# Median Absolute Percentage Error (MDAPE)\n",
    "MDAPE = np.median((np.abs(np.subtract(y_test_unscaled, y_pred)/ y_test_unscaled))) * 100\n",
    "print('Median Absolute Percentage Error (MDAPE): ' + str(np.round(MDAPE, 2)) + ' %')\n",
    "\n",
    "print('\\n\\ny_test_unscaled.shape= ',y_test_unscaled.shape)\n",
    "print('y_pred.shape= ',y_pred.shape)"
   ]
  },
  {
   "cell_type": "code",
   "execution_count": null,
   "metadata": {},
   "outputs": [],
   "source": []
  }
 ],
 "metadata": {
  "kernelspec": {
   "display_name": "Python 3 (ipykernel)",
   "language": "python",
   "name": "python3"
  },
  "language_info": {
   "codemirror_mode": {
    "name": "ipython",
    "version": 3
   },
   "file_extension": ".py",
   "mimetype": "text/x-python",
   "name": "python",
   "nbconvert_exporter": "python",
   "pygments_lexer": "ipython3",
   "version": "3.7.16"
  }
 },
 "nbformat": 4,
 "nbformat_minor": 4
}
