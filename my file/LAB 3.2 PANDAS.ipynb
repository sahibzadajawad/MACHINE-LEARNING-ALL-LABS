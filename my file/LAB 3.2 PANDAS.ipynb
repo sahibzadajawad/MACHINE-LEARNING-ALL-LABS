{
 "cells": [
  {
   "cell_type": "markdown",
   "id": "56668603",
   "metadata": {},
   "source": [
    "### Introduction To Pandas Module\n",
    "Here, we are learning data analysis. Pandas is a software library written for the Python programming language that helps with data manipulation and analysis. It offers various data structures which help in the manipulation of data. <br>\n",
    "One of the data structures used is DataFrame.<br>\n",
    "DataFrame is used as a way to store data in a rectangular grid.<br>\n",
    "Similar to how data is stored in Microsoft Excel.\n",
    "### Installation\n",
    "We can easily install this library using the terminal. Follow the steps given below to install Pandas:<br>\n",
    "Step 1: Go to the Windows PowerShell.<br>\n",
    "Step 2: We can install pandas with the help of pip easily. Head over to the directory where you want to install the pandas and fire the below command:<br>\n",
    "__pip install pandas__<br>\n",
    "This is very simple to install. "
   ]
  },
  {
   "cell_type": "code",
   "execution_count": 1,
   "id": "9d7597cd",
   "metadata": {},
   "outputs": [],
   "source": [
    "# !pip install pandas"
   ]
  },
  {
   "cell_type": "markdown",
   "id": "c0604699",
   "metadata": {},
   "source": [
    "### Other way to install\n",
    "If the above steps do not work for you, here is another way to install:<br>\n",
    "Step 1: Go to your browser. Search for __python unofficial binaries__, or click <br>\n",
    "https://www.lfd.uci.edu/~gohlke/pythonlibs/<br> \n",
    "and you will be redirected to the binary page.<br>\n",
    "Step 2: To download the library, search for pandas – Ctrl + F will help you. Download pandas library based on your python version. <br>\n",
    "Step 3: After the installation, head over to the directory where you've downloaded the pandas. <br>\n",
    "Step 4: Right-click to open Windows PowerShell. Pip can help us with the installation. Just go to that location in your terminal and run the following command: <br>\n",
    "__pip install pandas__ <br>\n",
    "Complete this command by the TAB button so that the location of your folder is mentioned."
   ]
  },
  {
   "cell_type": "markdown",
   "id": "800f769b",
   "metadata": {},
   "source": [
    "### import pandas\n",
    "Once Pandas is installed, import it in your applications by adding the import keyword:<br>\n",
    "__import pandas as pd__<br>\n",
    "Now Pandas is imported and ready to use."
   ]
  },
  {
   "cell_type": "code",
   "execution_count": 3,
   "id": "74e4e20e",
   "metadata": {},
   "outputs": [],
   "source": [
    "import pandas"
   ]
  },
  {
   "cell_type": "code",
   "execution_count": 4,
   "id": "0785aeae",
   "metadata": {},
   "outputs": [],
   "source": [
    "dict1 = {\n",
    "    'Name': [\"SAHIBZADA JAWAD HADI\", \"Ibraheem khan\", \"Muhammad Abid\", \"Shumail Khan\",\"Qasim Ali\"],\n",
    "    'Marks': [80, 72, 77, 65, 15],\n",
    "    'Class':[\"1st Year\", \"2nd Year\", \"1st Year\", \"3rd Year\", \"2nd Year\"],\n",
    "    'GPA': [3.4, 3.5, 3.5, 2.6, 1.0]\n",
    "}"
   ]
  },
  {
   "cell_type": "code",
   "execution_count": 5,
   "id": "c4957475",
   "metadata": {},
   "outputs": [],
   "source": [
    "df = pandas.DataFrame(dict1)"
   ]
  },
  {
   "cell_type": "code",
   "execution_count": 6,
   "id": "62ab3cef",
   "metadata": {},
   "outputs": [],
   "source": [
    "df = pandas.DataFrame(dict1)"
   ]
  },
  {
   "cell_type": "code",
   "execution_count": 7,
   "id": "418d12ca",
   "metadata": {},
   "outputs": [
    {
     "data": {
      "text/html": [
       "<div>\n",
       "<style scoped>\n",
       "    .dataframe tbody tr th:only-of-type {\n",
       "        vertical-align: middle;\n",
       "    }\n",
       "\n",
       "    .dataframe tbody tr th {\n",
       "        vertical-align: top;\n",
       "    }\n",
       "\n",
       "    .dataframe thead th {\n",
       "        text-align: right;\n",
       "    }\n",
       "</style>\n",
       "<table border=\"1\" class=\"dataframe\">\n",
       "  <thead>\n",
       "    <tr style=\"text-align: right;\">\n",
       "      <th></th>\n",
       "      <th>Name</th>\n",
       "      <th>Marks</th>\n",
       "      <th>Class</th>\n",
       "      <th>GPA</th>\n",
       "    </tr>\n",
       "  </thead>\n",
       "  <tbody>\n",
       "    <tr>\n",
       "      <th>0</th>\n",
       "      <td>SAHIBZADA JAWAD HADI</td>\n",
       "      <td>80</td>\n",
       "      <td>1st Year</td>\n",
       "      <td>3.4</td>\n",
       "    </tr>\n",
       "    <tr>\n",
       "      <th>1</th>\n",
       "      <td>Ibraheem khan</td>\n",
       "      <td>72</td>\n",
       "      <td>2nd Year</td>\n",
       "      <td>3.5</td>\n",
       "    </tr>\n",
       "    <tr>\n",
       "      <th>2</th>\n",
       "      <td>Muhammad Abid</td>\n",
       "      <td>77</td>\n",
       "      <td>1st Year</td>\n",
       "      <td>3.5</td>\n",
       "    </tr>\n",
       "    <tr>\n",
       "      <th>3</th>\n",
       "      <td>Shumail Khan</td>\n",
       "      <td>65</td>\n",
       "      <td>3rd Year</td>\n",
       "      <td>2.6</td>\n",
       "    </tr>\n",
       "    <tr>\n",
       "      <th>4</th>\n",
       "      <td>Qasim Ali</td>\n",
       "      <td>15</td>\n",
       "      <td>2nd Year</td>\n",
       "      <td>1.0</td>\n",
       "    </tr>\n",
       "  </tbody>\n",
       "</table>\n",
       "</div>"
      ],
      "text/plain": [
       "                   Name  Marks     Class  GPA\n",
       "0  SAHIBZADA JAWAD HADI     80  1st Year  3.4\n",
       "1         Ibraheem khan     72  2nd Year  3.5\n",
       "2         Muhammad Abid     77  1st Year  3.5\n",
       "3          Shumail Khan     65  3rd Year  2.6\n",
       "4             Qasim Ali     15  2nd Year  1.0"
      ]
     },
     "execution_count": 7,
     "metadata": {},
     "output_type": "execute_result"
    }
   ],
   "source": [
    "df"
   ]
  },
  {
   "cell_type": "markdown",
   "id": "cf6a5e3b",
   "metadata": {},
   "source": [
    "### Pandas as pd\n",
    "Pandas is usually imported under the pd alias.\n",
    "#### alias: \n",
    "In Python alias are an alternate name for referring to the same thing.<br>\n",
    "Create an alias with the as keyword while importing:<br>\n",
    "__import pandas as pd__<br>\n",
    "Now the Pandas package can be referred to as pd instead of pandas."
   ]
  },
  {
   "cell_type": "code",
   "execution_count": 8,
   "id": "8d2d715b",
   "metadata": {},
   "outputs": [],
   "source": [
    "import pandas as pd"
   ]
  },
  {
   "cell_type": "code",
   "execution_count": 9,
   "id": "6efcbfa5",
   "metadata": {},
   "outputs": [],
   "source": [
    "df = pd.DataFrame(dict1)"
   ]
  },
  {
   "cell_type": "code",
   "execution_count": 10,
   "id": "3d64ad00",
   "metadata": {},
   "outputs": [
    {
     "data": {
      "text/html": [
       "<div>\n",
       "<style scoped>\n",
       "    .dataframe tbody tr th:only-of-type {\n",
       "        vertical-align: middle;\n",
       "    }\n",
       "\n",
       "    .dataframe tbody tr th {\n",
       "        vertical-align: top;\n",
       "    }\n",
       "\n",
       "    .dataframe thead th {\n",
       "        text-align: right;\n",
       "    }\n",
       "</style>\n",
       "<table border=\"1\" class=\"dataframe\">\n",
       "  <thead>\n",
       "    <tr style=\"text-align: right;\">\n",
       "      <th></th>\n",
       "      <th>Name</th>\n",
       "      <th>Marks</th>\n",
       "      <th>Class</th>\n",
       "      <th>GPA</th>\n",
       "    </tr>\n",
       "  </thead>\n",
       "  <tbody>\n",
       "    <tr>\n",
       "      <th>0</th>\n",
       "      <td>SAHIBZADA JAWAD HADI</td>\n",
       "      <td>80</td>\n",
       "      <td>1st Year</td>\n",
       "      <td>3.4</td>\n",
       "    </tr>\n",
       "    <tr>\n",
       "      <th>1</th>\n",
       "      <td>Ibraheem khan</td>\n",
       "      <td>72</td>\n",
       "      <td>2nd Year</td>\n",
       "      <td>3.5</td>\n",
       "    </tr>\n",
       "    <tr>\n",
       "      <th>2</th>\n",
       "      <td>Muhammad Abid</td>\n",
       "      <td>77</td>\n",
       "      <td>1st Year</td>\n",
       "      <td>3.5</td>\n",
       "    </tr>\n",
       "    <tr>\n",
       "      <th>3</th>\n",
       "      <td>Shumail Khan</td>\n",
       "      <td>65</td>\n",
       "      <td>3rd Year</td>\n",
       "      <td>2.6</td>\n",
       "    </tr>\n",
       "    <tr>\n",
       "      <th>4</th>\n",
       "      <td>Qasim Ali</td>\n",
       "      <td>15</td>\n",
       "      <td>2nd Year</td>\n",
       "      <td>1.0</td>\n",
       "    </tr>\n",
       "  </tbody>\n",
       "</table>\n",
       "</div>"
      ],
      "text/plain": [
       "                   Name  Marks     Class  GPA\n",
       "0  SAHIBZADA JAWAD HADI     80  1st Year  3.4\n",
       "1         Ibraheem khan     72  2nd Year  3.5\n",
       "2         Muhammad Abid     77  1st Year  3.5\n",
       "3          Shumail Khan     65  3rd Year  2.6\n",
       "4             Qasim Ali     15  2nd Year  1.0"
      ]
     },
     "execution_count": 10,
     "metadata": {},
     "output_type": "execute_result"
    }
   ],
   "source": [
    "df"
   ]
  },
  {
   "cell_type": "markdown",
   "id": "bbd5858a",
   "metadata": {},
   "source": [
    "### Checking Pandas Version\n",
    "The version string is stored under __version__ attribute."
   ]
  },
  {
   "cell_type": "code",
   "execution_count": 11,
   "id": "1b1f0bc2",
   "metadata": {},
   "outputs": [
    {
     "data": {
      "text/plain": [
       "'1.3.5'"
      ]
     },
     "execution_count": 11,
     "metadata": {},
     "output_type": "execute_result"
    }
   ],
   "source": [
    "pd.__version__"
   ]
  },
  {
   "cell_type": "markdown",
   "id": "be883ee5",
   "metadata": {},
   "source": [
    "## Import to CSV"
   ]
  },
  {
   "cell_type": "code",
   "execution_count": 12,
   "id": "f91b48d9",
   "metadata": {},
   "outputs": [],
   "source": [
    "df.to_csv('pythonMonday.csv')"
   ]
  },
  {
   "cell_type": "markdown",
   "id": "97375b17",
   "metadata": {},
   "source": [
    "## Remove Index"
   ]
  },
  {
   "cell_type": "code",
   "execution_count": 13,
   "id": "97ba78c5",
   "metadata": {},
   "outputs": [],
   "source": [
    "df.to_csv('pythonMondayRemoveIndex.csv', index=False)"
   ]
  },
  {
   "cell_type": "markdown",
   "id": "be14b569",
   "metadata": {},
   "source": [
    "## Show some rows from the Start"
   ]
  },
  {
   "cell_type": "code",
   "execution_count": 14,
   "id": "01615a53",
   "metadata": {
    "scrolled": true
   },
   "outputs": [
    {
     "data": {
      "text/html": [
       "<div>\n",
       "<style scoped>\n",
       "    .dataframe tbody tr th:only-of-type {\n",
       "        vertical-align: middle;\n",
       "    }\n",
       "\n",
       "    .dataframe tbody tr th {\n",
       "        vertical-align: top;\n",
       "    }\n",
       "\n",
       "    .dataframe thead th {\n",
       "        text-align: right;\n",
       "    }\n",
       "</style>\n",
       "<table border=\"1\" class=\"dataframe\">\n",
       "  <thead>\n",
       "    <tr style=\"text-align: right;\">\n",
       "      <th></th>\n",
       "      <th>Name</th>\n",
       "      <th>Marks</th>\n",
       "      <th>Class</th>\n",
       "      <th>GPA</th>\n",
       "    </tr>\n",
       "  </thead>\n",
       "  <tbody>\n",
       "    <tr>\n",
       "      <th>0</th>\n",
       "      <td>SAHIBZADA JAWAD HADI</td>\n",
       "      <td>80</td>\n",
       "      <td>1st Year</td>\n",
       "      <td>3.4</td>\n",
       "    </tr>\n",
       "    <tr>\n",
       "      <th>1</th>\n",
       "      <td>Ibraheem khan</td>\n",
       "      <td>72</td>\n",
       "      <td>2nd Year</td>\n",
       "      <td>3.5</td>\n",
       "    </tr>\n",
       "    <tr>\n",
       "      <th>2</th>\n",
       "      <td>Muhammad Abid</td>\n",
       "      <td>77</td>\n",
       "      <td>1st Year</td>\n",
       "      <td>3.5</td>\n",
       "    </tr>\n",
       "    <tr>\n",
       "      <th>3</th>\n",
       "      <td>Shumail Khan</td>\n",
       "      <td>65</td>\n",
       "      <td>3rd Year</td>\n",
       "      <td>2.6</td>\n",
       "    </tr>\n",
       "    <tr>\n",
       "      <th>4</th>\n",
       "      <td>Qasim Ali</td>\n",
       "      <td>15</td>\n",
       "      <td>2nd Year</td>\n",
       "      <td>1.0</td>\n",
       "    </tr>\n",
       "  </tbody>\n",
       "</table>\n",
       "</div>"
      ],
      "text/plain": [
       "                   Name  Marks     Class  GPA\n",
       "0  SAHIBZADA JAWAD HADI     80  1st Year  3.4\n",
       "1         Ibraheem khan     72  2nd Year  3.5\n",
       "2         Muhammad Abid     77  1st Year  3.5\n",
       "3          Shumail Khan     65  3rd Year  2.6\n",
       "4             Qasim Ali     15  2nd Year  1.0"
      ]
     },
     "execution_count": 14,
     "metadata": {},
     "output_type": "execute_result"
    }
   ],
   "source": [
    "df.head()"
   ]
  },
  {
   "cell_type": "code",
   "execution_count": 15,
   "id": "22951ef2",
   "metadata": {},
   "outputs": [
    {
     "data": {
      "text/html": [
       "<div>\n",
       "<style scoped>\n",
       "    .dataframe tbody tr th:only-of-type {\n",
       "        vertical-align: middle;\n",
       "    }\n",
       "\n",
       "    .dataframe tbody tr th {\n",
       "        vertical-align: top;\n",
       "    }\n",
       "\n",
       "    .dataframe thead th {\n",
       "        text-align: right;\n",
       "    }\n",
       "</style>\n",
       "<table border=\"1\" class=\"dataframe\">\n",
       "  <thead>\n",
       "    <tr style=\"text-align: right;\">\n",
       "      <th></th>\n",
       "      <th>Name</th>\n",
       "      <th>Marks</th>\n",
       "      <th>Class</th>\n",
       "      <th>GPA</th>\n",
       "    </tr>\n",
       "  </thead>\n",
       "  <tbody>\n",
       "    <tr>\n",
       "      <th>0</th>\n",
       "      <td>SAHIBZADA JAWAD HADI</td>\n",
       "      <td>80</td>\n",
       "      <td>1st Year</td>\n",
       "      <td>3.4</td>\n",
       "    </tr>\n",
       "    <tr>\n",
       "      <th>1</th>\n",
       "      <td>Ibraheem khan</td>\n",
       "      <td>72</td>\n",
       "      <td>2nd Year</td>\n",
       "      <td>3.5</td>\n",
       "    </tr>\n",
       "    <tr>\n",
       "      <th>2</th>\n",
       "      <td>Muhammad Abid</td>\n",
       "      <td>77</td>\n",
       "      <td>1st Year</td>\n",
       "      <td>3.5</td>\n",
       "    </tr>\n",
       "    <tr>\n",
       "      <th>3</th>\n",
       "      <td>Shumail Khan</td>\n",
       "      <td>65</td>\n",
       "      <td>3rd Year</td>\n",
       "      <td>2.6</td>\n",
       "    </tr>\n",
       "    <tr>\n",
       "      <th>4</th>\n",
       "      <td>Qasim Ali</td>\n",
       "      <td>15</td>\n",
       "      <td>2nd Year</td>\n",
       "      <td>1.0</td>\n",
       "    </tr>\n",
       "  </tbody>\n",
       "</table>\n",
       "</div>"
      ],
      "text/plain": [
       "                   Name  Marks     Class  GPA\n",
       "0  SAHIBZADA JAWAD HADI     80  1st Year  3.4\n",
       "1         Ibraheem khan     72  2nd Year  3.5\n",
       "2         Muhammad Abid     77  1st Year  3.5\n",
       "3          Shumail Khan     65  3rd Year  2.6\n",
       "4             Qasim Ali     15  2nd Year  1.0"
      ]
     },
     "execution_count": 15,
     "metadata": {},
     "output_type": "execute_result"
    }
   ],
   "source": [
    "df.head()"
   ]
  },
  {
   "cell_type": "code",
   "execution_count": 16,
   "id": "36e7a4a2",
   "metadata": {},
   "outputs": [
    {
     "data": {
      "text/html": [
       "<div>\n",
       "<style scoped>\n",
       "    .dataframe tbody tr th:only-of-type {\n",
       "        vertical-align: middle;\n",
       "    }\n",
       "\n",
       "    .dataframe tbody tr th {\n",
       "        vertical-align: top;\n",
       "    }\n",
       "\n",
       "    .dataframe thead th {\n",
       "        text-align: right;\n",
       "    }\n",
       "</style>\n",
       "<table border=\"1\" class=\"dataframe\">\n",
       "  <thead>\n",
       "    <tr style=\"text-align: right;\">\n",
       "      <th></th>\n",
       "      <th>Name</th>\n",
       "      <th>Marks</th>\n",
       "      <th>Class</th>\n",
       "      <th>GPA</th>\n",
       "    </tr>\n",
       "  </thead>\n",
       "  <tbody>\n",
       "    <tr>\n",
       "      <th>2</th>\n",
       "      <td>Muhammad Abid</td>\n",
       "      <td>77</td>\n",
       "      <td>1st Year</td>\n",
       "      <td>3.5</td>\n",
       "    </tr>\n",
       "    <tr>\n",
       "      <th>3</th>\n",
       "      <td>Shumail Khan</td>\n",
       "      <td>65</td>\n",
       "      <td>3rd Year</td>\n",
       "      <td>2.6</td>\n",
       "    </tr>\n",
       "    <tr>\n",
       "      <th>4</th>\n",
       "      <td>Qasim Ali</td>\n",
       "      <td>15</td>\n",
       "      <td>2nd Year</td>\n",
       "      <td>1.0</td>\n",
       "    </tr>\n",
       "  </tbody>\n",
       "</table>\n",
       "</div>"
      ],
      "text/plain": [
       "            Name  Marks     Class  GPA\n",
       "2  Muhammad Abid     77  1st Year  3.5\n",
       "3   Shumail Khan     65  3rd Year  2.6\n",
       "4      Qasim Ali     15  2nd Year  1.0"
      ]
     },
     "execution_count": 16,
     "metadata": {},
     "output_type": "execute_result"
    }
   ],
   "source": [
    "df.tail(3)"
   ]
  },
  {
   "cell_type": "code",
   "execution_count": 17,
   "id": "59b61b63",
   "metadata": {},
   "outputs": [
    {
     "data": {
      "text/html": [
       "<div>\n",
       "<style scoped>\n",
       "    .dataframe tbody tr th:only-of-type {\n",
       "        vertical-align: middle;\n",
       "    }\n",
       "\n",
       "    .dataframe tbody tr th {\n",
       "        vertical-align: top;\n",
       "    }\n",
       "\n",
       "    .dataframe thead th {\n",
       "        text-align: right;\n",
       "    }\n",
       "</style>\n",
       "<table border=\"1\" class=\"dataframe\">\n",
       "  <thead>\n",
       "    <tr style=\"text-align: right;\">\n",
       "      <th></th>\n",
       "      <th>Name</th>\n",
       "      <th>Marks</th>\n",
       "      <th>Class</th>\n",
       "      <th>GPA</th>\n",
       "    </tr>\n",
       "  </thead>\n",
       "  <tbody>\n",
       "    <tr>\n",
       "      <th>0</th>\n",
       "      <td>SAHIBZADA JAWAD HADI</td>\n",
       "      <td>80</td>\n",
       "      <td>1st Year</td>\n",
       "      <td>3.4</td>\n",
       "    </tr>\n",
       "    <tr>\n",
       "      <th>1</th>\n",
       "      <td>Ibraheem khan</td>\n",
       "      <td>72</td>\n",
       "      <td>2nd Year</td>\n",
       "      <td>3.5</td>\n",
       "    </tr>\n",
       "    <tr>\n",
       "      <th>2</th>\n",
       "      <td>Muhammad Abid</td>\n",
       "      <td>77</td>\n",
       "      <td>1st Year</td>\n",
       "      <td>3.5</td>\n",
       "    </tr>\n",
       "    <tr>\n",
       "      <th>3</th>\n",
       "      <td>Shumail Khan</td>\n",
       "      <td>65</td>\n",
       "      <td>3rd Year</td>\n",
       "      <td>2.6</td>\n",
       "    </tr>\n",
       "    <tr>\n",
       "      <th>4</th>\n",
       "      <td>Qasim Ali</td>\n",
       "      <td>15</td>\n",
       "      <td>2nd Year</td>\n",
       "      <td>1.0</td>\n",
       "    </tr>\n",
       "  </tbody>\n",
       "</table>\n",
       "</div>"
      ],
      "text/plain": [
       "                   Name  Marks     Class  GPA\n",
       "0  SAHIBZADA JAWAD HADI     80  1st Year  3.4\n",
       "1         Ibraheem khan     72  2nd Year  3.5\n",
       "2         Muhammad Abid     77  1st Year  3.5\n",
       "3          Shumail Khan     65  3rd Year  2.6\n",
       "4             Qasim Ali     15  2nd Year  1.0"
      ]
     },
     "execution_count": 17,
     "metadata": {},
     "output_type": "execute_result"
    }
   ],
   "source": [
    "df.tail()"
   ]
  },
  {
   "cell_type": "code",
   "execution_count": 18,
   "id": "d4e52c58",
   "metadata": {},
   "outputs": [
    {
     "data": {
      "text/html": [
       "<div>\n",
       "<style scoped>\n",
       "    .dataframe tbody tr th:only-of-type {\n",
       "        vertical-align: middle;\n",
       "    }\n",
       "\n",
       "    .dataframe tbody tr th {\n",
       "        vertical-align: top;\n",
       "    }\n",
       "\n",
       "    .dataframe thead th {\n",
       "        text-align: right;\n",
       "    }\n",
       "</style>\n",
       "<table border=\"1\" class=\"dataframe\">\n",
       "  <thead>\n",
       "    <tr style=\"text-align: right;\">\n",
       "      <th></th>\n",
       "      <th>Marks</th>\n",
       "      <th>GPA</th>\n",
       "    </tr>\n",
       "  </thead>\n",
       "  <tbody>\n",
       "    <tr>\n",
       "      <th>count</th>\n",
       "      <td>5.000000</td>\n",
       "      <td>5.000000</td>\n",
       "    </tr>\n",
       "    <tr>\n",
       "      <th>mean</th>\n",
       "      <td>61.800000</td>\n",
       "      <td>2.800000</td>\n",
       "    </tr>\n",
       "    <tr>\n",
       "      <th>std</th>\n",
       "      <td>26.771253</td>\n",
       "      <td>1.074709</td>\n",
       "    </tr>\n",
       "    <tr>\n",
       "      <th>min</th>\n",
       "      <td>15.000000</td>\n",
       "      <td>1.000000</td>\n",
       "    </tr>\n",
       "    <tr>\n",
       "      <th>25%</th>\n",
       "      <td>65.000000</td>\n",
       "      <td>2.600000</td>\n",
       "    </tr>\n",
       "    <tr>\n",
       "      <th>50%</th>\n",
       "      <td>72.000000</td>\n",
       "      <td>3.400000</td>\n",
       "    </tr>\n",
       "    <tr>\n",
       "      <th>75%</th>\n",
       "      <td>77.000000</td>\n",
       "      <td>3.500000</td>\n",
       "    </tr>\n",
       "    <tr>\n",
       "      <th>max</th>\n",
       "      <td>80.000000</td>\n",
       "      <td>3.500000</td>\n",
       "    </tr>\n",
       "  </tbody>\n",
       "</table>\n",
       "</div>"
      ],
      "text/plain": [
       "           Marks       GPA\n",
       "count   5.000000  5.000000\n",
       "mean   61.800000  2.800000\n",
       "std    26.771253  1.074709\n",
       "min    15.000000  1.000000\n",
       "25%    65.000000  2.600000\n",
       "50%    72.000000  3.400000\n",
       "75%    77.000000  3.500000\n",
       "max    80.000000  3.500000"
      ]
     },
     "execution_count": 18,
     "metadata": {},
     "output_type": "execute_result"
    }
   ],
   "source": [
    "df.describe()"
   ]
  },
  {
   "cell_type": "code",
   "execution_count": 20,
   "id": "cef41eeb",
   "metadata": {},
   "outputs": [],
   "source": [
    "classData= pd.read_csv(r'C:\\Users\\Hp\\Desktop\\folder 3.2\\pythonMonday.csv')"
   ]
  },
  {
   "cell_type": "code",
   "execution_count": 21,
   "id": "68ab1c5b",
   "metadata": {
    "scrolled": true
   },
   "outputs": [
    {
     "data": {
      "text/html": [
       "<div>\n",
       "<style scoped>\n",
       "    .dataframe tbody tr th:only-of-type {\n",
       "        vertical-align: middle;\n",
       "    }\n",
       "\n",
       "    .dataframe tbody tr th {\n",
       "        vertical-align: top;\n",
       "    }\n",
       "\n",
       "    .dataframe thead th {\n",
       "        text-align: right;\n",
       "    }\n",
       "</style>\n",
       "<table border=\"1\" class=\"dataframe\">\n",
       "  <thead>\n",
       "    <tr style=\"text-align: right;\">\n",
       "      <th></th>\n",
       "      <th>Unnamed: 0</th>\n",
       "      <th>Name</th>\n",
       "      <th>Marks</th>\n",
       "      <th>Class</th>\n",
       "      <th>GPA</th>\n",
       "    </tr>\n",
       "  </thead>\n",
       "  <tbody>\n",
       "    <tr>\n",
       "      <th>0</th>\n",
       "      <td>0</td>\n",
       "      <td>SAHIBZADA JAWAD HADI</td>\n",
       "      <td>80</td>\n",
       "      <td>1st Year</td>\n",
       "      <td>3.4</td>\n",
       "    </tr>\n",
       "    <tr>\n",
       "      <th>1</th>\n",
       "      <td>1</td>\n",
       "      <td>Ibraheem khan</td>\n",
       "      <td>72</td>\n",
       "      <td>2nd Year</td>\n",
       "      <td>3.5</td>\n",
       "    </tr>\n",
       "    <tr>\n",
       "      <th>2</th>\n",
       "      <td>2</td>\n",
       "      <td>Muhammad Abid</td>\n",
       "      <td>77</td>\n",
       "      <td>1st Year</td>\n",
       "      <td>3.5</td>\n",
       "    </tr>\n",
       "    <tr>\n",
       "      <th>3</th>\n",
       "      <td>3</td>\n",
       "      <td>Shumail Khan</td>\n",
       "      <td>65</td>\n",
       "      <td>3rd Year</td>\n",
       "      <td>2.6</td>\n",
       "    </tr>\n",
       "    <tr>\n",
       "      <th>4</th>\n",
       "      <td>4</td>\n",
       "      <td>Qasim Ali</td>\n",
       "      <td>15</td>\n",
       "      <td>2nd Year</td>\n",
       "      <td>1.0</td>\n",
       "    </tr>\n",
       "  </tbody>\n",
       "</table>\n",
       "</div>"
      ],
      "text/plain": [
       "   Unnamed: 0                  Name  Marks     Class  GPA\n",
       "0           0  SAHIBZADA JAWAD HADI     80  1st Year  3.4\n",
       "1           1         Ibraheem khan     72  2nd Year  3.5\n",
       "2           2         Muhammad Abid     77  1st Year  3.5\n",
       "3           3          Shumail Khan     65  3rd Year  2.6\n",
       "4           4             Qasim Ali     15  2nd Year  1.0"
      ]
     },
     "execution_count": 21,
     "metadata": {},
     "output_type": "execute_result"
    }
   ],
   "source": [
    "classData"
   ]
  },
  {
   "cell_type": "code",
   "execution_count": 22,
   "id": "830bb23b",
   "metadata": {},
   "outputs": [
    {
     "data": {
      "text/html": [
       "<div>\n",
       "<style scoped>\n",
       "    .dataframe tbody tr th:only-of-type {\n",
       "        vertical-align: middle;\n",
       "    }\n",
       "\n",
       "    .dataframe tbody tr th {\n",
       "        vertical-align: top;\n",
       "    }\n",
       "\n",
       "    .dataframe thead th {\n",
       "        text-align: right;\n",
       "    }\n",
       "</style>\n",
       "<table border=\"1\" class=\"dataframe\">\n",
       "  <thead>\n",
       "    <tr style=\"text-align: right;\">\n",
       "      <th></th>\n",
       "      <th>Unnamed: 0</th>\n",
       "      <th>Name</th>\n",
       "      <th>Marks</th>\n",
       "      <th>Class</th>\n",
       "      <th>GPA</th>\n",
       "    </tr>\n",
       "  </thead>\n",
       "  <tbody>\n",
       "    <tr>\n",
       "      <th>1</th>\n",
       "      <td>1</td>\n",
       "      <td>Ibraheem khan</td>\n",
       "      <td>72</td>\n",
       "      <td>2nd Year</td>\n",
       "      <td>3.5</td>\n",
       "    </tr>\n",
       "    <tr>\n",
       "      <th>2</th>\n",
       "      <td>2</td>\n",
       "      <td>Muhammad Abid</td>\n",
       "      <td>77</td>\n",
       "      <td>1st Year</td>\n",
       "      <td>3.5</td>\n",
       "    </tr>\n",
       "    <tr>\n",
       "      <th>3</th>\n",
       "      <td>3</td>\n",
       "      <td>Shumail Khan</td>\n",
       "      <td>65</td>\n",
       "      <td>3rd Year</td>\n",
       "      <td>2.6</td>\n",
       "    </tr>\n",
       "    <tr>\n",
       "      <th>4</th>\n",
       "      <td>4</td>\n",
       "      <td>Qasim Ali</td>\n",
       "      <td>15</td>\n",
       "      <td>2nd Year</td>\n",
       "      <td>1.0</td>\n",
       "    </tr>\n",
       "  </tbody>\n",
       "</table>\n",
       "</div>"
      ],
      "text/plain": [
       "   Unnamed: 0           Name  Marks     Class  GPA\n",
       "1           1  Ibraheem khan     72  2nd Year  3.5\n",
       "2           2  Muhammad Abid     77  1st Year  3.5\n",
       "3           3   Shumail Khan     65  3rd Year  2.6\n",
       "4           4      Qasim Ali     15  2nd Year  1.0"
      ]
     },
     "execution_count": 22,
     "metadata": {},
     "output_type": "execute_result"
    }
   ],
   "source": [
    "classData.drop(0, axis=0)"
   ]
  },
  {
   "cell_type": "code",
   "execution_count": 23,
   "id": "2a995fd3",
   "metadata": {},
   "outputs": [
    {
     "data": {
      "text/html": [
       "<div>\n",
       "<style scoped>\n",
       "    .dataframe tbody tr th:only-of-type {\n",
       "        vertical-align: middle;\n",
       "    }\n",
       "\n",
       "    .dataframe tbody tr th {\n",
       "        vertical-align: top;\n",
       "    }\n",
       "\n",
       "    .dataframe thead th {\n",
       "        text-align: right;\n",
       "    }\n",
       "</style>\n",
       "<table border=\"1\" class=\"dataframe\">\n",
       "  <thead>\n",
       "    <tr style=\"text-align: right;\">\n",
       "      <th></th>\n",
       "      <th>Unnamed: 0</th>\n",
       "      <th>Name</th>\n",
       "      <th>Marks</th>\n",
       "      <th>Class</th>\n",
       "      <th>GPA</th>\n",
       "    </tr>\n",
       "  </thead>\n",
       "  <tbody>\n",
       "    <tr>\n",
       "      <th>0</th>\n",
       "      <td>0</td>\n",
       "      <td>SAHIBZADA JAWAD HADI</td>\n",
       "      <td>80</td>\n",
       "      <td>1st Year</td>\n",
       "      <td>3.4</td>\n",
       "    </tr>\n",
       "    <tr>\n",
       "      <th>1</th>\n",
       "      <td>1</td>\n",
       "      <td>Ibraheem khan</td>\n",
       "      <td>72</td>\n",
       "      <td>2nd Year</td>\n",
       "      <td>3.5</td>\n",
       "    </tr>\n",
       "    <tr>\n",
       "      <th>2</th>\n",
       "      <td>2</td>\n",
       "      <td>Muhammad Abid</td>\n",
       "      <td>77</td>\n",
       "      <td>1st Year</td>\n",
       "      <td>3.5</td>\n",
       "    </tr>\n",
       "    <tr>\n",
       "      <th>3</th>\n",
       "      <td>3</td>\n",
       "      <td>Shumail Khan</td>\n",
       "      <td>65</td>\n",
       "      <td>3rd Year</td>\n",
       "      <td>2.6</td>\n",
       "    </tr>\n",
       "    <tr>\n",
       "      <th>4</th>\n",
       "      <td>4</td>\n",
       "      <td>Qasim Ali</td>\n",
       "      <td>15</td>\n",
       "      <td>2nd Year</td>\n",
       "      <td>1.0</td>\n",
       "    </tr>\n",
       "  </tbody>\n",
       "</table>\n",
       "</div>"
      ],
      "text/plain": [
       "   Unnamed: 0                  Name  Marks     Class  GPA\n",
       "0           0  SAHIBZADA JAWAD HADI     80  1st Year  3.4\n",
       "1           1         Ibraheem khan     72  2nd Year  3.5\n",
       "2           2         Muhammad Abid     77  1st Year  3.5\n",
       "3           3          Shumail Khan     65  3rd Year  2.6\n",
       "4           4             Qasim Ali     15  2nd Year  1.0"
      ]
     },
     "execution_count": 23,
     "metadata": {},
     "output_type": "execute_result"
    }
   ],
   "source": [
    "classData"
   ]
  },
  {
   "cell_type": "code",
   "execution_count": 24,
   "id": "2c7214e7",
   "metadata": {},
   "outputs": [
    {
     "data": {
      "text/plain": [
       "0    80\n",
       "1    72\n",
       "2    77\n",
       "3    65\n",
       "4    15\n",
       "Name: Marks, dtype: int64"
      ]
     },
     "execution_count": 24,
     "metadata": {},
     "output_type": "execute_result"
    }
   ],
   "source": [
    "classData['Marks']"
   ]
  },
  {
   "cell_type": "code",
   "execution_count": 25,
   "id": "a8ed245d",
   "metadata": {},
   "outputs": [
    {
     "data": {
      "text/plain": [
       "0    1st Year\n",
       "1    2nd Year\n",
       "2    1st Year\n",
       "3    3rd Year\n",
       "4    2nd Year\n",
       "Name: Class, dtype: object"
      ]
     },
     "execution_count": 25,
     "metadata": {},
     "output_type": "execute_result"
    }
   ],
   "source": [
    "classData['Class']"
   ]
  },
  {
   "cell_type": "code",
   "execution_count": 26,
   "id": "59bf8806",
   "metadata": {},
   "outputs": [
    {
     "data": {
      "text/plain": [
       "0    1st Year\n",
       "1    2nd Year\n",
       "2    1st Year\n",
       "3    3rd Year\n",
       "4    2nd Year\n",
       "Name: Class, dtype: object"
      ]
     },
     "execution_count": 26,
     "metadata": {},
     "output_type": "execute_result"
    }
   ],
   "source": [
    "classData['Class']"
   ]
  },
  {
   "cell_type": "code",
   "execution_count": 27,
   "id": "99c76ae8",
   "metadata": {},
   "outputs": [
    {
     "data": {
      "text/plain": [
       "0    SAHIBZADA JAWAD HADI\n",
       "1           Ibraheem khan\n",
       "2           Muhammad Abid\n",
       "3            Shumail Khan\n",
       "4               Qasim Ali\n",
       "Name: Name, dtype: object"
      ]
     },
     "execution_count": 27,
     "metadata": {},
     "output_type": "execute_result"
    }
   ],
   "source": [
    "classData['Name']"
   ]
  },
  {
   "cell_type": "code",
   "execution_count": 28,
   "id": "5b926cfa",
   "metadata": {},
   "outputs": [
    {
     "data": {
      "text/plain": [
       "0    SAHIBZADA JAWAD HADI\n",
       "1           Ibraheem khan\n",
       "2           Muhammad Abid\n",
       "3            Shumail Khan\n",
       "4               Qasim Ali\n",
       "Name: Name, dtype: object"
      ]
     },
     "execution_count": 28,
     "metadata": {},
     "output_type": "execute_result"
    }
   ],
   "source": [
    "classData['Name']"
   ]
  },
  {
   "cell_type": "code",
   "execution_count": 29,
   "id": "377b2115",
   "metadata": {},
   "outputs": [
    {
     "data": {
      "text/plain": [
       "pandas.core.series.Series"
      ]
     },
     "execution_count": 29,
     "metadata": {},
     "output_type": "execute_result"
    }
   ],
   "source": [
    "type(classData['Name'])"
   ]
  },
  {
   "cell_type": "code",
   "execution_count": 30,
   "id": "c87b914f",
   "metadata": {},
   "outputs": [
    {
     "data": {
      "text/plain": [
       "0    3.4\n",
       "1    3.5\n",
       "2    3.5\n",
       "3    2.6\n",
       "4    1.0\n",
       "Name: GPA, dtype: float64"
      ]
     },
     "execution_count": 30,
     "metadata": {},
     "output_type": "execute_result"
    }
   ],
   "source": [
    "classData['GPA']"
   ]
  },
  {
   "cell_type": "code",
   "execution_count": 31,
   "id": "c40e2744",
   "metadata": {},
   "outputs": [
    {
     "data": {
      "text/plain": [
       "3.4"
      ]
     },
     "execution_count": 31,
     "metadata": {},
     "output_type": "execute_result"
    }
   ],
   "source": [
    "classData['GPA'][0]"
   ]
  },
  {
   "cell_type": "code",
   "execution_count": 32,
   "id": "4b39e3e9",
   "metadata": {},
   "outputs": [
    {
     "name": "stderr",
     "output_type": "stream",
     "text": [
      "C:\\anaconda\\envs\\jawadhadi\\lib\\site-packages\\ipykernel_launcher.py:1: SettingWithCopyWarning: \n",
      "A value is trying to be set on a copy of a slice from a DataFrame\n",
      "\n",
      "See the caveats in the documentation: https://pandas.pydata.org/pandas-docs/stable/user_guide/indexing.html#returning-a-view-versus-a-copy\n",
      "  \"\"\"Entry point for launching an IPython kernel.\n"
     ]
    }
   ],
   "source": [
    "classData['GPA'][0]=90"
   ]
  },
  {
   "cell_type": "code",
   "execution_count": 33,
   "id": "4f1aaee2",
   "metadata": {},
   "outputs": [
    {
     "data": {
      "text/html": [
       "<div>\n",
       "<style scoped>\n",
       "    .dataframe tbody tr th:only-of-type {\n",
       "        vertical-align: middle;\n",
       "    }\n",
       "\n",
       "    .dataframe tbody tr th {\n",
       "        vertical-align: top;\n",
       "    }\n",
       "\n",
       "    .dataframe thead th {\n",
       "        text-align: right;\n",
       "    }\n",
       "</style>\n",
       "<table border=\"1\" class=\"dataframe\">\n",
       "  <thead>\n",
       "    <tr style=\"text-align: right;\">\n",
       "      <th></th>\n",
       "      <th>Unnamed: 0</th>\n",
       "      <th>Name</th>\n",
       "      <th>Marks</th>\n",
       "      <th>Class</th>\n",
       "      <th>GPA</th>\n",
       "    </tr>\n",
       "  </thead>\n",
       "  <tbody>\n",
       "    <tr>\n",
       "      <th>0</th>\n",
       "      <td>0</td>\n",
       "      <td>SAHIBZADA JAWAD HADI</td>\n",
       "      <td>80</td>\n",
       "      <td>1st Year</td>\n",
       "      <td>90.0</td>\n",
       "    </tr>\n",
       "    <tr>\n",
       "      <th>1</th>\n",
       "      <td>1</td>\n",
       "      <td>Ibraheem khan</td>\n",
       "      <td>72</td>\n",
       "      <td>2nd Year</td>\n",
       "      <td>3.5</td>\n",
       "    </tr>\n",
       "    <tr>\n",
       "      <th>2</th>\n",
       "      <td>2</td>\n",
       "      <td>Muhammad Abid</td>\n",
       "      <td>77</td>\n",
       "      <td>1st Year</td>\n",
       "      <td>3.5</td>\n",
       "    </tr>\n",
       "    <tr>\n",
       "      <th>3</th>\n",
       "      <td>3</td>\n",
       "      <td>Shumail Khan</td>\n",
       "      <td>65</td>\n",
       "      <td>3rd Year</td>\n",
       "      <td>2.6</td>\n",
       "    </tr>\n",
       "    <tr>\n",
       "      <th>4</th>\n",
       "      <td>4</td>\n",
       "      <td>Qasim Ali</td>\n",
       "      <td>15</td>\n",
       "      <td>2nd Year</td>\n",
       "      <td>1.0</td>\n",
       "    </tr>\n",
       "  </tbody>\n",
       "</table>\n",
       "</div>"
      ],
      "text/plain": [
       "   Unnamed: 0                  Name  Marks     Class   GPA\n",
       "0           0  SAHIBZADA JAWAD HADI     80  1st Year  90.0\n",
       "1           1         Ibraheem khan     72  2nd Year   3.5\n",
       "2           2         Muhammad Abid     77  1st Year   3.5\n",
       "3           3          Shumail Khan     65  3rd Year   2.6\n",
       "4           4             Qasim Ali     15  2nd Year   1.0"
      ]
     },
     "execution_count": 33,
     "metadata": {},
     "output_type": "execute_result"
    }
   ],
   "source": [
    "classData"
   ]
  },
  {
   "cell_type": "code",
   "execution_count": 34,
   "id": "564f6ae3",
   "metadata": {},
   "outputs": [
    {
     "data": {
      "text/plain": [
       "1.0"
      ]
     },
     "execution_count": 34,
     "metadata": {},
     "output_type": "execute_result"
    }
   ],
   "source": [
    "classData['GPA'][4]"
   ]
  },
  {
   "cell_type": "code",
   "execution_count": 35,
   "id": "b8ce8235",
   "metadata": {},
   "outputs": [
    {
     "name": "stderr",
     "output_type": "stream",
     "text": [
      "C:\\anaconda\\envs\\jawadhadi\\lib\\site-packages\\ipykernel_launcher.py:1: SettingWithCopyWarning: \n",
      "A value is trying to be set on a copy of a slice from a DataFrame\n",
      "\n",
      "See the caveats in the documentation: https://pandas.pydata.org/pandas-docs/stable/user_guide/indexing.html#returning-a-view-versus-a-copy\n",
      "  \"\"\"Entry point for launching an IPython kernel.\n"
     ]
    }
   ],
   "source": [
    "classData['GPA'][4]=5"
   ]
  },
  {
   "cell_type": "code",
   "execution_count": 36,
   "id": "6be8fba8",
   "metadata": {},
   "outputs": [
    {
     "name": "stderr",
     "output_type": "stream",
     "text": [
      "C:\\anaconda\\envs\\jawadhadi\\lib\\site-packages\\ipykernel_launcher.py:1: SettingWithCopyWarning: \n",
      "A value is trying to be set on a copy of a slice from a DataFrame\n",
      "\n",
      "See the caveats in the documentation: https://pandas.pydata.org/pandas-docs/stable/user_guide/indexing.html#returning-a-view-versus-a-copy\n",
      "  \"\"\"Entry point for launching an IPython kernel.\n"
     ]
    }
   ],
   "source": [
    "classData[\"Class\"][4]=\"Second Year\""
   ]
  },
  {
   "cell_type": "code",
   "execution_count": 37,
   "id": "da1ae981",
   "metadata": {},
   "outputs": [
    {
     "data": {
      "text/html": [
       "<div>\n",
       "<style scoped>\n",
       "    .dataframe tbody tr th:only-of-type {\n",
       "        vertical-align: middle;\n",
       "    }\n",
       "\n",
       "    .dataframe tbody tr th {\n",
       "        vertical-align: top;\n",
       "    }\n",
       "\n",
       "    .dataframe thead th {\n",
       "        text-align: right;\n",
       "    }\n",
       "</style>\n",
       "<table border=\"1\" class=\"dataframe\">\n",
       "  <thead>\n",
       "    <tr style=\"text-align: right;\">\n",
       "      <th></th>\n",
       "      <th>Unnamed: 0</th>\n",
       "      <th>Name</th>\n",
       "      <th>Marks</th>\n",
       "      <th>Class</th>\n",
       "      <th>GPA</th>\n",
       "    </tr>\n",
       "  </thead>\n",
       "  <tbody>\n",
       "    <tr>\n",
       "      <th>0</th>\n",
       "      <td>0</td>\n",
       "      <td>SAHIBZADA JAWAD HADI</td>\n",
       "      <td>80</td>\n",
       "      <td>1st Year</td>\n",
       "      <td>90.0</td>\n",
       "    </tr>\n",
       "    <tr>\n",
       "      <th>1</th>\n",
       "      <td>1</td>\n",
       "      <td>Ibraheem khan</td>\n",
       "      <td>72</td>\n",
       "      <td>2nd Year</td>\n",
       "      <td>3.5</td>\n",
       "    </tr>\n",
       "    <tr>\n",
       "      <th>2</th>\n",
       "      <td>2</td>\n",
       "      <td>Muhammad Abid</td>\n",
       "      <td>77</td>\n",
       "      <td>1st Year</td>\n",
       "      <td>3.5</td>\n",
       "    </tr>\n",
       "    <tr>\n",
       "      <th>3</th>\n",
       "      <td>3</td>\n",
       "      <td>Shumail Khan</td>\n",
       "      <td>65</td>\n",
       "      <td>3rd Year</td>\n",
       "      <td>2.6</td>\n",
       "    </tr>\n",
       "    <tr>\n",
       "      <th>4</th>\n",
       "      <td>4</td>\n",
       "      <td>Qasim Ali</td>\n",
       "      <td>15</td>\n",
       "      <td>Second Year</td>\n",
       "      <td>5.0</td>\n",
       "    </tr>\n",
       "  </tbody>\n",
       "</table>\n",
       "</div>"
      ],
      "text/plain": [
       "   Unnamed: 0                  Name  Marks        Class   GPA\n",
       "0           0  SAHIBZADA JAWAD HADI     80     1st Year  90.0\n",
       "1           1         Ibraheem khan     72     2nd Year   3.5\n",
       "2           2         Muhammad Abid     77     1st Year   3.5\n",
       "3           3          Shumail Khan     65     3rd Year   2.6\n",
       "4           4             Qasim Ali     15  Second Year   5.0"
      ]
     },
     "execution_count": 37,
     "metadata": {},
     "output_type": "execute_result"
    }
   ],
   "source": [
    "classData"
   ]
  },
  {
   "cell_type": "code",
   "execution_count": 38,
   "id": "ac6a64b7",
   "metadata": {},
   "outputs": [
    {
     "data": {
      "text/plain": [
       "'Qasim Ali'"
      ]
     },
     "execution_count": 38,
     "metadata": {},
     "output_type": "execute_result"
    }
   ],
   "source": [
    "classData[\"Name\"][4]"
   ]
  },
  {
   "cell_type": "code",
   "execution_count": 39,
   "id": "5f4a0ec1",
   "metadata": {},
   "outputs": [
    {
     "data": {
      "text/html": [
       "<div>\n",
       "<style scoped>\n",
       "    .dataframe tbody tr th:only-of-type {\n",
       "        vertical-align: middle;\n",
       "    }\n",
       "\n",
       "    .dataframe tbody tr th {\n",
       "        vertical-align: top;\n",
       "    }\n",
       "\n",
       "    .dataframe thead th {\n",
       "        text-align: right;\n",
       "    }\n",
       "</style>\n",
       "<table border=\"1\" class=\"dataframe\">\n",
       "  <thead>\n",
       "    <tr style=\"text-align: right;\">\n",
       "      <th></th>\n",
       "      <th>Unnamed: 0</th>\n",
       "      <th>Name</th>\n",
       "      <th>Marks</th>\n",
       "      <th>Class</th>\n",
       "      <th>GPA</th>\n",
       "    </tr>\n",
       "  </thead>\n",
       "  <tbody>\n",
       "    <tr>\n",
       "      <th>0</th>\n",
       "      <td>0</td>\n",
       "      <td>SAHIBZADA JAWAD HADI</td>\n",
       "      <td>80</td>\n",
       "      <td>1st Year</td>\n",
       "      <td>90.0</td>\n",
       "    </tr>\n",
       "    <tr>\n",
       "      <th>1</th>\n",
       "      <td>1</td>\n",
       "      <td>Ibraheem khan</td>\n",
       "      <td>72</td>\n",
       "      <td>2nd Year</td>\n",
       "      <td>3.5</td>\n",
       "    </tr>\n",
       "    <tr>\n",
       "      <th>2</th>\n",
       "      <td>2</td>\n",
       "      <td>Muhammad Abid</td>\n",
       "      <td>77</td>\n",
       "      <td>1st Year</td>\n",
       "      <td>3.5</td>\n",
       "    </tr>\n",
       "    <tr>\n",
       "      <th>3</th>\n",
       "      <td>3</td>\n",
       "      <td>Shumail Khan</td>\n",
       "      <td>65</td>\n",
       "      <td>3rd Year</td>\n",
       "      <td>2.6</td>\n",
       "    </tr>\n",
       "    <tr>\n",
       "      <th>4</th>\n",
       "      <td>4</td>\n",
       "      <td>Qasim Ali</td>\n",
       "      <td>15</td>\n",
       "      <td>Second Year</td>\n",
       "      <td>5.0</td>\n",
       "    </tr>\n",
       "  </tbody>\n",
       "</table>\n",
       "</div>"
      ],
      "text/plain": [
       "   Unnamed: 0                  Name  Marks        Class   GPA\n",
       "0           0  SAHIBZADA JAWAD HADI     80     1st Year  90.0\n",
       "1           1         Ibraheem khan     72     2nd Year   3.5\n",
       "2           2         Muhammad Abid     77     1st Year   3.5\n",
       "3           3          Shumail Khan     65     3rd Year   2.6\n",
       "4           4             Qasim Ali     15  Second Year   5.0"
      ]
     },
     "execution_count": 39,
     "metadata": {},
     "output_type": "execute_result"
    }
   ],
   "source": [
    "classData"
   ]
  },
  {
   "cell_type": "code",
   "execution_count": 40,
   "id": "76de56ae",
   "metadata": {},
   "outputs": [],
   "source": [
    "classData.to_csv('pythonMondayNew.csv')"
   ]
  },
  {
   "cell_type": "code",
   "execution_count": 41,
   "id": "5c113b0a",
   "metadata": {},
   "outputs": [],
   "source": [
    "classData.to_csv('pythonMondayNewRemoveIndex.csv', index=False)"
   ]
  },
  {
   "cell_type": "markdown",
   "id": "8598ddd4",
   "metadata": {},
   "source": [
    "## Create Labels\n",
    "With the index argument, you can name your own labels."
   ]
  },
  {
   "cell_type": "code",
   "execution_count": 42,
   "id": "6068ca8d",
   "metadata": {},
   "outputs": [],
   "source": [
    "classData.index = [\"First\",\"Second\", \"Third\", \"Fourth\", \"Fifth\"]"
   ]
  },
  {
   "cell_type": "code",
   "execution_count": 43,
   "id": "11941c16",
   "metadata": {},
   "outputs": [
    {
     "data": {
      "text/html": [
       "<div>\n",
       "<style scoped>\n",
       "    .dataframe tbody tr th:only-of-type {\n",
       "        vertical-align: middle;\n",
       "    }\n",
       "\n",
       "    .dataframe tbody tr th {\n",
       "        vertical-align: top;\n",
       "    }\n",
       "\n",
       "    .dataframe thead th {\n",
       "        text-align: right;\n",
       "    }\n",
       "</style>\n",
       "<table border=\"1\" class=\"dataframe\">\n",
       "  <thead>\n",
       "    <tr style=\"text-align: right;\">\n",
       "      <th></th>\n",
       "      <th>Unnamed: 0</th>\n",
       "      <th>Name</th>\n",
       "      <th>Marks</th>\n",
       "      <th>Class</th>\n",
       "      <th>GPA</th>\n",
       "    </tr>\n",
       "  </thead>\n",
       "  <tbody>\n",
       "    <tr>\n",
       "      <th>First</th>\n",
       "      <td>0</td>\n",
       "      <td>SAHIBZADA JAWAD HADI</td>\n",
       "      <td>80</td>\n",
       "      <td>1st Year</td>\n",
       "      <td>90.0</td>\n",
       "    </tr>\n",
       "    <tr>\n",
       "      <th>Second</th>\n",
       "      <td>1</td>\n",
       "      <td>Ibraheem khan</td>\n",
       "      <td>72</td>\n",
       "      <td>2nd Year</td>\n",
       "      <td>3.5</td>\n",
       "    </tr>\n",
       "    <tr>\n",
       "      <th>Third</th>\n",
       "      <td>2</td>\n",
       "      <td>Muhammad Abid</td>\n",
       "      <td>77</td>\n",
       "      <td>1st Year</td>\n",
       "      <td>3.5</td>\n",
       "    </tr>\n",
       "    <tr>\n",
       "      <th>Fourth</th>\n",
       "      <td>3</td>\n",
       "      <td>Shumail Khan</td>\n",
       "      <td>65</td>\n",
       "      <td>3rd Year</td>\n",
       "      <td>2.6</td>\n",
       "    </tr>\n",
       "    <tr>\n",
       "      <th>Fifth</th>\n",
       "      <td>4</td>\n",
       "      <td>Qasim Ali</td>\n",
       "      <td>15</td>\n",
       "      <td>Second Year</td>\n",
       "      <td>5.0</td>\n",
       "    </tr>\n",
       "  </tbody>\n",
       "</table>\n",
       "</div>"
      ],
      "text/plain": [
       "        Unnamed: 0                  Name  Marks        Class   GPA\n",
       "First            0  SAHIBZADA JAWAD HADI     80     1st Year  90.0\n",
       "Second           1         Ibraheem khan     72     2nd Year   3.5\n",
       "Third            2         Muhammad Abid     77     1st Year   3.5\n",
       "Fourth           3          Shumail Khan     65     3rd Year   2.6\n",
       "Fifth            4             Qasim Ali     15  Second Year   5.0"
      ]
     },
     "execution_count": 43,
     "metadata": {},
     "output_type": "execute_result"
    }
   ],
   "source": [
    "classData"
   ]
  },
  {
   "cell_type": "code",
   "execution_count": 44,
   "id": "8c7dc4ab",
   "metadata": {},
   "outputs": [
    {
     "data": {
      "text/plain": [
       "'Qasim Ali'"
      ]
     },
     "execution_count": 44,
     "metadata": {},
     "output_type": "execute_result"
    }
   ],
   "source": [
    "classData[\"Name\"][\"Fifth\"]"
   ]
  },
  {
   "cell_type": "markdown",
   "id": "ef732464",
   "metadata": {},
   "source": [
    "## Pandas \n",
    "Pandas is an open source data analysis library written in Python.<br>\n",
    "It uses the power and speed of numpy to make data analysis and preprocessing easy for data scientists.<br>\n",
    "__Pandas__ is used to analyze data.<br>\n",
    "Python data analysis using pandas is a great start to Exploratory Data Analysis (EDA) for a data scientist."
   ]
  },
  {
   "cell_type": "markdown",
   "id": "67c0937b",
   "metadata": {},
   "source": [
    "## Pandas Data Structure\n",
    "Panda has two types of Data Structure:<br> \n",
    "    a) Series<br>\n",
    "    b) Dataframe\n",
    "### Series\n",
    "It is a one dimentional array with indexes. It stores a single column or row of data in a Dataframe.<br>\n",
    "It is a one dimensional array capable of holding any type of data.\n",
    "### Dataframe\n",
    "It is a tabular spreadsheet like structure representing rows each of which contains one or more columns.<br>\n",
    "It is a multi dimensional array capable of holding any type of data.<br>\n",
    "__Series__ is like a column, a __DataFrame__ is the whole table."
   ]
  },
  {
   "cell_type": "code",
   "execution_count": 45,
   "id": "036c76bb",
   "metadata": {},
   "outputs": [
    {
     "data": {
      "text/plain": [
       "First     90.0\n",
       "Second     3.5\n",
       "Third      3.5\n",
       "Fourth     2.6\n",
       "Fifth      5.0\n",
       "Name: GPA, dtype: float64"
      ]
     },
     "execution_count": 45,
     "metadata": {},
     "output_type": "execute_result"
    }
   ],
   "source": [
    "classData['GPA']"
   ]
  },
  {
   "cell_type": "code",
   "execution_count": 47,
   "id": "2513c566",
   "metadata": {},
   "outputs": [
    {
     "data": {
      "text/plain": [
       "pandas.core.series.Series"
      ]
     },
     "execution_count": 47,
     "metadata": {},
     "output_type": "execute_result"
    }
   ],
   "source": [
    " type(classData['GPA'])"
   ]
  },
  {
   "cell_type": "code",
   "execution_count": 48,
   "id": "322c0ff8",
   "metadata": {},
   "outputs": [
    {
     "data": {
      "text/html": [
       "<div>\n",
       "<style scoped>\n",
       "    .dataframe tbody tr th:only-of-type {\n",
       "        vertical-align: middle;\n",
       "    }\n",
       "\n",
       "    .dataframe tbody tr th {\n",
       "        vertical-align: top;\n",
       "    }\n",
       "\n",
       "    .dataframe thead th {\n",
       "        text-align: right;\n",
       "    }\n",
       "</style>\n",
       "<table border=\"1\" class=\"dataframe\">\n",
       "  <thead>\n",
       "    <tr style=\"text-align: right;\">\n",
       "      <th></th>\n",
       "      <th>Unnamed: 0</th>\n",
       "      <th>Name</th>\n",
       "      <th>Marks</th>\n",
       "      <th>Class</th>\n",
       "      <th>GPA</th>\n",
       "    </tr>\n",
       "  </thead>\n",
       "  <tbody>\n",
       "    <tr>\n",
       "      <th>First</th>\n",
       "      <td>0</td>\n",
       "      <td>SAHIBZADA JAWAD HADI</td>\n",
       "      <td>80</td>\n",
       "      <td>1st Year</td>\n",
       "      <td>90.0</td>\n",
       "    </tr>\n",
       "    <tr>\n",
       "      <th>Second</th>\n",
       "      <td>1</td>\n",
       "      <td>Ibraheem khan</td>\n",
       "      <td>72</td>\n",
       "      <td>2nd Year</td>\n",
       "      <td>3.5</td>\n",
       "    </tr>\n",
       "    <tr>\n",
       "      <th>Third</th>\n",
       "      <td>2</td>\n",
       "      <td>Muhammad Abid</td>\n",
       "      <td>77</td>\n",
       "      <td>1st Year</td>\n",
       "      <td>3.5</td>\n",
       "    </tr>\n",
       "    <tr>\n",
       "      <th>Fourth</th>\n",
       "      <td>3</td>\n",
       "      <td>Shumail Khan</td>\n",
       "      <td>65</td>\n",
       "      <td>3rd Year</td>\n",
       "      <td>2.6</td>\n",
       "    </tr>\n",
       "    <tr>\n",
       "      <th>Fifth</th>\n",
       "      <td>4</td>\n",
       "      <td>Qasim Ali</td>\n",
       "      <td>15</td>\n",
       "      <td>Second Year</td>\n",
       "      <td>5.0</td>\n",
       "    </tr>\n",
       "  </tbody>\n",
       "</table>\n",
       "</div>"
      ],
      "text/plain": [
       "        Unnamed: 0                  Name  Marks        Class   GPA\n",
       "First            0  SAHIBZADA JAWAD HADI     80     1st Year  90.0\n",
       "Second           1         Ibraheem khan     72     2nd Year   3.5\n",
       "Third            2         Muhammad Abid     77     1st Year   3.5\n",
       "Fourth           3          Shumail Khan     65     3rd Year   2.6\n",
       "Fifth            4             Qasim Ali     15  Second Year   5.0"
      ]
     },
     "execution_count": 48,
     "metadata": {},
     "output_type": "execute_result"
    }
   ],
   "source": [
    "classData"
   ]
  },
  {
   "cell_type": "code",
   "execution_count": 49,
   "id": "5a3ab22e",
   "metadata": {},
   "outputs": [
    {
     "data": {
      "text/plain": [
       "pandas.core.frame.DataFrame"
      ]
     },
     "execution_count": 49,
     "metadata": {},
     "output_type": "execute_result"
    }
   ],
   "source": [
    "type(classData)"
   ]
  },
  {
   "cell_type": "code",
   "execution_count": 50,
   "id": "5268b0a9",
   "metadata": {},
   "outputs": [],
   "source": [
    "import numpy as np"
   ]
  },
  {
   "cell_type": "code",
   "execution_count": 51,
   "id": "54345486",
   "metadata": {},
   "outputs": [],
   "source": [
    "series1= pd.Series(np.random.rand())"
   ]
  },
  {
   "cell_type": "code",
   "execution_count": 52,
   "id": "c19c0a18",
   "metadata": {},
   "outputs": [
    {
     "data": {
      "text/plain": [
       "0    0.999937\n",
       "dtype: float64"
      ]
     },
     "execution_count": 52,
     "metadata": {},
     "output_type": "execute_result"
    }
   ],
   "source": [
    "series1"
   ]
  },
  {
   "cell_type": "code",
   "execution_count": 53,
   "id": "3962ba6d",
   "metadata": {},
   "outputs": [],
   "source": [
    "series1= pd.Series(np.random.rand(30))"
   ]
  },
  {
   "cell_type": "code",
   "execution_count": 54,
   "id": "0f576808",
   "metadata": {},
   "outputs": [
    {
     "data": {
      "text/plain": [
       "0     0.730030\n",
       "1     0.636450\n",
       "2     0.484073\n",
       "3     0.492118\n",
       "4     0.528610\n",
       "5     0.233897\n",
       "6     0.822219\n",
       "7     0.655210\n",
       "8     0.072063\n",
       "9     0.060612\n",
       "10    0.515834\n",
       "11    0.484010\n",
       "12    0.781954\n",
       "13    0.691014\n",
       "14    0.266108\n",
       "15    0.479743\n",
       "16    0.142779\n",
       "17    0.874554\n",
       "18    0.942971\n",
       "19    0.765965\n",
       "20    0.964266\n",
       "21    0.303930\n",
       "22    0.310760\n",
       "23    0.301043\n",
       "24    0.563095\n",
       "25    0.214445\n",
       "26    0.455406\n",
       "27    0.282708\n",
       "28    0.578413\n",
       "29    0.246733\n",
       "dtype: float64"
      ]
     },
     "execution_count": 54,
     "metadata": {},
     "output_type": "execute_result"
    }
   ],
   "source": [
    "series1"
   ]
  },
  {
   "cell_type": "code",
   "execution_count": 55,
   "id": "e5e9ce8d",
   "metadata": {},
   "outputs": [
    {
     "data": {
      "text/plain": [
       "pandas.core.series.Series"
      ]
     },
     "execution_count": 55,
     "metadata": {},
     "output_type": "execute_result"
    }
   ],
   "source": [
    "type(series1)"
   ]
  },
  {
   "cell_type": "code",
   "execution_count": 56,
   "id": "79f949f5",
   "metadata": {},
   "outputs": [],
   "source": [
    "newDf = pd.DataFrame(np.random.rand(330,5))\n",
    "# newDf = pd.DataFrame(np.random.rand(330,5), index=np.arange(330))"
   ]
  },
  {
   "cell_type": "code",
   "execution_count": 57,
   "id": "444b2e6a",
   "metadata": {},
   "outputs": [
    {
     "data": {
      "text/plain": [
       "pandas.core.frame.DataFrame"
      ]
     },
     "execution_count": 57,
     "metadata": {},
     "output_type": "execute_result"
    }
   ],
   "source": [
    "type(newDf)"
   ]
  },
  {
   "cell_type": "code",
   "execution_count": 58,
   "id": "55b8ed35",
   "metadata": {},
   "outputs": [
    {
     "data": {
      "text/html": [
       "<div>\n",
       "<style scoped>\n",
       "    .dataframe tbody tr th:only-of-type {\n",
       "        vertical-align: middle;\n",
       "    }\n",
       "\n",
       "    .dataframe tbody tr th {\n",
       "        vertical-align: top;\n",
       "    }\n",
       "\n",
       "    .dataframe thead th {\n",
       "        text-align: right;\n",
       "    }\n",
       "</style>\n",
       "<table border=\"1\" class=\"dataframe\">\n",
       "  <thead>\n",
       "    <tr style=\"text-align: right;\">\n",
       "      <th></th>\n",
       "      <th>0</th>\n",
       "      <th>1</th>\n",
       "      <th>2</th>\n",
       "      <th>3</th>\n",
       "      <th>4</th>\n",
       "    </tr>\n",
       "  </thead>\n",
       "  <tbody>\n",
       "    <tr>\n",
       "      <th>0</th>\n",
       "      <td>0.106252</td>\n",
       "      <td>0.532309</td>\n",
       "      <td>0.092199</td>\n",
       "      <td>0.226521</td>\n",
       "      <td>0.352968</td>\n",
       "    </tr>\n",
       "    <tr>\n",
       "      <th>1</th>\n",
       "      <td>0.027592</td>\n",
       "      <td>0.681266</td>\n",
       "      <td>0.368295</td>\n",
       "      <td>0.487846</td>\n",
       "      <td>0.535940</td>\n",
       "    </tr>\n",
       "    <tr>\n",
       "      <th>2</th>\n",
       "      <td>0.836495</td>\n",
       "      <td>0.087581</td>\n",
       "      <td>0.326718</td>\n",
       "      <td>0.898627</td>\n",
       "      <td>0.013803</td>\n",
       "    </tr>\n",
       "    <tr>\n",
       "      <th>3</th>\n",
       "      <td>0.282217</td>\n",
       "      <td>0.618414</td>\n",
       "      <td>0.513233</td>\n",
       "      <td>0.549363</td>\n",
       "      <td>0.499524</td>\n",
       "    </tr>\n",
       "    <tr>\n",
       "      <th>4</th>\n",
       "      <td>0.754379</td>\n",
       "      <td>0.462905</td>\n",
       "      <td>0.739670</td>\n",
       "      <td>0.828832</td>\n",
       "      <td>0.389436</td>\n",
       "    </tr>\n",
       "    <tr>\n",
       "      <th>...</th>\n",
       "      <td>...</td>\n",
       "      <td>...</td>\n",
       "      <td>...</td>\n",
       "      <td>...</td>\n",
       "      <td>...</td>\n",
       "    </tr>\n",
       "    <tr>\n",
       "      <th>325</th>\n",
       "      <td>0.858176</td>\n",
       "      <td>0.943674</td>\n",
       "      <td>0.214518</td>\n",
       "      <td>0.255019</td>\n",
       "      <td>0.323928</td>\n",
       "    </tr>\n",
       "    <tr>\n",
       "      <th>326</th>\n",
       "      <td>0.855865</td>\n",
       "      <td>0.442723</td>\n",
       "      <td>0.623459</td>\n",
       "      <td>0.501572</td>\n",
       "      <td>0.736409</td>\n",
       "    </tr>\n",
       "    <tr>\n",
       "      <th>327</th>\n",
       "      <td>0.795258</td>\n",
       "      <td>0.585793</td>\n",
       "      <td>0.020976</td>\n",
       "      <td>0.668174</td>\n",
       "      <td>0.972614</td>\n",
       "    </tr>\n",
       "    <tr>\n",
       "      <th>328</th>\n",
       "      <td>0.118320</td>\n",
       "      <td>0.320552</td>\n",
       "      <td>0.240601</td>\n",
       "      <td>0.089870</td>\n",
       "      <td>0.780125</td>\n",
       "    </tr>\n",
       "    <tr>\n",
       "      <th>329</th>\n",
       "      <td>0.442478</td>\n",
       "      <td>0.376550</td>\n",
       "      <td>0.435754</td>\n",
       "      <td>0.264676</td>\n",
       "      <td>0.046435</td>\n",
       "    </tr>\n",
       "  </tbody>\n",
       "</table>\n",
       "<p>330 rows × 5 columns</p>\n",
       "</div>"
      ],
      "text/plain": [
       "            0         1         2         3         4\n",
       "0    0.106252  0.532309  0.092199  0.226521  0.352968\n",
       "1    0.027592  0.681266  0.368295  0.487846  0.535940\n",
       "2    0.836495  0.087581  0.326718  0.898627  0.013803\n",
       "3    0.282217  0.618414  0.513233  0.549363  0.499524\n",
       "4    0.754379  0.462905  0.739670  0.828832  0.389436\n",
       "..        ...       ...       ...       ...       ...\n",
       "325  0.858176  0.943674  0.214518  0.255019  0.323928\n",
       "326  0.855865  0.442723  0.623459  0.501572  0.736409\n",
       "327  0.795258  0.585793  0.020976  0.668174  0.972614\n",
       "328  0.118320  0.320552  0.240601  0.089870  0.780125\n",
       "329  0.442478  0.376550  0.435754  0.264676  0.046435\n",
       "\n",
       "[330 rows x 5 columns]"
      ]
     },
     "execution_count": 58,
     "metadata": {},
     "output_type": "execute_result"
    }
   ],
   "source": [
    "newDf"
   ]
  },
  {
   "cell_type": "code",
   "execution_count": 59,
   "id": "28b371fe",
   "metadata": {},
   "outputs": [
    {
     "data": {
      "text/html": [
       "<div>\n",
       "<style scoped>\n",
       "    .dataframe tbody tr th:only-of-type {\n",
       "        vertical-align: middle;\n",
       "    }\n",
       "\n",
       "    .dataframe tbody tr th {\n",
       "        vertical-align: top;\n",
       "    }\n",
       "\n",
       "    .dataframe thead th {\n",
       "        text-align: right;\n",
       "    }\n",
       "</style>\n",
       "<table border=\"1\" class=\"dataframe\">\n",
       "  <thead>\n",
       "    <tr style=\"text-align: right;\">\n",
       "      <th></th>\n",
       "      <th>0</th>\n",
       "      <th>1</th>\n",
       "      <th>2</th>\n",
       "      <th>3</th>\n",
       "      <th>4</th>\n",
       "    </tr>\n",
       "  </thead>\n",
       "  <tbody>\n",
       "    <tr>\n",
       "      <th>0</th>\n",
       "      <td>0.106252</td>\n",
       "      <td>0.532309</td>\n",
       "      <td>0.092199</td>\n",
       "      <td>0.226521</td>\n",
       "      <td>0.352968</td>\n",
       "    </tr>\n",
       "    <tr>\n",
       "      <th>1</th>\n",
       "      <td>0.027592</td>\n",
       "      <td>0.681266</td>\n",
       "      <td>0.368295</td>\n",
       "      <td>0.487846</td>\n",
       "      <td>0.535940</td>\n",
       "    </tr>\n",
       "  </tbody>\n",
       "</table>\n",
       "</div>"
      ],
      "text/plain": [
       "          0         1         2         3         4\n",
       "0  0.106252  0.532309  0.092199  0.226521  0.352968\n",
       "1  0.027592  0.681266  0.368295  0.487846  0.535940"
      ]
     },
     "execution_count": 59,
     "metadata": {},
     "output_type": "execute_result"
    }
   ],
   "source": [
    "newDf.head(2)"
   ]
  },
  {
   "cell_type": "code",
   "execution_count": 60,
   "id": "50d431a7",
   "metadata": {},
   "outputs": [
    {
     "data": {
      "text/plain": [
       "0    float64\n",
       "1    float64\n",
       "2    float64\n",
       "3    float64\n",
       "4    float64\n",
       "dtype: object"
      ]
     },
     "execution_count": 60,
     "metadata": {},
     "output_type": "execute_result"
    }
   ],
   "source": [
    "newDf.dtypes"
   ]
  },
  {
   "cell_type": "code",
   "execution_count": 61,
   "id": "7eb41a2e",
   "metadata": {},
   "outputs": [
    {
     "data": {
      "text/html": [
       "<div>\n",
       "<style scoped>\n",
       "    .dataframe tbody tr th:only-of-type {\n",
       "        vertical-align: middle;\n",
       "    }\n",
       "\n",
       "    .dataframe tbody tr th {\n",
       "        vertical-align: top;\n",
       "    }\n",
       "\n",
       "    .dataframe thead th {\n",
       "        text-align: right;\n",
       "    }\n",
       "</style>\n",
       "<table border=\"1\" class=\"dataframe\">\n",
       "  <thead>\n",
       "    <tr style=\"text-align: right;\">\n",
       "      <th></th>\n",
       "      <th>0</th>\n",
       "      <th>1</th>\n",
       "      <th>2</th>\n",
       "      <th>3</th>\n",
       "      <th>4</th>\n",
       "    </tr>\n",
       "  </thead>\n",
       "  <tbody>\n",
       "    <tr>\n",
       "      <th>328</th>\n",
       "      <td>0.118320</td>\n",
       "      <td>0.320552</td>\n",
       "      <td>0.240601</td>\n",
       "      <td>0.089870</td>\n",
       "      <td>0.780125</td>\n",
       "    </tr>\n",
       "    <tr>\n",
       "      <th>329</th>\n",
       "      <td>0.442478</td>\n",
       "      <td>0.376550</td>\n",
       "      <td>0.435754</td>\n",
       "      <td>0.264676</td>\n",
       "      <td>0.046435</td>\n",
       "    </tr>\n",
       "  </tbody>\n",
       "</table>\n",
       "</div>"
      ],
      "text/plain": [
       "            0         1         2         3         4\n",
       "328  0.118320  0.320552  0.240601  0.089870  0.780125\n",
       "329  0.442478  0.376550  0.435754  0.264676  0.046435"
      ]
     },
     "execution_count": 61,
     "metadata": {},
     "output_type": "execute_result"
    }
   ],
   "source": [
    "newDf.tail(2)"
   ]
  },
  {
   "cell_type": "code",
   "execution_count": 62,
   "id": "76d60e8e",
   "metadata": {},
   "outputs": [
    {
     "name": "stdout",
     "output_type": "stream",
     "text": [
      "<class 'pandas.core.frame.DataFrame'>\n",
      "RangeIndex: 330 entries, 0 to 329\n",
      "Data columns (total 5 columns):\n",
      " #   Column  Non-Null Count  Dtype  \n",
      "---  ------  --------------  -----  \n",
      " 0   0       330 non-null    float64\n",
      " 1   1       330 non-null    float64\n",
      " 2   2       330 non-null    float64\n",
      " 3   3       330 non-null    float64\n",
      " 4   4       330 non-null    float64\n",
      "dtypes: float64(5)\n",
      "memory usage: 13.0 KB\n"
     ]
    }
   ],
   "source": [
    "newDf.info()"
   ]
  },
  {
   "cell_type": "code",
   "execution_count": 63,
   "id": "223d5cec",
   "metadata": {},
   "outputs": [
    {
     "data": {
      "text/html": [
       "<div>\n",
       "<style scoped>\n",
       "    .dataframe tbody tr th:only-of-type {\n",
       "        vertical-align: middle;\n",
       "    }\n",
       "\n",
       "    .dataframe tbody tr th {\n",
       "        vertical-align: top;\n",
       "    }\n",
       "\n",
       "    .dataframe thead th {\n",
       "        text-align: right;\n",
       "    }\n",
       "</style>\n",
       "<table border=\"1\" class=\"dataframe\">\n",
       "  <thead>\n",
       "    <tr style=\"text-align: right;\">\n",
       "      <th></th>\n",
       "      <th>0</th>\n",
       "      <th>1</th>\n",
       "      <th>2</th>\n",
       "      <th>3</th>\n",
       "      <th>4</th>\n",
       "    </tr>\n",
       "  </thead>\n",
       "  <tbody>\n",
       "    <tr>\n",
       "      <th>count</th>\n",
       "      <td>330.000000</td>\n",
       "      <td>330.000000</td>\n",
       "      <td>330.000000</td>\n",
       "      <td>330.000000</td>\n",
       "      <td>330.000000</td>\n",
       "    </tr>\n",
       "    <tr>\n",
       "      <th>mean</th>\n",
       "      <td>0.512292</td>\n",
       "      <td>0.522257</td>\n",
       "      <td>0.504555</td>\n",
       "      <td>0.495653</td>\n",
       "      <td>0.500659</td>\n",
       "    </tr>\n",
       "    <tr>\n",
       "      <th>std</th>\n",
       "      <td>0.291028</td>\n",
       "      <td>0.272543</td>\n",
       "      <td>0.289294</td>\n",
       "      <td>0.299930</td>\n",
       "      <td>0.288156</td>\n",
       "    </tr>\n",
       "    <tr>\n",
       "      <th>min</th>\n",
       "      <td>0.001075</td>\n",
       "      <td>0.004663</td>\n",
       "      <td>0.002783</td>\n",
       "      <td>0.004080</td>\n",
       "      <td>0.001627</td>\n",
       "    </tr>\n",
       "    <tr>\n",
       "      <th>25%</th>\n",
       "      <td>0.261698</td>\n",
       "      <td>0.292007</td>\n",
       "      <td>0.260840</td>\n",
       "      <td>0.225536</td>\n",
       "      <td>0.250602</td>\n",
       "    </tr>\n",
       "    <tr>\n",
       "      <th>50%</th>\n",
       "      <td>0.481738</td>\n",
       "      <td>0.535678</td>\n",
       "      <td>0.516394</td>\n",
       "      <td>0.486941</td>\n",
       "      <td>0.499148</td>\n",
       "    </tr>\n",
       "    <tr>\n",
       "      <th>75%</th>\n",
       "      <td>0.785505</td>\n",
       "      <td>0.766742</td>\n",
       "      <td>0.737016</td>\n",
       "      <td>0.758719</td>\n",
       "      <td>0.737689</td>\n",
       "    </tr>\n",
       "    <tr>\n",
       "      <th>max</th>\n",
       "      <td>0.999743</td>\n",
       "      <td>0.995231</td>\n",
       "      <td>0.999562</td>\n",
       "      <td>0.990824</td>\n",
       "      <td>0.997720</td>\n",
       "    </tr>\n",
       "  </tbody>\n",
       "</table>\n",
       "</div>"
      ],
      "text/plain": [
       "                0           1           2           3           4\n",
       "count  330.000000  330.000000  330.000000  330.000000  330.000000\n",
       "mean     0.512292    0.522257    0.504555    0.495653    0.500659\n",
       "std      0.291028    0.272543    0.289294    0.299930    0.288156\n",
       "min      0.001075    0.004663    0.002783    0.004080    0.001627\n",
       "25%      0.261698    0.292007    0.260840    0.225536    0.250602\n",
       "50%      0.481738    0.535678    0.516394    0.486941    0.499148\n",
       "75%      0.785505    0.766742    0.737016    0.758719    0.737689\n",
       "max      0.999743    0.995231    0.999562    0.990824    0.997720"
      ]
     },
     "execution_count": 63,
     "metadata": {},
     "output_type": "execute_result"
    }
   ],
   "source": [
    "newDf.describe()"
   ]
  },
  {
   "cell_type": "code",
   "execution_count": 64,
   "id": "e61e795c",
   "metadata": {},
   "outputs": [
    {
     "data": {
      "text/plain": [
       "0    float64\n",
       "1    float64\n",
       "2    float64\n",
       "3    float64\n",
       "4    float64\n",
       "dtype: object"
      ]
     },
     "execution_count": 64,
     "metadata": {},
     "output_type": "execute_result"
    }
   ],
   "source": [
    "newDf.dtypes"
   ]
  },
  {
   "cell_type": "code",
   "execution_count": 66,
   "id": "2e3fd75d",
   "metadata": {},
   "outputs": [],
   "source": [
    "newDf[0][0]= \"SAHIBZADA JAWAD HADI\""
   ]
  },
  {
   "cell_type": "code",
   "execution_count": 67,
   "id": "ed64eec9",
   "metadata": {},
   "outputs": [
    {
     "data": {
      "text/plain": [
       "0     object\n",
       "1    float64\n",
       "2    float64\n",
       "3    float64\n",
       "4    float64\n",
       "dtype: object"
      ]
     },
     "execution_count": 67,
     "metadata": {},
     "output_type": "execute_result"
    }
   ],
   "source": [
    "newDf.dtypes"
   ]
  },
  {
   "cell_type": "code",
   "execution_count": 68,
   "id": "d7d21566",
   "metadata": {},
   "outputs": [
    {
     "data": {
      "text/html": [
       "<div>\n",
       "<style scoped>\n",
       "    .dataframe tbody tr th:only-of-type {\n",
       "        vertical-align: middle;\n",
       "    }\n",
       "\n",
       "    .dataframe tbody tr th {\n",
       "        vertical-align: top;\n",
       "    }\n",
       "\n",
       "    .dataframe thead th {\n",
       "        text-align: right;\n",
       "    }\n",
       "</style>\n",
       "<table border=\"1\" class=\"dataframe\">\n",
       "  <thead>\n",
       "    <tr style=\"text-align: right;\">\n",
       "      <th></th>\n",
       "      <th>0</th>\n",
       "      <th>1</th>\n",
       "      <th>2</th>\n",
       "      <th>3</th>\n",
       "      <th>4</th>\n",
       "    </tr>\n",
       "  </thead>\n",
       "  <tbody>\n",
       "    <tr>\n",
       "      <th>0</th>\n",
       "      <td>SAHIBZADA JAWAD HADI</td>\n",
       "      <td>0.532309</td>\n",
       "      <td>0.092199</td>\n",
       "      <td>0.226521</td>\n",
       "      <td>0.352968</td>\n",
       "    </tr>\n",
       "    <tr>\n",
       "      <th>1</th>\n",
       "      <td>0.027592</td>\n",
       "      <td>0.681266</td>\n",
       "      <td>0.368295</td>\n",
       "      <td>0.487846</td>\n",
       "      <td>0.535940</td>\n",
       "    </tr>\n",
       "    <tr>\n",
       "      <th>2</th>\n",
       "      <td>0.836495</td>\n",
       "      <td>0.087581</td>\n",
       "      <td>0.326718</td>\n",
       "      <td>0.898627</td>\n",
       "      <td>0.013803</td>\n",
       "    </tr>\n",
       "    <tr>\n",
       "      <th>3</th>\n",
       "      <td>0.282217</td>\n",
       "      <td>0.618414</td>\n",
       "      <td>0.513233</td>\n",
       "      <td>0.549363</td>\n",
       "      <td>0.499524</td>\n",
       "    </tr>\n",
       "    <tr>\n",
       "      <th>4</th>\n",
       "      <td>0.754379</td>\n",
       "      <td>0.462905</td>\n",
       "      <td>0.739670</td>\n",
       "      <td>0.828832</td>\n",
       "      <td>0.389436</td>\n",
       "    </tr>\n",
       "    <tr>\n",
       "      <th>...</th>\n",
       "      <td>...</td>\n",
       "      <td>...</td>\n",
       "      <td>...</td>\n",
       "      <td>...</td>\n",
       "      <td>...</td>\n",
       "    </tr>\n",
       "    <tr>\n",
       "      <th>325</th>\n",
       "      <td>0.858176</td>\n",
       "      <td>0.943674</td>\n",
       "      <td>0.214518</td>\n",
       "      <td>0.255019</td>\n",
       "      <td>0.323928</td>\n",
       "    </tr>\n",
       "    <tr>\n",
       "      <th>326</th>\n",
       "      <td>0.855865</td>\n",
       "      <td>0.442723</td>\n",
       "      <td>0.623459</td>\n",
       "      <td>0.501572</td>\n",
       "      <td>0.736409</td>\n",
       "    </tr>\n",
       "    <tr>\n",
       "      <th>327</th>\n",
       "      <td>0.795258</td>\n",
       "      <td>0.585793</td>\n",
       "      <td>0.020976</td>\n",
       "      <td>0.668174</td>\n",
       "      <td>0.972614</td>\n",
       "    </tr>\n",
       "    <tr>\n",
       "      <th>328</th>\n",
       "      <td>0.11832</td>\n",
       "      <td>0.320552</td>\n",
       "      <td>0.240601</td>\n",
       "      <td>0.089870</td>\n",
       "      <td>0.780125</td>\n",
       "    </tr>\n",
       "    <tr>\n",
       "      <th>329</th>\n",
       "      <td>0.442478</td>\n",
       "      <td>0.376550</td>\n",
       "      <td>0.435754</td>\n",
       "      <td>0.264676</td>\n",
       "      <td>0.046435</td>\n",
       "    </tr>\n",
       "  </tbody>\n",
       "</table>\n",
       "<p>330 rows × 5 columns</p>\n",
       "</div>"
      ],
      "text/plain": [
       "                        0         1         2         3         4\n",
       "0    SAHIBZADA JAWAD HADI  0.532309  0.092199  0.226521  0.352968\n",
       "1                0.027592  0.681266  0.368295  0.487846  0.535940\n",
       "2                0.836495  0.087581  0.326718  0.898627  0.013803\n",
       "3                0.282217  0.618414  0.513233  0.549363  0.499524\n",
       "4                0.754379  0.462905  0.739670  0.828832  0.389436\n",
       "..                    ...       ...       ...       ...       ...\n",
       "325              0.858176  0.943674  0.214518  0.255019  0.323928\n",
       "326              0.855865  0.442723  0.623459  0.501572  0.736409\n",
       "327              0.795258  0.585793  0.020976  0.668174  0.972614\n",
       "328               0.11832  0.320552  0.240601  0.089870  0.780125\n",
       "329              0.442478  0.376550  0.435754  0.264676  0.046435\n",
       "\n",
       "[330 rows x 5 columns]"
      ]
     },
     "execution_count": 68,
     "metadata": {},
     "output_type": "execute_result"
    }
   ],
   "source": [
    "newDf"
   ]
  },
  {
   "cell_type": "code",
   "execution_count": 69,
   "id": "c1c649c6",
   "metadata": {},
   "outputs": [
    {
     "data": {
      "text/plain": [
       "RangeIndex(start=0, stop=330, step=1)"
      ]
     },
     "execution_count": 69,
     "metadata": {},
     "output_type": "execute_result"
    }
   ],
   "source": [
    "newDf.index"
   ]
  },
  {
   "cell_type": "code",
   "execution_count": 70,
   "id": "2a6a01a0",
   "metadata": {},
   "outputs": [
    {
     "data": {
      "text/plain": [
       "RangeIndex(start=0, stop=5, step=1)"
      ]
     },
     "execution_count": 70,
     "metadata": {},
     "output_type": "execute_result"
    }
   ],
   "source": [
    "newDf.columns"
   ]
  },
  {
   "cell_type": "code",
   "execution_count": 71,
   "id": "0d0bbcdd",
   "metadata": {},
   "outputs": [
    {
     "data": {
      "text/plain": [
       "array([['SAHIBZADA JAWAD HADI', 0.5323089637348619, 0.09219898973580753,\n",
       "        0.2265208611376507, 0.35296834809163946],\n",
       "       [0.027592296293997176, 0.6812655578297482, 0.3682953268647755,\n",
       "        0.48784579540226625, 0.5359396603581738],\n",
       "       [0.8364947110755142, 0.0875807481869233, 0.32671822800297323,\n",
       "        0.898626585064842, 0.013802507032205424],\n",
       "       ...,\n",
       "       [0.7952580031674271, 0.585793293537255, 0.020975964459305718,\n",
       "        0.6681739566796775, 0.9726138387292066],\n",
       "       [0.11831992189646012, 0.3205524516063908, 0.2406011609520582,\n",
       "        0.08986998210331232, 0.780124715872984],\n",
       "       [0.442477602881434, 0.37655008084312536, 0.43575381980194106,\n",
       "        0.2646762645573182, 0.04643454276769865]], dtype=object)"
      ]
     },
     "execution_count": 71,
     "metadata": {},
     "output_type": "execute_result"
    }
   ],
   "source": [
    "newDf.to_numpy()"
   ]
  },
  {
   "cell_type": "code",
   "execution_count": 72,
   "id": "29e43e86",
   "metadata": {},
   "outputs": [],
   "source": [
    "newDf[0][0]=0.30"
   ]
  },
  {
   "cell_type": "code",
   "execution_count": 73,
   "id": "81c060ad",
   "metadata": {},
   "outputs": [
    {
     "data": {
      "text/html": [
       "<div>\n",
       "<style scoped>\n",
       "    .dataframe tbody tr th:only-of-type {\n",
       "        vertical-align: middle;\n",
       "    }\n",
       "\n",
       "    .dataframe tbody tr th {\n",
       "        vertical-align: top;\n",
       "    }\n",
       "\n",
       "    .dataframe thead th {\n",
       "        text-align: right;\n",
       "    }\n",
       "</style>\n",
       "<table border=\"1\" class=\"dataframe\">\n",
       "  <thead>\n",
       "    <tr style=\"text-align: right;\">\n",
       "      <th></th>\n",
       "      <th>0</th>\n",
       "      <th>1</th>\n",
       "      <th>2</th>\n",
       "      <th>3</th>\n",
       "      <th>4</th>\n",
       "    </tr>\n",
       "  </thead>\n",
       "  <tbody>\n",
       "    <tr>\n",
       "      <th>0</th>\n",
       "      <td>0.3</td>\n",
       "      <td>0.532309</td>\n",
       "      <td>0.092199</td>\n",
       "      <td>0.226521</td>\n",
       "      <td>0.352968</td>\n",
       "    </tr>\n",
       "    <tr>\n",
       "      <th>1</th>\n",
       "      <td>0.027592</td>\n",
       "      <td>0.681266</td>\n",
       "      <td>0.368295</td>\n",
       "      <td>0.487846</td>\n",
       "      <td>0.535940</td>\n",
       "    </tr>\n",
       "    <tr>\n",
       "      <th>2</th>\n",
       "      <td>0.836495</td>\n",
       "      <td>0.087581</td>\n",
       "      <td>0.326718</td>\n",
       "      <td>0.898627</td>\n",
       "      <td>0.013803</td>\n",
       "    </tr>\n",
       "    <tr>\n",
       "      <th>3</th>\n",
       "      <td>0.282217</td>\n",
       "      <td>0.618414</td>\n",
       "      <td>0.513233</td>\n",
       "      <td>0.549363</td>\n",
       "      <td>0.499524</td>\n",
       "    </tr>\n",
       "    <tr>\n",
       "      <th>4</th>\n",
       "      <td>0.754379</td>\n",
       "      <td>0.462905</td>\n",
       "      <td>0.739670</td>\n",
       "      <td>0.828832</td>\n",
       "      <td>0.389436</td>\n",
       "    </tr>\n",
       "  </tbody>\n",
       "</table>\n",
       "</div>"
      ],
      "text/plain": [
       "          0         1         2         3         4\n",
       "0       0.3  0.532309  0.092199  0.226521  0.352968\n",
       "1  0.027592  0.681266  0.368295  0.487846  0.535940\n",
       "2  0.836495  0.087581  0.326718  0.898627  0.013803\n",
       "3  0.282217  0.618414  0.513233  0.549363  0.499524\n",
       "4  0.754379  0.462905  0.739670  0.828832  0.389436"
      ]
     },
     "execution_count": 73,
     "metadata": {},
     "output_type": "execute_result"
    }
   ],
   "source": [
    "newDf.head()"
   ]
  },
  {
   "cell_type": "code",
   "execution_count": 74,
   "id": "c6b68242",
   "metadata": {},
   "outputs": [
    {
     "data": {
      "text/html": [
       "<div>\n",
       "<style scoped>\n",
       "    .dataframe tbody tr th:only-of-type {\n",
       "        vertical-align: middle;\n",
       "    }\n",
       "\n",
       "    .dataframe tbody tr th {\n",
       "        vertical-align: top;\n",
       "    }\n",
       "\n",
       "    .dataframe thead th {\n",
       "        text-align: right;\n",
       "    }\n",
       "</style>\n",
       "<table border=\"1\" class=\"dataframe\">\n",
       "  <thead>\n",
       "    <tr style=\"text-align: right;\">\n",
       "      <th></th>\n",
       "      <th>0</th>\n",
       "      <th>1</th>\n",
       "      <th>2</th>\n",
       "      <th>3</th>\n",
       "      <th>4</th>\n",
       "      <th>5</th>\n",
       "      <th>6</th>\n",
       "      <th>7</th>\n",
       "      <th>8</th>\n",
       "      <th>9</th>\n",
       "      <th>...</th>\n",
       "      <th>320</th>\n",
       "      <th>321</th>\n",
       "      <th>322</th>\n",
       "      <th>323</th>\n",
       "      <th>324</th>\n",
       "      <th>325</th>\n",
       "      <th>326</th>\n",
       "      <th>327</th>\n",
       "      <th>328</th>\n",
       "      <th>329</th>\n",
       "    </tr>\n",
       "  </thead>\n",
       "  <tbody>\n",
       "    <tr>\n",
       "      <th>0</th>\n",
       "      <td>0.3</td>\n",
       "      <td>0.027592</td>\n",
       "      <td>0.836495</td>\n",
       "      <td>0.282217</td>\n",
       "      <td>0.754379</td>\n",
       "      <td>0.924039</td>\n",
       "      <td>0.375222</td>\n",
       "      <td>0.238594</td>\n",
       "      <td>0.959505</td>\n",
       "      <td>0.187373</td>\n",
       "      <td>...</td>\n",
       "      <td>0.990315</td>\n",
       "      <td>0.249006</td>\n",
       "      <td>0.074236</td>\n",
       "      <td>0.105153</td>\n",
       "      <td>0.893686</td>\n",
       "      <td>0.858176</td>\n",
       "      <td>0.855865</td>\n",
       "      <td>0.795258</td>\n",
       "      <td>0.11832</td>\n",
       "      <td>0.442478</td>\n",
       "    </tr>\n",
       "    <tr>\n",
       "      <th>1</th>\n",
       "      <td>0.532309</td>\n",
       "      <td>0.681266</td>\n",
       "      <td>0.087581</td>\n",
       "      <td>0.618414</td>\n",
       "      <td>0.462905</td>\n",
       "      <td>0.922584</td>\n",
       "      <td>0.613746</td>\n",
       "      <td>0.903146</td>\n",
       "      <td>0.864033</td>\n",
       "      <td>0.261374</td>\n",
       "      <td>...</td>\n",
       "      <td>0.82639</td>\n",
       "      <td>0.526729</td>\n",
       "      <td>0.379731</td>\n",
       "      <td>0.386614</td>\n",
       "      <td>0.422694</td>\n",
       "      <td>0.943674</td>\n",
       "      <td>0.442723</td>\n",
       "      <td>0.585793</td>\n",
       "      <td>0.320552</td>\n",
       "      <td>0.37655</td>\n",
       "    </tr>\n",
       "    <tr>\n",
       "      <th>2</th>\n",
       "      <td>0.092199</td>\n",
       "      <td>0.368295</td>\n",
       "      <td>0.326718</td>\n",
       "      <td>0.513233</td>\n",
       "      <td>0.73967</td>\n",
       "      <td>0.14626</td>\n",
       "      <td>0.965162</td>\n",
       "      <td>0.999562</td>\n",
       "      <td>0.064294</td>\n",
       "      <td>0.61779</td>\n",
       "      <td>...</td>\n",
       "      <td>0.275216</td>\n",
       "      <td>0.603375</td>\n",
       "      <td>0.541669</td>\n",
       "      <td>0.723876</td>\n",
       "      <td>0.432522</td>\n",
       "      <td>0.214518</td>\n",
       "      <td>0.623459</td>\n",
       "      <td>0.020976</td>\n",
       "      <td>0.240601</td>\n",
       "      <td>0.435754</td>\n",
       "    </tr>\n",
       "    <tr>\n",
       "      <th>3</th>\n",
       "      <td>0.226521</td>\n",
       "      <td>0.487846</td>\n",
       "      <td>0.898627</td>\n",
       "      <td>0.549363</td>\n",
       "      <td>0.828832</td>\n",
       "      <td>0.930973</td>\n",
       "      <td>0.652332</td>\n",
       "      <td>0.225565</td>\n",
       "      <td>0.384387</td>\n",
       "      <td>0.187872</td>\n",
       "      <td>...</td>\n",
       "      <td>0.843626</td>\n",
       "      <td>0.553911</td>\n",
       "      <td>0.312837</td>\n",
       "      <td>0.039596</td>\n",
       "      <td>0.581201</td>\n",
       "      <td>0.255019</td>\n",
       "      <td>0.501572</td>\n",
       "      <td>0.668174</td>\n",
       "      <td>0.08987</td>\n",
       "      <td>0.264676</td>\n",
       "    </tr>\n",
       "    <tr>\n",
       "      <th>4</th>\n",
       "      <td>0.352968</td>\n",
       "      <td>0.53594</td>\n",
       "      <td>0.013803</td>\n",
       "      <td>0.499524</td>\n",
       "      <td>0.389436</td>\n",
       "      <td>0.500265</td>\n",
       "      <td>0.470823</td>\n",
       "      <td>0.737834</td>\n",
       "      <td>0.879</td>\n",
       "      <td>0.638739</td>\n",
       "      <td>...</td>\n",
       "      <td>0.491261</td>\n",
       "      <td>0.446842</td>\n",
       "      <td>0.411567</td>\n",
       "      <td>0.939131</td>\n",
       "      <td>0.522732</td>\n",
       "      <td>0.323928</td>\n",
       "      <td>0.736409</td>\n",
       "      <td>0.972614</td>\n",
       "      <td>0.780125</td>\n",
       "      <td>0.046435</td>\n",
       "    </tr>\n",
       "  </tbody>\n",
       "</table>\n",
       "<p>5 rows × 330 columns</p>\n",
       "</div>"
      ],
      "text/plain": [
       "        0         1         2         3         4         5         6    \\\n",
       "0       0.3  0.027592  0.836495  0.282217  0.754379  0.924039  0.375222   \n",
       "1  0.532309  0.681266  0.087581  0.618414  0.462905  0.922584  0.613746   \n",
       "2  0.092199  0.368295  0.326718  0.513233   0.73967   0.14626  0.965162   \n",
       "3  0.226521  0.487846  0.898627  0.549363  0.828832  0.930973  0.652332   \n",
       "4  0.352968   0.53594  0.013803  0.499524  0.389436  0.500265  0.470823   \n",
       "\n",
       "        7         8         9    ...       320       321       322       323  \\\n",
       "0  0.238594  0.959505  0.187373  ...  0.990315  0.249006  0.074236  0.105153   \n",
       "1  0.903146  0.864033  0.261374  ...   0.82639  0.526729  0.379731  0.386614   \n",
       "2  0.999562  0.064294   0.61779  ...  0.275216  0.603375  0.541669  0.723876   \n",
       "3  0.225565  0.384387  0.187872  ...  0.843626  0.553911  0.312837  0.039596   \n",
       "4  0.737834     0.879  0.638739  ...  0.491261  0.446842  0.411567  0.939131   \n",
       "\n",
       "        324       325       326       327       328       329  \n",
       "0  0.893686  0.858176  0.855865  0.795258   0.11832  0.442478  \n",
       "1  0.422694  0.943674  0.442723  0.585793  0.320552   0.37655  \n",
       "2  0.432522  0.214518  0.623459  0.020976  0.240601  0.435754  \n",
       "3  0.581201  0.255019  0.501572  0.668174   0.08987  0.264676  \n",
       "4  0.522732  0.323928  0.736409  0.972614  0.780125  0.046435  \n",
       "\n",
       "[5 rows x 330 columns]"
      ]
     },
     "execution_count": 74,
     "metadata": {},
     "output_type": "execute_result"
    }
   ],
   "source": [
    "newDf.T"
   ]
  },
  {
   "cell_type": "code",
   "execution_count": 75,
   "id": "4dc1d324",
   "metadata": {},
   "outputs": [
    {
     "data": {
      "text/html": [
       "<div>\n",
       "<style scoped>\n",
       "    .dataframe tbody tr th:only-of-type {\n",
       "        vertical-align: middle;\n",
       "    }\n",
       "\n",
       "    .dataframe tbody tr th {\n",
       "        vertical-align: top;\n",
       "    }\n",
       "\n",
       "    .dataframe thead th {\n",
       "        text-align: right;\n",
       "    }\n",
       "</style>\n",
       "<table border=\"1\" class=\"dataframe\">\n",
       "  <thead>\n",
       "    <tr style=\"text-align: right;\">\n",
       "      <th></th>\n",
       "      <th>0</th>\n",
       "      <th>1</th>\n",
       "      <th>2</th>\n",
       "      <th>3</th>\n",
       "      <th>4</th>\n",
       "    </tr>\n",
       "  </thead>\n",
       "  <tbody>\n",
       "    <tr>\n",
       "      <th>0</th>\n",
       "      <td>0.3</td>\n",
       "      <td>0.532309</td>\n",
       "      <td>0.092199</td>\n",
       "      <td>0.226521</td>\n",
       "      <td>0.352968</td>\n",
       "    </tr>\n",
       "    <tr>\n",
       "      <th>1</th>\n",
       "      <td>0.027592</td>\n",
       "      <td>0.681266</td>\n",
       "      <td>0.368295</td>\n",
       "      <td>0.487846</td>\n",
       "      <td>0.535940</td>\n",
       "    </tr>\n",
       "    <tr>\n",
       "      <th>2</th>\n",
       "      <td>0.836495</td>\n",
       "      <td>0.087581</td>\n",
       "      <td>0.326718</td>\n",
       "      <td>0.898627</td>\n",
       "      <td>0.013803</td>\n",
       "    </tr>\n",
       "    <tr>\n",
       "      <th>3</th>\n",
       "      <td>0.282217</td>\n",
       "      <td>0.618414</td>\n",
       "      <td>0.513233</td>\n",
       "      <td>0.549363</td>\n",
       "      <td>0.499524</td>\n",
       "    </tr>\n",
       "    <tr>\n",
       "      <th>4</th>\n",
       "      <td>0.754379</td>\n",
       "      <td>0.462905</td>\n",
       "      <td>0.739670</td>\n",
       "      <td>0.828832</td>\n",
       "      <td>0.389436</td>\n",
       "    </tr>\n",
       "    <tr>\n",
       "      <th>...</th>\n",
       "      <td>...</td>\n",
       "      <td>...</td>\n",
       "      <td>...</td>\n",
       "      <td>...</td>\n",
       "      <td>...</td>\n",
       "    </tr>\n",
       "    <tr>\n",
       "      <th>325</th>\n",
       "      <td>0.858176</td>\n",
       "      <td>0.943674</td>\n",
       "      <td>0.214518</td>\n",
       "      <td>0.255019</td>\n",
       "      <td>0.323928</td>\n",
       "    </tr>\n",
       "    <tr>\n",
       "      <th>326</th>\n",
       "      <td>0.855865</td>\n",
       "      <td>0.442723</td>\n",
       "      <td>0.623459</td>\n",
       "      <td>0.501572</td>\n",
       "      <td>0.736409</td>\n",
       "    </tr>\n",
       "    <tr>\n",
       "      <th>327</th>\n",
       "      <td>0.795258</td>\n",
       "      <td>0.585793</td>\n",
       "      <td>0.020976</td>\n",
       "      <td>0.668174</td>\n",
       "      <td>0.972614</td>\n",
       "    </tr>\n",
       "    <tr>\n",
       "      <th>328</th>\n",
       "      <td>0.11832</td>\n",
       "      <td>0.320552</td>\n",
       "      <td>0.240601</td>\n",
       "      <td>0.089870</td>\n",
       "      <td>0.780125</td>\n",
       "    </tr>\n",
       "    <tr>\n",
       "      <th>329</th>\n",
       "      <td>0.442478</td>\n",
       "      <td>0.376550</td>\n",
       "      <td>0.435754</td>\n",
       "      <td>0.264676</td>\n",
       "      <td>0.046435</td>\n",
       "    </tr>\n",
       "  </tbody>\n",
       "</table>\n",
       "<p>330 rows × 5 columns</p>\n",
       "</div>"
      ],
      "text/plain": [
       "            0         1         2         3         4\n",
       "0         0.3  0.532309  0.092199  0.226521  0.352968\n",
       "1    0.027592  0.681266  0.368295  0.487846  0.535940\n",
       "2    0.836495  0.087581  0.326718  0.898627  0.013803\n",
       "3    0.282217  0.618414  0.513233  0.549363  0.499524\n",
       "4    0.754379  0.462905  0.739670  0.828832  0.389436\n",
       "..        ...       ...       ...       ...       ...\n",
       "325  0.858176  0.943674  0.214518  0.255019  0.323928\n",
       "326  0.855865  0.442723  0.623459  0.501572  0.736409\n",
       "327  0.795258  0.585793  0.020976  0.668174  0.972614\n",
       "328   0.11832  0.320552  0.240601  0.089870  0.780125\n",
       "329  0.442478  0.376550  0.435754  0.264676  0.046435\n",
       "\n",
       "[330 rows x 5 columns]"
      ]
     },
     "execution_count": 75,
     "metadata": {},
     "output_type": "execute_result"
    }
   ],
   "source": [
    "newDf.sort_index(axis=0)"
   ]
  },
  {
   "cell_type": "code",
   "execution_count": 76,
   "id": "1c9c5df9",
   "metadata": {},
   "outputs": [
    {
     "data": {
      "text/html": [
       "<div>\n",
       "<style scoped>\n",
       "    .dataframe tbody tr th:only-of-type {\n",
       "        vertical-align: middle;\n",
       "    }\n",
       "\n",
       "    .dataframe tbody tr th {\n",
       "        vertical-align: top;\n",
       "    }\n",
       "\n",
       "    .dataframe thead th {\n",
       "        text-align: right;\n",
       "    }\n",
       "</style>\n",
       "<table border=\"1\" class=\"dataframe\">\n",
       "  <thead>\n",
       "    <tr style=\"text-align: right;\">\n",
       "      <th></th>\n",
       "      <th>0</th>\n",
       "      <th>1</th>\n",
       "      <th>2</th>\n",
       "      <th>3</th>\n",
       "      <th>4</th>\n",
       "    </tr>\n",
       "  </thead>\n",
       "  <tbody>\n",
       "    <tr>\n",
       "      <th>329</th>\n",
       "      <td>0.442478</td>\n",
       "      <td>0.376550</td>\n",
       "      <td>0.435754</td>\n",
       "      <td>0.264676</td>\n",
       "      <td>0.046435</td>\n",
       "    </tr>\n",
       "    <tr>\n",
       "      <th>328</th>\n",
       "      <td>0.11832</td>\n",
       "      <td>0.320552</td>\n",
       "      <td>0.240601</td>\n",
       "      <td>0.089870</td>\n",
       "      <td>0.780125</td>\n",
       "    </tr>\n",
       "    <tr>\n",
       "      <th>327</th>\n",
       "      <td>0.795258</td>\n",
       "      <td>0.585793</td>\n",
       "      <td>0.020976</td>\n",
       "      <td>0.668174</td>\n",
       "      <td>0.972614</td>\n",
       "    </tr>\n",
       "    <tr>\n",
       "      <th>326</th>\n",
       "      <td>0.855865</td>\n",
       "      <td>0.442723</td>\n",
       "      <td>0.623459</td>\n",
       "      <td>0.501572</td>\n",
       "      <td>0.736409</td>\n",
       "    </tr>\n",
       "    <tr>\n",
       "      <th>325</th>\n",
       "      <td>0.858176</td>\n",
       "      <td>0.943674</td>\n",
       "      <td>0.214518</td>\n",
       "      <td>0.255019</td>\n",
       "      <td>0.323928</td>\n",
       "    </tr>\n",
       "    <tr>\n",
       "      <th>...</th>\n",
       "      <td>...</td>\n",
       "      <td>...</td>\n",
       "      <td>...</td>\n",
       "      <td>...</td>\n",
       "      <td>...</td>\n",
       "    </tr>\n",
       "    <tr>\n",
       "      <th>4</th>\n",
       "      <td>0.754379</td>\n",
       "      <td>0.462905</td>\n",
       "      <td>0.739670</td>\n",
       "      <td>0.828832</td>\n",
       "      <td>0.389436</td>\n",
       "    </tr>\n",
       "    <tr>\n",
       "      <th>3</th>\n",
       "      <td>0.282217</td>\n",
       "      <td>0.618414</td>\n",
       "      <td>0.513233</td>\n",
       "      <td>0.549363</td>\n",
       "      <td>0.499524</td>\n",
       "    </tr>\n",
       "    <tr>\n",
       "      <th>2</th>\n",
       "      <td>0.836495</td>\n",
       "      <td>0.087581</td>\n",
       "      <td>0.326718</td>\n",
       "      <td>0.898627</td>\n",
       "      <td>0.013803</td>\n",
       "    </tr>\n",
       "    <tr>\n",
       "      <th>1</th>\n",
       "      <td>0.027592</td>\n",
       "      <td>0.681266</td>\n",
       "      <td>0.368295</td>\n",
       "      <td>0.487846</td>\n",
       "      <td>0.535940</td>\n",
       "    </tr>\n",
       "    <tr>\n",
       "      <th>0</th>\n",
       "      <td>0.3</td>\n",
       "      <td>0.532309</td>\n",
       "      <td>0.092199</td>\n",
       "      <td>0.226521</td>\n",
       "      <td>0.352968</td>\n",
       "    </tr>\n",
       "  </tbody>\n",
       "</table>\n",
       "<p>330 rows × 5 columns</p>\n",
       "</div>"
      ],
      "text/plain": [
       "            0         1         2         3         4\n",
       "329  0.442478  0.376550  0.435754  0.264676  0.046435\n",
       "328   0.11832  0.320552  0.240601  0.089870  0.780125\n",
       "327  0.795258  0.585793  0.020976  0.668174  0.972614\n",
       "326  0.855865  0.442723  0.623459  0.501572  0.736409\n",
       "325  0.858176  0.943674  0.214518  0.255019  0.323928\n",
       "..        ...       ...       ...       ...       ...\n",
       "4    0.754379  0.462905  0.739670  0.828832  0.389436\n",
       "3    0.282217  0.618414  0.513233  0.549363  0.499524\n",
       "2    0.836495  0.087581  0.326718  0.898627  0.013803\n",
       "1    0.027592  0.681266  0.368295  0.487846  0.535940\n",
       "0         0.3  0.532309  0.092199  0.226521  0.352968\n",
       "\n",
       "[330 rows x 5 columns]"
      ]
     },
     "execution_count": 76,
     "metadata": {},
     "output_type": "execute_result"
    }
   ],
   "source": [
    "newDf.sort_index(axis=0, ascending=False)"
   ]
  },
  {
   "cell_type": "code",
   "execution_count": 77,
   "id": "e0d9a5c5",
   "metadata": {},
   "outputs": [
    {
     "data": {
      "text/html": [
       "<div>\n",
       "<style scoped>\n",
       "    .dataframe tbody tr th:only-of-type {\n",
       "        vertical-align: middle;\n",
       "    }\n",
       "\n",
       "    .dataframe tbody tr th {\n",
       "        vertical-align: top;\n",
       "    }\n",
       "\n",
       "    .dataframe thead th {\n",
       "        text-align: right;\n",
       "    }\n",
       "</style>\n",
       "<table border=\"1\" class=\"dataframe\">\n",
       "  <thead>\n",
       "    <tr style=\"text-align: right;\">\n",
       "      <th></th>\n",
       "      <th>0</th>\n",
       "      <th>1</th>\n",
       "      <th>2</th>\n",
       "      <th>3</th>\n",
       "      <th>4</th>\n",
       "    </tr>\n",
       "  </thead>\n",
       "  <tbody>\n",
       "    <tr>\n",
       "      <th>0</th>\n",
       "      <td>0.3</td>\n",
       "      <td>0.532309</td>\n",
       "      <td>0.092199</td>\n",
       "      <td>0.226521</td>\n",
       "      <td>0.352968</td>\n",
       "    </tr>\n",
       "    <tr>\n",
       "      <th>1</th>\n",
       "      <td>0.027592</td>\n",
       "      <td>0.681266</td>\n",
       "      <td>0.368295</td>\n",
       "      <td>0.487846</td>\n",
       "      <td>0.535940</td>\n",
       "    </tr>\n",
       "    <tr>\n",
       "      <th>2</th>\n",
       "      <td>0.836495</td>\n",
       "      <td>0.087581</td>\n",
       "      <td>0.326718</td>\n",
       "      <td>0.898627</td>\n",
       "      <td>0.013803</td>\n",
       "    </tr>\n",
       "    <tr>\n",
       "      <th>3</th>\n",
       "      <td>0.282217</td>\n",
       "      <td>0.618414</td>\n",
       "      <td>0.513233</td>\n",
       "      <td>0.549363</td>\n",
       "      <td>0.499524</td>\n",
       "    </tr>\n",
       "    <tr>\n",
       "      <th>4</th>\n",
       "      <td>0.754379</td>\n",
       "      <td>0.462905</td>\n",
       "      <td>0.739670</td>\n",
       "      <td>0.828832</td>\n",
       "      <td>0.389436</td>\n",
       "    </tr>\n",
       "    <tr>\n",
       "      <th>...</th>\n",
       "      <td>...</td>\n",
       "      <td>...</td>\n",
       "      <td>...</td>\n",
       "      <td>...</td>\n",
       "      <td>...</td>\n",
       "    </tr>\n",
       "    <tr>\n",
       "      <th>325</th>\n",
       "      <td>0.858176</td>\n",
       "      <td>0.943674</td>\n",
       "      <td>0.214518</td>\n",
       "      <td>0.255019</td>\n",
       "      <td>0.323928</td>\n",
       "    </tr>\n",
       "    <tr>\n",
       "      <th>326</th>\n",
       "      <td>0.855865</td>\n",
       "      <td>0.442723</td>\n",
       "      <td>0.623459</td>\n",
       "      <td>0.501572</td>\n",
       "      <td>0.736409</td>\n",
       "    </tr>\n",
       "    <tr>\n",
       "      <th>327</th>\n",
       "      <td>0.795258</td>\n",
       "      <td>0.585793</td>\n",
       "      <td>0.020976</td>\n",
       "      <td>0.668174</td>\n",
       "      <td>0.972614</td>\n",
       "    </tr>\n",
       "    <tr>\n",
       "      <th>328</th>\n",
       "      <td>0.11832</td>\n",
       "      <td>0.320552</td>\n",
       "      <td>0.240601</td>\n",
       "      <td>0.089870</td>\n",
       "      <td>0.780125</td>\n",
       "    </tr>\n",
       "    <tr>\n",
       "      <th>329</th>\n",
       "      <td>0.442478</td>\n",
       "      <td>0.376550</td>\n",
       "      <td>0.435754</td>\n",
       "      <td>0.264676</td>\n",
       "      <td>0.046435</td>\n",
       "    </tr>\n",
       "  </tbody>\n",
       "</table>\n",
       "<p>330 rows × 5 columns</p>\n",
       "</div>"
      ],
      "text/plain": [
       "            0         1         2         3         4\n",
       "0         0.3  0.532309  0.092199  0.226521  0.352968\n",
       "1    0.027592  0.681266  0.368295  0.487846  0.535940\n",
       "2    0.836495  0.087581  0.326718  0.898627  0.013803\n",
       "3    0.282217  0.618414  0.513233  0.549363  0.499524\n",
       "4    0.754379  0.462905  0.739670  0.828832  0.389436\n",
       "..        ...       ...       ...       ...       ...\n",
       "325  0.858176  0.943674  0.214518  0.255019  0.323928\n",
       "326  0.855865  0.442723  0.623459  0.501572  0.736409\n",
       "327  0.795258  0.585793  0.020976  0.668174  0.972614\n",
       "328   0.11832  0.320552  0.240601  0.089870  0.780125\n",
       "329  0.442478  0.376550  0.435754  0.264676  0.046435\n",
       "\n",
       "[330 rows x 5 columns]"
      ]
     },
     "execution_count": 77,
     "metadata": {},
     "output_type": "execute_result"
    }
   ],
   "source": [
    "newDf.sort_index(axis=1)"
   ]
  },
  {
   "cell_type": "code",
   "execution_count": 78,
   "id": "2b302bb5",
   "metadata": {},
   "outputs": [
    {
     "data": {
      "text/html": [
       "<div>\n",
       "<style scoped>\n",
       "    .dataframe tbody tr th:only-of-type {\n",
       "        vertical-align: middle;\n",
       "    }\n",
       "\n",
       "    .dataframe tbody tr th {\n",
       "        vertical-align: top;\n",
       "    }\n",
       "\n",
       "    .dataframe thead th {\n",
       "        text-align: right;\n",
       "    }\n",
       "</style>\n",
       "<table border=\"1\" class=\"dataframe\">\n",
       "  <thead>\n",
       "    <tr style=\"text-align: right;\">\n",
       "      <th></th>\n",
       "      <th>4</th>\n",
       "      <th>3</th>\n",
       "      <th>2</th>\n",
       "      <th>1</th>\n",
       "      <th>0</th>\n",
       "    </tr>\n",
       "  </thead>\n",
       "  <tbody>\n",
       "    <tr>\n",
       "      <th>0</th>\n",
       "      <td>0.352968</td>\n",
       "      <td>0.226521</td>\n",
       "      <td>0.092199</td>\n",
       "      <td>0.532309</td>\n",
       "      <td>0.3</td>\n",
       "    </tr>\n",
       "    <tr>\n",
       "      <th>1</th>\n",
       "      <td>0.535940</td>\n",
       "      <td>0.487846</td>\n",
       "      <td>0.368295</td>\n",
       "      <td>0.681266</td>\n",
       "      <td>0.027592</td>\n",
       "    </tr>\n",
       "    <tr>\n",
       "      <th>2</th>\n",
       "      <td>0.013803</td>\n",
       "      <td>0.898627</td>\n",
       "      <td>0.326718</td>\n",
       "      <td>0.087581</td>\n",
       "      <td>0.836495</td>\n",
       "    </tr>\n",
       "    <tr>\n",
       "      <th>3</th>\n",
       "      <td>0.499524</td>\n",
       "      <td>0.549363</td>\n",
       "      <td>0.513233</td>\n",
       "      <td>0.618414</td>\n",
       "      <td>0.282217</td>\n",
       "    </tr>\n",
       "    <tr>\n",
       "      <th>4</th>\n",
       "      <td>0.389436</td>\n",
       "      <td>0.828832</td>\n",
       "      <td>0.739670</td>\n",
       "      <td>0.462905</td>\n",
       "      <td>0.754379</td>\n",
       "    </tr>\n",
       "    <tr>\n",
       "      <th>...</th>\n",
       "      <td>...</td>\n",
       "      <td>...</td>\n",
       "      <td>...</td>\n",
       "      <td>...</td>\n",
       "      <td>...</td>\n",
       "    </tr>\n",
       "    <tr>\n",
       "      <th>325</th>\n",
       "      <td>0.323928</td>\n",
       "      <td>0.255019</td>\n",
       "      <td>0.214518</td>\n",
       "      <td>0.943674</td>\n",
       "      <td>0.858176</td>\n",
       "    </tr>\n",
       "    <tr>\n",
       "      <th>326</th>\n",
       "      <td>0.736409</td>\n",
       "      <td>0.501572</td>\n",
       "      <td>0.623459</td>\n",
       "      <td>0.442723</td>\n",
       "      <td>0.855865</td>\n",
       "    </tr>\n",
       "    <tr>\n",
       "      <th>327</th>\n",
       "      <td>0.972614</td>\n",
       "      <td>0.668174</td>\n",
       "      <td>0.020976</td>\n",
       "      <td>0.585793</td>\n",
       "      <td>0.795258</td>\n",
       "    </tr>\n",
       "    <tr>\n",
       "      <th>328</th>\n",
       "      <td>0.780125</td>\n",
       "      <td>0.089870</td>\n",
       "      <td>0.240601</td>\n",
       "      <td>0.320552</td>\n",
       "      <td>0.11832</td>\n",
       "    </tr>\n",
       "    <tr>\n",
       "      <th>329</th>\n",
       "      <td>0.046435</td>\n",
       "      <td>0.264676</td>\n",
       "      <td>0.435754</td>\n",
       "      <td>0.376550</td>\n",
       "      <td>0.442478</td>\n",
       "    </tr>\n",
       "  </tbody>\n",
       "</table>\n",
       "<p>330 rows × 5 columns</p>\n",
       "</div>"
      ],
      "text/plain": [
       "            4         3         2         1         0\n",
       "0    0.352968  0.226521  0.092199  0.532309       0.3\n",
       "1    0.535940  0.487846  0.368295  0.681266  0.027592\n",
       "2    0.013803  0.898627  0.326718  0.087581  0.836495\n",
       "3    0.499524  0.549363  0.513233  0.618414  0.282217\n",
       "4    0.389436  0.828832  0.739670  0.462905  0.754379\n",
       "..        ...       ...       ...       ...       ...\n",
       "325  0.323928  0.255019  0.214518  0.943674  0.858176\n",
       "326  0.736409  0.501572  0.623459  0.442723  0.855865\n",
       "327  0.972614  0.668174  0.020976  0.585793  0.795258\n",
       "328  0.780125  0.089870  0.240601  0.320552   0.11832\n",
       "329  0.046435  0.264676  0.435754  0.376550  0.442478\n",
       "\n",
       "[330 rows x 5 columns]"
      ]
     },
     "execution_count": 78,
     "metadata": {},
     "output_type": "execute_result"
    }
   ],
   "source": [
    "newDf.sort_index(axis=1, ascending=False)"
   ]
  },
  {
   "cell_type": "code",
   "execution_count": 79,
   "id": "e12a990f",
   "metadata": {},
   "outputs": [
    {
     "data": {
      "text/html": [
       "<div>\n",
       "<style scoped>\n",
       "    .dataframe tbody tr th:only-of-type {\n",
       "        vertical-align: middle;\n",
       "    }\n",
       "\n",
       "    .dataframe tbody tr th {\n",
       "        vertical-align: top;\n",
       "    }\n",
       "\n",
       "    .dataframe thead th {\n",
       "        text-align: right;\n",
       "    }\n",
       "</style>\n",
       "<table border=\"1\" class=\"dataframe\">\n",
       "  <thead>\n",
       "    <tr style=\"text-align: right;\">\n",
       "      <th></th>\n",
       "      <th>0</th>\n",
       "      <th>1</th>\n",
       "      <th>2</th>\n",
       "      <th>3</th>\n",
       "      <th>4</th>\n",
       "    </tr>\n",
       "  </thead>\n",
       "  <tbody>\n",
       "    <tr>\n",
       "      <th>0</th>\n",
       "      <td>0.3</td>\n",
       "      <td>0.532309</td>\n",
       "      <td>0.092199</td>\n",
       "      <td>0.226521</td>\n",
       "      <td>0.352968</td>\n",
       "    </tr>\n",
       "    <tr>\n",
       "      <th>1</th>\n",
       "      <td>0.027592</td>\n",
       "      <td>0.681266</td>\n",
       "      <td>0.368295</td>\n",
       "      <td>0.487846</td>\n",
       "      <td>0.535940</td>\n",
       "    </tr>\n",
       "    <tr>\n",
       "      <th>2</th>\n",
       "      <td>0.836495</td>\n",
       "      <td>0.087581</td>\n",
       "      <td>0.326718</td>\n",
       "      <td>0.898627</td>\n",
       "      <td>0.013803</td>\n",
       "    </tr>\n",
       "    <tr>\n",
       "      <th>3</th>\n",
       "      <td>0.282217</td>\n",
       "      <td>0.618414</td>\n",
       "      <td>0.513233</td>\n",
       "      <td>0.549363</td>\n",
       "      <td>0.499524</td>\n",
       "    </tr>\n",
       "    <tr>\n",
       "      <th>4</th>\n",
       "      <td>0.754379</td>\n",
       "      <td>0.462905</td>\n",
       "      <td>0.739670</td>\n",
       "      <td>0.828832</td>\n",
       "      <td>0.389436</td>\n",
       "    </tr>\n",
       "  </tbody>\n",
       "</table>\n",
       "</div>"
      ],
      "text/plain": [
       "          0         1         2         3         4\n",
       "0       0.3  0.532309  0.092199  0.226521  0.352968\n",
       "1  0.027592  0.681266  0.368295  0.487846  0.535940\n",
       "2  0.836495  0.087581  0.326718  0.898627  0.013803\n",
       "3  0.282217  0.618414  0.513233  0.549363  0.499524\n",
       "4  0.754379  0.462905  0.739670  0.828832  0.389436"
      ]
     },
     "execution_count": 79,
     "metadata": {},
     "output_type": "execute_result"
    }
   ],
   "source": [
    "newDf.head()"
   ]
  },
  {
   "cell_type": "code",
   "execution_count": 80,
   "id": "95d17814",
   "metadata": {},
   "outputs": [
    {
     "data": {
      "text/plain": [
       "0.027592296293997176"
      ]
     },
     "execution_count": 80,
     "metadata": {},
     "output_type": "execute_result"
    }
   ],
   "source": [
    "newDf[0][1]"
   ]
  },
  {
   "cell_type": "code",
   "execution_count": 81,
   "id": "b212755c",
   "metadata": {},
   "outputs": [
    {
     "data": {
      "text/plain": [
       "pandas.core.series.Series"
      ]
     },
     "execution_count": 81,
     "metadata": {},
     "output_type": "execute_result"
    }
   ],
   "source": [
    "type(newDf[0])"
   ]
  },
  {
   "cell_type": "code",
   "execution_count": 82,
   "id": "d3b1fb50",
   "metadata": {},
   "outputs": [
    {
     "data": {
      "text/html": [
       "<div>\n",
       "<style scoped>\n",
       "    .dataframe tbody tr th:only-of-type {\n",
       "        vertical-align: middle;\n",
       "    }\n",
       "\n",
       "    .dataframe tbody tr th {\n",
       "        vertical-align: top;\n",
       "    }\n",
       "\n",
       "    .dataframe thead th {\n",
       "        text-align: right;\n",
       "    }\n",
       "</style>\n",
       "<table border=\"1\" class=\"dataframe\">\n",
       "  <thead>\n",
       "    <tr style=\"text-align: right;\">\n",
       "      <th></th>\n",
       "      <th>0</th>\n",
       "      <th>1</th>\n",
       "      <th>2</th>\n",
       "      <th>3</th>\n",
       "      <th>4</th>\n",
       "    </tr>\n",
       "  </thead>\n",
       "  <tbody>\n",
       "    <tr>\n",
       "      <th>0</th>\n",
       "      <td>0.3</td>\n",
       "      <td>0.532309</td>\n",
       "      <td>0.092199</td>\n",
       "      <td>0.226521</td>\n",
       "      <td>0.352968</td>\n",
       "    </tr>\n",
       "    <tr>\n",
       "      <th>1</th>\n",
       "      <td>0.027592</td>\n",
       "      <td>0.681266</td>\n",
       "      <td>0.368295</td>\n",
       "      <td>0.487846</td>\n",
       "      <td>0.535940</td>\n",
       "    </tr>\n",
       "    <tr>\n",
       "      <th>2</th>\n",
       "      <td>0.836495</td>\n",
       "      <td>0.087581</td>\n",
       "      <td>0.326718</td>\n",
       "      <td>0.898627</td>\n",
       "      <td>0.013803</td>\n",
       "    </tr>\n",
       "    <tr>\n",
       "      <th>3</th>\n",
       "      <td>0.282217</td>\n",
       "      <td>0.618414</td>\n",
       "      <td>0.513233</td>\n",
       "      <td>0.549363</td>\n",
       "      <td>0.499524</td>\n",
       "    </tr>\n",
       "    <tr>\n",
       "      <th>4</th>\n",
       "      <td>0.754379</td>\n",
       "      <td>0.462905</td>\n",
       "      <td>0.739670</td>\n",
       "      <td>0.828832</td>\n",
       "      <td>0.389436</td>\n",
       "    </tr>\n",
       "    <tr>\n",
       "      <th>...</th>\n",
       "      <td>...</td>\n",
       "      <td>...</td>\n",
       "      <td>...</td>\n",
       "      <td>...</td>\n",
       "      <td>...</td>\n",
       "    </tr>\n",
       "    <tr>\n",
       "      <th>325</th>\n",
       "      <td>0.858176</td>\n",
       "      <td>0.943674</td>\n",
       "      <td>0.214518</td>\n",
       "      <td>0.255019</td>\n",
       "      <td>0.323928</td>\n",
       "    </tr>\n",
       "    <tr>\n",
       "      <th>326</th>\n",
       "      <td>0.855865</td>\n",
       "      <td>0.442723</td>\n",
       "      <td>0.623459</td>\n",
       "      <td>0.501572</td>\n",
       "      <td>0.736409</td>\n",
       "    </tr>\n",
       "    <tr>\n",
       "      <th>327</th>\n",
       "      <td>0.795258</td>\n",
       "      <td>0.585793</td>\n",
       "      <td>0.020976</td>\n",
       "      <td>0.668174</td>\n",
       "      <td>0.972614</td>\n",
       "    </tr>\n",
       "    <tr>\n",
       "      <th>328</th>\n",
       "      <td>0.11832</td>\n",
       "      <td>0.320552</td>\n",
       "      <td>0.240601</td>\n",
       "      <td>0.089870</td>\n",
       "      <td>0.780125</td>\n",
       "    </tr>\n",
       "    <tr>\n",
       "      <th>329</th>\n",
       "      <td>0.442478</td>\n",
       "      <td>0.376550</td>\n",
       "      <td>0.435754</td>\n",
       "      <td>0.264676</td>\n",
       "      <td>0.046435</td>\n",
       "    </tr>\n",
       "  </tbody>\n",
       "</table>\n",
       "<p>330 rows × 5 columns</p>\n",
       "</div>"
      ],
      "text/plain": [
       "            0         1         2         3         4\n",
       "0         0.3  0.532309  0.092199  0.226521  0.352968\n",
       "1    0.027592  0.681266  0.368295  0.487846  0.535940\n",
       "2    0.836495  0.087581  0.326718  0.898627  0.013803\n",
       "3    0.282217  0.618414  0.513233  0.549363  0.499524\n",
       "4    0.754379  0.462905  0.739670  0.828832  0.389436\n",
       "..        ...       ...       ...       ...       ...\n",
       "325  0.858176  0.943674  0.214518  0.255019  0.323928\n",
       "326  0.855865  0.442723  0.623459  0.501572  0.736409\n",
       "327  0.795258  0.585793  0.020976  0.668174  0.972614\n",
       "328   0.11832  0.320552  0.240601  0.089870  0.780125\n",
       "329  0.442478  0.376550  0.435754  0.264676  0.046435\n",
       "\n",
       "[330 rows x 5 columns]"
      ]
     },
     "execution_count": 82,
     "metadata": {},
     "output_type": "execute_result"
    }
   ],
   "source": [
    "newDf"
   ]
  },
  {
   "cell_type": "markdown",
   "id": "d3f3dc62",
   "metadata": {},
   "source": [
    "## view"
   ]
  },
  {
   "cell_type": "code",
   "execution_count": 83,
   "id": "c8a11492",
   "metadata": {},
   "outputs": [],
   "source": [
    "newDfView=newDf"
   ]
  },
  {
   "cell_type": "code",
   "execution_count": 84,
   "id": "afc8f72f",
   "metadata": {},
   "outputs": [
    {
     "data": {
      "text/html": [
       "<div>\n",
       "<style scoped>\n",
       "    .dataframe tbody tr th:only-of-type {\n",
       "        vertical-align: middle;\n",
       "    }\n",
       "\n",
       "    .dataframe tbody tr th {\n",
       "        vertical-align: top;\n",
       "    }\n",
       "\n",
       "    .dataframe thead th {\n",
       "        text-align: right;\n",
       "    }\n",
       "</style>\n",
       "<table border=\"1\" class=\"dataframe\">\n",
       "  <thead>\n",
       "    <tr style=\"text-align: right;\">\n",
       "      <th></th>\n",
       "      <th>0</th>\n",
       "      <th>1</th>\n",
       "      <th>2</th>\n",
       "      <th>3</th>\n",
       "      <th>4</th>\n",
       "    </tr>\n",
       "  </thead>\n",
       "  <tbody>\n",
       "    <tr>\n",
       "      <th>0</th>\n",
       "      <td>0.3</td>\n",
       "      <td>0.532309</td>\n",
       "      <td>0.092199</td>\n",
       "      <td>0.226521</td>\n",
       "      <td>0.352968</td>\n",
       "    </tr>\n",
       "    <tr>\n",
       "      <th>1</th>\n",
       "      <td>0.027592</td>\n",
       "      <td>0.681266</td>\n",
       "      <td>0.368295</td>\n",
       "      <td>0.487846</td>\n",
       "      <td>0.535940</td>\n",
       "    </tr>\n",
       "    <tr>\n",
       "      <th>2</th>\n",
       "      <td>0.836495</td>\n",
       "      <td>0.087581</td>\n",
       "      <td>0.326718</td>\n",
       "      <td>0.898627</td>\n",
       "      <td>0.013803</td>\n",
       "    </tr>\n",
       "    <tr>\n",
       "      <th>3</th>\n",
       "      <td>0.282217</td>\n",
       "      <td>0.618414</td>\n",
       "      <td>0.513233</td>\n",
       "      <td>0.549363</td>\n",
       "      <td>0.499524</td>\n",
       "    </tr>\n",
       "    <tr>\n",
       "      <th>4</th>\n",
       "      <td>0.754379</td>\n",
       "      <td>0.462905</td>\n",
       "      <td>0.739670</td>\n",
       "      <td>0.828832</td>\n",
       "      <td>0.389436</td>\n",
       "    </tr>\n",
       "    <tr>\n",
       "      <th>...</th>\n",
       "      <td>...</td>\n",
       "      <td>...</td>\n",
       "      <td>...</td>\n",
       "      <td>...</td>\n",
       "      <td>...</td>\n",
       "    </tr>\n",
       "    <tr>\n",
       "      <th>325</th>\n",
       "      <td>0.858176</td>\n",
       "      <td>0.943674</td>\n",
       "      <td>0.214518</td>\n",
       "      <td>0.255019</td>\n",
       "      <td>0.323928</td>\n",
       "    </tr>\n",
       "    <tr>\n",
       "      <th>326</th>\n",
       "      <td>0.855865</td>\n",
       "      <td>0.442723</td>\n",
       "      <td>0.623459</td>\n",
       "      <td>0.501572</td>\n",
       "      <td>0.736409</td>\n",
       "    </tr>\n",
       "    <tr>\n",
       "      <th>327</th>\n",
       "      <td>0.795258</td>\n",
       "      <td>0.585793</td>\n",
       "      <td>0.020976</td>\n",
       "      <td>0.668174</td>\n",
       "      <td>0.972614</td>\n",
       "    </tr>\n",
       "    <tr>\n",
       "      <th>328</th>\n",
       "      <td>0.11832</td>\n",
       "      <td>0.320552</td>\n",
       "      <td>0.240601</td>\n",
       "      <td>0.089870</td>\n",
       "      <td>0.780125</td>\n",
       "    </tr>\n",
       "    <tr>\n",
       "      <th>329</th>\n",
       "      <td>0.442478</td>\n",
       "      <td>0.376550</td>\n",
       "      <td>0.435754</td>\n",
       "      <td>0.264676</td>\n",
       "      <td>0.046435</td>\n",
       "    </tr>\n",
       "  </tbody>\n",
       "</table>\n",
       "<p>330 rows × 5 columns</p>\n",
       "</div>"
      ],
      "text/plain": [
       "            0         1         2         3         4\n",
       "0         0.3  0.532309  0.092199  0.226521  0.352968\n",
       "1    0.027592  0.681266  0.368295  0.487846  0.535940\n",
       "2    0.836495  0.087581  0.326718  0.898627  0.013803\n",
       "3    0.282217  0.618414  0.513233  0.549363  0.499524\n",
       "4    0.754379  0.462905  0.739670  0.828832  0.389436\n",
       "..        ...       ...       ...       ...       ...\n",
       "325  0.858176  0.943674  0.214518  0.255019  0.323928\n",
       "326  0.855865  0.442723  0.623459  0.501572  0.736409\n",
       "327  0.795258  0.585793  0.020976  0.668174  0.972614\n",
       "328   0.11832  0.320552  0.240601  0.089870  0.780125\n",
       "329  0.442478  0.376550  0.435754  0.264676  0.046435\n",
       "\n",
       "[330 rows x 5 columns]"
      ]
     },
     "execution_count": 84,
     "metadata": {},
     "output_type": "execute_result"
    }
   ],
   "source": [
    "newDfView"
   ]
  },
  {
   "cell_type": "code",
   "execution_count": 85,
   "id": "32a705a6",
   "metadata": {},
   "outputs": [
    {
     "name": "stderr",
     "output_type": "stream",
     "text": [
      "C:\\anaconda\\envs\\jawadhadi\\lib\\site-packages\\ipykernel_launcher.py:1: SettingWithCopyWarning: \n",
      "A value is trying to be set on a copy of a slice from a DataFrame\n",
      "\n",
      "See the caveats in the documentation: https://pandas.pydata.org/pandas-docs/stable/user_guide/indexing.html#returning-a-view-versus-a-copy\n",
      "  \"\"\"Entry point for launching an IPython kernel.\n"
     ]
    }
   ],
   "source": [
    "newDfView[0][0]=765"
   ]
  },
  {
   "cell_type": "code",
   "execution_count": 86,
   "id": "984f3e06",
   "metadata": {},
   "outputs": [
    {
     "data": {
      "text/html": [
       "<div>\n",
       "<style scoped>\n",
       "    .dataframe tbody tr th:only-of-type {\n",
       "        vertical-align: middle;\n",
       "    }\n",
       "\n",
       "    .dataframe tbody tr th {\n",
       "        vertical-align: top;\n",
       "    }\n",
       "\n",
       "    .dataframe thead th {\n",
       "        text-align: right;\n",
       "    }\n",
       "</style>\n",
       "<table border=\"1\" class=\"dataframe\">\n",
       "  <thead>\n",
       "    <tr style=\"text-align: right;\">\n",
       "      <th></th>\n",
       "      <th>0</th>\n",
       "      <th>1</th>\n",
       "      <th>2</th>\n",
       "      <th>3</th>\n",
       "      <th>4</th>\n",
       "    </tr>\n",
       "  </thead>\n",
       "  <tbody>\n",
       "    <tr>\n",
       "      <th>0</th>\n",
       "      <td>765</td>\n",
       "      <td>0.532309</td>\n",
       "      <td>0.092199</td>\n",
       "      <td>0.226521</td>\n",
       "      <td>0.352968</td>\n",
       "    </tr>\n",
       "    <tr>\n",
       "      <th>1</th>\n",
       "      <td>0.027592</td>\n",
       "      <td>0.681266</td>\n",
       "      <td>0.368295</td>\n",
       "      <td>0.487846</td>\n",
       "      <td>0.535940</td>\n",
       "    </tr>\n",
       "    <tr>\n",
       "      <th>2</th>\n",
       "      <td>0.836495</td>\n",
       "      <td>0.087581</td>\n",
       "      <td>0.326718</td>\n",
       "      <td>0.898627</td>\n",
       "      <td>0.013803</td>\n",
       "    </tr>\n",
       "    <tr>\n",
       "      <th>3</th>\n",
       "      <td>0.282217</td>\n",
       "      <td>0.618414</td>\n",
       "      <td>0.513233</td>\n",
       "      <td>0.549363</td>\n",
       "      <td>0.499524</td>\n",
       "    </tr>\n",
       "    <tr>\n",
       "      <th>4</th>\n",
       "      <td>0.754379</td>\n",
       "      <td>0.462905</td>\n",
       "      <td>0.739670</td>\n",
       "      <td>0.828832</td>\n",
       "      <td>0.389436</td>\n",
       "    </tr>\n",
       "  </tbody>\n",
       "</table>\n",
       "</div>"
      ],
      "text/plain": [
       "          0         1         2         3         4\n",
       "0       765  0.532309  0.092199  0.226521  0.352968\n",
       "1  0.027592  0.681266  0.368295  0.487846  0.535940\n",
       "2  0.836495  0.087581  0.326718  0.898627  0.013803\n",
       "3  0.282217  0.618414  0.513233  0.549363  0.499524\n",
       "4  0.754379  0.462905  0.739670  0.828832  0.389436"
      ]
     },
     "execution_count": 86,
     "metadata": {},
     "output_type": "execute_result"
    }
   ],
   "source": [
    "newDf.head()"
   ]
  },
  {
   "cell_type": "code",
   "execution_count": 87,
   "id": "ed958ba1",
   "metadata": {},
   "outputs": [
    {
     "data": {
      "text/html": [
       "<div>\n",
       "<style scoped>\n",
       "    .dataframe tbody tr th:only-of-type {\n",
       "        vertical-align: middle;\n",
       "    }\n",
       "\n",
       "    .dataframe tbody tr th {\n",
       "        vertical-align: top;\n",
       "    }\n",
       "\n",
       "    .dataframe thead th {\n",
       "        text-align: right;\n",
       "    }\n",
       "</style>\n",
       "<table border=\"1\" class=\"dataframe\">\n",
       "  <thead>\n",
       "    <tr style=\"text-align: right;\">\n",
       "      <th></th>\n",
       "      <th>0</th>\n",
       "      <th>1</th>\n",
       "      <th>2</th>\n",
       "      <th>3</th>\n",
       "      <th>4</th>\n",
       "    </tr>\n",
       "  </thead>\n",
       "  <tbody>\n",
       "    <tr>\n",
       "      <th>0</th>\n",
       "      <td>765</td>\n",
       "      <td>0.532309</td>\n",
       "      <td>0.092199</td>\n",
       "      <td>0.226521</td>\n",
       "      <td>0.352968</td>\n",
       "    </tr>\n",
       "    <tr>\n",
       "      <th>1</th>\n",
       "      <td>0.027592</td>\n",
       "      <td>0.681266</td>\n",
       "      <td>0.368295</td>\n",
       "      <td>0.487846</td>\n",
       "      <td>0.535940</td>\n",
       "    </tr>\n",
       "    <tr>\n",
       "      <th>2</th>\n",
       "      <td>0.836495</td>\n",
       "      <td>0.087581</td>\n",
       "      <td>0.326718</td>\n",
       "      <td>0.898627</td>\n",
       "      <td>0.013803</td>\n",
       "    </tr>\n",
       "    <tr>\n",
       "      <th>3</th>\n",
       "      <td>0.282217</td>\n",
       "      <td>0.618414</td>\n",
       "      <td>0.513233</td>\n",
       "      <td>0.549363</td>\n",
       "      <td>0.499524</td>\n",
       "    </tr>\n",
       "    <tr>\n",
       "      <th>4</th>\n",
       "      <td>0.754379</td>\n",
       "      <td>0.462905</td>\n",
       "      <td>0.739670</td>\n",
       "      <td>0.828832</td>\n",
       "      <td>0.389436</td>\n",
       "    </tr>\n",
       "  </tbody>\n",
       "</table>\n",
       "</div>"
      ],
      "text/plain": [
       "          0         1         2         3         4\n",
       "0       765  0.532309  0.092199  0.226521  0.352968\n",
       "1  0.027592  0.681266  0.368295  0.487846  0.535940\n",
       "2  0.836495  0.087581  0.326718  0.898627  0.013803\n",
       "3  0.282217  0.618414  0.513233  0.549363  0.499524\n",
       "4  0.754379  0.462905  0.739670  0.828832  0.389436"
      ]
     },
     "execution_count": 87,
     "metadata": {},
     "output_type": "execute_result"
    }
   ],
   "source": [
    "newDfView.head()"
   ]
  },
  {
   "cell_type": "code",
   "execution_count": 88,
   "id": "8a4db7d6",
   "metadata": {},
   "outputs": [],
   "source": [
    "newDfCopy=newDf.copy()"
   ]
  },
  {
   "cell_type": "code",
   "execution_count": 89,
   "id": "3d02023a",
   "metadata": {},
   "outputs": [
    {
     "name": "stderr",
     "output_type": "stream",
     "text": [
      "C:\\anaconda\\envs\\jawadhadi\\lib\\site-packages\\ipykernel_launcher.py:1: SettingWithCopyWarning: \n",
      "A value is trying to be set on a copy of a slice from a DataFrame\n",
      "\n",
      "See the caveats in the documentation: https://pandas.pydata.org/pandas-docs/stable/user_guide/indexing.html#returning-a-view-versus-a-copy\n",
      "  \"\"\"Entry point for launching an IPython kernel.\n"
     ]
    }
   ],
   "source": [
    "newDfCopy[0][0]=656"
   ]
  },
  {
   "cell_type": "code",
   "execution_count": 90,
   "id": "9f7309c6",
   "metadata": {},
   "outputs": [
    {
     "data": {
      "text/html": [
       "<div>\n",
       "<style scoped>\n",
       "    .dataframe tbody tr th:only-of-type {\n",
       "        vertical-align: middle;\n",
       "    }\n",
       "\n",
       "    .dataframe tbody tr th {\n",
       "        vertical-align: top;\n",
       "    }\n",
       "\n",
       "    .dataframe thead th {\n",
       "        text-align: right;\n",
       "    }\n",
       "</style>\n",
       "<table border=\"1\" class=\"dataframe\">\n",
       "  <thead>\n",
       "    <tr style=\"text-align: right;\">\n",
       "      <th></th>\n",
       "      <th>0</th>\n",
       "      <th>1</th>\n",
       "      <th>2</th>\n",
       "      <th>3</th>\n",
       "      <th>4</th>\n",
       "    </tr>\n",
       "  </thead>\n",
       "  <tbody>\n",
       "    <tr>\n",
       "      <th>0</th>\n",
       "      <td>765</td>\n",
       "      <td>0.532309</td>\n",
       "      <td>0.092199</td>\n",
       "      <td>0.226521</td>\n",
       "      <td>0.352968</td>\n",
       "    </tr>\n",
       "    <tr>\n",
       "      <th>1</th>\n",
       "      <td>0.027592</td>\n",
       "      <td>0.681266</td>\n",
       "      <td>0.368295</td>\n",
       "      <td>0.487846</td>\n",
       "      <td>0.535940</td>\n",
       "    </tr>\n",
       "    <tr>\n",
       "      <th>2</th>\n",
       "      <td>0.836495</td>\n",
       "      <td>0.087581</td>\n",
       "      <td>0.326718</td>\n",
       "      <td>0.898627</td>\n",
       "      <td>0.013803</td>\n",
       "    </tr>\n",
       "    <tr>\n",
       "      <th>3</th>\n",
       "      <td>0.282217</td>\n",
       "      <td>0.618414</td>\n",
       "      <td>0.513233</td>\n",
       "      <td>0.549363</td>\n",
       "      <td>0.499524</td>\n",
       "    </tr>\n",
       "    <tr>\n",
       "      <th>4</th>\n",
       "      <td>0.754379</td>\n",
       "      <td>0.462905</td>\n",
       "      <td>0.739670</td>\n",
       "      <td>0.828832</td>\n",
       "      <td>0.389436</td>\n",
       "    </tr>\n",
       "  </tbody>\n",
       "</table>\n",
       "</div>"
      ],
      "text/plain": [
       "          0         1         2         3         4\n",
       "0       765  0.532309  0.092199  0.226521  0.352968\n",
       "1  0.027592  0.681266  0.368295  0.487846  0.535940\n",
       "2  0.836495  0.087581  0.326718  0.898627  0.013803\n",
       "3  0.282217  0.618414  0.513233  0.549363  0.499524\n",
       "4  0.754379  0.462905  0.739670  0.828832  0.389436"
      ]
     },
     "execution_count": 90,
     "metadata": {},
     "output_type": "execute_result"
    }
   ],
   "source": [
    "newDf.head()"
   ]
  },
  {
   "cell_type": "code",
   "execution_count": 91,
   "id": "847240a3",
   "metadata": {},
   "outputs": [
    {
     "data": {
      "text/html": [
       "<div>\n",
       "<style scoped>\n",
       "    .dataframe tbody tr th:only-of-type {\n",
       "        vertical-align: middle;\n",
       "    }\n",
       "\n",
       "    .dataframe tbody tr th {\n",
       "        vertical-align: top;\n",
       "    }\n",
       "\n",
       "    .dataframe thead th {\n",
       "        text-align: right;\n",
       "    }\n",
       "</style>\n",
       "<table border=\"1\" class=\"dataframe\">\n",
       "  <thead>\n",
       "    <tr style=\"text-align: right;\">\n",
       "      <th></th>\n",
       "      <th>0</th>\n",
       "      <th>1</th>\n",
       "      <th>2</th>\n",
       "      <th>3</th>\n",
       "      <th>4</th>\n",
       "    </tr>\n",
       "  </thead>\n",
       "  <tbody>\n",
       "    <tr>\n",
       "      <th>0</th>\n",
       "      <td>656</td>\n",
       "      <td>0.532309</td>\n",
       "      <td>0.092199</td>\n",
       "      <td>0.226521</td>\n",
       "      <td>0.352968</td>\n",
       "    </tr>\n",
       "    <tr>\n",
       "      <th>1</th>\n",
       "      <td>0.027592</td>\n",
       "      <td>0.681266</td>\n",
       "      <td>0.368295</td>\n",
       "      <td>0.487846</td>\n",
       "      <td>0.535940</td>\n",
       "    </tr>\n",
       "    <tr>\n",
       "      <th>2</th>\n",
       "      <td>0.836495</td>\n",
       "      <td>0.087581</td>\n",
       "      <td>0.326718</td>\n",
       "      <td>0.898627</td>\n",
       "      <td>0.013803</td>\n",
       "    </tr>\n",
       "    <tr>\n",
       "      <th>3</th>\n",
       "      <td>0.282217</td>\n",
       "      <td>0.618414</td>\n",
       "      <td>0.513233</td>\n",
       "      <td>0.549363</td>\n",
       "      <td>0.499524</td>\n",
       "    </tr>\n",
       "    <tr>\n",
       "      <th>4</th>\n",
       "      <td>0.754379</td>\n",
       "      <td>0.462905</td>\n",
       "      <td>0.739670</td>\n",
       "      <td>0.828832</td>\n",
       "      <td>0.389436</td>\n",
       "    </tr>\n",
       "  </tbody>\n",
       "</table>\n",
       "</div>"
      ],
      "text/plain": [
       "          0         1         2         3         4\n",
       "0       656  0.532309  0.092199  0.226521  0.352968\n",
       "1  0.027592  0.681266  0.368295  0.487846  0.535940\n",
       "2  0.836495  0.087581  0.326718  0.898627  0.013803\n",
       "3  0.282217  0.618414  0.513233  0.549363  0.499524\n",
       "4  0.754379  0.462905  0.739670  0.828832  0.389436"
      ]
     },
     "execution_count": 91,
     "metadata": {},
     "output_type": "execute_result"
    }
   ],
   "source": [
    "newDfCopy.head()"
   ]
  },
  {
   "cell_type": "markdown",
   "id": "c4b27c61",
   "metadata": {},
   "source": [
    "## loc"
   ]
  },
  {
   "cell_type": "code",
   "execution_count": 92,
   "id": "d8e70dfb",
   "metadata": {},
   "outputs": [
    {
     "data": {
      "text/html": [
       "<div>\n",
       "<style scoped>\n",
       "    .dataframe tbody tr th:only-of-type {\n",
       "        vertical-align: middle;\n",
       "    }\n",
       "\n",
       "    .dataframe tbody tr th {\n",
       "        vertical-align: top;\n",
       "    }\n",
       "\n",
       "    .dataframe thead th {\n",
       "        text-align: right;\n",
       "    }\n",
       "</style>\n",
       "<table border=\"1\" class=\"dataframe\">\n",
       "  <thead>\n",
       "    <tr style=\"text-align: right;\">\n",
       "      <th></th>\n",
       "      <th>0</th>\n",
       "      <th>1</th>\n",
       "      <th>2</th>\n",
       "      <th>3</th>\n",
       "      <th>4</th>\n",
       "    </tr>\n",
       "  </thead>\n",
       "  <tbody>\n",
       "    <tr>\n",
       "      <th>0</th>\n",
       "      <td>765</td>\n",
       "      <td>0.532309</td>\n",
       "      <td>0.092199</td>\n",
       "      <td>0.226521</td>\n",
       "      <td>0.352968</td>\n",
       "    </tr>\n",
       "    <tr>\n",
       "      <th>1</th>\n",
       "      <td>0.027592</td>\n",
       "      <td>0.681266</td>\n",
       "      <td>0.368295</td>\n",
       "      <td>0.487846</td>\n",
       "      <td>0.535940</td>\n",
       "    </tr>\n",
       "  </tbody>\n",
       "</table>\n",
       "</div>"
      ],
      "text/plain": [
       "          0         1         2         3         4\n",
       "0       765  0.532309  0.092199  0.226521  0.352968\n",
       "1  0.027592  0.681266  0.368295  0.487846  0.535940"
      ]
     },
     "execution_count": 92,
     "metadata": {},
     "output_type": "execute_result"
    }
   ],
   "source": [
    "newDf.head(2)"
   ]
  },
  {
   "cell_type": "code",
   "execution_count": 93,
   "id": "d68dbaa6",
   "metadata": {},
   "outputs": [
    {
     "data": {
      "text/plain": [
       "765"
      ]
     },
     "execution_count": 93,
     "metadata": {},
     "output_type": "execute_result"
    }
   ],
   "source": [
    "newDf.loc[0,0]"
   ]
  },
  {
   "cell_type": "code",
   "execution_count": 94,
   "id": "ffdddeae",
   "metadata": {},
   "outputs": [],
   "source": [
    "newDf.loc[0,0]=5678"
   ]
  },
  {
   "cell_type": "code",
   "execution_count": 95,
   "id": "79abae20",
   "metadata": {},
   "outputs": [
    {
     "data": {
      "text/html": [
       "<div>\n",
       "<style scoped>\n",
       "    .dataframe tbody tr th:only-of-type {\n",
       "        vertical-align: middle;\n",
       "    }\n",
       "\n",
       "    .dataframe tbody tr th {\n",
       "        vertical-align: top;\n",
       "    }\n",
       "\n",
       "    .dataframe thead th {\n",
       "        text-align: right;\n",
       "    }\n",
       "</style>\n",
       "<table border=\"1\" class=\"dataframe\">\n",
       "  <thead>\n",
       "    <tr style=\"text-align: right;\">\n",
       "      <th></th>\n",
       "      <th>0</th>\n",
       "      <th>1</th>\n",
       "      <th>2</th>\n",
       "      <th>3</th>\n",
       "      <th>4</th>\n",
       "    </tr>\n",
       "  </thead>\n",
       "  <tbody>\n",
       "    <tr>\n",
       "      <th>0</th>\n",
       "      <td>5678</td>\n",
       "      <td>0.532309</td>\n",
       "      <td>0.092199</td>\n",
       "      <td>0.226521</td>\n",
       "      <td>0.352968</td>\n",
       "    </tr>\n",
       "    <tr>\n",
       "      <th>1</th>\n",
       "      <td>0.027592</td>\n",
       "      <td>0.681266</td>\n",
       "      <td>0.368295</td>\n",
       "      <td>0.487846</td>\n",
       "      <td>0.535940</td>\n",
       "    </tr>\n",
       "  </tbody>\n",
       "</table>\n",
       "</div>"
      ],
      "text/plain": [
       "          0         1         2         3         4\n",
       "0      5678  0.532309  0.092199  0.226521  0.352968\n",
       "1  0.027592  0.681266  0.368295  0.487846  0.535940"
      ]
     },
     "execution_count": 95,
     "metadata": {},
     "output_type": "execute_result"
    }
   ],
   "source": [
    "newDf.head(2)"
   ]
  },
  {
   "cell_type": "code",
   "execution_count": 96,
   "id": "365d11dd",
   "metadata": {},
   "outputs": [
    {
     "data": {
      "text/plain": [
       "0.35296834809163946"
      ]
     },
     "execution_count": 96,
     "metadata": {},
     "output_type": "execute_result"
    }
   ],
   "source": [
    "newDf.loc[0,4]"
   ]
  },
  {
   "cell_type": "code",
   "execution_count": 97,
   "id": "691e63fb",
   "metadata": {},
   "outputs": [
    {
     "data": {
      "text/plain": [
       "0.9436744472873059"
      ]
     },
     "execution_count": 97,
     "metadata": {},
     "output_type": "execute_result"
    }
   ],
   "source": [
    "newDf.loc[325,1]"
   ]
  },
  {
   "cell_type": "code",
   "execution_count": 98,
   "id": "59d5b12e",
   "metadata": {},
   "outputs": [],
   "source": [
    "newDf.loc[0,0]=9875"
   ]
  },
  {
   "cell_type": "code",
   "execution_count": 99,
   "id": "38793742",
   "metadata": {},
   "outputs": [
    {
     "data": {
      "text/html": [
       "<div>\n",
       "<style scoped>\n",
       "    .dataframe tbody tr th:only-of-type {\n",
       "        vertical-align: middle;\n",
       "    }\n",
       "\n",
       "    .dataframe tbody tr th {\n",
       "        vertical-align: top;\n",
       "    }\n",
       "\n",
       "    .dataframe thead th {\n",
       "        text-align: right;\n",
       "    }\n",
       "</style>\n",
       "<table border=\"1\" class=\"dataframe\">\n",
       "  <thead>\n",
       "    <tr style=\"text-align: right;\">\n",
       "      <th></th>\n",
       "      <th>0</th>\n",
       "      <th>1</th>\n",
       "      <th>2</th>\n",
       "      <th>3</th>\n",
       "      <th>4</th>\n",
       "    </tr>\n",
       "  </thead>\n",
       "  <tbody>\n",
       "    <tr>\n",
       "      <th>0</th>\n",
       "      <td>9875</td>\n",
       "      <td>0.532309</td>\n",
       "      <td>0.092199</td>\n",
       "      <td>0.226521</td>\n",
       "      <td>0.352968</td>\n",
       "    </tr>\n",
       "    <tr>\n",
       "      <th>1</th>\n",
       "      <td>0.027592</td>\n",
       "      <td>0.681266</td>\n",
       "      <td>0.368295</td>\n",
       "      <td>0.487846</td>\n",
       "      <td>0.535940</td>\n",
       "    </tr>\n",
       "  </tbody>\n",
       "</table>\n",
       "</div>"
      ],
      "text/plain": [
       "          0         1         2         3         4\n",
       "0      9875  0.532309  0.092199  0.226521  0.352968\n",
       "1  0.027592  0.681266  0.368295  0.487846  0.535940"
      ]
     },
     "execution_count": 99,
     "metadata": {},
     "output_type": "execute_result"
    }
   ],
   "source": [
    "newDf.head(2)"
   ]
  },
  {
   "cell_type": "code",
   "execution_count": 100,
   "id": "af9d496c",
   "metadata": {},
   "outputs": [],
   "source": [
    "newDf.columns=list(\"ABCDE\")"
   ]
  },
  {
   "cell_type": "code",
   "execution_count": 101,
   "id": "3108ef47",
   "metadata": {},
   "outputs": [
    {
     "data": {
      "text/html": [
       "<div>\n",
       "<style scoped>\n",
       "    .dataframe tbody tr th:only-of-type {\n",
       "        vertical-align: middle;\n",
       "    }\n",
       "\n",
       "    .dataframe tbody tr th {\n",
       "        vertical-align: top;\n",
       "    }\n",
       "\n",
       "    .dataframe thead th {\n",
       "        text-align: right;\n",
       "    }\n",
       "</style>\n",
       "<table border=\"1\" class=\"dataframe\">\n",
       "  <thead>\n",
       "    <tr style=\"text-align: right;\">\n",
       "      <th></th>\n",
       "      <th>A</th>\n",
       "      <th>B</th>\n",
       "      <th>C</th>\n",
       "      <th>D</th>\n",
       "      <th>E</th>\n",
       "    </tr>\n",
       "  </thead>\n",
       "  <tbody>\n",
       "    <tr>\n",
       "      <th>0</th>\n",
       "      <td>9875</td>\n",
       "      <td>0.532309</td>\n",
       "      <td>0.092199</td>\n",
       "      <td>0.226521</td>\n",
       "      <td>0.352968</td>\n",
       "    </tr>\n",
       "    <tr>\n",
       "      <th>1</th>\n",
       "      <td>0.027592</td>\n",
       "      <td>0.681266</td>\n",
       "      <td>0.368295</td>\n",
       "      <td>0.487846</td>\n",
       "      <td>0.535940</td>\n",
       "    </tr>\n",
       "    <tr>\n",
       "      <th>2</th>\n",
       "      <td>0.836495</td>\n",
       "      <td>0.087581</td>\n",
       "      <td>0.326718</td>\n",
       "      <td>0.898627</td>\n",
       "      <td>0.013803</td>\n",
       "    </tr>\n",
       "  </tbody>\n",
       "</table>\n",
       "</div>"
      ],
      "text/plain": [
       "          A         B         C         D         E\n",
       "0      9875  0.532309  0.092199  0.226521  0.352968\n",
       "1  0.027592  0.681266  0.368295  0.487846  0.535940\n",
       "2  0.836495  0.087581  0.326718  0.898627  0.013803"
      ]
     },
     "execution_count": 101,
     "metadata": {},
     "output_type": "execute_result"
    }
   ],
   "source": [
    "newDf.head(3)"
   ]
  },
  {
   "cell_type": "code",
   "execution_count": 102,
   "id": "e88d3c68",
   "metadata": {},
   "outputs": [
    {
     "data": {
      "text/plain": [
       "9875"
      ]
     },
     "execution_count": 102,
     "metadata": {},
     "output_type": "execute_result"
    }
   ],
   "source": [
    "newDf.loc[0, \"A\"]"
   ]
  },
  {
   "cell_type": "code",
   "execution_count": 103,
   "id": "b81116b9",
   "metadata": {},
   "outputs": [],
   "source": [
    "newDf.loc[0,\"A\"]=65"
   ]
  },
  {
   "cell_type": "code",
   "execution_count": 104,
   "id": "55f459c8",
   "metadata": {},
   "outputs": [
    {
     "data": {
      "text/html": [
       "<div>\n",
       "<style scoped>\n",
       "    .dataframe tbody tr th:only-of-type {\n",
       "        vertical-align: middle;\n",
       "    }\n",
       "\n",
       "    .dataframe tbody tr th {\n",
       "        vertical-align: top;\n",
       "    }\n",
       "\n",
       "    .dataframe thead th {\n",
       "        text-align: right;\n",
       "    }\n",
       "</style>\n",
       "<table border=\"1\" class=\"dataframe\">\n",
       "  <thead>\n",
       "    <tr style=\"text-align: right;\">\n",
       "      <th></th>\n",
       "      <th>A</th>\n",
       "      <th>B</th>\n",
       "      <th>C</th>\n",
       "      <th>D</th>\n",
       "      <th>E</th>\n",
       "    </tr>\n",
       "  </thead>\n",
       "  <tbody>\n",
       "    <tr>\n",
       "      <th>0</th>\n",
       "      <td>65</td>\n",
       "      <td>0.532309</td>\n",
       "      <td>0.092199</td>\n",
       "      <td>0.226521</td>\n",
       "      <td>0.352968</td>\n",
       "    </tr>\n",
       "    <tr>\n",
       "      <th>1</th>\n",
       "      <td>0.027592</td>\n",
       "      <td>0.681266</td>\n",
       "      <td>0.368295</td>\n",
       "      <td>0.487846</td>\n",
       "      <td>0.535940</td>\n",
       "    </tr>\n",
       "    <tr>\n",
       "      <th>2</th>\n",
       "      <td>0.836495</td>\n",
       "      <td>0.087581</td>\n",
       "      <td>0.326718</td>\n",
       "      <td>0.898627</td>\n",
       "      <td>0.013803</td>\n",
       "    </tr>\n",
       "  </tbody>\n",
       "</table>\n",
       "</div>"
      ],
      "text/plain": [
       "          A         B         C         D         E\n",
       "0        65  0.532309  0.092199  0.226521  0.352968\n",
       "1  0.027592  0.681266  0.368295  0.487846  0.535940\n",
       "2  0.836495  0.087581  0.326718  0.898627  0.013803"
      ]
     },
     "execution_count": 104,
     "metadata": {},
     "output_type": "execute_result"
    }
   ],
   "source": [
    "newDf.head(3)"
   ]
  },
  {
   "cell_type": "code",
   "execution_count": 105,
   "id": "ab8cb077",
   "metadata": {},
   "outputs": [
    {
     "data": {
      "text/plain": [
       "0.8671306312266043"
      ]
     },
     "execution_count": 105,
     "metadata": {},
     "output_type": "execute_result"
    }
   ],
   "source": [
    "newDf.loc[35,\"A\"]"
   ]
  },
  {
   "cell_type": "code",
   "execution_count": 106,
   "id": "2f5d394a",
   "metadata": {},
   "outputs": [
    {
     "data": {
      "text/html": [
       "<div>\n",
       "<style scoped>\n",
       "    .dataframe tbody tr th:only-of-type {\n",
       "        vertical-align: middle;\n",
       "    }\n",
       "\n",
       "    .dataframe tbody tr th {\n",
       "        vertical-align: top;\n",
       "    }\n",
       "\n",
       "    .dataframe thead th {\n",
       "        text-align: right;\n",
       "    }\n",
       "</style>\n",
       "<table border=\"1\" class=\"dataframe\">\n",
       "  <thead>\n",
       "    <tr style=\"text-align: right;\">\n",
       "      <th></th>\n",
       "      <th>A</th>\n",
       "      <th>B</th>\n",
       "      <th>C</th>\n",
       "      <th>D</th>\n",
       "      <th>E</th>\n",
       "    </tr>\n",
       "  </thead>\n",
       "  <tbody>\n",
       "    <tr>\n",
       "      <th>1</th>\n",
       "      <td>0.027592</td>\n",
       "      <td>0.681266</td>\n",
       "      <td>0.368295</td>\n",
       "      <td>0.487846</td>\n",
       "      <td>0.535940</td>\n",
       "    </tr>\n",
       "    <tr>\n",
       "      <th>2</th>\n",
       "      <td>0.836495</td>\n",
       "      <td>0.087581</td>\n",
       "      <td>0.326718</td>\n",
       "      <td>0.898627</td>\n",
       "      <td>0.013803</td>\n",
       "    </tr>\n",
       "    <tr>\n",
       "      <th>3</th>\n",
       "      <td>0.282217</td>\n",
       "      <td>0.618414</td>\n",
       "      <td>0.513233</td>\n",
       "      <td>0.549363</td>\n",
       "      <td>0.499524</td>\n",
       "    </tr>\n",
       "  </tbody>\n",
       "</table>\n",
       "</div>"
      ],
      "text/plain": [
       "          A         B         C         D         E\n",
       "1  0.027592  0.681266  0.368295  0.487846  0.535940\n",
       "2  0.836495  0.087581  0.326718  0.898627  0.013803\n",
       "3  0.282217  0.618414  0.513233  0.549363  0.499524"
      ]
     },
     "execution_count": 106,
     "metadata": {},
     "output_type": "execute_result"
    }
   ],
   "source": [
    "newDf.drop(0, axis=0).head(3)"
   ]
  },
  {
   "cell_type": "code",
   "execution_count": 107,
   "id": "70aaad33",
   "metadata": {},
   "outputs": [
    {
     "data": {
      "text/html": [
       "<div>\n",
       "<style scoped>\n",
       "    .dataframe tbody tr th:only-of-type {\n",
       "        vertical-align: middle;\n",
       "    }\n",
       "\n",
       "    .dataframe tbody tr th {\n",
       "        vertical-align: top;\n",
       "    }\n",
       "\n",
       "    .dataframe thead th {\n",
       "        text-align: right;\n",
       "    }\n",
       "</style>\n",
       "<table border=\"1\" class=\"dataframe\">\n",
       "  <thead>\n",
       "    <tr style=\"text-align: right;\">\n",
       "      <th></th>\n",
       "      <th>B</th>\n",
       "      <th>C</th>\n",
       "      <th>D</th>\n",
       "      <th>E</th>\n",
       "    </tr>\n",
       "  </thead>\n",
       "  <tbody>\n",
       "    <tr>\n",
       "      <th>0</th>\n",
       "      <td>0.532309</td>\n",
       "      <td>0.092199</td>\n",
       "      <td>0.226521</td>\n",
       "      <td>0.352968</td>\n",
       "    </tr>\n",
       "    <tr>\n",
       "      <th>1</th>\n",
       "      <td>0.681266</td>\n",
       "      <td>0.368295</td>\n",
       "      <td>0.487846</td>\n",
       "      <td>0.535940</td>\n",
       "    </tr>\n",
       "    <tr>\n",
       "      <th>2</th>\n",
       "      <td>0.087581</td>\n",
       "      <td>0.326718</td>\n",
       "      <td>0.898627</td>\n",
       "      <td>0.013803</td>\n",
       "    </tr>\n",
       "  </tbody>\n",
       "</table>\n",
       "</div>"
      ],
      "text/plain": [
       "          B         C         D         E\n",
       "0  0.532309  0.092199  0.226521  0.352968\n",
       "1  0.681266  0.368295  0.487846  0.535940\n",
       "2  0.087581  0.326718  0.898627  0.013803"
      ]
     },
     "execution_count": 107,
     "metadata": {},
     "output_type": "execute_result"
    }
   ],
   "source": [
    "newDf.drop(\"A\", axis=1).head(3)"
   ]
  },
  {
   "cell_type": "code",
   "execution_count": 108,
   "id": "32e550e5",
   "metadata": {},
   "outputs": [
    {
     "data": {
      "text/html": [
       "<div>\n",
       "<style scoped>\n",
       "    .dataframe tbody tr th:only-of-type {\n",
       "        vertical-align: middle;\n",
       "    }\n",
       "\n",
       "    .dataframe tbody tr th {\n",
       "        vertical-align: top;\n",
       "    }\n",
       "\n",
       "    .dataframe thead th {\n",
       "        text-align: right;\n",
       "    }\n",
       "</style>\n",
       "<table border=\"1\" class=\"dataframe\">\n",
       "  <thead>\n",
       "    <tr style=\"text-align: right;\">\n",
       "      <th></th>\n",
       "      <th>A</th>\n",
       "      <th>B</th>\n",
       "      <th>C</th>\n",
       "      <th>D</th>\n",
       "      <th>E</th>\n",
       "    </tr>\n",
       "  </thead>\n",
       "  <tbody>\n",
       "    <tr>\n",
       "      <th>0</th>\n",
       "      <td>65</td>\n",
       "      <td>0.532309</td>\n",
       "      <td>0.092199</td>\n",
       "      <td>0.226521</td>\n",
       "      <td>0.352968</td>\n",
       "    </tr>\n",
       "    <tr>\n",
       "      <th>1</th>\n",
       "      <td>0.027592</td>\n",
       "      <td>0.681266</td>\n",
       "      <td>0.368295</td>\n",
       "      <td>0.487846</td>\n",
       "      <td>0.535940</td>\n",
       "    </tr>\n",
       "    <tr>\n",
       "      <th>2</th>\n",
       "      <td>0.836495</td>\n",
       "      <td>0.087581</td>\n",
       "      <td>0.326718</td>\n",
       "      <td>0.898627</td>\n",
       "      <td>0.013803</td>\n",
       "    </tr>\n",
       "  </tbody>\n",
       "</table>\n",
       "</div>"
      ],
      "text/plain": [
       "          A         B         C         D         E\n",
       "0        65  0.532309  0.092199  0.226521  0.352968\n",
       "1  0.027592  0.681266  0.368295  0.487846  0.535940\n",
       "2  0.836495  0.087581  0.326718  0.898627  0.013803"
      ]
     },
     "execution_count": 108,
     "metadata": {},
     "output_type": "execute_result"
    }
   ],
   "source": [
    "newDf.head(3)"
   ]
  },
  {
   "cell_type": "code",
   "execution_count": 109,
   "id": "64c80c34",
   "metadata": {},
   "outputs": [],
   "source": [
    "newDf = newDf.drop(\"A\", axis=1)"
   ]
  },
  {
   "cell_type": "code",
   "execution_count": 110,
   "id": "a6da5d77",
   "metadata": {},
   "outputs": [
    {
     "data": {
      "text/html": [
       "<div>\n",
       "<style scoped>\n",
       "    .dataframe tbody tr th:only-of-type {\n",
       "        vertical-align: middle;\n",
       "    }\n",
       "\n",
       "    .dataframe tbody tr th {\n",
       "        vertical-align: top;\n",
       "    }\n",
       "\n",
       "    .dataframe thead th {\n",
       "        text-align: right;\n",
       "    }\n",
       "</style>\n",
       "<table border=\"1\" class=\"dataframe\">\n",
       "  <thead>\n",
       "    <tr style=\"text-align: right;\">\n",
       "      <th></th>\n",
       "      <th>B</th>\n",
       "      <th>C</th>\n",
       "      <th>D</th>\n",
       "      <th>E</th>\n",
       "    </tr>\n",
       "  </thead>\n",
       "  <tbody>\n",
       "    <tr>\n",
       "      <th>0</th>\n",
       "      <td>0.532309</td>\n",
       "      <td>0.092199</td>\n",
       "      <td>0.226521</td>\n",
       "      <td>0.352968</td>\n",
       "    </tr>\n",
       "    <tr>\n",
       "      <th>1</th>\n",
       "      <td>0.681266</td>\n",
       "      <td>0.368295</td>\n",
       "      <td>0.487846</td>\n",
       "      <td>0.535940</td>\n",
       "    </tr>\n",
       "    <tr>\n",
       "      <th>2</th>\n",
       "      <td>0.087581</td>\n",
       "      <td>0.326718</td>\n",
       "      <td>0.898627</td>\n",
       "      <td>0.013803</td>\n",
       "    </tr>\n",
       "  </tbody>\n",
       "</table>\n",
       "</div>"
      ],
      "text/plain": [
       "          B         C         D         E\n",
       "0  0.532309  0.092199  0.226521  0.352968\n",
       "1  0.681266  0.368295  0.487846  0.535940\n",
       "2  0.087581  0.326718  0.898627  0.013803"
      ]
     },
     "execution_count": 110,
     "metadata": {},
     "output_type": "execute_result"
    }
   ],
   "source": [
    "newDf.head(3)"
   ]
  },
  {
   "cell_type": "code",
   "execution_count": 111,
   "id": "c9e744c9",
   "metadata": {},
   "outputs": [
    {
     "data": {
      "text/html": [
       "<div>\n",
       "<style scoped>\n",
       "    .dataframe tbody tr th:only-of-type {\n",
       "        vertical-align: middle;\n",
       "    }\n",
       "\n",
       "    .dataframe tbody tr th {\n",
       "        vertical-align: top;\n",
       "    }\n",
       "\n",
       "    .dataframe thead th {\n",
       "        text-align: right;\n",
       "    }\n",
       "</style>\n",
       "<table border=\"1\" class=\"dataframe\">\n",
       "  <thead>\n",
       "    <tr style=\"text-align: right;\">\n",
       "      <th></th>\n",
       "      <th>C</th>\n",
       "      <th>D</th>\n",
       "    </tr>\n",
       "  </thead>\n",
       "  <tbody>\n",
       "    <tr>\n",
       "      <th>1</th>\n",
       "      <td>0.368295</td>\n",
       "      <td>0.487846</td>\n",
       "    </tr>\n",
       "    <tr>\n",
       "      <th>2</th>\n",
       "      <td>0.326718</td>\n",
       "      <td>0.898627</td>\n",
       "    </tr>\n",
       "  </tbody>\n",
       "</table>\n",
       "</div>"
      ],
      "text/plain": [
       "          C         D\n",
       "1  0.368295  0.487846\n",
       "2  0.326718  0.898627"
      ]
     },
     "execution_count": 111,
     "metadata": {},
     "output_type": "execute_result"
    }
   ],
   "source": [
    "newDf.loc[[1,2],[\"C\",\"D\"]]"
   ]
  },
  {
   "cell_type": "code",
   "execution_count": 112,
   "id": "271d2c5f",
   "metadata": {},
   "outputs": [
    {
     "data": {
      "text/html": [
       "<div>\n",
       "<style scoped>\n",
       "    .dataframe tbody tr th:only-of-type {\n",
       "        vertical-align: middle;\n",
       "    }\n",
       "\n",
       "    .dataframe tbody tr th {\n",
       "        vertical-align: top;\n",
       "    }\n",
       "\n",
       "    .dataframe thead th {\n",
       "        text-align: right;\n",
       "    }\n",
       "</style>\n",
       "<table border=\"1\" class=\"dataframe\">\n",
       "  <thead>\n",
       "    <tr style=\"text-align: right;\">\n",
       "      <th></th>\n",
       "      <th>B</th>\n",
       "      <th>C</th>\n",
       "      <th>D</th>\n",
       "      <th>E</th>\n",
       "    </tr>\n",
       "  </thead>\n",
       "  <tbody>\n",
       "    <tr>\n",
       "      <th>0</th>\n",
       "      <td>0.532309</td>\n",
       "      <td>0.092199</td>\n",
       "      <td>0.226521</td>\n",
       "      <td>0.352968</td>\n",
       "    </tr>\n",
       "    <tr>\n",
       "      <th>1</th>\n",
       "      <td>0.681266</td>\n",
       "      <td>0.368295</td>\n",
       "      <td>0.487846</td>\n",
       "      <td>0.535940</td>\n",
       "    </tr>\n",
       "    <tr>\n",
       "      <th>2</th>\n",
       "      <td>0.087581</td>\n",
       "      <td>0.326718</td>\n",
       "      <td>0.898627</td>\n",
       "      <td>0.013803</td>\n",
       "    </tr>\n",
       "  </tbody>\n",
       "</table>\n",
       "</div>"
      ],
      "text/plain": [
       "          B         C         D         E\n",
       "0  0.532309  0.092199  0.226521  0.352968\n",
       "1  0.681266  0.368295  0.487846  0.535940\n",
       "2  0.087581  0.326718  0.898627  0.013803"
      ]
     },
     "execution_count": 112,
     "metadata": {},
     "output_type": "execute_result"
    }
   ],
   "source": [
    "newDf.head(3)"
   ]
  },
  {
   "cell_type": "code",
   "execution_count": 113,
   "id": "a79acb5b",
   "metadata": {},
   "outputs": [
    {
     "data": {
      "text/html": [
       "<div>\n",
       "<style scoped>\n",
       "    .dataframe tbody tr th:only-of-type {\n",
       "        vertical-align: middle;\n",
       "    }\n",
       "\n",
       "    .dataframe tbody tr th {\n",
       "        vertical-align: top;\n",
       "    }\n",
       "\n",
       "    .dataframe thead th {\n",
       "        text-align: right;\n",
       "    }\n",
       "</style>\n",
       "<table border=\"1\" class=\"dataframe\">\n",
       "  <thead>\n",
       "    <tr style=\"text-align: right;\">\n",
       "      <th></th>\n",
       "      <th>C</th>\n",
       "      <th>D</th>\n",
       "    </tr>\n",
       "  </thead>\n",
       "  <tbody>\n",
       "    <tr>\n",
       "      <th>0</th>\n",
       "      <td>0.092199</td>\n",
       "      <td>0.226521</td>\n",
       "    </tr>\n",
       "    <tr>\n",
       "      <th>1</th>\n",
       "      <td>0.368295</td>\n",
       "      <td>0.487846</td>\n",
       "    </tr>\n",
       "    <tr>\n",
       "      <th>2</th>\n",
       "      <td>0.326718</td>\n",
       "      <td>0.898627</td>\n",
       "    </tr>\n",
       "    <tr>\n",
       "      <th>3</th>\n",
       "      <td>0.513233</td>\n",
       "      <td>0.549363</td>\n",
       "    </tr>\n",
       "    <tr>\n",
       "      <th>4</th>\n",
       "      <td>0.739670</td>\n",
       "      <td>0.828832</td>\n",
       "    </tr>\n",
       "    <tr>\n",
       "      <th>...</th>\n",
       "      <td>...</td>\n",
       "      <td>...</td>\n",
       "    </tr>\n",
       "    <tr>\n",
       "      <th>325</th>\n",
       "      <td>0.214518</td>\n",
       "      <td>0.255019</td>\n",
       "    </tr>\n",
       "    <tr>\n",
       "      <th>326</th>\n",
       "      <td>0.623459</td>\n",
       "      <td>0.501572</td>\n",
       "    </tr>\n",
       "    <tr>\n",
       "      <th>327</th>\n",
       "      <td>0.020976</td>\n",
       "      <td>0.668174</td>\n",
       "    </tr>\n",
       "    <tr>\n",
       "      <th>328</th>\n",
       "      <td>0.240601</td>\n",
       "      <td>0.089870</td>\n",
       "    </tr>\n",
       "    <tr>\n",
       "      <th>329</th>\n",
       "      <td>0.435754</td>\n",
       "      <td>0.264676</td>\n",
       "    </tr>\n",
       "  </tbody>\n",
       "</table>\n",
       "<p>330 rows × 2 columns</p>\n",
       "</div>"
      ],
      "text/plain": [
       "            C         D\n",
       "0    0.092199  0.226521\n",
       "1    0.368295  0.487846\n",
       "2    0.326718  0.898627\n",
       "3    0.513233  0.549363\n",
       "4    0.739670  0.828832\n",
       "..        ...       ...\n",
       "325  0.214518  0.255019\n",
       "326  0.623459  0.501572\n",
       "327  0.020976  0.668174\n",
       "328  0.240601  0.089870\n",
       "329  0.435754  0.264676\n",
       "\n",
       "[330 rows x 2 columns]"
      ]
     },
     "execution_count": 113,
     "metadata": {},
     "output_type": "execute_result"
    }
   ],
   "source": [
    "newDf.loc[:,[\"C\",\"D\"]]"
   ]
  },
  {
   "cell_type": "code",
   "execution_count": 114,
   "id": "c9ea4f63",
   "metadata": {},
   "outputs": [
    {
     "data": {
      "text/html": [
       "<div>\n",
       "<style scoped>\n",
       "    .dataframe tbody tr th:only-of-type {\n",
       "        vertical-align: middle;\n",
       "    }\n",
       "\n",
       "    .dataframe tbody tr th {\n",
       "        vertical-align: top;\n",
       "    }\n",
       "\n",
       "    .dataframe thead th {\n",
       "        text-align: right;\n",
       "    }\n",
       "</style>\n",
       "<table border=\"1\" class=\"dataframe\">\n",
       "  <thead>\n",
       "    <tr style=\"text-align: right;\">\n",
       "      <th></th>\n",
       "      <th>B</th>\n",
       "      <th>C</th>\n",
       "      <th>D</th>\n",
       "      <th>E</th>\n",
       "    </tr>\n",
       "  </thead>\n",
       "  <tbody>\n",
       "    <tr>\n",
       "      <th>1</th>\n",
       "      <td>0.681266</td>\n",
       "      <td>0.368295</td>\n",
       "      <td>0.487846</td>\n",
       "      <td>0.535940</td>\n",
       "    </tr>\n",
       "    <tr>\n",
       "      <th>2</th>\n",
       "      <td>0.087581</td>\n",
       "      <td>0.326718</td>\n",
       "      <td>0.898627</td>\n",
       "      <td>0.013803</td>\n",
       "    </tr>\n",
       "  </tbody>\n",
       "</table>\n",
       "</div>"
      ],
      "text/plain": [
       "          B         C         D         E\n",
       "1  0.681266  0.368295  0.487846  0.535940\n",
       "2  0.087581  0.326718  0.898627  0.013803"
      ]
     },
     "execution_count": 114,
     "metadata": {},
     "output_type": "execute_result"
    }
   ],
   "source": [
    "newDf.loc[[1,2],:]"
   ]
  },
  {
   "cell_type": "code",
   "execution_count": 115,
   "id": "bb39e71e",
   "metadata": {},
   "outputs": [
    {
     "data": {
      "text/html": [
       "<div>\n",
       "<style scoped>\n",
       "    .dataframe tbody tr th:only-of-type {\n",
       "        vertical-align: middle;\n",
       "    }\n",
       "\n",
       "    .dataframe tbody tr th {\n",
       "        vertical-align: top;\n",
       "    }\n",
       "\n",
       "    .dataframe thead th {\n",
       "        text-align: right;\n",
       "    }\n",
       "</style>\n",
       "<table border=\"1\" class=\"dataframe\">\n",
       "  <thead>\n",
       "    <tr style=\"text-align: right;\">\n",
       "      <th></th>\n",
       "      <th>C</th>\n",
       "      <th>D</th>\n",
       "    </tr>\n",
       "  </thead>\n",
       "  <tbody>\n",
       "    <tr>\n",
       "      <th>0</th>\n",
       "      <td>0.092199</td>\n",
       "      <td>0.226521</td>\n",
       "    </tr>\n",
       "    <tr>\n",
       "      <th>1</th>\n",
       "      <td>0.368295</td>\n",
       "      <td>0.487846</td>\n",
       "    </tr>\n",
       "    <tr>\n",
       "      <th>2</th>\n",
       "      <td>0.326718</td>\n",
       "      <td>0.898627</td>\n",
       "    </tr>\n",
       "    <tr>\n",
       "      <th>3</th>\n",
       "      <td>0.513233</td>\n",
       "      <td>0.549363</td>\n",
       "    </tr>\n",
       "    <tr>\n",
       "      <th>4</th>\n",
       "      <td>0.739670</td>\n",
       "      <td>0.828832</td>\n",
       "    </tr>\n",
       "    <tr>\n",
       "      <th>5</th>\n",
       "      <td>0.146260</td>\n",
       "      <td>0.930973</td>\n",
       "    </tr>\n",
       "  </tbody>\n",
       "</table>\n",
       "</div>"
      ],
      "text/plain": [
       "          C         D\n",
       "0  0.092199  0.226521\n",
       "1  0.368295  0.487846\n",
       "2  0.326718  0.898627\n",
       "3  0.513233  0.549363\n",
       "4  0.739670  0.828832\n",
       "5  0.146260  0.930973"
      ]
     },
     "execution_count": 115,
     "metadata": {},
     "output_type": "execute_result"
    }
   ],
   "source": [
    "newDf.loc[:5,[\"C\",\"D\"]]"
   ]
  },
  {
   "cell_type": "code",
   "execution_count": 116,
   "id": "d9d9ff21",
   "metadata": {},
   "outputs": [
    {
     "data": {
      "text/html": [
       "<div>\n",
       "<style scoped>\n",
       "    .dataframe tbody tr th:only-of-type {\n",
       "        vertical-align: middle;\n",
       "    }\n",
       "\n",
       "    .dataframe tbody tr th {\n",
       "        vertical-align: top;\n",
       "    }\n",
       "\n",
       "    .dataframe thead th {\n",
       "        text-align: right;\n",
       "    }\n",
       "</style>\n",
       "<table border=\"1\" class=\"dataframe\">\n",
       "  <thead>\n",
       "    <tr style=\"text-align: right;\">\n",
       "      <th></th>\n",
       "      <th>B</th>\n",
       "      <th>C</th>\n",
       "      <th>D</th>\n",
       "    </tr>\n",
       "  </thead>\n",
       "  <tbody>\n",
       "    <tr>\n",
       "      <th>1</th>\n",
       "      <td>0.681266</td>\n",
       "      <td>0.368295</td>\n",
       "      <td>0.487846</td>\n",
       "    </tr>\n",
       "    <tr>\n",
       "      <th>2</th>\n",
       "      <td>0.087581</td>\n",
       "      <td>0.326718</td>\n",
       "      <td>0.898627</td>\n",
       "    </tr>\n",
       "  </tbody>\n",
       "</table>\n",
       "</div>"
      ],
      "text/plain": [
       "          B         C         D\n",
       "1  0.681266  0.368295  0.487846\n",
       "2  0.087581  0.326718  0.898627"
      ]
     },
     "execution_count": 116,
     "metadata": {},
     "output_type": "execute_result"
    }
   ],
   "source": [
    "newDf.loc[[1,2],:\"D\"]"
   ]
  },
  {
   "cell_type": "code",
   "execution_count": 117,
   "id": "54ca80c5",
   "metadata": {},
   "outputs": [
    {
     "data": {
      "text/html": [
       "<div>\n",
       "<style scoped>\n",
       "    .dataframe tbody tr th:only-of-type {\n",
       "        vertical-align: middle;\n",
       "    }\n",
       "\n",
       "    .dataframe tbody tr th {\n",
       "        vertical-align: top;\n",
       "    }\n",
       "\n",
       "    .dataframe thead th {\n",
       "        text-align: right;\n",
       "    }\n",
       "</style>\n",
       "<table border=\"1\" class=\"dataframe\">\n",
       "  <thead>\n",
       "    <tr style=\"text-align: right;\">\n",
       "      <th></th>\n",
       "      <th>B</th>\n",
       "      <th>C</th>\n",
       "      <th>D</th>\n",
       "      <th>E</th>\n",
       "    </tr>\n",
       "  </thead>\n",
       "  <tbody>\n",
       "    <tr>\n",
       "      <th>2</th>\n",
       "      <td>0.087581</td>\n",
       "      <td>0.326718</td>\n",
       "      <td>0.898627</td>\n",
       "      <td>0.013803</td>\n",
       "    </tr>\n",
       "    <tr>\n",
       "      <th>9</th>\n",
       "      <td>0.261374</td>\n",
       "      <td>0.617790</td>\n",
       "      <td>0.187872</td>\n",
       "      <td>0.638739</td>\n",
       "    </tr>\n",
       "    <tr>\n",
       "      <th>10</th>\n",
       "      <td>0.281561</td>\n",
       "      <td>0.237581</td>\n",
       "      <td>0.210739</td>\n",
       "      <td>0.011657</td>\n",
       "    </tr>\n",
       "    <tr>\n",
       "      <th>12</th>\n",
       "      <td>0.041938</td>\n",
       "      <td>0.147656</td>\n",
       "      <td>0.500559</td>\n",
       "      <td>0.692832</td>\n",
       "    </tr>\n",
       "    <tr>\n",
       "      <th>14</th>\n",
       "      <td>0.064925</td>\n",
       "      <td>0.330439</td>\n",
       "      <td>0.749881</td>\n",
       "      <td>0.894467</td>\n",
       "    </tr>\n",
       "    <tr>\n",
       "      <th>...</th>\n",
       "      <td>...</td>\n",
       "      <td>...</td>\n",
       "      <td>...</td>\n",
       "      <td>...</td>\n",
       "    </tr>\n",
       "    <tr>\n",
       "      <th>291</th>\n",
       "      <td>0.202532</td>\n",
       "      <td>0.463246</td>\n",
       "      <td>0.543620</td>\n",
       "      <td>0.685624</td>\n",
       "    </tr>\n",
       "    <tr>\n",
       "      <th>302</th>\n",
       "      <td>0.268043</td>\n",
       "      <td>0.274878</td>\n",
       "      <td>0.465072</td>\n",
       "      <td>0.709624</td>\n",
       "    </tr>\n",
       "    <tr>\n",
       "      <th>304</th>\n",
       "      <td>0.044467</td>\n",
       "      <td>0.695731</td>\n",
       "      <td>0.317222</td>\n",
       "      <td>0.183108</td>\n",
       "    </tr>\n",
       "    <tr>\n",
       "      <th>311</th>\n",
       "      <td>0.102014</td>\n",
       "      <td>0.124803</td>\n",
       "      <td>0.681335</td>\n",
       "      <td>0.809512</td>\n",
       "    </tr>\n",
       "    <tr>\n",
       "      <th>316</th>\n",
       "      <td>0.198586</td>\n",
       "      <td>0.055183</td>\n",
       "      <td>0.791677</td>\n",
       "      <td>0.107130</td>\n",
       "    </tr>\n",
       "  </tbody>\n",
       "</table>\n",
       "<p>86 rows × 4 columns</p>\n",
       "</div>"
      ],
      "text/plain": [
       "            B         C         D         E\n",
       "2    0.087581  0.326718  0.898627  0.013803\n",
       "9    0.261374  0.617790  0.187872  0.638739\n",
       "10   0.281561  0.237581  0.210739  0.011657\n",
       "12   0.041938  0.147656  0.500559  0.692832\n",
       "14   0.064925  0.330439  0.749881  0.894467\n",
       "..        ...       ...       ...       ...\n",
       "291  0.202532  0.463246  0.543620  0.685624\n",
       "302  0.268043  0.274878  0.465072  0.709624\n",
       "304  0.044467  0.695731  0.317222  0.183108\n",
       "311  0.102014  0.124803  0.681335  0.809512\n",
       "316  0.198586  0.055183  0.791677  0.107130\n",
       "\n",
       "[86 rows x 4 columns]"
      ]
     },
     "execution_count": 117,
     "metadata": {},
     "output_type": "execute_result"
    }
   ],
   "source": [
    "newDf.loc[(newDf[\"B\"]<0.3)]"
   ]
  },
  {
   "cell_type": "code",
   "execution_count": 118,
   "id": "df74d10b",
   "metadata": {},
   "outputs": [
    {
     "data": {
      "text/html": [
       "<div>\n",
       "<style scoped>\n",
       "    .dataframe tbody tr th:only-of-type {\n",
       "        vertical-align: middle;\n",
       "    }\n",
       "\n",
       "    .dataframe tbody tr th {\n",
       "        vertical-align: top;\n",
       "    }\n",
       "\n",
       "    .dataframe thead th {\n",
       "        text-align: right;\n",
       "    }\n",
       "</style>\n",
       "<table border=\"1\" class=\"dataframe\">\n",
       "  <thead>\n",
       "    <tr style=\"text-align: right;\">\n",
       "      <th></th>\n",
       "      <th>B</th>\n",
       "      <th>C</th>\n",
       "      <th>D</th>\n",
       "      <th>E</th>\n",
       "    </tr>\n",
       "  </thead>\n",
       "  <tbody>\n",
       "    <tr>\n",
       "      <th>2</th>\n",
       "      <td>0.087581</td>\n",
       "      <td>0.326718</td>\n",
       "      <td>0.898627</td>\n",
       "      <td>0.013803</td>\n",
       "    </tr>\n",
       "    <tr>\n",
       "      <th>10</th>\n",
       "      <td>0.281561</td>\n",
       "      <td>0.237581</td>\n",
       "      <td>0.210739</td>\n",
       "      <td>0.011657</td>\n",
       "    </tr>\n",
       "    <tr>\n",
       "      <th>12</th>\n",
       "      <td>0.041938</td>\n",
       "      <td>0.147656</td>\n",
       "      <td>0.500559</td>\n",
       "      <td>0.692832</td>\n",
       "    </tr>\n",
       "    <tr>\n",
       "      <th>14</th>\n",
       "      <td>0.064925</td>\n",
       "      <td>0.330439</td>\n",
       "      <td>0.749881</td>\n",
       "      <td>0.894467</td>\n",
       "    </tr>\n",
       "    <tr>\n",
       "      <th>15</th>\n",
       "      <td>0.232837</td>\n",
       "      <td>0.790089</td>\n",
       "      <td>0.390360</td>\n",
       "      <td>0.049274</td>\n",
       "    </tr>\n",
       "    <tr>\n",
       "      <th>...</th>\n",
       "      <td>...</td>\n",
       "      <td>...</td>\n",
       "      <td>...</td>\n",
       "      <td>...</td>\n",
       "    </tr>\n",
       "    <tr>\n",
       "      <th>291</th>\n",
       "      <td>0.202532</td>\n",
       "      <td>0.463246</td>\n",
       "      <td>0.543620</td>\n",
       "      <td>0.685624</td>\n",
       "    </tr>\n",
       "    <tr>\n",
       "      <th>302</th>\n",
       "      <td>0.268043</td>\n",
       "      <td>0.274878</td>\n",
       "      <td>0.465072</td>\n",
       "      <td>0.709624</td>\n",
       "    </tr>\n",
       "    <tr>\n",
       "      <th>304</th>\n",
       "      <td>0.044467</td>\n",
       "      <td>0.695731</td>\n",
       "      <td>0.317222</td>\n",
       "      <td>0.183108</td>\n",
       "    </tr>\n",
       "    <tr>\n",
       "      <th>311</th>\n",
       "      <td>0.102014</td>\n",
       "      <td>0.124803</td>\n",
       "      <td>0.681335</td>\n",
       "      <td>0.809512</td>\n",
       "    </tr>\n",
       "    <tr>\n",
       "      <th>316</th>\n",
       "      <td>0.198586</td>\n",
       "      <td>0.055183</td>\n",
       "      <td>0.791677</td>\n",
       "      <td>0.107130</td>\n",
       "    </tr>\n",
       "  </tbody>\n",
       "</table>\n",
       "<p>65 rows × 4 columns</p>\n",
       "</div>"
      ],
      "text/plain": [
       "            B         C         D         E\n",
       "2    0.087581  0.326718  0.898627  0.013803\n",
       "10   0.281561  0.237581  0.210739  0.011657\n",
       "12   0.041938  0.147656  0.500559  0.692832\n",
       "14   0.064925  0.330439  0.749881  0.894467\n",
       "15   0.232837  0.790089  0.390360  0.049274\n",
       "..        ...       ...       ...       ...\n",
       "291  0.202532  0.463246  0.543620  0.685624\n",
       "302  0.268043  0.274878  0.465072  0.709624\n",
       "304  0.044467  0.695731  0.317222  0.183108\n",
       "311  0.102014  0.124803  0.681335  0.809512\n",
       "316  0.198586  0.055183  0.791677  0.107130\n",
       "\n",
       "[65 rows x 4 columns]"
      ]
     },
     "execution_count": 118,
     "metadata": {},
     "output_type": "execute_result"
    }
   ],
   "source": [
    "newDf.loc[(newDf[\"B\"]<0.3) & (newDf[\"D\"]>0.2)]"
   ]
  },
  {
   "cell_type": "code",
   "execution_count": 119,
   "id": "641f8296",
   "metadata": {},
   "outputs": [
    {
     "data": {
      "text/html": [
       "<div>\n",
       "<style scoped>\n",
       "    .dataframe tbody tr th:only-of-type {\n",
       "        vertical-align: middle;\n",
       "    }\n",
       "\n",
       "    .dataframe tbody tr th {\n",
       "        vertical-align: top;\n",
       "    }\n",
       "\n",
       "    .dataframe thead th {\n",
       "        text-align: right;\n",
       "    }\n",
       "</style>\n",
       "<table border=\"1\" class=\"dataframe\">\n",
       "  <thead>\n",
       "    <tr style=\"text-align: right;\">\n",
       "      <th></th>\n",
       "      <th>B</th>\n",
       "      <th>C</th>\n",
       "      <th>D</th>\n",
       "      <th>E</th>\n",
       "    </tr>\n",
       "  </thead>\n",
       "  <tbody>\n",
       "    <tr>\n",
       "      <th>0</th>\n",
       "      <td>0.532309</td>\n",
       "      <td>0.092199</td>\n",
       "      <td>0.226521</td>\n",
       "      <td>0.352968</td>\n",
       "    </tr>\n",
       "    <tr>\n",
       "      <th>1</th>\n",
       "      <td>0.681266</td>\n",
       "      <td>0.368295</td>\n",
       "      <td>0.487846</td>\n",
       "      <td>0.535940</td>\n",
       "    </tr>\n",
       "    <tr>\n",
       "      <th>2</th>\n",
       "      <td>0.087581</td>\n",
       "      <td>0.326718</td>\n",
       "      <td>0.898627</td>\n",
       "      <td>0.013803</td>\n",
       "    </tr>\n",
       "  </tbody>\n",
       "</table>\n",
       "</div>"
      ],
      "text/plain": [
       "          B         C         D         E\n",
       "0  0.532309  0.092199  0.226521  0.352968\n",
       "1  0.681266  0.368295  0.487846  0.535940\n",
       "2  0.087581  0.326718  0.898627  0.013803"
      ]
     },
     "execution_count": 119,
     "metadata": {},
     "output_type": "execute_result"
    }
   ],
   "source": [
    "newDf.head(3)"
   ]
  },
  {
   "cell_type": "markdown",
   "id": "ff624342",
   "metadata": {},
   "source": [
    "## iloc"
   ]
  },
  {
   "cell_type": "code",
   "execution_count": 120,
   "id": "7576255c",
   "metadata": {},
   "outputs": [
    {
     "data": {
      "text/plain": [
       "0.5323089637348619"
      ]
     },
     "execution_count": 120,
     "metadata": {},
     "output_type": "execute_result"
    }
   ],
   "source": [
    "newDf.iloc[0,0]"
   ]
  },
  {
   "cell_type": "code",
   "execution_count": 121,
   "id": "7480b0eb",
   "metadata": {},
   "outputs": [],
   "source": [
    "newDf.iloc[0,0]=555"
   ]
  },
  {
   "cell_type": "code",
   "execution_count": 122,
   "id": "88f438c5",
   "metadata": {},
   "outputs": [
    {
     "data": {
      "text/html": [
       "<div>\n",
       "<style scoped>\n",
       "    .dataframe tbody tr th:only-of-type {\n",
       "        vertical-align: middle;\n",
       "    }\n",
       "\n",
       "    .dataframe tbody tr th {\n",
       "        vertical-align: top;\n",
       "    }\n",
       "\n",
       "    .dataframe thead th {\n",
       "        text-align: right;\n",
       "    }\n",
       "</style>\n",
       "<table border=\"1\" class=\"dataframe\">\n",
       "  <thead>\n",
       "    <tr style=\"text-align: right;\">\n",
       "      <th></th>\n",
       "      <th>B</th>\n",
       "      <th>C</th>\n",
       "      <th>D</th>\n",
       "      <th>E</th>\n",
       "    </tr>\n",
       "  </thead>\n",
       "  <tbody>\n",
       "    <tr>\n",
       "      <th>0</th>\n",
       "      <td>555.000000</td>\n",
       "      <td>0.092199</td>\n",
       "      <td>0.226521</td>\n",
       "      <td>0.352968</td>\n",
       "    </tr>\n",
       "    <tr>\n",
       "      <th>1</th>\n",
       "      <td>0.681266</td>\n",
       "      <td>0.368295</td>\n",
       "      <td>0.487846</td>\n",
       "      <td>0.535940</td>\n",
       "    </tr>\n",
       "    <tr>\n",
       "      <th>2</th>\n",
       "      <td>0.087581</td>\n",
       "      <td>0.326718</td>\n",
       "      <td>0.898627</td>\n",
       "      <td>0.013803</td>\n",
       "    </tr>\n",
       "    <tr>\n",
       "      <th>3</th>\n",
       "      <td>0.618414</td>\n",
       "      <td>0.513233</td>\n",
       "      <td>0.549363</td>\n",
       "      <td>0.499524</td>\n",
       "    </tr>\n",
       "    <tr>\n",
       "      <th>4</th>\n",
       "      <td>0.462905</td>\n",
       "      <td>0.739670</td>\n",
       "      <td>0.828832</td>\n",
       "      <td>0.389436</td>\n",
       "    </tr>\n",
       "  </tbody>\n",
       "</table>\n",
       "</div>"
      ],
      "text/plain": [
       "            B         C         D         E\n",
       "0  555.000000  0.092199  0.226521  0.352968\n",
       "1    0.681266  0.368295  0.487846  0.535940\n",
       "2    0.087581  0.326718  0.898627  0.013803\n",
       "3    0.618414  0.513233  0.549363  0.499524\n",
       "4    0.462905  0.739670  0.828832  0.389436"
      ]
     },
     "execution_count": 122,
     "metadata": {},
     "output_type": "execute_result"
    }
   ],
   "source": [
    "newDf.head()"
   ]
  },
  {
   "cell_type": "code",
   "execution_count": 123,
   "id": "eb0e9ae2",
   "metadata": {},
   "outputs": [
    {
     "data": {
      "text/html": [
       "<div>\n",
       "<style scoped>\n",
       "    .dataframe tbody tr th:only-of-type {\n",
       "        vertical-align: middle;\n",
       "    }\n",
       "\n",
       "    .dataframe tbody tr th {\n",
       "        vertical-align: top;\n",
       "    }\n",
       "\n",
       "    .dataframe thead th {\n",
       "        text-align: right;\n",
       "    }\n",
       "</style>\n",
       "<table border=\"1\" class=\"dataframe\">\n",
       "  <thead>\n",
       "    <tr style=\"text-align: right;\">\n",
       "      <th></th>\n",
       "      <th>C</th>\n",
       "      <th>E</th>\n",
       "    </tr>\n",
       "  </thead>\n",
       "  <tbody>\n",
       "    <tr>\n",
       "      <th>0</th>\n",
       "      <td>0.092199</td>\n",
       "      <td>0.352968</td>\n",
       "    </tr>\n",
       "    <tr>\n",
       "      <th>4</th>\n",
       "      <td>0.739670</td>\n",
       "      <td>0.389436</td>\n",
       "    </tr>\n",
       "  </tbody>\n",
       "</table>\n",
       "</div>"
      ],
      "text/plain": [
       "          C         E\n",
       "0  0.092199  0.352968\n",
       "4  0.739670  0.389436"
      ]
     },
     "execution_count": 123,
     "metadata": {},
     "output_type": "execute_result"
    }
   ],
   "source": [
    "newDf.iloc[[0,4],[1,3]]"
   ]
  },
  {
   "cell_type": "code",
   "execution_count": 124,
   "id": "118e433d",
   "metadata": {},
   "outputs": [
    {
     "data": {
      "text/html": [
       "<div>\n",
       "<style scoped>\n",
       "    .dataframe tbody tr th:only-of-type {\n",
       "        vertical-align: middle;\n",
       "    }\n",
       "\n",
       "    .dataframe tbody tr th {\n",
       "        vertical-align: top;\n",
       "    }\n",
       "\n",
       "    .dataframe thead th {\n",
       "        text-align: right;\n",
       "    }\n",
       "</style>\n",
       "<table border=\"1\" class=\"dataframe\">\n",
       "  <thead>\n",
       "    <tr style=\"text-align: right;\">\n",
       "      <th></th>\n",
       "      <th>B</th>\n",
       "      <th>C</th>\n",
       "      <th>D</th>\n",
       "      <th>E</th>\n",
       "    </tr>\n",
       "  </thead>\n",
       "  <tbody>\n",
       "    <tr>\n",
       "      <th>0</th>\n",
       "      <td>555.000000</td>\n",
       "      <td>0.092199</td>\n",
       "      <td>0.226521</td>\n",
       "      <td>0.352968</td>\n",
       "    </tr>\n",
       "    <tr>\n",
       "      <th>1</th>\n",
       "      <td>0.681266</td>\n",
       "      <td>0.368295</td>\n",
       "      <td>0.487846</td>\n",
       "      <td>0.535940</td>\n",
       "    </tr>\n",
       "    <tr>\n",
       "      <th>2</th>\n",
       "      <td>0.087581</td>\n",
       "      <td>0.326718</td>\n",
       "      <td>0.898627</td>\n",
       "      <td>0.013803</td>\n",
       "    </tr>\n",
       "    <tr>\n",
       "      <th>3</th>\n",
       "      <td>0.618414</td>\n",
       "      <td>0.513233</td>\n",
       "      <td>0.549363</td>\n",
       "      <td>0.499524</td>\n",
       "    </tr>\n",
       "  </tbody>\n",
       "</table>\n",
       "</div>"
      ],
      "text/plain": [
       "            B         C         D         E\n",
       "0  555.000000  0.092199  0.226521  0.352968\n",
       "1    0.681266  0.368295  0.487846  0.535940\n",
       "2    0.087581  0.326718  0.898627  0.013803\n",
       "3    0.618414  0.513233  0.549363  0.499524"
      ]
     },
     "execution_count": 124,
     "metadata": {},
     "output_type": "execute_result"
    }
   ],
   "source": [
    "newDf.head(4)"
   ]
  },
  {
   "cell_type": "code",
   "execution_count": 125,
   "id": "71ed9437",
   "metadata": {},
   "outputs": [
    {
     "data": {
      "text/html": [
       "<div>\n",
       "<style scoped>\n",
       "    .dataframe tbody tr th:only-of-type {\n",
       "        vertical-align: middle;\n",
       "    }\n",
       "\n",
       "    .dataframe tbody tr th {\n",
       "        vertical-align: top;\n",
       "    }\n",
       "\n",
       "    .dataframe thead th {\n",
       "        text-align: right;\n",
       "    }\n",
       "</style>\n",
       "<table border=\"1\" class=\"dataframe\">\n",
       "  <thead>\n",
       "    <tr style=\"text-align: right;\">\n",
       "      <th></th>\n",
       "      <th>B</th>\n",
       "      <th>C</th>\n",
       "      <th>D</th>\n",
       "      <th>E</th>\n",
       "    </tr>\n",
       "  </thead>\n",
       "  <tbody>\n",
       "    <tr>\n",
       "      <th>1</th>\n",
       "      <td>0.681266</td>\n",
       "      <td>0.368295</td>\n",
       "      <td>0.487846</td>\n",
       "      <td>0.535940</td>\n",
       "    </tr>\n",
       "    <tr>\n",
       "      <th>2</th>\n",
       "      <td>0.087581</td>\n",
       "      <td>0.326718</td>\n",
       "      <td>0.898627</td>\n",
       "      <td>0.013803</td>\n",
       "    </tr>\n",
       "    <tr>\n",
       "      <th>3</th>\n",
       "      <td>0.618414</td>\n",
       "      <td>0.513233</td>\n",
       "      <td>0.549363</td>\n",
       "      <td>0.499524</td>\n",
       "    </tr>\n",
       "    <tr>\n",
       "      <th>4</th>\n",
       "      <td>0.462905</td>\n",
       "      <td>0.739670</td>\n",
       "      <td>0.828832</td>\n",
       "      <td>0.389436</td>\n",
       "    </tr>\n",
       "    <tr>\n",
       "      <th>5</th>\n",
       "      <td>0.922584</td>\n",
       "      <td>0.146260</td>\n",
       "      <td>0.930973</td>\n",
       "      <td>0.500265</td>\n",
       "    </tr>\n",
       "  </tbody>\n",
       "</table>\n",
       "</div>"
      ],
      "text/plain": [
       "          B         C         D         E\n",
       "1  0.681266  0.368295  0.487846  0.535940\n",
       "2  0.087581  0.326718  0.898627  0.013803\n",
       "3  0.618414  0.513233  0.549363  0.499524\n",
       "4  0.462905  0.739670  0.828832  0.389436\n",
       "5  0.922584  0.146260  0.930973  0.500265"
      ]
     },
     "execution_count": 125,
     "metadata": {},
     "output_type": "execute_result"
    }
   ],
   "source": [
    "newDf.drop(0).head()"
   ]
  },
  {
   "cell_type": "code",
   "execution_count": 126,
   "id": "005bba18",
   "metadata": {},
   "outputs": [],
   "source": [
    "# newDf.drop(0, axis=1)"
   ]
  },
  {
   "cell_type": "code",
   "execution_count": 127,
   "id": "01ee438f",
   "metadata": {},
   "outputs": [],
   "source": [
    "# newDf.drop(\"B\", axis=1).head()"
   ]
  },
  {
   "cell_type": "code",
   "execution_count": 128,
   "id": "8970efaf",
   "metadata": {},
   "outputs": [
    {
     "data": {
      "text/html": [
       "<div>\n",
       "<style scoped>\n",
       "    .dataframe tbody tr th:only-of-type {\n",
       "        vertical-align: middle;\n",
       "    }\n",
       "\n",
       "    .dataframe tbody tr th {\n",
       "        vertical-align: top;\n",
       "    }\n",
       "\n",
       "    .dataframe thead th {\n",
       "        text-align: right;\n",
       "    }\n",
       "</style>\n",
       "<table border=\"1\" class=\"dataframe\">\n",
       "  <thead>\n",
       "    <tr style=\"text-align: right;\">\n",
       "      <th></th>\n",
       "      <th>B</th>\n",
       "      <th>E</th>\n",
       "    </tr>\n",
       "  </thead>\n",
       "  <tbody>\n",
       "    <tr>\n",
       "      <th>0</th>\n",
       "      <td>555.000000</td>\n",
       "      <td>0.352968</td>\n",
       "    </tr>\n",
       "    <tr>\n",
       "      <th>1</th>\n",
       "      <td>0.681266</td>\n",
       "      <td>0.535940</td>\n",
       "    </tr>\n",
       "    <tr>\n",
       "      <th>2</th>\n",
       "      <td>0.087581</td>\n",
       "      <td>0.013803</td>\n",
       "    </tr>\n",
       "    <tr>\n",
       "      <th>3</th>\n",
       "      <td>0.618414</td>\n",
       "      <td>0.499524</td>\n",
       "    </tr>\n",
       "    <tr>\n",
       "      <th>4</th>\n",
       "      <td>0.462905</td>\n",
       "      <td>0.389436</td>\n",
       "    </tr>\n",
       "  </tbody>\n",
       "</table>\n",
       "</div>"
      ],
      "text/plain": [
       "            B         E\n",
       "0  555.000000  0.352968\n",
       "1    0.681266  0.535940\n",
       "2    0.087581  0.013803\n",
       "3    0.618414  0.499524\n",
       "4    0.462905  0.389436"
      ]
     },
     "execution_count": 128,
     "metadata": {},
     "output_type": "execute_result"
    }
   ],
   "source": [
    "newDf.drop([\"C\", \"D\"], axis=1).head()"
   ]
  },
  {
   "cell_type": "code",
   "execution_count": 129,
   "id": "6f8ebaec",
   "metadata": {},
   "outputs": [
    {
     "data": {
      "text/html": [
       "<div>\n",
       "<style scoped>\n",
       "    .dataframe tbody tr th:only-of-type {\n",
       "        vertical-align: middle;\n",
       "    }\n",
       "\n",
       "    .dataframe tbody tr th {\n",
       "        vertical-align: top;\n",
       "    }\n",
       "\n",
       "    .dataframe thead th {\n",
       "        text-align: right;\n",
       "    }\n",
       "</style>\n",
       "<table border=\"1\" class=\"dataframe\">\n",
       "  <thead>\n",
       "    <tr style=\"text-align: right;\">\n",
       "      <th></th>\n",
       "      <th>B</th>\n",
       "      <th>C</th>\n",
       "      <th>D</th>\n",
       "      <th>E</th>\n",
       "    </tr>\n",
       "  </thead>\n",
       "  <tbody>\n",
       "    <tr>\n",
       "      <th>0</th>\n",
       "      <td>555.000000</td>\n",
       "      <td>0.092199</td>\n",
       "      <td>0.226521</td>\n",
       "      <td>0.352968</td>\n",
       "    </tr>\n",
       "    <tr>\n",
       "      <th>1</th>\n",
       "      <td>0.681266</td>\n",
       "      <td>0.368295</td>\n",
       "      <td>0.487846</td>\n",
       "      <td>0.535940</td>\n",
       "    </tr>\n",
       "    <tr>\n",
       "      <th>2</th>\n",
       "      <td>0.087581</td>\n",
       "      <td>0.326718</td>\n",
       "      <td>0.898627</td>\n",
       "      <td>0.013803</td>\n",
       "    </tr>\n",
       "    <tr>\n",
       "      <th>3</th>\n",
       "      <td>0.618414</td>\n",
       "      <td>0.513233</td>\n",
       "      <td>0.549363</td>\n",
       "      <td>0.499524</td>\n",
       "    </tr>\n",
       "    <tr>\n",
       "      <th>4</th>\n",
       "      <td>0.462905</td>\n",
       "      <td>0.739670</td>\n",
       "      <td>0.828832</td>\n",
       "      <td>0.389436</td>\n",
       "    </tr>\n",
       "  </tbody>\n",
       "</table>\n",
       "</div>"
      ],
      "text/plain": [
       "            B         C         D         E\n",
       "0  555.000000  0.092199  0.226521  0.352968\n",
       "1    0.681266  0.368295  0.487846  0.535940\n",
       "2    0.087581  0.326718  0.898627  0.013803\n",
       "3    0.618414  0.513233  0.549363  0.499524\n",
       "4    0.462905  0.739670  0.828832  0.389436"
      ]
     },
     "execution_count": 129,
     "metadata": {},
     "output_type": "execute_result"
    }
   ],
   "source": [
    "newDf.head()"
   ]
  },
  {
   "cell_type": "code",
   "execution_count": 130,
   "id": "499f3c14",
   "metadata": {},
   "outputs": [],
   "source": [
    "newDf.drop(['B', 'D'], axis=1, inplace=True)"
   ]
  },
  {
   "cell_type": "code",
   "execution_count": 131,
   "id": "d244b30c",
   "metadata": {},
   "outputs": [
    {
     "data": {
      "text/html": [
       "<div>\n",
       "<style scoped>\n",
       "    .dataframe tbody tr th:only-of-type {\n",
       "        vertical-align: middle;\n",
       "    }\n",
       "\n",
       "    .dataframe tbody tr th {\n",
       "        vertical-align: top;\n",
       "    }\n",
       "\n",
       "    .dataframe thead th {\n",
       "        text-align: right;\n",
       "    }\n",
       "</style>\n",
       "<table border=\"1\" class=\"dataframe\">\n",
       "  <thead>\n",
       "    <tr style=\"text-align: right;\">\n",
       "      <th></th>\n",
       "      <th>C</th>\n",
       "      <th>E</th>\n",
       "    </tr>\n",
       "  </thead>\n",
       "  <tbody>\n",
       "    <tr>\n",
       "      <th>0</th>\n",
       "      <td>0.092199</td>\n",
       "      <td>0.352968</td>\n",
       "    </tr>\n",
       "    <tr>\n",
       "      <th>1</th>\n",
       "      <td>0.368295</td>\n",
       "      <td>0.535940</td>\n",
       "    </tr>\n",
       "    <tr>\n",
       "      <th>2</th>\n",
       "      <td>0.326718</td>\n",
       "      <td>0.013803</td>\n",
       "    </tr>\n",
       "    <tr>\n",
       "      <th>3</th>\n",
       "      <td>0.513233</td>\n",
       "      <td>0.499524</td>\n",
       "    </tr>\n",
       "    <tr>\n",
       "      <th>4</th>\n",
       "      <td>0.739670</td>\n",
       "      <td>0.389436</td>\n",
       "    </tr>\n",
       "  </tbody>\n",
       "</table>\n",
       "</div>"
      ],
      "text/plain": [
       "          C         E\n",
       "0  0.092199  0.352968\n",
       "1  0.368295  0.535940\n",
       "2  0.326718  0.013803\n",
       "3  0.513233  0.499524\n",
       "4  0.739670  0.389436"
      ]
     },
     "execution_count": 131,
     "metadata": {},
     "output_type": "execute_result"
    }
   ],
   "source": [
    "newDf.head()"
   ]
  },
  {
   "cell_type": "code",
   "execution_count": 132,
   "id": "19724ab8",
   "metadata": {},
   "outputs": [
    {
     "data": {
      "text/html": [
       "<div>\n",
       "<style scoped>\n",
       "    .dataframe tbody tr th:only-of-type {\n",
       "        vertical-align: middle;\n",
       "    }\n",
       "\n",
       "    .dataframe tbody tr th {\n",
       "        vertical-align: top;\n",
       "    }\n",
       "\n",
       "    .dataframe thead th {\n",
       "        text-align: right;\n",
       "    }\n",
       "</style>\n",
       "<table border=\"1\" class=\"dataframe\">\n",
       "  <thead>\n",
       "    <tr style=\"text-align: right;\">\n",
       "      <th></th>\n",
       "      <th>index</th>\n",
       "      <th>C</th>\n",
       "      <th>E</th>\n",
       "    </tr>\n",
       "  </thead>\n",
       "  <tbody>\n",
       "    <tr>\n",
       "      <th>0</th>\n",
       "      <td>0</td>\n",
       "      <td>0.092199</td>\n",
       "      <td>0.352968</td>\n",
       "    </tr>\n",
       "    <tr>\n",
       "      <th>1</th>\n",
       "      <td>1</td>\n",
       "      <td>0.368295</td>\n",
       "      <td>0.535940</td>\n",
       "    </tr>\n",
       "    <tr>\n",
       "      <th>2</th>\n",
       "      <td>2</td>\n",
       "      <td>0.326718</td>\n",
       "      <td>0.013803</td>\n",
       "    </tr>\n",
       "    <tr>\n",
       "      <th>3</th>\n",
       "      <td>3</td>\n",
       "      <td>0.513233</td>\n",
       "      <td>0.499524</td>\n",
       "    </tr>\n",
       "    <tr>\n",
       "      <th>4</th>\n",
       "      <td>4</td>\n",
       "      <td>0.739670</td>\n",
       "      <td>0.389436</td>\n",
       "    </tr>\n",
       "  </tbody>\n",
       "</table>\n",
       "</div>"
      ],
      "text/plain": [
       "   index         C         E\n",
       "0      0  0.092199  0.352968\n",
       "1      1  0.368295  0.535940\n",
       "2      2  0.326718  0.013803\n",
       "3      3  0.513233  0.499524\n",
       "4      4  0.739670  0.389436"
      ]
     },
     "execution_count": 132,
     "metadata": {},
     "output_type": "execute_result"
    }
   ],
   "source": [
    "newDf.reset_index().head()"
   ]
  },
  {
   "cell_type": "code",
   "execution_count": 133,
   "id": "d3f8806e",
   "metadata": {},
   "outputs": [
    {
     "data": {
      "text/html": [
       "<div>\n",
       "<style scoped>\n",
       "    .dataframe tbody tr th:only-of-type {\n",
       "        vertical-align: middle;\n",
       "    }\n",
       "\n",
       "    .dataframe tbody tr th {\n",
       "        vertical-align: top;\n",
       "    }\n",
       "\n",
       "    .dataframe thead th {\n",
       "        text-align: right;\n",
       "    }\n",
       "</style>\n",
       "<table border=\"1\" class=\"dataframe\">\n",
       "  <thead>\n",
       "    <tr style=\"text-align: right;\">\n",
       "      <th></th>\n",
       "      <th>C</th>\n",
       "      <th>E</th>\n",
       "    </tr>\n",
       "  </thead>\n",
       "  <tbody>\n",
       "    <tr>\n",
       "      <th>0</th>\n",
       "      <td>0.092199</td>\n",
       "      <td>0.352968</td>\n",
       "    </tr>\n",
       "    <tr>\n",
       "      <th>1</th>\n",
       "      <td>0.368295</td>\n",
       "      <td>0.535940</td>\n",
       "    </tr>\n",
       "    <tr>\n",
       "      <th>2</th>\n",
       "      <td>0.326718</td>\n",
       "      <td>0.013803</td>\n",
       "    </tr>\n",
       "    <tr>\n",
       "      <th>3</th>\n",
       "      <td>0.513233</td>\n",
       "      <td>0.499524</td>\n",
       "    </tr>\n",
       "    <tr>\n",
       "      <th>4</th>\n",
       "      <td>0.739670</td>\n",
       "      <td>0.389436</td>\n",
       "    </tr>\n",
       "  </tbody>\n",
       "</table>\n",
       "</div>"
      ],
      "text/plain": [
       "          C         E\n",
       "0  0.092199  0.352968\n",
       "1  0.368295  0.535940\n",
       "2  0.326718  0.013803\n",
       "3  0.513233  0.499524\n",
       "4  0.739670  0.389436"
      ]
     },
     "execution_count": 133,
     "metadata": {},
     "output_type": "execute_result"
    }
   ],
   "source": [
    "newDf.reset_index(drop=True).head()"
   ]
  },
  {
   "cell_type": "code",
   "execution_count": 134,
   "id": "1eb2fb2c",
   "metadata": {},
   "outputs": [
    {
     "data": {
      "text/html": [
       "<div>\n",
       "<style scoped>\n",
       "    .dataframe tbody tr th:only-of-type {\n",
       "        vertical-align: middle;\n",
       "    }\n",
       "\n",
       "    .dataframe tbody tr th {\n",
       "        vertical-align: top;\n",
       "    }\n",
       "\n",
       "    .dataframe thead th {\n",
       "        text-align: right;\n",
       "    }\n",
       "</style>\n",
       "<table border=\"1\" class=\"dataframe\">\n",
       "  <thead>\n",
       "    <tr style=\"text-align: right;\">\n",
       "      <th></th>\n",
       "      <th>C</th>\n",
       "      <th>E</th>\n",
       "    </tr>\n",
       "  </thead>\n",
       "  <tbody>\n",
       "    <tr>\n",
       "      <th>0</th>\n",
       "      <td>0.092199</td>\n",
       "      <td>0.352968</td>\n",
       "    </tr>\n",
       "    <tr>\n",
       "      <th>1</th>\n",
       "      <td>0.368295</td>\n",
       "      <td>0.535940</td>\n",
       "    </tr>\n",
       "    <tr>\n",
       "      <th>2</th>\n",
       "      <td>0.326718</td>\n",
       "      <td>0.013803</td>\n",
       "    </tr>\n",
       "    <tr>\n",
       "      <th>3</th>\n",
       "      <td>0.513233</td>\n",
       "      <td>0.499524</td>\n",
       "    </tr>\n",
       "    <tr>\n",
       "      <th>4</th>\n",
       "      <td>0.739670</td>\n",
       "      <td>0.389436</td>\n",
       "    </tr>\n",
       "  </tbody>\n",
       "</table>\n",
       "</div>"
      ],
      "text/plain": [
       "          C         E\n",
       "0  0.092199  0.352968\n",
       "1  0.368295  0.535940\n",
       "2  0.326718  0.013803\n",
       "3  0.513233  0.499524\n",
       "4  0.739670  0.389436"
      ]
     },
     "execution_count": 134,
     "metadata": {},
     "output_type": "execute_result"
    }
   ],
   "source": [
    "newDf.head()"
   ]
  },
  {
   "cell_type": "code",
   "execution_count": 135,
   "id": "426b76d6",
   "metadata": {},
   "outputs": [],
   "source": [
    "newDf.reset_index(drop=True, inplace=True)"
   ]
  },
  {
   "cell_type": "code",
   "execution_count": 136,
   "id": "478ae7d5",
   "metadata": {},
   "outputs": [
    {
     "data": {
      "text/html": [
       "<div>\n",
       "<style scoped>\n",
       "    .dataframe tbody tr th:only-of-type {\n",
       "        vertical-align: middle;\n",
       "    }\n",
       "\n",
       "    .dataframe tbody tr th {\n",
       "        vertical-align: top;\n",
       "    }\n",
       "\n",
       "    .dataframe thead th {\n",
       "        text-align: right;\n",
       "    }\n",
       "</style>\n",
       "<table border=\"1\" class=\"dataframe\">\n",
       "  <thead>\n",
       "    <tr style=\"text-align: right;\">\n",
       "      <th></th>\n",
       "      <th>C</th>\n",
       "      <th>E</th>\n",
       "    </tr>\n",
       "  </thead>\n",
       "  <tbody>\n",
       "    <tr>\n",
       "      <th>0</th>\n",
       "      <td>0.092199</td>\n",
       "      <td>0.352968</td>\n",
       "    </tr>\n",
       "    <tr>\n",
       "      <th>1</th>\n",
       "      <td>0.368295</td>\n",
       "      <td>0.535940</td>\n",
       "    </tr>\n",
       "    <tr>\n",
       "      <th>2</th>\n",
       "      <td>0.326718</td>\n",
       "      <td>0.013803</td>\n",
       "    </tr>\n",
       "    <tr>\n",
       "      <th>3</th>\n",
       "      <td>0.513233</td>\n",
       "      <td>0.499524</td>\n",
       "    </tr>\n",
       "    <tr>\n",
       "      <th>4</th>\n",
       "      <td>0.739670</td>\n",
       "      <td>0.389436</td>\n",
       "    </tr>\n",
       "  </tbody>\n",
       "</table>\n",
       "</div>"
      ],
      "text/plain": [
       "          C         E\n",
       "0  0.092199  0.352968\n",
       "1  0.368295  0.535940\n",
       "2  0.326718  0.013803\n",
       "3  0.513233  0.499524\n",
       "4  0.739670  0.389436"
      ]
     },
     "execution_count": 136,
     "metadata": {},
     "output_type": "execute_result"
    }
   ],
   "source": [
    "newDf.head()"
   ]
  },
  {
   "cell_type": "markdown",
   "id": "45d17cd2-5567-4474-a2ec-ceb2984670ff",
   "metadata": {},
   "source": [
    "# Groupby\n",
    "The groupby method allows you to group rows of data together and call aggregate functions\n",
    "\n",
    "​\n",
    "​"
   ]
  },
  {
   "cell_type": "code",
   "execution_count": 137,
   "id": "321a8e7b",
   "metadata": {},
   "outputs": [],
   "source": [
    "data = {'Company':['GOOG','GOOG','MSFT','MSFT','FB','FB'],\n",
    "       'Person':['Sam','Charlie','Amy','Vanessa','Carl','Sarah'],\n",
    "       'Sales':[200,120,340,124,243,350]}"
   ]
  },
  {
   "cell_type": "code",
   "execution_count": 138,
   "id": "29c08d6a-6192-425e-b9a3-83801a5fa519",
   "metadata": {},
   "outputs": [],
   "source": [
    "df = pd.DataFrame(data)"
   ]
  },
  {
   "cell_type": "code",
   "execution_count": 139,
   "id": "afa78917-5b28-4d6d-b6f7-d782bce047b7",
   "metadata": {},
   "outputs": [
    {
     "data": {
      "text/html": [
       "<div>\n",
       "<style scoped>\n",
       "    .dataframe tbody tr th:only-of-type {\n",
       "        vertical-align: middle;\n",
       "    }\n",
       "\n",
       "    .dataframe tbody tr th {\n",
       "        vertical-align: top;\n",
       "    }\n",
       "\n",
       "    .dataframe thead th {\n",
       "        text-align: right;\n",
       "    }\n",
       "</style>\n",
       "<table border=\"1\" class=\"dataframe\">\n",
       "  <thead>\n",
       "    <tr style=\"text-align: right;\">\n",
       "      <th></th>\n",
       "      <th>Company</th>\n",
       "      <th>Person</th>\n",
       "      <th>Sales</th>\n",
       "    </tr>\n",
       "  </thead>\n",
       "  <tbody>\n",
       "    <tr>\n",
       "      <th>0</th>\n",
       "      <td>GOOG</td>\n",
       "      <td>Sam</td>\n",
       "      <td>200</td>\n",
       "    </tr>\n",
       "    <tr>\n",
       "      <th>1</th>\n",
       "      <td>GOOG</td>\n",
       "      <td>Charlie</td>\n",
       "      <td>120</td>\n",
       "    </tr>\n",
       "    <tr>\n",
       "      <th>2</th>\n",
       "      <td>MSFT</td>\n",
       "      <td>Amy</td>\n",
       "      <td>340</td>\n",
       "    </tr>\n",
       "    <tr>\n",
       "      <th>3</th>\n",
       "      <td>MSFT</td>\n",
       "      <td>Vanessa</td>\n",
       "      <td>124</td>\n",
       "    </tr>\n",
       "    <tr>\n",
       "      <th>4</th>\n",
       "      <td>FB</td>\n",
       "      <td>Carl</td>\n",
       "      <td>243</td>\n",
       "    </tr>\n",
       "    <tr>\n",
       "      <th>5</th>\n",
       "      <td>FB</td>\n",
       "      <td>Sarah</td>\n",
       "      <td>350</td>\n",
       "    </tr>\n",
       "  </tbody>\n",
       "</table>\n",
       "</div>"
      ],
      "text/plain": [
       "  Company   Person  Sales\n",
       "0    GOOG      Sam    200\n",
       "1    GOOG  Charlie    120\n",
       "2    MSFT      Amy    340\n",
       "3    MSFT  Vanessa    124\n",
       "4      FB     Carl    243\n",
       "5      FB    Sarah    350"
      ]
     },
     "execution_count": 139,
     "metadata": {},
     "output_type": "execute_result"
    }
   ],
   "source": [
    "df"
   ]
  },
  {
   "cell_type": "markdown",
   "id": "c9fa6ecd-3687-49c0-92cc-260f6fa64c8b",
   "metadata": {},
   "source": [
    "### Now you can use the .groupby() method to group rows together based off of a column name.\n",
    "For instance let's group based off of Company. This will create a DataFrameGroupBy object:"
   ]
  },
  {
   "cell_type": "code",
   "execution_count": 140,
   "id": "82a87de3-6f8c-4e78-a337-067df0eacadb",
   "metadata": {},
   "outputs": [
    {
     "data": {
      "text/plain": [
       "<pandas.core.groupby.generic.DataFrameGroupBy object at 0x0000016855DC9D48>"
      ]
     },
     "execution_count": 140,
     "metadata": {},
     "output_type": "execute_result"
    }
   ],
   "source": [
    "df.groupby('Company')"
   ]
  },
  {
   "cell_type": "markdown",
   "id": "79e87860-497b-4421-b073-57f8c635f9e2",
   "metadata": {},
   "source": [
    "##### You can save this object as a new variable:"
   ]
  },
  {
   "cell_type": "code",
   "execution_count": 141,
   "id": "bc653e03-6843-40cc-9ef7-ada128e011f2",
   "metadata": {},
   "outputs": [
    {
     "data": {
      "text/plain": [
       "pandas.core.groupby.generic.DataFrameGroupBy"
      ]
     },
     "execution_count": 141,
     "metadata": {},
     "output_type": "execute_result"
    }
   ],
   "source": [
    "by_comp = df.groupby(\"Company\")\n",
    "type(by_comp)"
   ]
  },
  {
   "cell_type": "markdown",
   "id": "6722c7d4-1fcb-47bd-a82d-5f417aa06668",
   "metadata": {},
   "source": [
    "#### And then call aggregate methods of the object:"
   ]
  },
  {
   "cell_type": "code",
   "execution_count": null,
   "id": "f82b5e22-49fb-41ff-a9f9-a47d81490804",
   "metadata": {},
   "outputs": [],
   "source": []
  },
  {
   "cell_type": "code",
   "execution_count": 142,
   "id": "f9542a6e-71fd-458c-8c35-56255b20a4f8",
   "metadata": {},
   "outputs": [
    {
     "data": {
      "text/html": [
       "<div>\n",
       "<style scoped>\n",
       "    .dataframe tbody tr th:only-of-type {\n",
       "        vertical-align: middle;\n",
       "    }\n",
       "\n",
       "    .dataframe tbody tr th {\n",
       "        vertical-align: top;\n",
       "    }\n",
       "\n",
       "    .dataframe thead th {\n",
       "        text-align: right;\n",
       "    }\n",
       "</style>\n",
       "<table border=\"1\" class=\"dataframe\">\n",
       "  <thead>\n",
       "    <tr style=\"text-align: right;\">\n",
       "      <th></th>\n",
       "      <th>Sales</th>\n",
       "    </tr>\n",
       "    <tr>\n",
       "      <th>Company</th>\n",
       "      <th></th>\n",
       "    </tr>\n",
       "  </thead>\n",
       "  <tbody>\n",
       "    <tr>\n",
       "      <th>FB</th>\n",
       "      <td>296.5</td>\n",
       "    </tr>\n",
       "    <tr>\n",
       "      <th>GOOG</th>\n",
       "      <td>160.0</td>\n",
       "    </tr>\n",
       "    <tr>\n",
       "      <th>MSFT</th>\n",
       "      <td>232.0</td>\n",
       "    </tr>\n",
       "  </tbody>\n",
       "</table>\n",
       "</div>"
      ],
      "text/plain": [
       "         Sales\n",
       "Company       \n",
       "FB       296.5\n",
       "GOOG     160.0\n",
       "MSFT     232.0"
      ]
     },
     "execution_count": 142,
     "metadata": {},
     "output_type": "execute_result"
    }
   ],
   "source": [
    "by_comp.mean()"
   ]
  },
  {
   "cell_type": "code",
   "execution_count": 143,
   "id": "43a7e580-2f64-4f58-8dcf-226b9008f9fd",
   "metadata": {},
   "outputs": [
    {
     "data": {
      "text/html": [
       "<div>\n",
       "<style scoped>\n",
       "    .dataframe tbody tr th:only-of-type {\n",
       "        vertical-align: middle;\n",
       "    }\n",
       "\n",
       "    .dataframe tbody tr th {\n",
       "        vertical-align: top;\n",
       "    }\n",
       "\n",
       "    .dataframe thead th {\n",
       "        text-align: right;\n",
       "    }\n",
       "</style>\n",
       "<table border=\"1\" class=\"dataframe\">\n",
       "  <thead>\n",
       "    <tr style=\"text-align: right;\">\n",
       "      <th></th>\n",
       "      <th>Sales</th>\n",
       "    </tr>\n",
       "    <tr>\n",
       "      <th>Company</th>\n",
       "      <th></th>\n",
       "    </tr>\n",
       "  </thead>\n",
       "  <tbody>\n",
       "    <tr>\n",
       "      <th>FB</th>\n",
       "      <td>296.5</td>\n",
       "    </tr>\n",
       "    <tr>\n",
       "      <th>GOOG</th>\n",
       "      <td>160.0</td>\n",
       "    </tr>\n",
       "    <tr>\n",
       "      <th>MSFT</th>\n",
       "      <td>232.0</td>\n",
       "    </tr>\n",
       "  </tbody>\n",
       "</table>\n",
       "</div>"
      ],
      "text/plain": [
       "         Sales\n",
       "Company       \n",
       "FB       296.5\n",
       "GOOG     160.0\n",
       "MSFT     232.0"
      ]
     },
     "execution_count": 143,
     "metadata": {},
     "output_type": "execute_result"
    }
   ],
   "source": [
    "df.groupby('Company').mean()"
   ]
  },
  {
   "cell_type": "code",
   "execution_count": 144,
   "id": "83b303f9-625c-4829-abc8-6e320b414fda",
   "metadata": {},
   "outputs": [
    {
     "data": {
      "text/html": [
       "<div>\n",
       "<style scoped>\n",
       "    .dataframe tbody tr th:only-of-type {\n",
       "        vertical-align: middle;\n",
       "    }\n",
       "\n",
       "    .dataframe tbody tr th {\n",
       "        vertical-align: top;\n",
       "    }\n",
       "\n",
       "    .dataframe thead th {\n",
       "        text-align: right;\n",
       "    }\n",
       "</style>\n",
       "<table border=\"1\" class=\"dataframe\">\n",
       "  <thead>\n",
       "    <tr style=\"text-align: right;\">\n",
       "      <th></th>\n",
       "      <th>Sales</th>\n",
       "    </tr>\n",
       "    <tr>\n",
       "      <th>Company</th>\n",
       "      <th></th>\n",
       "    </tr>\n",
       "  </thead>\n",
       "  <tbody>\n",
       "    <tr>\n",
       "      <th>FB</th>\n",
       "      <td>75.660426</td>\n",
       "    </tr>\n",
       "    <tr>\n",
       "      <th>GOOG</th>\n",
       "      <td>56.568542</td>\n",
       "    </tr>\n",
       "    <tr>\n",
       "      <th>MSFT</th>\n",
       "      <td>152.735065</td>\n",
       "    </tr>\n",
       "  </tbody>\n",
       "</table>\n",
       "</div>"
      ],
      "text/plain": [
       "              Sales\n",
       "Company            \n",
       "FB        75.660426\n",
       "GOOG      56.568542\n",
       "MSFT     152.735065"
      ]
     },
     "execution_count": 144,
     "metadata": {},
     "output_type": "execute_result"
    }
   ],
   "source": [
    "by_comp.std()"
   ]
  },
  {
   "cell_type": "code",
   "execution_count": 145,
   "id": "099a0ec6-2d70-4c7b-b6d3-78408d22b86d",
   "metadata": {},
   "outputs": [
    {
     "data": {
      "text/html": [
       "<div>\n",
       "<style scoped>\n",
       "    .dataframe tbody tr th:only-of-type {\n",
       "        vertical-align: middle;\n",
       "    }\n",
       "\n",
       "    .dataframe tbody tr th {\n",
       "        vertical-align: top;\n",
       "    }\n",
       "\n",
       "    .dataframe thead th {\n",
       "        text-align: right;\n",
       "    }\n",
       "</style>\n",
       "<table border=\"1\" class=\"dataframe\">\n",
       "  <thead>\n",
       "    <tr style=\"text-align: right;\">\n",
       "      <th></th>\n",
       "      <th>Person</th>\n",
       "      <th>Sales</th>\n",
       "    </tr>\n",
       "    <tr>\n",
       "      <th>Company</th>\n",
       "      <th></th>\n",
       "      <th></th>\n",
       "    </tr>\n",
       "  </thead>\n",
       "  <tbody>\n",
       "    <tr>\n",
       "      <th>FB</th>\n",
       "      <td>Carl</td>\n",
       "      <td>243</td>\n",
       "    </tr>\n",
       "    <tr>\n",
       "      <th>GOOG</th>\n",
       "      <td>Charlie</td>\n",
       "      <td>120</td>\n",
       "    </tr>\n",
       "    <tr>\n",
       "      <th>MSFT</th>\n",
       "      <td>Amy</td>\n",
       "      <td>124</td>\n",
       "    </tr>\n",
       "  </tbody>\n",
       "</table>\n",
       "</div>"
      ],
      "text/plain": [
       "          Person  Sales\n",
       "Company                \n",
       "FB          Carl    243\n",
       "GOOG     Charlie    120\n",
       "MSFT         Amy    124"
      ]
     },
     "execution_count": 145,
     "metadata": {},
     "output_type": "execute_result"
    }
   ],
   "source": [
    "by_comp.min()"
   ]
  },
  {
   "cell_type": "code",
   "execution_count": 146,
   "id": "de064240-1551-44b2-a5e2-6aa59b59cfed",
   "metadata": {},
   "outputs": [
    {
     "data": {
      "text/html": [
       "<div>\n",
       "<style scoped>\n",
       "    .dataframe tbody tr th:only-of-type {\n",
       "        vertical-align: middle;\n",
       "    }\n",
       "\n",
       "    .dataframe tbody tr th {\n",
       "        vertical-align: top;\n",
       "    }\n",
       "\n",
       "    .dataframe thead th {\n",
       "        text-align: right;\n",
       "    }\n",
       "</style>\n",
       "<table border=\"1\" class=\"dataframe\">\n",
       "  <thead>\n",
       "    <tr style=\"text-align: right;\">\n",
       "      <th></th>\n",
       "      <th>Person</th>\n",
       "      <th>Sales</th>\n",
       "    </tr>\n",
       "    <tr>\n",
       "      <th>Company</th>\n",
       "      <th></th>\n",
       "      <th></th>\n",
       "    </tr>\n",
       "  </thead>\n",
       "  <tbody>\n",
       "    <tr>\n",
       "      <th>FB</th>\n",
       "      <td>Sarah</td>\n",
       "      <td>350</td>\n",
       "    </tr>\n",
       "    <tr>\n",
       "      <th>GOOG</th>\n",
       "      <td>Sam</td>\n",
       "      <td>200</td>\n",
       "    </tr>\n",
       "    <tr>\n",
       "      <th>MSFT</th>\n",
       "      <td>Vanessa</td>\n",
       "      <td>340</td>\n",
       "    </tr>\n",
       "  </tbody>\n",
       "</table>\n",
       "</div>"
      ],
      "text/plain": [
       "          Person  Sales\n",
       "Company                \n",
       "FB         Sarah    350\n",
       "GOOG         Sam    200\n",
       "MSFT     Vanessa    340"
      ]
     },
     "execution_count": 146,
     "metadata": {},
     "output_type": "execute_result"
    }
   ],
   "source": [
    "by_comp.max()"
   ]
  },
  {
   "cell_type": "code",
   "execution_count": 147,
   "id": "0f2eaad7-ee3b-4664-80cf-3cdbd81a2d94",
   "metadata": {},
   "outputs": [
    {
     "data": {
      "text/html": [
       "<div>\n",
       "<style scoped>\n",
       "    .dataframe tbody tr th:only-of-type {\n",
       "        vertical-align: middle;\n",
       "    }\n",
       "\n",
       "    .dataframe tbody tr th {\n",
       "        vertical-align: top;\n",
       "    }\n",
       "\n",
       "    .dataframe thead th {\n",
       "        text-align: right;\n",
       "    }\n",
       "</style>\n",
       "<table border=\"1\" class=\"dataframe\">\n",
       "  <thead>\n",
       "    <tr style=\"text-align: right;\">\n",
       "      <th></th>\n",
       "      <th>Person</th>\n",
       "      <th>Sales</th>\n",
       "    </tr>\n",
       "    <tr>\n",
       "      <th>Company</th>\n",
       "      <th></th>\n",
       "      <th></th>\n",
       "    </tr>\n",
       "  </thead>\n",
       "  <tbody>\n",
       "    <tr>\n",
       "      <th>FB</th>\n",
       "      <td>2</td>\n",
       "      <td>2</td>\n",
       "    </tr>\n",
       "    <tr>\n",
       "      <th>GOOG</th>\n",
       "      <td>2</td>\n",
       "      <td>2</td>\n",
       "    </tr>\n",
       "    <tr>\n",
       "      <th>MSFT</th>\n",
       "      <td>2</td>\n",
       "      <td>2</td>\n",
       "    </tr>\n",
       "  </tbody>\n",
       "</table>\n",
       "</div>"
      ],
      "text/plain": [
       "         Person  Sales\n",
       "Company               \n",
       "FB            2      2\n",
       "GOOG          2      2\n",
       "MSFT          2      2"
      ]
     },
     "execution_count": 147,
     "metadata": {},
     "output_type": "execute_result"
    }
   ],
   "source": [
    "by_comp.count()"
   ]
  },
  {
   "cell_type": "code",
   "execution_count": 148,
   "id": "67f5bea3-09bd-45d4-8d41-7a5f1a4c18e8",
   "metadata": {},
   "outputs": [
    {
     "data": {
      "text/html": [
       "<div>\n",
       "<style scoped>\n",
       "    .dataframe tbody tr th:only-of-type {\n",
       "        vertical-align: middle;\n",
       "    }\n",
       "\n",
       "    .dataframe tbody tr th {\n",
       "        vertical-align: top;\n",
       "    }\n",
       "\n",
       "    .dataframe thead tr th {\n",
       "        text-align: left;\n",
       "    }\n",
       "\n",
       "    .dataframe thead tr:last-of-type th {\n",
       "        text-align: right;\n",
       "    }\n",
       "</style>\n",
       "<table border=\"1\" class=\"dataframe\">\n",
       "  <thead>\n",
       "    <tr>\n",
       "      <th></th>\n",
       "      <th colspan=\"8\" halign=\"left\">Sales</th>\n",
       "    </tr>\n",
       "    <tr>\n",
       "      <th></th>\n",
       "      <th>count</th>\n",
       "      <th>mean</th>\n",
       "      <th>std</th>\n",
       "      <th>min</th>\n",
       "      <th>25%</th>\n",
       "      <th>50%</th>\n",
       "      <th>75%</th>\n",
       "      <th>max</th>\n",
       "    </tr>\n",
       "    <tr>\n",
       "      <th>Company</th>\n",
       "      <th></th>\n",
       "      <th></th>\n",
       "      <th></th>\n",
       "      <th></th>\n",
       "      <th></th>\n",
       "      <th></th>\n",
       "      <th></th>\n",
       "      <th></th>\n",
       "    </tr>\n",
       "  </thead>\n",
       "  <tbody>\n",
       "    <tr>\n",
       "      <th>FB</th>\n",
       "      <td>2.0</td>\n",
       "      <td>296.5</td>\n",
       "      <td>75.660426</td>\n",
       "      <td>243.0</td>\n",
       "      <td>269.75</td>\n",
       "      <td>296.5</td>\n",
       "      <td>323.25</td>\n",
       "      <td>350.0</td>\n",
       "    </tr>\n",
       "    <tr>\n",
       "      <th>GOOG</th>\n",
       "      <td>2.0</td>\n",
       "      <td>160.0</td>\n",
       "      <td>56.568542</td>\n",
       "      <td>120.0</td>\n",
       "      <td>140.00</td>\n",
       "      <td>160.0</td>\n",
       "      <td>180.00</td>\n",
       "      <td>200.0</td>\n",
       "    </tr>\n",
       "    <tr>\n",
       "      <th>MSFT</th>\n",
       "      <td>2.0</td>\n",
       "      <td>232.0</td>\n",
       "      <td>152.735065</td>\n",
       "      <td>124.0</td>\n",
       "      <td>178.00</td>\n",
       "      <td>232.0</td>\n",
       "      <td>286.00</td>\n",
       "      <td>340.0</td>\n",
       "    </tr>\n",
       "  </tbody>\n",
       "</table>\n",
       "</div>"
      ],
      "text/plain": [
       "        Sales                                                        \n",
       "        count   mean         std    min     25%    50%     75%    max\n",
       "Company                                                              \n",
       "FB        2.0  296.5   75.660426  243.0  269.75  296.5  323.25  350.0\n",
       "GOOG      2.0  160.0   56.568542  120.0  140.00  160.0  180.00  200.0\n",
       "MSFT      2.0  232.0  152.735065  124.0  178.00  232.0  286.00  340.0"
      ]
     },
     "execution_count": 148,
     "metadata": {},
     "output_type": "execute_result"
    }
   ],
   "source": [
    "by_comp.describe()"
   ]
  },
  {
   "cell_type": "code",
   "execution_count": null,
   "id": "a0b84fbe-c58a-48e5-a8fd-833a4c7695e4",
   "metadata": {},
   "outputs": [],
   "source": []
  },
  {
   "cell_type": "code",
   "execution_count": null,
   "id": "9ce06497",
   "metadata": {},
   "outputs": [],
   "source": []
  },
  {
   "cell_type": "code",
   "execution_count": null,
   "id": "c908b24b",
   "metadata": {},
   "outputs": [],
   "source": []
  }
 ],
 "metadata": {
  "kernelspec": {
   "display_name": "Python 3 (ipykernel)",
   "language": "python",
   "name": "python3"
  },
  "language_info": {
   "codemirror_mode": {
    "name": "ipython",
    "version": 3
   },
   "file_extension": ".py",
   "mimetype": "text/x-python",
   "name": "python",
   "nbconvert_exporter": "python",
   "pygments_lexer": "ipython3",
   "version": "3.7.16"
  }
 },
 "nbformat": 4,
 "nbformat_minor": 5
}
