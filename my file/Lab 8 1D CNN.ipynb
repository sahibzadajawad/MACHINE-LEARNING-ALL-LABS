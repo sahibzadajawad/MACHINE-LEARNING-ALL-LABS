{
 "cells": [
  {
   "cell_type": "code",
   "execution_count": 64,
   "metadata": {},
   "outputs": [],
   "source": [
    "import os\n",
    "sys.path.append(r'C:\\Users\\Hp\\Desktop\\ml labs\\timeseires')"
   ]
  },
  {
   "cell_type": "code",
   "execution_count": 65,
   "metadata": {},
   "outputs": [],
   "source": [
    "import sys\n",
    "sys.path.append(r'C:\\Users\\Hp\\Desktop\\ml labs\\timeseires')\n",
    "\n",
    "from timeseires.utils.to_split import to_split\n",
    "from timeseires.utils.multivariate_multi_step import multivariate_multi_step\n",
    "from timeseires.utils.multivariate_single_step import multivariate_single_step\n",
    "from timeseires.utils.univariate_multi_step import univariate_multi_step"
   ]
  },
  {
   "cell_type": "code",
   "execution_count": 66,
   "metadata": {},
   "outputs": [],
   "source": [
    "from sklearn.metrics import mean_squared_error, mean_absolute_error, explained_variance_score, r2_score\n",
    "from timeseires.utils.to_split import to_split\n",
    "from timeseires.utils.multivariate_multi_step import multivariate_multi_step\n",
    "from timeseires.utils.multivariate_single_step import multivariate_single_step\n",
    "from timeseires.utils.univariate_multi_step import univariate_multi_step\n",
    "from timeseires.utils.univariate_single_step import univariate_single_step\n",
    "from timeseires.utils.CosineAnnealingLRS import CosineAnnealingLRS\n",
    "from timeseires.callbacks.EpochCheckpoint import EpochCheckpoint\n",
    "from tensorflow.keras.callbacks import ModelCheckpoint\n",
    "from timeseires.callbacks.TrainingMonitor import TrainingMonitor\n",
    "from tensorflow.keras.optimizers import Adam\n",
    "from tensorflow.keras.optimizers import SGD\n",
    "from tensorflow.keras.models import load_model\n",
    "from tensorflow.keras.layers import LSTM, Bidirectional, Add\n",
    "from tensorflow.keras.layers import BatchNormalization\n",
    "from tensorflow.keras.layers import Conv1D,TimeDistributed\n",
    "from tensorflow.keras.layers import Dense, Dropout, Activation, Flatten,MaxPooling1D,Concatenate,AveragePooling1D, GlobalMaxPooling1D, Input\n",
    "from tensorflow.keras.models import Sequential,Model\n",
    "import pandas as pd\n",
    "import time, pickle\n",
    "import numpy as np\n",
    "import tensorflow.keras.backend as K\n",
    "import tensorflow\n",
    "from tensorflow.keras.layers import Input, Reshape, Lambda\n",
    "from tensorflow.keras.layers import Layer, Flatten, LeakyReLU, concatenate, Dense\n",
    "from tensorflow.keras.regularizers import l2\n",
    "import glob\n",
    "import h5py\n",
    "import matplotlib.pyplot as plt\n",
    "from keras.callbacks import Callback"
   ]
  },
  {
   "cell_type": "code",
   "execution_count": 67,
   "metadata": {},
   "outputs": [],
   "source": [
    "#lookback = 24\n",
    "model = None\n",
    "start_epoch = 0\n",
    "time_steps=24\n",
    "num_features=21"
   ]
  },
  {
   "cell_type": "code",
   "execution_count": 68,
   "metadata": {},
   "outputs": [],
   "source": [
    "def CNN():\n",
    "    input_data = Input(shape=(time_steps, num_features))\n",
    "    x1 = Conv1D(16, 2, activation=\"relu\")(input_data)\n",
    "    x2 = Conv1D(16, 2, activation=\"relu\")(x1)\n",
    "    flatten = Flatten()(x2)\n",
    "    output_data = Dense(1)(flatten)\n",
    "    model = Model(input_data, output_data)\n",
    "    return model"
   ]
  },
  {
   "cell_type": "code",
   "execution_count": 69,
   "metadata": {},
   "outputs": [
    {
     "name": "stdout",
     "output_type": "stream",
     "text": [
      "Model: \"model_6\"\n",
      "_________________________________________________________________\n",
      " Layer (type)                Output Shape              Param #   \n",
      "=================================================================\n",
      " input_7 (InputLayer)        [(None, 24, 21)]          0         \n",
      "                                                                 \n",
      " conv1d_12 (Conv1D)          (None, 23, 16)            688       \n",
      "                                                                 \n",
      " conv1d_13 (Conv1D)          (None, 22, 16)            528       \n",
      "                                                                 \n",
      " flatten_6 (Flatten)         (None, 352)               0         \n",
      "                                                                 \n",
      " dense_6 (Dense)             (None, 1)                 353       \n",
      "                                                                 \n",
      "=================================================================\n",
      "Total params: 1,569\n",
      "Trainable params: 1,569\n",
      "Non-trainable params: 0\n",
      "_________________________________________________________________\n"
     ]
    }
   ],
   "source": [
    "model1 = CNN()\n",
    "model1.summary()"
   ]
  },
  {
   "cell_type": "code",
   "execution_count": null,
   "metadata": {},
   "outputs": [],
   "source": []
  },
  {
   "cell_type": "code",
   "execution_count": 70,
   "metadata": {},
   "outputs": [
    {
     "data": {
      "image/png": "[encoded data removed]",
      "text/plain": [
       "<IPython.core.display.Image object>"
      ]
     },
     "execution_count": 70,
     "metadata": {},
     "output_type": "execute_result"
    }
   ],
   "source": [
    "tensorflow.keras.utils.plot_model(model1 )"
   ]
  },
  {
   "cell_type": "code",
   "execution_count": 72,
   "metadata": {},
   "outputs": [],
   "source": [
    "checkpoints = r'C:\\Users\\Hp\\Desktop\\ml labs\\last labs\\lab 8\\E1-cp-{epoch:04d}-loss{val_loss:.2f}.h5'\n",
    "OUTPUT_PATH = r'C:\\Users\\Hp\\Desktop\\ml labs\\last labs\\lab 8'\n",
    "FIG_PATH = os.path.sep.join([OUTPUT_PATH,\"history.png\"])\n",
    "JSON_PATH = os.path.sep.join([OUTPUT_PATH,\"history.json\"])"
   ]
  },
  {
   "cell_type": "code",
   "execution_count": 73,
   "metadata": {},
   "outputs": [],
   "source": [
    "# construct the callback to save only the *best* model to disk\n",
    "# based on the validation loss\n",
    "EpochCheckpoint1 = ModelCheckpoint(checkpoints,\n",
    "                             monitor=\"val_loss\",\n",
    "                             save_best_only=True, \n",
    "                             verbose=1)\n",
    "TrainingMonitor1=TrainingMonitor(FIG_PATH, jsonPath=JSON_PATH, startAt=start_epoch)\n",
    "\n",
    "# construct the set of callbacks\n",
    "callbacks = [EpochCheckpoint1,TrainingMonitor1]"
   ]
  },
  {
   "cell_type": "code",
   "execution_count": 74,
   "metadata": {},
   "outputs": [
    {
     "name": "stdout",
     "output_type": "stream",
     "text": [
      "[INFO] compiling model...\n"
     ]
    }
   ],
   "source": [
    "# if there is no specific model checkpoint supplied, then initialize\n",
    "# the network and compile the model\n",
    "if model is None:\n",
    "    print(\"[INFO] compiling model...\")\n",
    "    model =CNN()\n",
    "    opt = Adam(1e-3)\n",
    "    model.compile(loss= 'mae', optimizer=opt, metrics=[\"mae\", \"mape\"])\n",
    "# otherwise, load the checkpoint from disk\n",
    "else:\n",
    "    print(\"[INFO] loading {}...\".format(model))\n",
    "    model = load_model(model)\n",
    "\n",
    "    # update the learning rate\n",
    "    print(\"[INFO] old learning rate: {}\".format(K.get_value(model.optimizer.lr)))\n",
    "    K.set_value(model.optimizer.lr, 1e-4)\n",
    "    print(\"[INFO] new learning rate: {}\".format(K.get_value(model.optimizer.lr)))"
   ]
  },
  {
   "cell_type": "code",
   "execution_count": 75,
   "metadata": {},
   "outputs": [
    {
     "data": {
      "text/plain": [
       "((84907, 21), (24259, 21), (12130, 21))"
      ]
     },
     "execution_count": 75,
     "metadata": {},
     "output_type": "execute_result"
    }
   ],
   "source": [
    "import os\n",
    "path_dataset =(r'C:\\Users\\Hp\\Desktop\\ml labs\\last labs\\AEP_hourly')\n",
    "path_tr = os.path.join(path_dataset, 'AEP_train.csv')\n",
    "df_tr = pd.read_csv(path_tr)\n",
    "train_set = df_tr.iloc[:].values\n",
    "path_v = os.path.join(path_dataset, 'AEP_validation.csv')\n",
    "df_v = pd.read_csv(path_v)\n",
    "validation_set = df_v.iloc[:].values \n",
    "path_te = os.path.join(path_dataset, 'AEP_test.csv')\n",
    "df_te = pd.read_csv(path_te)\n",
    "test_set = df_te.iloc[:].values \n",
    "\n",
    "path_scaler = os.path.join(path_dataset, 'AEP_Scaler.pkl')\n",
    "scaler         = pickle.load(open(path_scaler, 'rb'))\n",
    "\n",
    "train_set.shape, validation_set.shape, test_set.shape"
   ]
  },
  {
   "cell_type": "code",
   "execution_count": 76,
   "metadata": {},
   "outputs": [],
   "source": [
    "time_steps=24\n",
    "num_features=21"
   ]
  },
  {
   "cell_type": "code",
   "execution_count": 77,
   "metadata": {},
   "outputs": [
    {
     "name": "stdout",
     "output_type": "stream",
     "text": [
      "Time Consumed 1.2013497352600098 sec\n"
     ]
    }
   ],
   "source": [
    "start = time.time()\n",
    "train_X , train_y = univariate_multi_step(train_set, time_steps, target_col=0,target_len=1)\n",
    "validation_X, validation_y = univariate_multi_step(validation_set, time_steps, target_col=0,target_len=1)\n",
    "test_X, test_y = univariate_multi_step(test_set, time_steps, target_col=0,target_len=1)\n",
    "print('Time Consumed', time.time()-start, \"sec\")"
   ]
  },
  {
   "cell_type": "code",
   "execution_count": 78,
   "metadata": {},
   "outputs": [
    {
     "name": "stdout",
     "output_type": "stream",
     "text": [
      "Epoch 1/60\n",
      "2644/2653 [============================>.] - ETA: 0s - loss: 0.0428 - mae: 0.0428 - mape: 199.1020\n",
      "Epoch 1: val_loss improved from inf to 0.02688, saving model to C:\\Users\\Hp\\Desktop\\ml labs\\last labs\\lab 8\\E1-cp-0001-loss0.03.h5\n",
      "2653/2653 [==============================] - 20s 6ms/step - loss: 0.0428 - mae: 0.0428 - mape: 198.4858 - val_loss: 0.0269 - val_mae: 0.0269 - val_mape: 13.3243\n",
      "Epoch 2/60\n",
      "2640/2653 [============================>.] - ETA: 0s - loss: 0.0215 - mae: 0.0215 - mape: 485.4060\n",
      "Epoch 2: val_loss improved from 0.02688 to 0.01985, saving model to C:\\Users\\Hp\\Desktop\\ml labs\\last labs\\lab 8\\E1-cp-0002-loss0.02.h5\n",
      "2653/2653 [==============================] - 16s 6ms/step - loss: 0.0215 - mae: 0.0215 - mape: 483.1360 - val_loss: 0.0198 - val_mae: 0.0198 - val_mape: 8.8599\n",
      "Epoch 3/60\n",
      "2649/2653 [============================>.] - ETA: 0s - loss: 0.0176 - mae: 0.0176 - mape: 537.2131\n",
      "Epoch 3: val_loss improved from 0.01985 to 0.01319, saving model to C:\\Users\\Hp\\Desktop\\ml labs\\last labs\\lab 8\\E1-cp-0003-loss0.01.h5\n",
      "2653/2653 [==============================] - 15s 5ms/step - loss: 0.0176 - mae: 0.0176 - mape: 536.4998 - val_loss: 0.0132 - val_mae: 0.0132 - val_mape: 5.9029\n",
      "Epoch 4/60\n",
      "2644/2653 [============================>.] - ETA: 0s - loss: 0.0149 - mae: 0.0149 - mape: 544.5095\n",
      "Epoch 4: val_loss did not improve from 0.01319\n",
      "2653/2653 [==============================] - 15s 6ms/step - loss: 0.0149 - mae: 0.0149 - mape: 542.7700 - val_loss: 0.0141 - val_mae: 0.0141 - val_mape: 6.4342\n",
      "Epoch 5/60\n",
      "2650/2653 [============================>.] - ETA: 0s - loss: 0.0130 - mae: 0.0130 - mape: 265.0151\n",
      "Epoch 5: val_loss did not improve from 0.01319\n",
      "2653/2653 [==============================] - 15s 6ms/step - loss: 0.0130 - mae: 0.0130 - mape: 264.7624 - val_loss: 0.0135 - val_mae: 0.0135 - val_mape: 6.7663\n",
      "Epoch 6/60\n",
      "2647/2653 [============================>.] - ETA: 0s - loss: 0.0119 - mae: 0.0119 - mape: 465.1216\n",
      "Epoch 6: val_loss improved from 0.01319 to 0.01254, saving model to C:\\Users\\Hp\\Desktop\\ml labs\\last labs\\lab 8\\E1-cp-0006-loss0.01.h5\n",
      "2653/2653 [==============================] - 13s 5ms/step - loss: 0.0119 - mae: 0.0119 - mape: 464.1556 - val_loss: 0.0125 - val_mae: 0.0125 - val_mape: 6.2302\n",
      "Epoch 7/60\n",
      "2645/2653 [============================>.] - ETA: 0s - loss: 0.0113 - mae: 0.0113 - mape: 338.1846\n",
      "Epoch 7: val_loss improved from 0.01254 to 0.01075, saving model to C:\\Users\\Hp\\Desktop\\ml labs\\last labs\\lab 8\\E1-cp-0007-loss0.01.h5\n",
      "2653/2653 [==============================] - 14s 5ms/step - loss: 0.0113 - mae: 0.0113 - mape: 337.2295 - val_loss: 0.0107 - val_mae: 0.0107 - val_mape: 5.5706\n",
      "Epoch 8/60\n",
      "2643/2653 [============================>.] - ETA: 0s - loss: 0.0110 - mae: 0.0110 - mape: 229.3309\n",
      "Epoch 8: val_loss did not improve from 0.01075\n",
      "2653/2653 [==============================] - 14s 5ms/step - loss: 0.0110 - mae: 0.0110 - mape: 228.5201 - val_loss: 0.0129 - val_mae: 0.0129 - val_mape: 6.6298\n",
      "Epoch 9/60\n",
      "2653/2653 [==============================] - ETA: 0s - loss: 0.0106 - mae: 0.0106 - mape: 338.4209\n",
      "Epoch 9: val_loss improved from 0.01075 to 0.01011, saving model to C:\\Users\\Hp\\Desktop\\ml labs\\last labs\\lab 8\\E1-cp-0009-loss0.01.h5\n",
      "2653/2653 [==============================] - 14s 5ms/step - loss: 0.0106 - mae: 0.0106 - mape: 338.4209 - val_loss: 0.0101 - val_mae: 0.0101 - val_mape: 7.0080\n",
      "Epoch 10/60\n",
      "2645/2653 [============================>.] - ETA: 0s - loss: 0.0105 - mae: 0.0105 - mape: 345.2706\n",
      "Epoch 10: val_loss did not improve from 0.01011\n",
      "2653/2653 [==============================] - 14s 5ms/step - loss: 0.0105 - mae: 0.0105 - mape: 344.2971 - val_loss: 0.0119 - val_mae: 0.0119 - val_mape: 6.7377\n",
      "Epoch 11/60\n",
      "2644/2653 [============================>.] - ETA: 0s - loss: 0.0103 - mae: 0.0103 - mape: 536.7868\n",
      "Epoch 11: val_loss improved from 0.01011 to 0.00916, saving model to C:\\Users\\Hp\\Desktop\\ml labs\\last labs\\lab 8\\E1-cp-0011-loss0.01.h5\n",
      "2653/2653 [==============================] - 14s 5ms/step - loss: 0.0103 - mae: 0.0103 - mape: 535.0654 - val_loss: 0.0092 - val_mae: 0.0092 - val_mape: 5.9605\n",
      "Epoch 12/60\n",
      "2650/2653 [============================>.] - ETA: 0s - loss: 0.0101 - mae: 0.0101 - mape: 199.9836\n",
      "Epoch 12: val_loss did not improve from 0.00916\n",
      "2653/2653 [==============================] - 14s 5ms/step - loss: 0.0101 - mae: 0.0101 - mape: 199.7940 - val_loss: 0.0125 - val_mae: 0.0125 - val_mape: 7.3964\n",
      "Epoch 13/60\n",
      "2651/2653 [============================>.] - ETA: 0s - loss: 0.0098 - mae: 0.0098 - mape: 488.8170\n",
      "Epoch 13: val_loss improved from 0.00916 to 0.00875, saving model to C:\\Users\\Hp\\Desktop\\ml labs\\last labs\\lab 8\\E1-cp-0013-loss0.01.h5\n",
      "2653/2653 [==============================] - 14s 5ms/step - loss: 0.0098 - mae: 0.0098 - mape: 488.5307 - val_loss: 0.0088 - val_mae: 0.0088 - val_mape: 5.5937\n",
      "Epoch 14/60\n",
      "2644/2653 [============================>.] - ETA: 0s - loss: 0.0096 - mae: 0.0096 - mape: 531.3565\n",
      "Epoch 14: val_loss did not improve from 0.00875\n",
      "2653/2653 [==============================] - 14s 5ms/step - loss: 0.0096 - mae: 0.0096 - mape: 529.6507 - val_loss: 0.0099 - val_mae: 0.0099 - val_mape: 6.3147\n",
      "Epoch 15/60\n",
      "2643/2653 [============================>.] - ETA: 0s - loss: 0.0096 - mae: 0.0096 - mape: 491.8080\n",
      "Epoch 15: val_loss did not improve from 0.00875\n",
      "2653/2653 [==============================] - 15s 6ms/step - loss: 0.0096 - mae: 0.0096 - mape: 490.0446 - val_loss: 0.0092 - val_mae: 0.0092 - val_mape: 6.7168\n",
      "Epoch 16/60\n",
      "2653/2653 [==============================] - ETA: 0s - loss: 0.0095 - mae: 0.0095 - mape: 639.1538\n",
      "Epoch 16: val_loss did not improve from 0.00875\n",
      "2653/2653 [==============================] - 17s 6ms/step - loss: 0.0095 - mae: 0.0095 - mape: 639.1538 - val_loss: 0.0099 - val_mae: 0.0099 - val_mape: 6.8141\n",
      "Epoch 17/60\n",
      "2645/2653 [============================>.] - ETA: 0s - loss: 0.0094 - mae: 0.0094 - mape: 628.0431\n",
      "Epoch 17: val_loss improved from 0.00875 to 0.00845, saving model to C:\\Users\\Hp\\Desktop\\ml labs\\last labs\\lab 8\\E1-cp-0017-loss0.01.h5\n",
      "2653/2653 [==============================] - 16s 6ms/step - loss: 0.0094 - mae: 0.0094 - mape: 626.2592 - val_loss: 0.0085 - val_mae: 0.0085 - val_mape: 5.2976\n",
      "Epoch 18/60\n",
      "2651/2653 [============================>.] - ETA: 0s - loss: 0.0092 - mae: 0.0092 - mape: 399.8628\n",
      "Epoch 18: val_loss did not improve from 0.00845\n",
      "2653/2653 [==============================] - 16s 6ms/step - loss: 0.0092 - mae: 0.0092 - mape: 399.6289 - val_loss: 0.0094 - val_mae: 0.0094 - val_mape: 6.0339\n",
      "Epoch 19/60\n",
      "2650/2653 [============================>.] - ETA: 0s - loss: 0.0092 - mae: 0.0092 - mape: 658.1071\n",
      "Epoch 19: val_loss did not improve from 0.00845\n",
      "2653/2653 [==============================] - 16s 6ms/step - loss: 0.0092 - mae: 0.0092 - mape: 657.4741 - val_loss: 0.0088 - val_mae: 0.0088 - val_mape: 6.0153\n",
      "Epoch 20/60\n",
      "2651/2653 [============================>.] - ETA: 0s - loss: 0.0091 - mae: 0.0091 - mape: 560.2326\n",
      "Epoch 20: val_loss did not improve from 0.00845\n",
      "2653/2653 [==============================] - 19s 7ms/step - loss: 0.0091 - mae: 0.0091 - mape: 559.9048 - val_loss: 0.0093 - val_mae: 0.0093 - val_mape: 6.1045\n",
      "Epoch 21/60\n",
      "2651/2653 [============================>.] - ETA: 0s - loss: 0.0092 - mae: 0.0092 - mape: 638.8292\n",
      "Epoch 21: val_loss did not improve from 0.00845\n",
      "2653/2653 [==============================] - 20s 7ms/step - loss: 0.0092 - mae: 0.0092 - mape: 638.4542 - val_loss: 0.0095 - val_mae: 0.0095 - val_mape: 6.3779\n",
      "Epoch 22/60\n",
      "2643/2653 [============================>.] - ETA: 0s - loss: 0.0091 - mae: 0.0091 - mape: 508.9937\n",
      "Epoch 22: val_loss did not improve from 0.00845\n",
      "2653/2653 [==============================] - 17s 7ms/step - loss: 0.0091 - mae: 0.0091 - mape: 507.1710 - val_loss: 0.0087 - val_mae: 0.0087 - val_mape: 6.5155\n",
      "Epoch 23/60\n",
      "2652/2653 [============================>.] - ETA: 0s - loss: 0.0090 - mae: 0.0090 - mape: 630.1559\n",
      "Epoch 23: val_loss did not improve from 0.00845\n",
      "2653/2653 [==============================] - 15s 6ms/step - loss: 0.0090 - mae: 0.0090 - mape: 630.0233 - val_loss: 0.0104 - val_mae: 0.0104 - val_mape: 7.0214\n",
      "Epoch 24/60\n"
     ]
    },
    {
     "name": "stdout",
     "output_type": "stream",
     "text": [
      "2642/2653 [============================>.] - ETA: 0s - loss: 0.0088 - mae: 0.0088 - mape: 450.2267\n",
      "Epoch 24: val_loss did not improve from 0.00845\n",
      "2653/2653 [==============================] - 13s 5ms/step - loss: 0.0088 - mae: 0.0088 - mape: 448.4471 - val_loss: 0.0088 - val_mae: 0.0088 - val_mape: 5.9918\n",
      "Epoch 25/60\n",
      "2646/2653 [============================>.] - ETA: 0s - loss: 0.0089 - mae: 0.0089 - mape: 693.1125\n",
      "Epoch 25: val_loss did not improve from 0.00845\n",
      "2653/2653 [==============================] - 13s 5ms/step - loss: 0.0089 - mae: 0.0089 - mape: 691.4049 - val_loss: 0.0088 - val_mae: 0.0088 - val_mape: 5.8173\n",
      "Epoch 26/60\n",
      "2652/2653 [============================>.] - ETA: 0s - loss: 0.0091 - mae: 0.0091 - mape: 686.4686\n",
      "Epoch 26: val_loss did not improve from 0.00845\n",
      "2653/2653 [==============================] - 15s 6ms/step - loss: 0.0091 - mae: 0.0091 - mape: 686.3235 - val_loss: 0.0086 - val_mae: 0.0086 - val_mape: 5.6745\n",
      "Epoch 27/60\n",
      "2644/2653 [============================>.] - ETA: 0s - loss: 0.0088 - mae: 0.0088 - mape: 731.9426\n",
      "Epoch 27: val_loss improved from 0.00845 to 0.00789, saving model to C:\\Users\\Hp\\Desktop\\ml labs\\last labs\\lab 8\\E1-cp-0027-loss0.01.h5\n",
      "2653/2653 [==============================] - 14s 5ms/step - loss: 0.0088 - mae: 0.0088 - mape: 729.5878 - val_loss: 0.0079 - val_mae: 0.0079 - val_mape: 4.4573\n",
      "Epoch 28/60\n",
      "2643/2653 [============================>.] - ETA: 0s - loss: 0.0089 - mae: 0.0089 - mape: 309.3759\n",
      "Epoch 28: val_loss did not improve from 0.00789\n",
      "2653/2653 [==============================] - 14s 5ms/step - loss: 0.0089 - mae: 0.0089 - mape: 308.2725 - val_loss: 0.0138 - val_mae: 0.0138 - val_mape: 8.4585\n",
      "Epoch 29/60\n",
      "2642/2653 [============================>.] - ETA: 0s - loss: 0.0088 - mae: 0.0088 - mape: 508.7241\n",
      "Epoch 29: val_loss did not improve from 0.00789\n",
      "2653/2653 [==============================] - 14s 5ms/step - loss: 0.0088 - mae: 0.0088 - mape: 506.7110 - val_loss: 0.0085 - val_mae: 0.0085 - val_mape: 5.3730\n",
      "Epoch 30/60\n",
      "2642/2653 [============================>.] - ETA: 0s - loss: 0.0088 - mae: 0.0088 - mape: 376.5539\n",
      "Epoch 30: val_loss did not improve from 0.00789\n",
      "2653/2653 [==============================] - 13s 5ms/step - loss: 0.0088 - mae: 0.0088 - mape: 375.0652 - val_loss: 0.0115 - val_mae: 0.0115 - val_mape: 6.3055\n",
      "Epoch 31/60\n",
      "2653/2653 [==============================] - ETA: 0s - loss: 0.0087 - mae: 0.0087 - mape: 514.2629\n",
      "Epoch 31: val_loss did not improve from 0.00789\n",
      "2653/2653 [==============================] - 14s 5ms/step - loss: 0.0087 - mae: 0.0087 - mape: 514.2629 - val_loss: 0.0084 - val_mae: 0.0084 - val_mape: 5.6410\n",
      "Epoch 32/60\n",
      "2652/2653 [============================>.] - ETA: 0s - loss: 0.0087 - mae: 0.0087 - mape: 580.2097\n",
      "Epoch 32: val_loss did not improve from 0.00789\n",
      "2653/2653 [==============================] - 14s 5ms/step - loss: 0.0087 - mae: 0.0087 - mape: 580.0871 - val_loss: 0.0087 - val_mae: 0.0087 - val_mape: 5.2770\n",
      "Epoch 33/60\n",
      "2649/2653 [============================>.] - ETA: 0s - loss: 0.0088 - mae: 0.0088 - mape: 657.3728\n",
      "Epoch 33: val_loss did not improve from 0.00789\n",
      "2653/2653 [==============================] - 14s 5ms/step - loss: 0.0088 - mae: 0.0088 - mape: 656.4944 - val_loss: 0.0114 - val_mae: 0.0114 - val_mape: 6.6800\n",
      "Epoch 34/60\n",
      "2647/2653 [============================>.] - ETA: 0s - loss: 0.0087 - mae: 0.0087 - mape: 643.4290\n",
      "Epoch 34: val_loss did not improve from 0.00789\n",
      "2653/2653 [==============================] - 14s 5ms/step - loss: 0.0087 - mae: 0.0087 - mape: 642.0861 - val_loss: 0.0088 - val_mae: 0.0088 - val_mape: 5.0903\n",
      "Epoch 35/60\n",
      "2649/2653 [============================>.] - ETA: 0s - loss: 0.0087 - mae: 0.0087 - mape: 566.6539\n",
      "Epoch 35: val_loss improved from 0.00789 to 0.00774, saving model to C:\\Users\\Hp\\Desktop\\ml labs\\last labs\\lab 8\\E1-cp-0035-loss0.01.h5\n",
      "2653/2653 [==============================] - 14s 5ms/step - loss: 0.0087 - mae: 0.0087 - mape: 565.8958 - val_loss: 0.0077 - val_mae: 0.0077 - val_mape: 4.7843\n",
      "Epoch 36/60\n",
      "2649/2653 [============================>.] - ETA: 0s - loss: 0.0087 - mae: 0.0087 - mape: 565.0277\n",
      "Epoch 36: val_loss did not improve from 0.00774\n",
      "2653/2653 [==============================] - 14s 5ms/step - loss: 0.0087 - mae: 0.0087 - mape: 564.2725 - val_loss: 0.0079 - val_mae: 0.0079 - val_mape: 5.0361\n",
      "Epoch 37/60\n",
      "2643/2653 [============================>.] - ETA: 0s - loss: 0.0087 - mae: 0.0087 - mape: 469.8151\n",
      "Epoch 37: val_loss did not improve from 0.00774\n",
      "2653/2653 [==============================] - 14s 5ms/step - loss: 0.0087 - mae: 0.0087 - mape: 468.1325 - val_loss: 0.0107 - val_mae: 0.0107 - val_mape: 6.1978\n",
      "Epoch 38/60\n",
      "2648/2653 [============================>.] - ETA: 0s - loss: 0.0087 - mae: 0.0087 - mape: 480.5224\n",
      "Epoch 38: val_loss did not improve from 0.00774\n",
      "2653/2653 [==============================] - 14s 5ms/step - loss: 0.0087 - mae: 0.0087 - mape: 479.7003 - val_loss: 0.0089 - val_mae: 0.0089 - val_mape: 5.2942\n",
      "Epoch 39/60\n",
      "2650/2653 [============================>.] - ETA: 0s - loss: 0.0086 - mae: 0.0086 - mape: 398.1813\n",
      "Epoch 39: val_loss did not improve from 0.00774\n",
      "2653/2653 [==============================] - 15s 6ms/step - loss: 0.0086 - mae: 0.0086 - mape: 397.7992 - val_loss: 0.0101 - val_mae: 0.0101 - val_mape: 5.4410\n",
      "Epoch 40/60\n",
      "2647/2653 [============================>.] - ETA: 0s - loss: 0.0088 - mae: 0.0088 - mape: 443.8552\n",
      "Epoch 40: val_loss did not improve from 0.00774\n",
      "2653/2653 [==============================] - 16s 6ms/step - loss: 0.0088 - mae: 0.0088 - mape: 442.9303 - val_loss: 0.0087 - val_mae: 0.0087 - val_mape: 5.3035\n",
      "Epoch 41/60\n",
      "2647/2653 [============================>.] - ETA: 0s - loss: 0.0086 - mae: 0.0086 - mape: 343.2275\n",
      "Epoch 41: val_loss did not improve from 0.00774\n",
      "2653/2653 [==============================] - 17s 7ms/step - loss: 0.0086 - mae: 0.0086 - mape: 342.5127 - val_loss: 0.0080 - val_mae: 0.0080 - val_mape: 5.0812\n",
      "Epoch 42/60\n",
      "2650/2653 [============================>.] - ETA: 0s - loss: 0.0087 - mae: 0.0087 - mape: 570.1595\n",
      "Epoch 42: val_loss did not improve from 0.00774\n",
      "2653/2653 [==============================] - 17s 6ms/step - loss: 0.0087 - mae: 0.0087 - mape: 569.6147 - val_loss: 0.0081 - val_mae: 0.0081 - val_mape: 5.3216\n",
      "Epoch 43/60\n",
      "2644/2653 [============================>.] - ETA: 0s - loss: 0.0087 - mae: 0.0087 - mape: 622.6686\n",
      "Epoch 43: val_loss did not improve from 0.00774\n",
      "2653/2653 [==============================] - 14s 5ms/step - loss: 0.0087 - mae: 0.0087 - mape: 620.6686 - val_loss: 0.0085 - val_mae: 0.0085 - val_mape: 5.9708\n",
      "Epoch 44/60\n",
      "2651/2653 [============================>.] - ETA: 0s - loss: 0.0086 - mae: 0.0086 - mape: 476.2444\n",
      "Epoch 44: val_loss did not improve from 0.00774\n",
      "2653/2653 [==============================] - 14s 5ms/step - loss: 0.0086 - mae: 0.0086 - mape: 475.9651 - val_loss: 0.0084 - val_mae: 0.0084 - val_mape: 5.0683\n",
      "Epoch 45/60\n",
      "2642/2653 [============================>.] - ETA: 0s - loss: 0.0086 - mae: 0.0086 - mape: 478.5765\n",
      "Epoch 45: val_loss did not improve from 0.00774\n",
      "2653/2653 [==============================] - 14s 5ms/step - loss: 0.0086 - mae: 0.0086 - mape: 476.6819 - val_loss: 0.0080 - val_mae: 0.0080 - val_mape: 5.1387\n",
      "Epoch 46/60\n",
      "2652/2653 [============================>.] - ETA: 0s - loss: 0.0085 - mae: 0.0085 - mape: 518.8790\n",
      "Epoch 46: val_loss did not improve from 0.00774\n",
      "2653/2653 [==============================] - 14s 5ms/step - loss: 0.0085 - mae: 0.0085 - mape: 518.7693 - val_loss: 0.0083 - val_mae: 0.0083 - val_mape: 5.0109\n",
      "Epoch 47/60\n",
      "2651/2653 [============================>.] - ETA: 0s - loss: 0.0085 - mae: 0.0085 - mape: 434.8074\n",
      "Epoch 47: val_loss did not improve from 0.00774\n",
      "2653/2653 [==============================] - 14s 5ms/step - loss: 0.0085 - mae: 0.0085 - mape: 434.5533 - val_loss: 0.0115 - val_mae: 0.0115 - val_mape: 6.1333\n",
      "Epoch 48/60\n",
      "2642/2653 [============================>.] - ETA: 0s - loss: 0.0085 - mae: 0.0085 - mape: 571.8705\n",
      "Epoch 48: val_loss did not improve from 0.00774\n",
      "2653/2653 [==============================] - 15s 6ms/step - loss: 0.0085 - mae: 0.0085 - mape: 569.6061 - val_loss: 0.0099 - val_mae: 0.0099 - val_mape: 6.0882\n",
      "Epoch 49/60\n"
     ]
    },
    {
     "name": "stdout",
     "output_type": "stream",
     "text": [
      "2644/2653 [============================>.] - ETA: 0s - loss: 0.0084 - mae: 0.0084 - mape: 535.1739\n",
      "Epoch 49: val_loss did not improve from 0.00774\n",
      "2653/2653 [==============================] - 13s 5ms/step - loss: 0.0084 - mae: 0.0084 - mape: 533.4556 - val_loss: 0.0092 - val_mae: 0.0092 - val_mape: 5.2699\n",
      "Epoch 50/60\n",
      "2649/2653 [============================>.] - ETA: 0s - loss: 0.0084 - mae: 0.0084 - mape: 411.4047\n",
      "Epoch 50: val_loss did not improve from 0.00774\n",
      "2653/2653 [==============================] - 14s 5ms/step - loss: 0.0084 - mae: 0.0084 - mape: 410.8553 - val_loss: 0.0115 - val_mae: 0.0115 - val_mape: 7.0881\n",
      "Epoch 51/60\n",
      "2645/2653 [============================>.] - ETA: 0s - loss: 0.0085 - mae: 0.0085 - mape: 478.4459\n",
      "Epoch 51: val_loss did not improve from 0.00774\n",
      "2653/2653 [==============================] - 15s 6ms/step - loss: 0.0085 - mae: 0.0085 - mape: 477.0905 - val_loss: 0.0083 - val_mae: 0.0083 - val_mape: 5.6030\n",
      "Epoch 52/60\n",
      "2645/2653 [============================>.] - ETA: 0s - loss: 0.0084 - mae: 0.0084 - mape: 404.0968\n",
      "Epoch 52: val_loss did not improve from 0.00774\n",
      "2653/2653 [==============================] - 14s 5ms/step - loss: 0.0084 - mae: 0.0084 - mape: 402.9567 - val_loss: 0.0086 - val_mae: 0.0086 - val_mape: 5.2755\n",
      "Epoch 53/60\n",
      "2652/2653 [============================>.] - ETA: 0s - loss: 0.0084 - mae: 0.0084 - mape: 533.2288\n",
      "Epoch 53: val_loss did not improve from 0.00774\n",
      "2653/2653 [==============================] - 14s 5ms/step - loss: 0.0084 - mae: 0.0084 - mape: 533.1164 - val_loss: 0.0079 - val_mae: 0.0079 - val_mape: 5.1166\n",
      "Epoch 54/60\n",
      "2645/2653 [============================>.] - ETA: 0s - loss: 0.0083 - mae: 0.0083 - mape: 297.3899\n",
      "Epoch 54: val_loss improved from 0.00774 to 0.00753, saving model to C:\\Users\\Hp\\Desktop\\ml labs\\last labs\\lab 8\\E1-cp-0054-loss0.01.h5\n",
      "2653/2653 [==============================] - 15s 6ms/step - loss: 0.0083 - mae: 0.0083 - mape: 296.5496 - val_loss: 0.0075 - val_mae: 0.0075 - val_mape: 4.6177\n",
      "Epoch 55/60\n",
      "2643/2653 [============================>.] - ETA: 0s - loss: 0.0082 - mae: 0.0082 - mape: 459.4584\n",
      "Epoch 55: val_loss did not improve from 0.00753\n",
      "2653/2653 [==============================] - 15s 6ms/step - loss: 0.0082 - mae: 0.0082 - mape: 457.8165 - val_loss: 0.0080 - val_mae: 0.0080 - val_mape: 4.9021\n",
      "Epoch 56/60\n",
      "2643/2653 [============================>.] - ETA: 0s - loss: 0.0081 - mae: 0.0081 - mape: 252.7577\n",
      "Epoch 56: val_loss did not improve from 0.00753\n",
      "2653/2653 [==============================] - 15s 6ms/step - loss: 0.0081 - mae: 0.0081 - mape: 251.8567 - val_loss: 0.0076 - val_mae: 0.0076 - val_mape: 4.6396\n",
      "Epoch 57/60\n",
      "2649/2653 [============================>.] - ETA: 0s - loss: 0.0082 - mae: 0.0082 - mape: 409.4728\n",
      "Epoch 57: val_loss improved from 0.00753 to 0.00739, saving model to C:\\Users\\Hp\\Desktop\\ml labs\\last labs\\lab 8\\E1-cp-0057-loss0.01.h5\n",
      "2653/2653 [==============================] - 15s 6ms/step - loss: 0.0082 - mae: 0.0082 - mape: 408.9259 - val_loss: 0.0074 - val_mae: 0.0074 - val_mape: 4.4282\n",
      "Epoch 58/60\n",
      "2653/2653 [==============================] - ETA: 0s - loss: 0.0080 - mae: 0.0080 - mape: 430.3864\n",
      "Epoch 58: val_loss did not improve from 0.00739\n",
      "2653/2653 [==============================] - 17s 6ms/step - loss: 0.0080 - mae: 0.0080 - mape: 430.3864 - val_loss: 0.0074 - val_mae: 0.0074 - val_mape: 4.6699\n",
      "Epoch 59/60\n",
      "2648/2653 [============================>.] - ETA: 0s - loss: 0.0080 - mae: 0.0080 - mape: 313.8650\n",
      "Epoch 59: val_loss did not improve from 0.00739\n",
      "2653/2653 [==============================] - 14s 5ms/step - loss: 0.0080 - mae: 0.0080 - mape: 313.3293 - val_loss: 0.0074 - val_mae: 0.0074 - val_mape: 4.7284\n",
      "Epoch 60/60\n",
      "2653/2653 [==============================] - ETA: 0s - loss: 0.0080 - mae: 0.0080 - mape: 367.3261\n",
      "Epoch 60: val_loss did not improve from 0.00739\n",
      "2653/2653 [==============================] - 13s 5ms/step - loss: 0.0080 - mae: 0.0080 - mape: 367.3261 - val_loss: 0.0079 - val_mae: 0.0079 - val_mape: 4.6345\n"
     ]
    }
   ],
   "source": [
    "epochs = 60\n",
    "verbose = 1 #0\n",
    "batch_size = 32\n",
    "History = model.fit(train_X,\n",
    "                        train_y,\n",
    "                        batch_size=batch_size,   \n",
    "                        epochs = epochs, \n",
    "                        validation_data = (validation_X,validation_y),\n",
    "                        callbacks=callbacks,verbose = verbose)"
   ]
  },
  {
   "cell_type": "code",
   "execution_count": 79,
   "metadata": {},
   "outputs": [
    {
     "name": "stdout",
     "output_type": "stream",
     "text": [
      "379/379 [==============================] - 2s 3ms/step\n",
      "Mean Absolute Error (MAE): 115.64\n",
      "Median Absolute Error (MedAE): 93.64\n",
      "Mean Squared Error (MSE): 23206.9\n",
      "Root Mean Squared Error (RMSE): 152.34\n",
      "Mean Absolute Percentage Error (MAPE): 0.8 %\n",
      "Median Absolute Percentage Error (MDAPE): 0.64 %\n",
      "\n",
      "\n",
      "y_test_unscaled.shape=  (12105, 1)\n",
      "y_pred.shape=  (12105, 1)\n"
     ]
    }
   ],
   "source": [
    "\n",
    "model = load_model(r'C:\\Users\\Hp\\Desktop\\ml labs\\last labs\\lab 8\\E1-cp-0057-loss0.01.h5')\n",
    "\n",
    "y_pred_scaled   = model.predict(test_X)\n",
    "y_pred          = scaler.inverse_transform(y_pred_scaled)\n",
    "y_test_unscaled = scaler.inverse_transform(test_y)\n",
    "# Mean Absolute Error (MAE)\n",
    "MAE = np.mean(abs(y_pred - y_test_unscaled)) \n",
    "print('Mean Absolute Error (MAE): ' + str(np.round(MAE, 2)))\n",
    "\n",
    "# Median Absolute Error (MedAE)\n",
    "MEDAE = np.median(abs(y_pred - y_test_unscaled))\n",
    "print('Median Absolute Error (MedAE): ' + str(np.round(MEDAE, 2)))\n",
    "\n",
    "# Mean Squared Error (MSE)\n",
    "MSE = np.square(np.subtract(y_pred, y_test_unscaled)).mean()\n",
    "print('Mean Squared Error (MSE): ' + str(np.round(MSE, 2)))\n",
    "\n",
    "# Root Mean Squarred Error (RMSE) \n",
    "RMSE = np.sqrt(np.mean(np.square(y_pred - y_test_unscaled)))\n",
    "print('Root Mean Squared Error (RMSE): ' + str(np.round(RMSE, 2)))\n",
    "\n",
    "# Mean Absolute Percentage Error (MAPE)\n",
    "MAPE = np.mean((np.abs(np.subtract(y_test_unscaled, y_pred)/ y_test_unscaled))) * 100\n",
    "print('Mean Absolute Percentage Error (MAPE): ' + str(np.round(MAPE, 2)) + ' %')\n",
    "\n",
    "# Median Absolute Percentage Error (MDAPE)\n",
    "MDAPE = np.median((np.abs(np.subtract(y_test_unscaled, y_pred)/ y_test_unscaled))) * 100\n",
    "print('Median Absolute Percentage Error (MDAPE): ' + str(np.round(MDAPE, 2)) + ' %')\n",
    "\n",
    "print('\\n\\ny_test_unscaled.shape= ',y_test_unscaled.shape)\n",
    "print('y_pred.shape= ',y_pred.shape)"
   ]
  },
  {
   "cell_type": "code",
   "execution_count": 80,
   "metadata": {},
   "outputs": [],
   "source": [
    "checkpoints = r'C:\\Users\\Hp\\Desktop\\ml labs\\last labs\\lab 8\\E2-cp-{epoch:04d}-loss{val_loss:.2f}.h5'\n",
    "model=r'C:\\Users\\Hp\\Desktop\\ml labs\\last labs\\lab 8\\E1-cp-0057-loss0.01.h5'\n",
    "start_epoch= 57"
   ]
  },
  {
   "cell_type": "code",
   "execution_count": 81,
   "metadata": {},
   "outputs": [
    {
     "name": "stdout",
     "output_type": "stream",
     "text": [
      "[INFO] loading C:\\Users\\Hp\\Desktop\\ml labs\\last labs\\lab 8\\E1-cp-0057-loss0.01.h5...\n",
      "[INFO] old learning rate: 0.0010000000474974513\n",
      "[INFO] new learning rate: 9.999999747378752e-05\n"
     ]
    }
   ],
   "source": [
    "# construct the callback to save only the *best* model to disk\n",
    "# based on the validation loss\n",
    "EpochCheckpoint1 = ModelCheckpoint(checkpoints,\n",
    "                             monitor=\"val_loss\",\n",
    "                             save_best_only=True, \n",
    "                             verbose=1)\n",
    "TrainingMonitor1=TrainingMonitor(FIG_PATH, jsonPath=JSON_PATH, startAt=start_epoch)\n",
    "\n",
    "# construct the set of callbacks\n",
    "callbacks = [EpochCheckpoint1,TrainingMonitor1]\n",
    "# if there is no specific model checkpoint supplied, then initialize\n",
    "# the network and compile the model\n",
    "if model is None:\n",
    "    print(\"[INFO] compiling model...\")\n",
    "    model = PC.build(time_steps=24, num_features=21, reg=0.0005)\n",
    "    opt = Adam(1e-3)\n",
    "    model.compile(loss= 'mae', optimizer=opt, metrics=[\"mae\", \"mape\"])\n",
    "# otherwise, load the checkpoint from disk\n",
    "else:\n",
    "    print(\"[INFO] loading {}...\".format(model))\n",
    "    model = load_model(model)\n",
    "\n",
    "    # update the learning rate\n",
    "    print(\"[INFO] old learning rate: {}\".format(K.get_value(model.optimizer.lr)))\n",
    "    K.set_value(model.optimizer.lr, 1e-4)\n",
    "    print(\"[INFO] new learning rate: {}\".format(K.get_value(model.optimizer.lr)))"
   ]
  },
  {
   "cell_type": "code",
   "execution_count": 82,
   "metadata": {},
   "outputs": [
    {
     "name": "stdout",
     "output_type": "stream",
     "text": [
      "Epoch 1/10\n",
      "2644/2653 [============================>.] - ETA: 0s - loss: 0.0067 - mae: 0.0067 - mape: 330.2503\n",
      "Epoch 1: val_loss improved from inf to 0.00719, saving model to C:\\Users\\Hp\\Desktop\\ml labs\\last labs\\lab 8\\E2-cp-0001-loss0.01.h5\n",
      "2653/2653 [==============================] - 15s 5ms/step - loss: 0.0067 - mae: 0.0067 - mape: 329.1900 - val_loss: 0.0072 - val_mae: 0.0072 - val_mape: 4.2354\n",
      "Epoch 2/10\n",
      "2643/2653 [============================>.] - ETA: 0s - loss: 0.0066 - mae: 0.0066 - mape: 219.7915\n",
      "Epoch 2: val_loss improved from 0.00719 to 0.00682, saving model to C:\\Users\\Hp\\Desktop\\ml labs\\last labs\\lab 8\\E2-cp-0002-loss0.01.h5\n",
      "2653/2653 [==============================] - 13s 5ms/step - loss: 0.0066 - mae: 0.0066 - mape: 219.0064 - val_loss: 0.0068 - val_mae: 0.0068 - val_mape: 3.8146\n",
      "Epoch 3/10\n",
      "2649/2653 [============================>.] - ETA: 0s - loss: 0.0066 - mae: 0.0066 - mape: 178.6634\n",
      "Epoch 3: val_loss improved from 0.00682 to 0.00669, saving model to C:\\Users\\Hp\\Desktop\\ml labs\\last labs\\lab 8\\E2-cp-0003-loss0.01.h5\n",
      "2653/2653 [==============================] - 14s 5ms/step - loss: 0.0066 - mae: 0.0066 - mape: 178.4270 - val_loss: 0.0067 - val_mae: 0.0067 - val_mape: 3.7314\n",
      "Epoch 4/10\n",
      "2653/2653 [==============================] - ETA: 0s - loss: 0.0066 - mae: 0.0066 - mape: 193.0483\n",
      "Epoch 4: val_loss did not improve from 0.00669\n",
      "2653/2653 [==============================] - 15s 6ms/step - loss: 0.0066 - mae: 0.0066 - mape: 193.0483 - val_loss: 0.0068 - val_mae: 0.0068 - val_mape: 3.6919\n",
      "Epoch 5/10\n",
      "2653/2653 [==============================] - ETA: 0s - loss: 0.0065 - mae: 0.0065 - mape: 124.8497\n",
      "Epoch 5: val_loss improved from 0.00669 to 0.00666, saving model to C:\\Users\\Hp\\Desktop\\ml labs\\last labs\\lab 8\\E2-cp-0005-loss0.01.h5\n",
      "2653/2653 [==============================] - 18s 7ms/step - loss: 0.0065 - mae: 0.0065 - mape: 124.8497 - val_loss: 0.0067 - val_mae: 0.0067 - val_mape: 3.5687\n",
      "Epoch 6/10\n",
      "2649/2653 [============================>.] - ETA: 0s - loss: 0.0065 - mae: 0.0065 - mape: 156.0898\n",
      "Epoch 6: val_loss did not improve from 0.00666\n",
      "2653/2653 [==============================] - 14s 5ms/step - loss: 0.0065 - mae: 0.0065 - mape: 155.8827 - val_loss: 0.0068 - val_mae: 0.0068 - val_mape: 3.5701\n",
      "Epoch 7/10\n",
      "2652/2653 [============================>.] - ETA: 0s - loss: 0.0065 - mae: 0.0065 - mape: 105.0857\n",
      "Epoch 7: val_loss did not improve from 0.00666\n",
      "2653/2653 [==============================] - 14s 5ms/step - loss: 0.0065 - mae: 0.0065 - mape: 105.0638 - val_loss: 0.0069 - val_mae: 0.0069 - val_mape: 3.7612\n",
      "Epoch 8/10\n",
      "2648/2653 [============================>.] - ETA: 0s - loss: 0.0065 - mae: 0.0065 - mape: 173.2865\n",
      "Epoch 8: val_loss improved from 0.00666 to 0.00666, saving model to C:\\Users\\Hp\\Desktop\\ml labs\\last labs\\lab 8\\E2-cp-0008-loss0.01.h5\n",
      "2653/2653 [==============================] - 14s 5ms/step - loss: 0.0065 - mae: 0.0065 - mape: 172.9917 - val_loss: 0.0067 - val_mae: 0.0067 - val_mape: 3.4591\n",
      "Epoch 9/10\n",
      "2648/2653 [============================>.] - ETA: 0s - loss: 0.0065 - mae: 0.0065 - mape: 110.1572\n",
      "Epoch 9: val_loss did not improve from 0.00666\n",
      "2653/2653 [==============================] - 13s 5ms/step - loss: 0.0065 - mae: 0.0065 - mape: 109.9722 - val_loss: 0.0068 - val_mae: 0.0068 - val_mape: 3.5967\n",
      "Epoch 10/10\n",
      "2643/2653 [============================>.] - ETA: 0s - loss: 0.0065 - mae: 0.0065 - mape: 114.7969\n",
      "Epoch 10: val_loss did not improve from 0.00666\n",
      "2653/2653 [==============================] - 13s 5ms/step - loss: 0.0065 - mae: 0.0065 - mape: 114.3909 - val_loss: 0.0072 - val_mae: 0.0072 - val_mape: 3.7212\n"
     ]
    }
   ],
   "source": [
    "epochs = 10\n",
    "verbose = 1 #0\n",
    "batch_size = 32\n",
    "History = model.fit(train_X,\n",
    "                        train_y,\n",
    "                        batch_size=batch_size,   \n",
    "                        epochs = epochs, \n",
    "                        validation_data = (validation_X,validation_y),\n",
    "                        callbacks=callbacks,\n",
    "                        verbose = verbose)"
   ]
  },
  {
   "cell_type": "code",
   "execution_count": 83,
   "metadata": {},
   "outputs": [
    {
     "name": "stdout",
     "output_type": "stream",
     "text": [
      "379/379 [==============================] - 1s 2ms/step\n",
      "Mean Absolute Error (MAE): 106.78\n",
      "Median Absolute Error (MedAE): 85.26\n",
      "Mean Squared Error (MSE): 20116.99\n",
      "Root Mean Squared Error (RMSE): 141.83\n",
      "Mean Absolute Percentage Error (MAPE): 0.74 %\n",
      "Median Absolute Percentage Error (MDAPE): 0.59 %\n",
      "\n",
      "\n",
      "y_test_unscaled.shape=  (12105, 1)\n",
      "y_pred.shape=  (12105, 1)\n"
     ]
    }
   ],
   "source": [
    "\n",
    "model = load_model(r'C:\\Users\\Hp\\Desktop\\ml labs\\last labs\\lab 8\\E2-cp-0008-loss0.01.h5')\n",
    "\n",
    "y_pred_scaled   = model.predict(test_X)\n",
    "y_pred          = scaler.inverse_transform(y_pred_scaled)\n",
    "y_test_unscaled = scaler.inverse_transform(test_y)\n",
    "# Mean Absolute Error (MAE)\n",
    "MAE = np.mean(abs(y_pred - y_test_unscaled)) \n",
    "print('Mean Absolute Error (MAE): ' + str(np.round(MAE, 2)))\n",
    "\n",
    "# Median Absolute Error (MedAE)\n",
    "MEDAE = np.median(abs(y_pred - y_test_unscaled))\n",
    "print('Median Absolute Error (MedAE): ' + str(np.round(MEDAE, 2)))\n",
    "\n",
    "# Mean Squared Error (MSE)\n",
    "MSE = np.square(np.subtract(y_pred, y_test_unscaled)).mean()\n",
    "print('Mean Squared Error (MSE): ' + str(np.round(MSE, 2)))\n",
    "\n",
    "# Root Mean Squarred Error (RMSE) \n",
    "RMSE = np.sqrt(np.mean(np.square(y_pred - y_test_unscaled)))\n",
    "print('Root Mean Squared Error (RMSE): ' + str(np.round(RMSE, 2)))\n",
    "\n",
    "# Mean Absolute Percentage Error (MAPE)\n",
    "MAPE = np.mean((np.abs(np.subtract(y_test_unscaled, y_pred)/ y_test_unscaled))) * 100\n",
    "print('Mean Absolute Percentage Error (MAPE): ' + str(np.round(MAPE, 2)) + ' %')\n",
    "\n",
    "# Median Absolute Percentage Error (MDAPE)\n",
    "MDAPE = np.median((np.abs(np.subtract(y_test_unscaled, y_pred)/ y_test_unscaled))) * 100\n",
    "print('Median Absolute Percentage Error (MDAPE): ' + str(np.round(MDAPE, 2)) + ' %')\n",
    "\n",
    "print('\\n\\ny_test_unscaled.shape= ',y_test_unscaled.shape)\n",
    "print('y_pred.shape= ',y_pred.shape)"
   ]
  },
  {
   "cell_type": "markdown",
   "metadata": {},
   "source": [
    "# lab report "
   ]
  },
  {
   "cell_type": "markdown",
   "metadata": {},
   "source": [
    "## Lab 1"
   ]
  },
  {
   "cell_type": "code",
   "execution_count": null,
   "metadata": {},
   "outputs": [],
   "source": []
  }
 ],
 "metadata": {
  "kernelspec": {
   "display_name": "Python 3 (ipykernel)",
   "language": "python",
   "name": "python3"
  },
  "language_info": {
   "codemirror_mode": {
    "name": "ipython",
    "version": 3
   },
   "file_extension": ".py",
   "mimetype": "text/x-python",
   "name": "python",
   "nbconvert_exporter": "python",
   "pygments_lexer": "ipython3",
   "version": "3.7.16"
  }
 },
 "nbformat": 4,
 "nbformat_minor": 4
}
