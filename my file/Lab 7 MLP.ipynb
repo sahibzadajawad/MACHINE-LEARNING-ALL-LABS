{
 "cells": [
  {
   "cell_type": "code",
   "execution_count": 1,
   "metadata": {},
   "outputs": [],
   "source": [
    "import os\n",
    "os.chdir(r'C:\\Users\\Hp\\Desktop\\ml labs\\last labs')"
   ]
  },
  {
   "cell_type": "code",
   "execution_count": 2,
   "metadata": {},
   "outputs": [],
   "source": [
    "import sys\n",
    "sys.path.append(r'C:\\Users\\Hp\\Desktop\\ml labs')\n",
    "\n",
    "from timeseires.utils.to_split import to_split\n",
    "from timeseires.utils.multivariate_multi_step import multivariate_multi_step\n",
    "from timeseires.utils.multivariate_single_step import multivariate_single_step\n",
    "from timeseires.utils.univariate_multi_step import univariate_multi_step\n"
   ]
  },
  {
   "cell_type": "code",
   "execution_count": 3,
   "metadata": {},
   "outputs": [],
   "source": [
    "from sklearn.metrics import mean_squared_error, mean_absolute_error, explained_variance_score, r2_score\n",
    "from timeseires.utils.to_split import to_split\n",
    "from timeseires.utils.multivariate_multi_step import multivariate_multi_step\n",
    "from timeseires.utils.multivariate_single_step import multivariate_single_step\n",
    "from timeseires.utils.univariate_multi_step import univariate_multi_step\n",
    "from timeseires.utils.univariate_single_step import univariate_single_step\n",
    "from timeseires.utils.CosineAnnealingLRS import CosineAnnealingLRS\n",
    "from timeseires.callbacks.EpochCheckpoint import EpochCheckpoint\n",
    "from tensorflow.keras.callbacks import ModelCheckpoint\n",
    "from timeseires.callbacks.TrainingMonitor import TrainingMonitor\n",
    "from tensorflow.keras.optimizers import Adam\n",
    "from tensorflow.keras.optimizers import SGD\n",
    "from tensorflow.keras.models import load_model\n",
    "from tensorflow.keras.layers import LSTM, Bidirectional, Add\n",
    "from tensorflow.keras.layers import BatchNormalization\n",
    "from tensorflow.keras.layers import Conv1D,TimeDistributed\n",
    "from tensorflow.keras.layers import Dense, Dropout, Activation, Flatten,MaxPooling1D,Concatenate,AveragePooling1D, GlobalMaxPooling1D, Input\n",
    "from tensorflow.keras.models import Sequential,Model\n",
    "import pandas as pd\n",
    "import time, pickle\n",
    "import numpy as np\n",
    "import tensorflow.keras.backend as K\n",
    "import tensorflow\n",
    "from tensorflow.keras.layers import Input, Reshape, Lambda\n",
    "from tensorflow.keras.layers import Layer, Flatten, LeakyReLU, concatenate, Dense\n",
    "from tensorflow.keras.regularizers import l2\n",
    "import glob\n",
    "import h5py\n",
    "import matplotlib.pyplot as plt\n",
    "from keras.callbacks import Callback"
   ]
  },
  {
   "cell_type": "code",
   "execution_count": 4,
   "metadata": {},
   "outputs": [],
   "source": [
    "#lookback = 24\n",
    "model = None\n",
    "start_epoch = 0\n",
    "time_steps=24\n",
    "num_features=21"
   ]
  },
  {
   "cell_type": "code",
   "execution_count": 5,
   "metadata": {},
   "outputs": [],
   "source": [
    "def MLP():\n",
    "    model = Sequential()\n",
    "    model.add(Flatten(input_shape=(time_steps , num_features)))\n",
    "    model.add(Dense(32, activation='relu'))\n",
    "    model.add(Dense(1))\n",
    "    return model"
   ]
  },
  {
   "cell_type": "code",
   "execution_count": 6,
   "metadata": {
    "scrolled": true
   },
   "outputs": [
    {
     "name": "stdout",
     "output_type": "stream",
     "text": [
      "Model: \"sequential\"\n",
      "_________________________________________________________________\n",
      " Layer (type)                Output Shape              Param #   \n",
      "=================================================================\n",
      " flatten (Flatten)           (None, 504)               0         \n",
      "                                                                 \n",
      " dense (Dense)               (None, 32)                16160     \n",
      "                                                                 \n",
      " dense_1 (Dense)             (None, 1)                 33        \n",
      "                                                                 \n",
      "=================================================================\n",
      "Total params: 16,193\n",
      "Trainable params: 16,193\n",
      "Non-trainable params: 0\n",
      "_________________________________________________________________\n"
     ]
    }
   ],
   "source": [
    "model1 = MLP()\n",
    "model1.summary()"
   ]
  },
  {
   "cell_type": "code",
   "execution_count": 7,
   "metadata": {},
   "outputs": [
    {
     "name": "stdout",
     "output_type": "stream",
     "text": [
      "You must install pydot (`pip install pydot`) and install graphviz (see instructions at https://graphviz.gitlab.io/download/) for plot_model to work.\n"
     ]
    }
   ],
   "source": [
    "tensorflow.keras.utils.plot_model(model1 )"
   ]
  },
  {
   "cell_type": "code",
   "execution_count": 8,
   "metadata": {},
   "outputs": [],
   "source": [
    "checkpoints = r'C:\\Users\\Hp\\Desktop\\ml labs\\last labs\\checkpoints\\E1-cp-{epoch:04d}-loss{val_loss:2f}.h5'\n",
    "OUTPUT_PATH = r'C:\\Users\\Hp\\Desktop\\ml labs\\last labs\\checkpoints'\n",
    "#FIG_PATH = os.path.sep.join([OUTPUT_PATH,\"\\history.png\"])\n",
    "#JSON_PATH = os.path.sep.join([OUTPUT_PATH,\"\\history.json\"])"
   ]
  },
  {
   "cell_type": "code",
   "execution_count": 9,
   "metadata": {},
   "outputs": [],
   "source": [
    "# construct the callback to save only the *best* model to disk\n",
    "# based on the validation loss\n",
    "EpochCheckpoint1 = ModelCheckpoint(checkpoints,\n",
    "                             monitor=\"val_loss\",\n",
    "                             save_best_only=True, \n",
    "                             verbose=1)\n",
    "#TrainingMonitor1=TrainingMonitor(FIG_PATH, jsonPath=JSON_PATH, startAt=start_epoch)\n",
    "\n",
    "# construct the set of callbacks\n",
    "callbacks = [EpochCheckpoint1]"
   ]
  },
  {
   "cell_type": "code",
   "execution_count": 10,
   "metadata": {},
   "outputs": [
    {
     "name": "stdout",
     "output_type": "stream",
     "text": [
      "[INFO] compiling model...\n"
     ]
    }
   ],
   "source": [
    "# if there is no specific model checkpoint supplied, then initialize\n",
    "# the network and compile the model\n",
    "if model is None:\n",
    "    print(\"[INFO] compiling model...\")\n",
    "    model =MLP()\n",
    "    opt = Adam(1e-3)\n",
    "    model.compile(loss= 'mae', optimizer=opt, metrics=[\"mae\", \"mape\"])\n",
    "# otherwise, load the checkpoint from disk\n",
    "else:\n",
    "    print(\"[INFO] loading {}...\".format(model))\n",
    "    model = load_model(model)\n",
    "\n",
    "    # update the learning rate\n",
    "    print(\"[INFO] old learning rate: {}\".format(K.get_value(model.optimizer.lr)))\n",
    "    K.set_value(model.optimizer.lr, 1e-4)\n",
    "    print(\"[INFO] new learning rate: {}\".format(K.get_value(model.optimizer.lr)))"
   ]
  },
  {
   "cell_type": "code",
   "execution_count": 11,
   "metadata": {},
   "outputs": [
    {
     "data": {
      "text/plain": [
       "((84907, 21), (24259, 21), (12130, 21))"
      ]
     },
     "execution_count": 11,
     "metadata": {},
     "output_type": "execute_result"
    }
   ],
   "source": [
    "import os\n",
    "path_dataset =(r'C:\\\\Users\\\\Hp\\\\Desktop\\\\ml labs\\\\last labs\\\\AEP_hourly')\n",
    "path_tr = os.path.join(path_dataset, 'AEP_train.csv')\n",
    "df_tr = pd.read_csv(path_tr)\n",
    "train_set = df_tr.iloc[:].values\n",
    "path_v = os.path.join(path_dataset, 'AEP_validation.csv')\n",
    "df_v = pd.read_csv(path_v)\n",
    "validation_set = df_v.iloc[:].values \n",
    "path_te = os.path.join(path_dataset, 'AEP_test.csv')\n",
    "df_te = pd.read_csv(path_te)\n",
    "test_set = df_te.iloc[:].values \n",
    "\n",
    "path_scaler = os.path.join(path_dataset, 'AEP_Scaler.pkl')\n",
    "scaler         = pickle.load(open(path_scaler, 'rb'))\n",
    "\n",
    "train_set.shape, validation_set.shape, test_set.shape"
   ]
  },
  {
   "cell_type": "code",
   "execution_count": 12,
   "metadata": {},
   "outputs": [
    {
     "data": {
      "text/html": [
       "<div>\n",
       "<style scoped>\n",
       "    .dataframe tbody tr th:only-of-type {\n",
       "        vertical-align: middle;\n",
       "    }\n",
       "\n",
       "    .dataframe tbody tr th {\n",
       "        vertical-align: top;\n",
       "    }\n",
       "\n",
       "    .dataframe thead th {\n",
       "        text-align: right;\n",
       "    }\n",
       "</style>\n",
       "<table border=\"1\" class=\"dataframe\">\n",
       "  <thead>\n",
       "    <tr style=\"text-align: right;\">\n",
       "      <th></th>\n",
       "      <th>aep</th>\n",
       "      <th>Is_holiday1</th>\n",
       "      <th>Is_holiday2</th>\n",
       "      <th>Is_Weekend1</th>\n",
       "      <th>Is_Weekend2</th>\n",
       "      <th>sin_month</th>\n",
       "      <th>cos_month</th>\n",
       "      <th>sin_week</th>\n",
       "      <th>cos_week</th>\n",
       "      <th>sin_hour</th>\n",
       "      <th>...</th>\n",
       "      <th>sin_wintert</th>\n",
       "      <th>cos_wintert</th>\n",
       "      <th>sin_springt</th>\n",
       "      <th>cos_springt</th>\n",
       "      <th>sin_summert</th>\n",
       "      <th>cos_summert</th>\n",
       "      <th>sin_fallt</th>\n",
       "      <th>cos_fallt</th>\n",
       "      <th>sin_year_dayt</th>\n",
       "      <th>cos_year_dayt</th>\n",
       "    </tr>\n",
       "  </thead>\n",
       "  <tbody>\n",
       "    <tr>\n",
       "      <th>0</th>\n",
       "      <td>0.518532</td>\n",
       "      <td>1.0</td>\n",
       "      <td>0.0</td>\n",
       "      <td>1.0</td>\n",
       "      <td>0.0</td>\n",
       "      <td>1.0</td>\n",
       "      <td>6.123234e-17</td>\n",
       "      <td>0.866025</td>\n",
       "      <td>-0.5</td>\n",
       "      <td>-0.707107</td>\n",
       "      <td>...</td>\n",
       "      <td>0.0</td>\n",
       "      <td>1.0</td>\n",
       "      <td>1.0</td>\n",
       "      <td>6.123234e-17</td>\n",
       "      <td>0.0</td>\n",
       "      <td>1.0</td>\n",
       "      <td>0.0</td>\n",
       "      <td>1.0</td>\n",
       "      <td>0.956235</td>\n",
       "      <td>0.2926</td>\n",
       "    </tr>\n",
       "  </tbody>\n",
       "</table>\n",
       "<p>1 rows × 21 columns</p>\n",
       "</div>"
      ],
      "text/plain": [
       "        aep  Is_holiday1  Is_holiday2  Is_Weekend1  Is_Weekend2  sin_month  \\\n",
       "0  0.518532          1.0          0.0          1.0          0.0        1.0   \n",
       "\n",
       "      cos_month  sin_week  cos_week  sin_hour  ...  sin_wintert  cos_wintert  \\\n",
       "0  6.123234e-17  0.866025      -0.5 -0.707107  ...          0.0          1.0   \n",
       "\n",
       "   sin_springt   cos_springt  sin_summert  cos_summert  sin_fallt  cos_fallt  \\\n",
       "0          1.0  6.123234e-17          0.0          1.0        0.0        1.0   \n",
       "\n",
       "   sin_year_dayt  cos_year_dayt  \n",
       "0       0.956235         0.2926  \n",
       "\n",
       "[1 rows x 21 columns]"
      ]
     },
     "execution_count": 12,
     "metadata": {},
     "output_type": "execute_result"
    }
   ],
   "source": [
    "df_te.head(1)"
   ]
  },
  {
   "cell_type": "code",
   "execution_count": 13,
   "metadata": {},
   "outputs": [
    {
     "data": {
      "text/plain": [
       "array([ 5.18532385e-01,  1.00000000e+00,  0.00000000e+00,  1.00000000e+00,\n",
       "        0.00000000e+00,  1.00000000e+00,  6.12323400e-17,  8.66025404e-01,\n",
       "       -5.00000000e-01, -7.07106781e-01, -7.07106781e-01,  0.00000000e+00,\n",
       "        1.00000000e+00,  1.00000000e+00,  6.12323400e-17,  0.00000000e+00,\n",
       "        1.00000000e+00,  0.00000000e+00,  1.00000000e+00,  9.56234827e-01,\n",
       "        2.92600336e-01])"
      ]
     },
     "execution_count": 13,
     "metadata": {},
     "output_type": "execute_result"
    }
   ],
   "source": [
    "test_set[0]"
   ]
  },
  {
   "cell_type": "code",
   "execution_count": 14,
   "metadata": {},
   "outputs": [],
   "source": [
    "time_steps=2\n",
    "num_features=21"
   ]
  },
  {
   "cell_type": "code",
   "execution_count": 15,
   "metadata": {},
   "outputs": [],
   "source": [
    "train_X , train_y = univariate_multi_step(train_set, time_steps, target_col=0,target_len=0)"
   ]
  },
  {
   "cell_type": "code",
   "execution_count": 16,
   "metadata": {},
   "outputs": [
    {
     "data": {
      "text/plain": [
       "array([[ 1.69100212e-01,  1.00000000e+00,  0.00000000e+00,\n",
       "         1.00000000e+00,  0.00000000e+00, -8.66025404e-01,\n",
       "         5.00000000e-01, -8.66025404e-01, -5.00000000e-01,\n",
       "         2.58819045e-01,  9.65925826e-01,  0.00000000e+00,\n",
       "         1.00000000e+00,  0.00000000e+00,  1.00000000e+00,\n",
       "         0.00000000e+00,  1.00000000e+00,  1.00000000e+00,\n",
       "         6.12323400e-17, -9.99768502e-01,  2.15160974e-02],\n",
       "       [ 1.41395233e-01,  1.00000000e+00,  0.00000000e+00,\n",
       "         1.00000000e+00,  0.00000000e+00, -8.66025404e-01,\n",
       "         5.00000000e-01, -8.66025404e-01, -5.00000000e-01,\n",
       "         5.00000000e-01,  8.66025404e-01,  0.00000000e+00,\n",
       "         1.00000000e+00,  0.00000000e+00,  1.00000000e+00,\n",
       "         0.00000000e+00,  1.00000000e+00,  1.00000000e+00,\n",
       "         6.12323400e-17, -9.99768502e-01,  2.15160974e-02]])"
      ]
     },
     "execution_count": 16,
     "metadata": {},
     "output_type": "execute_result"
    }
   ],
   "source": [
    "train_X[0]"
   ]
  },
  {
   "cell_type": "code",
   "execution_count": 17,
   "metadata": {},
   "outputs": [
    {
     "data": {
      "text/plain": [
       "array([], dtype=float64)"
      ]
     },
     "execution_count": 17,
     "metadata": {},
     "output_type": "execute_result"
    }
   ],
   "source": [
    "train_y[0]"
   ]
  },
  {
   "cell_type": "code",
   "execution_count": 18,
   "metadata": {},
   "outputs": [],
   "source": [
    "time_steps =24\n",
    "train_X , train_y = univariate_multi_step(train_set, time_steps, target_col=1,target_len=2)"
   ]
  },
  {
   "cell_type": "code",
   "execution_count": 19,
   "metadata": {},
   "outputs": [
    {
     "data": {
      "text/plain": [
       "array([[ 1.69100212e-01,  1.00000000e+00,  0.00000000e+00,\n",
       "         1.00000000e+00,  0.00000000e+00, -8.66025404e-01,\n",
       "         5.00000000e-01, -8.66025404e-01, -5.00000000e-01,\n",
       "         2.58819045e-01,  9.65925826e-01,  0.00000000e+00,\n",
       "         1.00000000e+00,  0.00000000e+00,  1.00000000e+00,\n",
       "         0.00000000e+00,  1.00000000e+00,  1.00000000e+00,\n",
       "         6.12323400e-17, -9.99768502e-01,  2.15160974e-02],\n",
       "       [ 1.41395233e-01,  1.00000000e+00,  0.00000000e+00,\n",
       "         1.00000000e+00,  0.00000000e+00, -8.66025404e-01,\n",
       "         5.00000000e-01, -8.66025404e-01, -5.00000000e-01,\n",
       "         5.00000000e-01,  8.66025404e-01,  0.00000000e+00,\n",
       "         1.00000000e+00,  0.00000000e+00,  1.00000000e+00,\n",
       "         0.00000000e+00,  1.00000000e+00,  1.00000000e+00,\n",
       "         6.12323400e-17, -9.99768502e-01,  2.15160974e-02],\n",
       "       [ 1.26232372e-01,  1.00000000e+00,  0.00000000e+00,\n",
       "         1.00000000e+00,  0.00000000e+00, -8.66025404e-01,\n",
       "         5.00000000e-01, -8.66025404e-01, -5.00000000e-01,\n",
       "         7.07106781e-01,  7.07106781e-01,  0.00000000e+00,\n",
       "         1.00000000e+00,  0.00000000e+00,  1.00000000e+00,\n",
       "         0.00000000e+00,  1.00000000e+00,  1.00000000e+00,\n",
       "         6.12323400e-17, -9.99768502e-01,  2.15160974e-02],\n",
       "       [ 1.20304505e-01,  1.00000000e+00,  0.00000000e+00,\n",
       "         1.00000000e+00,  0.00000000e+00, -8.66025404e-01,\n",
       "         5.00000000e-01, -8.66025404e-01, -5.00000000e-01,\n",
       "         8.66025404e-01,  5.00000000e-01,  0.00000000e+00,\n",
       "         1.00000000e+00,  0.00000000e+00,  1.00000000e+00,\n",
       "         0.00000000e+00,  1.00000000e+00,  1.00000000e+00,\n",
       "         6.12323400e-17, -9.99768502e-01,  2.15160974e-02],\n",
       "       [ 1.25545988e-01,  1.00000000e+00,  0.00000000e+00,\n",
       "         1.00000000e+00,  0.00000000e+00, -8.66025404e-01,\n",
       "         5.00000000e-01, -8.66025404e-01, -5.00000000e-01,\n",
       "         9.65925826e-01,  2.58819045e-01,  0.00000000e+00,\n",
       "         1.00000000e+00,  0.00000000e+00,  1.00000000e+00,\n",
       "         0.00000000e+00,  1.00000000e+00,  1.00000000e+00,\n",
       "         6.12323400e-17, -9.99768502e-01,  2.15160974e-02],\n",
       "       [ 1.62922751e-01,  1.00000000e+00,  0.00000000e+00,\n",
       "         1.00000000e+00,  0.00000000e+00, -8.66025404e-01,\n",
       "         5.00000000e-01, -8.66025404e-01, -5.00000000e-01,\n",
       "         1.00000000e+00,  6.12323400e-17,  0.00000000e+00,\n",
       "         1.00000000e+00,  0.00000000e+00,  1.00000000e+00,\n",
       "         0.00000000e+00,  1.00000000e+00,  1.00000000e+00,\n",
       "         6.12323400e-17, -9.99768502e-01,  2.15160974e-02],\n",
       "       [ 2.51029577e-01,  1.00000000e+00,  0.00000000e+00,\n",
       "         1.00000000e+00,  0.00000000e+00, -8.66025404e-01,\n",
       "         5.00000000e-01, -8.66025404e-01, -5.00000000e-01,\n",
       "         9.65925826e-01, -2.58819045e-01,  0.00000000e+00,\n",
       "         1.00000000e+00,  0.00000000e+00,  1.00000000e+00,\n",
       "         0.00000000e+00,  1.00000000e+00,  1.00000000e+00,\n",
       "         6.12323400e-17, -9.99768502e-01,  2.15160974e-02],\n",
       "       [ 3.08810683e-01,  1.00000000e+00,  0.00000000e+00,\n",
       "         1.00000000e+00,  0.00000000e+00, -8.66025404e-01,\n",
       "         5.00000000e-01, -8.66025404e-01, -5.00000000e-01,\n",
       "         8.66025404e-01, -5.00000000e-01,  0.00000000e+00,\n",
       "         1.00000000e+00,  0.00000000e+00,  1.00000000e+00,\n",
       "         0.00000000e+00,  1.00000000e+00,  1.00000000e+00,\n",
       "         6.12323400e-17, -9.99768502e-01,  2.15160974e-02],\n",
       "       [ 3.26594284e-01,  1.00000000e+00,  0.00000000e+00,\n",
       "         1.00000000e+00,  0.00000000e+00, -8.66025404e-01,\n",
       "         5.00000000e-01, -8.66025404e-01, -5.00000000e-01,\n",
       "         7.07106781e-01, -7.07106781e-01,  0.00000000e+00,\n",
       "         1.00000000e+00,  0.00000000e+00,  1.00000000e+00,\n",
       "         0.00000000e+00,  1.00000000e+00,  1.00000000e+00,\n",
       "         6.12323400e-17, -9.99768502e-01,  2.15160974e-02],\n",
       "       [ 3.40009984e-01,  1.00000000e+00,  0.00000000e+00,\n",
       "         1.00000000e+00,  0.00000000e+00, -8.66025404e-01,\n",
       "         5.00000000e-01, -8.66025404e-01, -5.00000000e-01,\n",
       "         5.00000000e-01, -8.66025404e-01,  0.00000000e+00,\n",
       "         1.00000000e+00,  0.00000000e+00,  1.00000000e+00,\n",
       "         0.00000000e+00,  1.00000000e+00,  1.00000000e+00,\n",
       "         6.12323400e-17, -9.99768502e-01,  2.15160974e-02],\n",
       "       [ 3.47747410e-01,  1.00000000e+00,  0.00000000e+00,\n",
       "         1.00000000e+00,  0.00000000e+00, -8.66025404e-01,\n",
       "         5.00000000e-01, -8.66025404e-01, -5.00000000e-01,\n",
       "         2.58819045e-01, -9.65925826e-01,  0.00000000e+00,\n",
       "         1.00000000e+00,  0.00000000e+00,  1.00000000e+00,\n",
       "         0.00000000e+00,  1.00000000e+00,  1.00000000e+00,\n",
       "         6.12323400e-17, -9.99768502e-01,  2.15160974e-02],\n",
       "       [ 3.56046425e-01,  1.00000000e+00,  0.00000000e+00,\n",
       "         1.00000000e+00,  0.00000000e+00, -8.66025404e-01,\n",
       "         5.00000000e-01, -8.66025404e-01, -5.00000000e-01,\n",
       "         1.22464680e-16, -1.00000000e+00,  0.00000000e+00,\n",
       "         1.00000000e+00,  0.00000000e+00,  1.00000000e+00,\n",
       "         0.00000000e+00,  1.00000000e+00,  1.00000000e+00,\n",
       "         6.12323400e-17, -9.99768502e-01,  2.15160974e-02],\n",
       "       [ 3.57855984e-01,  1.00000000e+00,  0.00000000e+00,\n",
       "         1.00000000e+00,  0.00000000e+00, -8.66025404e-01,\n",
       "         5.00000000e-01, -8.66025404e-01, -5.00000000e-01,\n",
       "        -2.58819045e-01, -9.65925826e-01,  0.00000000e+00,\n",
       "         1.00000000e+00,  0.00000000e+00,  1.00000000e+00,\n",
       "         0.00000000e+00,  1.00000000e+00,  1.00000000e+00,\n",
       "         6.12323400e-17, -9.99768502e-01,  2.15160974e-02],\n",
       "       [ 3.73518033e-01,  1.00000000e+00,  0.00000000e+00,\n",
       "         1.00000000e+00,  0.00000000e+00, -8.66025404e-01,\n",
       "         5.00000000e-01, -8.66025404e-01, -5.00000000e-01,\n",
       "        -5.00000000e-01, -8.66025404e-01,  0.00000000e+00,\n",
       "         1.00000000e+00,  0.00000000e+00,  1.00000000e+00,\n",
       "         0.00000000e+00,  1.00000000e+00,  1.00000000e+00,\n",
       "         6.12323400e-17, -9.99768502e-01,  2.15160974e-02],\n",
       "       [ 3.78759516e-01,  1.00000000e+00,  0.00000000e+00,\n",
       "         1.00000000e+00,  0.00000000e+00, -8.66025404e-01,\n",
       "         5.00000000e-01, -8.66025404e-01, -5.00000000e-01,\n",
       "        -7.07106781e-01, -7.07106781e-01,  0.00000000e+00,\n",
       "         1.00000000e+00,  0.00000000e+00,  1.00000000e+00,\n",
       "         0.00000000e+00,  1.00000000e+00,  1.00000000e+00,\n",
       "         6.12323400e-17, -9.99768502e-01,  2.15160974e-02],\n",
       "       [ 3.78759516e-01,  1.00000000e+00,  0.00000000e+00,\n",
       "         1.00000000e+00,  0.00000000e+00, -8.66025404e-01,\n",
       "         5.00000000e-01, -8.66025404e-01, -5.00000000e-01,\n",
       "        -8.66025404e-01, -5.00000000e-01,  0.00000000e+00,\n",
       "         1.00000000e+00,  0.00000000e+00,  1.00000000e+00,\n",
       "         0.00000000e+00,  1.00000000e+00,  1.00000000e+00,\n",
       "         6.12323400e-17, -9.99768502e-01,  2.15160974e-02],\n",
       "       [ 3.72831649e-01,  1.00000000e+00,  0.00000000e+00,\n",
       "         1.00000000e+00,  0.00000000e+00, -8.66025404e-01,\n",
       "         5.00000000e-01, -8.66025404e-01, -5.00000000e-01,\n",
       "        -9.65925826e-01, -2.58819045e-01,  0.00000000e+00,\n",
       "         1.00000000e+00,  0.00000000e+00,  1.00000000e+00,\n",
       "         0.00000000e+00,  1.00000000e+00,  1.00000000e+00,\n",
       "         6.12323400e-17, -9.99768502e-01,  2.15160974e-02],\n",
       "       [ 3.54673655e-01,  1.00000000e+00,  0.00000000e+00,\n",
       "         1.00000000e+00,  0.00000000e+00, -8.66025404e-01,\n",
       "         5.00000000e-01, -8.66025404e-01, -5.00000000e-01,\n",
       "        -1.00000000e+00, -1.83697020e-16,  0.00000000e+00,\n",
       "         1.00000000e+00,  0.00000000e+00,  1.00000000e+00,\n",
       "         0.00000000e+00,  1.00000000e+00,  1.00000000e+00,\n",
       "         6.12323400e-17, -9.99768502e-01,  2.15160974e-02],\n",
       "       [ 3.34768501e-01,  1.00000000e+00,  0.00000000e+00,\n",
       "         1.00000000e+00,  0.00000000e+00, -8.66025404e-01,\n",
       "         5.00000000e-01, -8.66025404e-01, -5.00000000e-01,\n",
       "        -9.65925826e-01,  2.58819045e-01,  0.00000000e+00,\n",
       "         1.00000000e+00,  0.00000000e+00,  1.00000000e+00,\n",
       "         0.00000000e+00,  1.00000000e+00,  1.00000000e+00,\n",
       "         6.12323400e-17, -9.99768502e-01,  2.15160974e-02],\n",
       "       [ 3.45813054e-01,  1.00000000e+00,  0.00000000e+00,\n",
       "         1.00000000e+00,  0.00000000e+00, -8.66025404e-01,\n",
       "         5.00000000e-01, -8.66025404e-01, -5.00000000e-01,\n",
       "        -8.66025404e-01,  5.00000000e-01,  0.00000000e+00,\n",
       "         1.00000000e+00,  0.00000000e+00,  1.00000000e+00,\n",
       "         0.00000000e+00,  1.00000000e+00,  1.00000000e+00,\n",
       "         6.12323400e-17, -9.99768502e-01,  2.15160974e-02],\n",
       "       [ 3.54424061e-01,  1.00000000e+00,  0.00000000e+00,\n",
       "         1.00000000e+00,  0.00000000e+00, -8.66025404e-01,\n",
       "         5.00000000e-01, -8.66025404e-01, -5.00000000e-01,\n",
       "        -7.07106781e-01,  7.07106781e-01,  0.00000000e+00,\n",
       "         1.00000000e+00,  0.00000000e+00,  1.00000000e+00,\n",
       "         0.00000000e+00,  1.00000000e+00,  1.00000000e+00,\n",
       "         6.12323400e-17, -9.99768502e-01,  2.15160974e-02],\n",
       "       [ 3.22475977e-01,  1.00000000e+00,  0.00000000e+00,\n",
       "         1.00000000e+00,  0.00000000e+00, -8.66025404e-01,\n",
       "         5.00000000e-01, -8.66025404e-01, -5.00000000e-01,\n",
       "        -5.00000000e-01,  8.66025404e-01,  0.00000000e+00,\n",
       "         1.00000000e+00,  0.00000000e+00,  1.00000000e+00,\n",
       "         0.00000000e+00,  1.00000000e+00,  1.00000000e+00,\n",
       "         6.12323400e-17, -9.99768502e-01,  2.15160974e-02],\n",
       "       [ 2.74429053e-01,  1.00000000e+00,  0.00000000e+00,\n",
       "         1.00000000e+00,  0.00000000e+00, -8.66025404e-01,\n",
       "         5.00000000e-01, -8.66025404e-01, -5.00000000e-01,\n",
       "        -2.58819045e-01,  9.65925826e-01,  0.00000000e+00,\n",
       "         1.00000000e+00,  0.00000000e+00,  1.00000000e+00,\n",
       "         0.00000000e+00,  1.00000000e+00,  1.00000000e+00,\n",
       "         6.12323400e-17, -9.99768502e-01,  2.15160974e-02],\n",
       "       [ 2.17022339e-01,  1.00000000e+00,  0.00000000e+00,\n",
       "         0.00000000e+00,  1.00000000e+00, -8.66025404e-01,\n",
       "         5.00000000e-01, -8.66025404e-01,  5.00000000e-01,\n",
       "         0.00000000e+00,  1.00000000e+00,  0.00000000e+00,\n",
       "         1.00000000e+00,  0.00000000e+00,  1.00000000e+00,\n",
       "         0.00000000e+00,  1.00000000e+00,  1.00000000e+00,\n",
       "         6.12323400e-17, -9.99250011e-01,  3.87222809e-02]])"
      ]
     },
     "execution_count": 19,
     "metadata": {},
     "output_type": "execute_result"
    }
   ],
   "source": [
    "train_X[0]"
   ]
  },
  {
   "cell_type": "code",
   "execution_count": 20,
   "metadata": {},
   "outputs": [
    {
     "data": {
      "text/plain": [
       "array([1., 1.])"
      ]
     },
     "execution_count": 20,
     "metadata": {},
     "output_type": "execute_result"
    }
   ],
   "source": [
    "train_y[0]"
   ]
  },
  {
   "cell_type": "code",
   "execution_count": 21,
   "metadata": {},
   "outputs": [
    {
     "name": "stdout",
     "output_type": "stream",
     "text": [
      "Time Consumed 1.8356242179870605 sec\n"
     ]
    }
   ],
   "source": [
    "start = time.time()\n",
    "train_X , train_y = univariate_multi_step(train_set, time_steps, target_col=0,target_len=1)\n",
    "validation_X, validation_y = univariate_multi_step(validation_set, time_steps, target_col=0,target_len=1)\n",
    "test_X, test_y = univariate_multi_step(test_set, time_steps, target_col=0,target_len=1)\n",
    "print('Time Consumed', time.time()-start, \"sec\")"
   ]
  },
  {
   "cell_type": "code",
   "execution_count": 22,
   "metadata": {},
   "outputs": [
    {
     "name": "stdout",
     "output_type": "stream",
     "text": [
      "Epoch 1/60\n",
      "2645/2653 [============================>.] - ETA: 0s - loss: 0.0481 - mae: 0.0481 - mape: 2068.7517\n",
      "Epoch 1: val_loss improved from inf to 0.03456, saving model to C:\\Users\\Hp\\Desktop\\ml labs\\last labs\\checkpoints\\E1-cp-0001-loss0.034557.h5\n",
      "2653/2653 [==============================] - 9s 3ms/step - loss: 0.0481 - mae: 0.0481 - mape: 2062.8809 - val_loss: 0.0346 - val_mae: 0.0346 - val_mape: 14.6307\n",
      "Epoch 2/60\n",
      "2637/2653 [============================>.] - ETA: 0s - loss: 0.0272 - mae: 0.0272 - mape: 985.1082\n",
      "Epoch 2: val_loss improved from 0.03456 to 0.02297, saving model to C:\\Users\\Hp\\Desktop\\ml labs\\last labs\\checkpoints\\E1-cp-0002-loss0.022968.h5\n",
      "2653/2653 [==============================] - 7s 3ms/step - loss: 0.0271 - mae: 0.0271 - mape: 979.3718 - val_loss: 0.0230 - val_mae: 0.0230 - val_mape: 10.3185\n",
      "Epoch 3/60\n",
      "2641/2653 [============================>.] - ETA: 0s - loss: 0.0228 - mae: 0.0228 - mape: 326.5816\n",
      "Epoch 3: val_loss improved from 0.02297 to 0.02032, saving model to C:\\Users\\Hp\\Desktop\\ml labs\\last labs\\checkpoints\\E1-cp-0003-loss0.020323.h5\n",
      "2653/2653 [==============================] - 8s 3ms/step - loss: 0.0228 - mae: 0.0228 - mape: 325.1914 - val_loss: 0.0203 - val_mae: 0.0203 - val_mape: 8.9920\n",
      "Epoch 4/60\n",
      "2643/2653 [============================>.] - ETA: 0s - loss: 0.0207 - mae: 0.0207 - mape: 748.9646\n",
      "Epoch 4: val_loss improved from 0.02032 to 0.01811, saving model to C:\\Users\\Hp\\Desktop\\ml labs\\last labs\\checkpoints\\E1-cp-0004-loss0.018110.h5\n",
      "2653/2653 [==============================] - 9s 3ms/step - loss: 0.0207 - mae: 0.0207 - mape: 746.2922 - val_loss: 0.0181 - val_mae: 0.0181 - val_mape: 7.8345\n",
      "Epoch 5/60\n",
      "2640/2653 [============================>.] - ETA: 0s - loss: 0.0195 - mae: 0.0195 - mape: 607.3120\n",
      "Epoch 5: val_loss improved from 0.01811 to 0.01644, saving model to C:\\Users\\Hp\\Desktop\\ml labs\\last labs\\checkpoints\\E1-cp-0005-loss0.016445.h5\n",
      "2653/2653 [==============================] - 9s 4ms/step - loss: 0.0195 - mae: 0.0195 - mape: 604.4627 - val_loss: 0.0164 - val_mae: 0.0164 - val_mape: 6.8818\n",
      "Epoch 6/60\n",
      "2644/2653 [============================>.] - ETA: 0s - loss: 0.0179 - mae: 0.0179 - mape: 394.4577\n",
      "Epoch 6: val_loss did not improve from 0.01644\n",
      "2653/2653 [==============================] - 7s 3ms/step - loss: 0.0179 - mae: 0.0179 - mape: 393.1993 - val_loss: 0.0170 - val_mae: 0.0170 - val_mape: 8.2732\n",
      "Epoch 7/60\n",
      "2641/2653 [============================>.] - ETA: 0s - loss: 0.0175 - mae: 0.0175 - mape: 20.3232\n",
      "Epoch 7: val_loss improved from 0.01644 to 0.01624, saving model to C:\\Users\\Hp\\Desktop\\ml labs\\last labs\\checkpoints\\E1-cp-0007-loss0.016238.h5\n",
      "2653/2653 [==============================] - 7s 3ms/step - loss: 0.0175 - mae: 0.0175 - mape: 20.2571 - val_loss: 0.0162 - val_mae: 0.0162 - val_mape: 7.5110\n",
      "Epoch 8/60\n",
      "2632/2653 [============================>.] - ETA: 0s - loss: 0.0165 - mae: 0.0165 - mape: 166.0667\n",
      "Epoch 8: val_loss improved from 0.01624 to 0.01443, saving model to C:\\Users\\Hp\\Desktop\\ml labs\\last labs\\checkpoints\\E1-cp-0008-loss0.014433.h5\n",
      "2653/2653 [==============================] - 8s 3ms/step - loss: 0.0165 - mae: 0.0165 - mape: 164.8184 - val_loss: 0.0144 - val_mae: 0.0144 - val_mape: 6.9149\n",
      "Epoch 9/60\n",
      "2653/2653 [==============================] - ETA: 0s - loss: 0.0160 - mae: 0.0160 - mape: 197.1792\n",
      "Epoch 9: val_loss did not improve from 0.01443\n",
      "2653/2653 [==============================] - 7s 3ms/step - loss: 0.0160 - mae: 0.0160 - mape: 197.1792 - val_loss: 0.0173 - val_mae: 0.0173 - val_mape: 8.5130\n",
      "Epoch 10/60\n",
      "2638/2653 [============================>.] - ETA: 0s - loss: 0.0156 - mae: 0.0156 - mape: 296.6052\n",
      "Epoch 10: val_loss improved from 0.01443 to 0.01393, saving model to C:\\Users\\Hp\\Desktop\\ml labs\\last labs\\checkpoints\\E1-cp-0010-loss0.013927.h5\n",
      "2653/2653 [==============================] - 9s 3ms/step - loss: 0.0156 - mae: 0.0156 - mape: 295.0043 - val_loss: 0.0139 - val_mae: 0.0139 - val_mape: 6.9062\n",
      "Epoch 11/60\n",
      "2635/2653 [============================>.] - ETA: 0s - loss: 0.0149 - mae: 0.0149 - mape: 264.2434\n",
      "Epoch 11: val_loss did not improve from 0.01393\n",
      "2653/2653 [==============================] - 7s 3ms/step - loss: 0.0149 - mae: 0.0149 - mape: 262.5250 - val_loss: 0.0140 - val_mae: 0.0140 - val_mape: 6.7438\n",
      "Epoch 12/60\n",
      "2650/2653 [============================>.] - ETA: 0s - loss: 0.0148 - mae: 0.0148 - mape: 448.0824\n",
      "Epoch 12: val_loss did not improve from 0.01393\n",
      "2653/2653 [==============================] - 13s 5ms/step - loss: 0.0148 - mae: 0.0148 - mape: 447.6539 - val_loss: 0.0157 - val_mae: 0.0157 - val_mape: 7.4862\n",
      "Epoch 13/60\n",
      "2649/2653 [============================>.] - ETA: 0s - loss: 0.0144 - mae: 0.0144 - mape: 399.4803\n",
      "Epoch 13: val_loss improved from 0.01393 to 0.01243, saving model to C:\\Users\\Hp\\Desktop\\ml labs\\last labs\\checkpoints\\E1-cp-0013-loss0.012430.h5\n",
      "2653/2653 [==============================] - 8s 3ms/step - loss: 0.0144 - mae: 0.0144 - mape: 398.9485 - val_loss: 0.0124 - val_mae: 0.0124 - val_mape: 5.9914\n",
      "Epoch 14/60\n",
      "2653/2653 [==============================] - ETA: 0s - loss: 0.0143 - mae: 0.0143 - mape: 150.2303\n",
      "Epoch 14: val_loss did not improve from 0.01243\n",
      "2653/2653 [==============================] - 8s 3ms/step - loss: 0.0143 - mae: 0.0143 - mape: 150.2303 - val_loss: 0.0154 - val_mae: 0.0154 - val_mape: 7.6218\n",
      "Epoch 15/60\n",
      "2653/2653 [==============================] - ETA: 0s - loss: 0.0140 - mae: 0.0140 - mape: 86.7530\n",
      "Epoch 15: val_loss did not improve from 0.01243\n",
      "2653/2653 [==============================] - 7s 3ms/step - loss: 0.0140 - mae: 0.0140 - mape: 86.7530 - val_loss: 0.0129 - val_mae: 0.0129 - val_mape: 6.2405\n",
      "Epoch 16/60\n",
      "2644/2653 [============================>.] - ETA: 0s - loss: 0.0137 - mae: 0.0137 - mape: 289.7574\n",
      "Epoch 16: val_loss did not improve from 0.01243\n",
      "2653/2653 [==============================] - 7s 3ms/step - loss: 0.0137 - mae: 0.0137 - mape: 288.8368 - val_loss: 0.0136 - val_mae: 0.0136 - val_mape: 6.5035\n",
      "Epoch 17/60\n",
      "2638/2653 [============================>.] - ETA: 0s - loss: 0.0135 - mae: 0.0135 - mape: 122.9973\n",
      "Epoch 17: val_loss improved from 0.01243 to 0.01220, saving model to C:\\Users\\Hp\\Desktop\\ml labs\\last labs\\checkpoints\\E1-cp-0017-loss0.012202.h5\n",
      "2653/2653 [==============================] - 7s 3ms/step - loss: 0.0135 - mae: 0.0135 - mape: 122.3465 - val_loss: 0.0122 - val_mae: 0.0122 - val_mape: 6.0169\n",
      "Epoch 18/60\n",
      "2650/2653 [============================>.] - ETA: 0s - loss: 0.0134 - mae: 0.0134 - mape: 107.3837\n",
      "Epoch 18: val_loss did not improve from 0.01220\n",
      "2653/2653 [==============================] - 7s 3ms/step - loss: 0.0134 - mae: 0.0134 - mape: 107.2838 - val_loss: 0.0127 - val_mae: 0.0127 - val_mape: 6.1443\n",
      "Epoch 19/60\n",
      "2644/2653 [============================>.] - ETA: 0s - loss: 0.0132 - mae: 0.0132 - mape: 235.5747\n",
      "Epoch 19: val_loss did not improve from 0.01220\n",
      "2653/2653 [==============================] - 8s 3ms/step - loss: 0.0132 - mae: 0.0132 - mape: 234.8307 - val_loss: 0.0155 - val_mae: 0.0155 - val_mape: 7.3900\n",
      "Epoch 20/60\n",
      "2648/2653 [============================>.] - ETA: 0s - loss: 0.0132 - mae: 0.0132 - mape: 321.3550\n",
      "Epoch 20: val_loss did not improve from 0.01220\n",
      "2653/2653 [==============================] - 8s 3ms/step - loss: 0.0132 - mae: 0.0132 - mape: 320.8090 - val_loss: 0.0158 - val_mae: 0.0158 - val_mape: 8.0527\n",
      "Epoch 21/60\n",
      "2643/2653 [============================>.] - ETA: 0s - loss: 0.0131 - mae: 0.0131 - mape: 324.8848\n",
      "Epoch 21: val_loss did not improve from 0.01220\n",
      "2653/2653 [==============================] - 10s 4ms/step - loss: 0.0131 - mae: 0.0131 - mape: 323.7345 - val_loss: 0.0134 - val_mae: 0.0134 - val_mape: 6.1569\n",
      "Epoch 22/60\n",
      "2631/2653 [============================>.] - ETA: 0s - loss: 0.0128 - mae: 0.0128 - mape: 131.2831\n",
      "Epoch 22: val_loss improved from 0.01220 to 0.01149, saving model to C:\\Users\\Hp\\Desktop\\ml labs\\last labs\\checkpoints\\E1-cp-0022-loss0.011492.h5\n",
      "2653/2653 [==============================] - 8s 3ms/step - loss: 0.0128 - mae: 0.0128 - mape: 130.2521 - val_loss: 0.0115 - val_mae: 0.0115 - val_mape: 5.8142\n",
      "Epoch 23/60\n",
      "2638/2653 [============================>.] - ETA: 0s - loss: 0.0128 - mae: 0.0128 - mape: 307.4329\n",
      "Epoch 23: val_loss did not improve from 0.01149\n"
     ]
    },
    {
     "name": "stdout",
     "output_type": "stream",
     "text": [
      "2653/2653 [==============================] - 8s 3ms/step - loss: 0.0128 - mae: 0.0128 - mape: 305.7798 - val_loss: 0.0164 - val_mae: 0.0164 - val_mape: 7.2661\n",
      "Epoch 24/60\n",
      "2637/2653 [============================>.] - ETA: 0s - loss: 0.0127 - mae: 0.0127 - mape: 212.2753\n",
      "Epoch 24: val_loss did not improve from 0.01149\n",
      "2653/2653 [==============================] - 7s 3ms/step - loss: 0.0127 - mae: 0.0127 - mape: 211.0558 - val_loss: 0.0137 - val_mae: 0.0137 - val_mape: 6.6729\n",
      "Epoch 25/60\n",
      "2653/2653 [==============================] - ETA: 0s - loss: 0.0126 - mae: 0.0126 - mape: 157.5104\n",
      "Epoch 25: val_loss did not improve from 0.01149\n",
      "2653/2653 [==============================] - 7s 3ms/step - loss: 0.0126 - mae: 0.0126 - mape: 157.5104 - val_loss: 0.0174 - val_mae: 0.0174 - val_mape: 8.9292\n",
      "Epoch 26/60\n",
      "2632/2653 [============================>.] - ETA: 0s - loss: 0.0126 - mae: 0.0126 - mape: 210.3705\n",
      "Epoch 26: val_loss did not improve from 0.01149\n",
      "2653/2653 [==============================] - 7s 3ms/step - loss: 0.0126 - mae: 0.0126 - mape: 208.7706 - val_loss: 0.0119 - val_mae: 0.0119 - val_mape: 6.0812\n",
      "Epoch 27/60\n",
      "2649/2653 [============================>.] - ETA: 0s - loss: 0.0125 - mae: 0.0125 - mape: 256.6520\n",
      "Epoch 27: val_loss improved from 0.01149 to 0.01040, saving model to C:\\Users\\Hp\\Desktop\\ml labs\\last labs\\checkpoints\\E1-cp-0027-loss0.010403.h5\n",
      "2653/2653 [==============================] - 7s 3ms/step - loss: 0.0125 - mae: 0.0125 - mape: 256.3124 - val_loss: 0.0104 - val_mae: 0.0104 - val_mape: 5.0760\n",
      "Epoch 28/60\n",
      "2643/2653 [============================>.] - ETA: 0s - loss: 0.0123 - mae: 0.0123 - mape: 313.9208\n",
      "Epoch 28: val_loss did not improve from 0.01040\n",
      "2653/2653 [==============================] - 7s 3ms/step - loss: 0.0123 - mae: 0.0123 - mape: 312.8027 - val_loss: 0.0124 - val_mae: 0.0124 - val_mape: 6.4211\n",
      "Epoch 29/60\n",
      "2637/2653 [============================>.] - ETA: 0s - loss: 0.0122 - mae: 0.0122 - mape: 342.1637\n",
      "Epoch 29: val_loss did not improve from 0.01040\n",
      "2653/2653 [==============================] - 7s 3ms/step - loss: 0.0122 - mae: 0.0122 - mape: 340.1800 - val_loss: 0.0115 - val_mae: 0.0115 - val_mape: 5.5213\n",
      "Epoch 30/60\n",
      "2632/2653 [============================>.] - ETA: 0s - loss: 0.0121 - mae: 0.0121 - mape: 118.4445\n",
      "Epoch 30: val_loss did not improve from 0.01040\n",
      "2653/2653 [==============================] - 7s 3ms/step - loss: 0.0121 - mae: 0.0121 - mape: 117.5559 - val_loss: 0.0134 - val_mae: 0.0134 - val_mape: 7.3010\n",
      "Epoch 31/60\n",
      "2637/2653 [============================>.] - ETA: 0s - loss: 0.0122 - mae: 0.0122 - mape: 282.9527\n",
      "Epoch 31: val_loss improved from 0.01040 to 0.01023, saving model to C:\\Users\\Hp\\Desktop\\ml labs\\last labs\\checkpoints\\E1-cp-0031-loss0.010234.h5\n",
      "2653/2653 [==============================] - 8s 3ms/step - loss: 0.0122 - mae: 0.0122 - mape: 281.3158 - val_loss: 0.0102 - val_mae: 0.0102 - val_mape: 5.4455\n",
      "Epoch 32/60\n",
      "2649/2653 [============================>.] - ETA: 0s - loss: 0.0122 - mae: 0.0122 - mape: 213.7138\n",
      "Epoch 32: val_loss did not improve from 0.01023\n",
      "2653/2653 [==============================] - 7s 3ms/step - loss: 0.0122 - mae: 0.0122 - mape: 213.4320 - val_loss: 0.0110 - val_mae: 0.0110 - val_mape: 5.6622\n",
      "Epoch 33/60\n",
      "2636/2653 [============================>.] - ETA: 0s - loss: 0.0120 - mae: 0.0120 - mape: 320.9373\n",
      "Epoch 33: val_loss did not improve from 0.01023\n",
      "2653/2653 [==============================] - 7s 3ms/step - loss: 0.0120 - mae: 0.0120 - mape: 318.9572 - val_loss: 0.0110 - val_mae: 0.0110 - val_mape: 5.3904\n",
      "Epoch 34/60\n",
      "2643/2653 [============================>.] - ETA: 0s - loss: 0.0118 - mae: 0.0118 - mape: 175.7712\n",
      "Epoch 34: val_loss did not improve from 0.01023\n",
      "2653/2653 [==============================] - 8s 3ms/step - loss: 0.0118 - mae: 0.0118 - mape: 175.1496 - val_loss: 0.0112 - val_mae: 0.0112 - val_mape: 5.6934\n",
      "Epoch 35/60\n",
      "2645/2653 [============================>.] - ETA: 0s - loss: 0.0118 - mae: 0.0118 - mape: 238.0602\n",
      "Epoch 35: val_loss did not improve from 0.01023\n",
      "2653/2653 [==============================] - 18s 7ms/step - loss: 0.0118 - mae: 0.0118 - mape: 237.3918 - val_loss: 0.0112 - val_mae: 0.0112 - val_mape: 5.8251\n",
      "Epoch 36/60\n",
      "2652/2653 [============================>.] - ETA: 0s - loss: 0.0118 - mae: 0.0118 - mape: 301.6569\n",
      "Epoch 36: val_loss did not improve from 0.01023\n",
      "2653/2653 [==============================] - 11s 4ms/step - loss: 0.0118 - mae: 0.0118 - mape: 301.5934 - val_loss: 0.0123 - val_mae: 0.0123 - val_mape: 6.2726\n",
      "Epoch 37/60\n",
      "2646/2653 [============================>.] - ETA: 0s - loss: 0.0117 - mae: 0.0117 - mape: 334.2779\n",
      "Epoch 37: val_loss did not improve from 0.01023\n",
      "2653/2653 [==============================] - 8s 3ms/step - loss: 0.0117 - mae: 0.0117 - mape: 333.4590 - val_loss: 0.0131 - val_mae: 0.0131 - val_mape: 6.6037\n",
      "Epoch 38/60\n",
      "2650/2653 [============================>.] - ETA: 0s - loss: 0.0117 - mae: 0.0117 - mape: 498.1526\n",
      "Epoch 38: val_loss did not improve from 0.01023\n",
      "2653/2653 [==============================] - 11s 4ms/step - loss: 0.0117 - mae: 0.0117 - mape: 497.6751 - val_loss: 0.0125 - val_mae: 0.0125 - val_mape: 6.0380\n",
      "Epoch 39/60\n",
      "2634/2653 [============================>.] - ETA: 0s - loss: 0.0116 - mae: 0.0116 - mape: 433.6650\n",
      "Epoch 39: val_loss did not improve from 0.01023\n",
      "2653/2653 [==============================] - 9s 3ms/step - loss: 0.0117 - mae: 0.0117 - mape: 430.6594 - val_loss: 0.0120 - val_mae: 0.0120 - val_mape: 5.4989\n",
      "Epoch 40/60\n",
      "2638/2653 [============================>.] - ETA: 0s - loss: 0.0115 - mae: 0.0115 - mape: 375.0110\n",
      "Epoch 40: val_loss did not improve from 0.01023\n",
      "2653/2653 [==============================] - 9s 4ms/step - loss: 0.0115 - mae: 0.0115 - mape: 372.9724 - val_loss: 0.0114 - val_mae: 0.0114 - val_mape: 5.4972\n",
      "Epoch 41/60\n",
      "2650/2653 [============================>.] - ETA: 0s - loss: 0.0114 - mae: 0.0114 - mape: 313.8682\n",
      "Epoch 41: val_loss did not improve from 0.01023\n",
      "2653/2653 [==============================] - 8s 3ms/step - loss: 0.0114 - mae: 0.0114 - mape: 313.5685 - val_loss: 0.0127 - val_mae: 0.0127 - val_mape: 6.5934\n",
      "Epoch 42/60\n",
      "2652/2653 [============================>.] - ETA: 0s - loss: 0.0114 - mae: 0.0114 - mape: 432.2904\n",
      "Epoch 42: val_loss did not improve from 0.01023\n",
      "2653/2653 [==============================] - 11s 4ms/step - loss: 0.0114 - mae: 0.0114 - mape: 432.1998 - val_loss: 0.0121 - val_mae: 0.0121 - val_mape: 5.8019\n",
      "Epoch 43/60\n",
      "2643/2653 [============================>.] - ETA: 0s - loss: 0.0114 - mae: 0.0114 - mape: 145.2154\n",
      "Epoch 43: val_loss did not improve from 0.01023\n",
      "2653/2653 [==============================] - 10s 4ms/step - loss: 0.0114 - mae: 0.0114 - mape: 144.7030 - val_loss: 0.0112 - val_mae: 0.0112 - val_mape: 5.6620\n",
      "Epoch 44/60\n",
      "2649/2653 [============================>.] - ETA: 0s - loss: 0.0113 - mae: 0.0113 - mape: 325.7889\n",
      "Epoch 44: val_loss did not improve from 0.01023\n",
      "2653/2653 [==============================] - 9s 3ms/step - loss: 0.0113 - mae: 0.0113 - mape: 325.3553 - val_loss: 0.0107 - val_mae: 0.0107 - val_mape: 5.3006\n",
      "Epoch 45/60\n",
      "2651/2653 [============================>.] - ETA: 0s - loss: 0.0115 - mae: 0.0115 - mape: 441.8389\n",
      "Epoch 45: val_loss did not improve from 0.01023\n",
      "2653/2653 [==============================] - 9s 4ms/step - loss: 0.0115 - mae: 0.0115 - mape: 441.5808 - val_loss: 0.0154 - val_mae: 0.0154 - val_mape: 7.2762\n",
      "Epoch 46/60\n",
      "2648/2653 [============================>.] - ETA: 0s - loss: 0.0114 - mae: 0.0114 - mape: 325.5750\n",
      "Epoch 46: val_loss did not improve from 0.01023\n",
      "2653/2653 [==============================] - 16s 6ms/step - loss: 0.0114 - mae: 0.0114 - mape: 325.0212 - val_loss: 0.0115 - val_mae: 0.0115 - val_mape: 5.8408\n",
      "Epoch 47/60\n",
      "2632/2653 [============================>.] - ETA: 0s - loss: 0.0113 - mae: 0.0113 - mape: 187.8414\n",
      "Epoch 47: val_loss did not improve from 0.01023\n",
      "2653/2653 [==============================] - 10s 4ms/step - loss: 0.0113 - mae: 0.0113 - mape: 186.4116 - val_loss: 0.0109 - val_mae: 0.0109 - val_mape: 5.4941\n",
      "Epoch 48/60\n",
      "2633/2653 [============================>.] - ETA: 0s - loss: 0.0113 - mae: 0.0113 - mape: 260.1586\n",
      "Epoch 48: val_loss did not improve from 0.01023\n",
      "2653/2653 [==============================] - 10s 4ms/step - loss: 0.0113 - mae: 0.0113 - mape: 258.2666 - val_loss: 0.0122 - val_mae: 0.0122 - val_mape: 6.4665\n"
     ]
    },
    {
     "name": "stdout",
     "output_type": "stream",
     "text": [
      "Epoch 49/60\n",
      "2648/2653 [============================>.] - ETA: 0s - loss: 0.0112 - mae: 0.0112 - mape: 302.6317\n",
      "Epoch 49: val_loss did not improve from 0.01023\n",
      "2653/2653 [==============================] - 11s 4ms/step - loss: 0.0112 - mae: 0.0112 - mape: 302.1180 - val_loss: 0.0127 - val_mae: 0.0127 - val_mape: 6.0173\n",
      "Epoch 50/60\n",
      "2652/2653 [============================>.] - ETA: 0s - loss: 0.0113 - mae: 0.0113 - mape: 250.9360\n",
      "Epoch 50: val_loss improved from 0.01023 to 0.01017, saving model to C:\\Users\\Hp\\Desktop\\ml labs\\last labs\\checkpoints\\E1-cp-0050-loss0.010172.h5\n",
      "2653/2653 [==============================] - 14s 5ms/step - loss: 0.0113 - mae: 0.0113 - mape: 250.8836 - val_loss: 0.0102 - val_mae: 0.0102 - val_mape: 5.0787\n",
      "Epoch 51/60\n",
      "2651/2653 [============================>.] - ETA: 0s - loss: 0.0112 - mae: 0.0112 - mape: 379.3109\n",
      "Epoch 51: val_loss did not improve from 0.01017\n",
      "2653/2653 [==============================] - 11s 4ms/step - loss: 0.0112 - mae: 0.0112 - mape: 379.0901 - val_loss: 0.0108 - val_mae: 0.0108 - val_mape: 6.1663\n",
      "Epoch 52/60\n",
      "2650/2653 [============================>.] - ETA: 0s - loss: 0.0111 - mae: 0.0111 - mape: 97.9444\n",
      "Epoch 52: val_loss did not improve from 0.01017\n",
      "2653/2653 [==============================] - 8s 3ms/step - loss: 0.0111 - mae: 0.0111 - mape: 97.8531 - val_loss: 0.0131 - val_mae: 0.0131 - val_mape: 7.1999\n",
      "Epoch 53/60\n",
      "2649/2653 [============================>.] - ETA: 0s - loss: 0.0110 - mae: 0.0110 - mape: 329.9928\n",
      "Epoch 53: val_loss did not improve from 0.01017\n",
      "2653/2653 [==============================] - 9s 3ms/step - loss: 0.0110 - mae: 0.0110 - mape: 329.5544 - val_loss: 0.0116 - val_mae: 0.0116 - val_mape: 5.4888\n",
      "Epoch 54/60\n",
      "2634/2653 [============================>.] - ETA: 0s - loss: 0.0110 - mae: 0.0110 - mape: 180.1884\n",
      "Epoch 54: val_loss did not improve from 0.01017\n",
      "2653/2653 [==============================] - 8s 3ms/step - loss: 0.0110 - mae: 0.0110 - mape: 178.9546 - val_loss: 0.0121 - val_mae: 0.0121 - val_mape: 6.2456\n",
      "Epoch 55/60\n",
      "2643/2653 [============================>.] - ETA: 0s - loss: 0.0108 - mae: 0.0108 - mape: 450.5582\n",
      "Epoch 55: val_loss did not improve from 0.01017\n",
      "2653/2653 [==============================] - 8s 3ms/step - loss: 0.0108 - mae: 0.0108 - mape: 448.9659 - val_loss: 0.0125 - val_mae: 0.0125 - val_mape: 6.2813\n",
      "Epoch 56/60\n",
      "2651/2653 [============================>.] - ETA: 0s - loss: 0.0111 - mae: 0.0111 - mape: 207.5381\n",
      "Epoch 56: val_loss did not improve from 0.01017\n",
      "2653/2653 [==============================] - 9s 3ms/step - loss: 0.0111 - mae: 0.0111 - mape: 207.4174 - val_loss: 0.0113 - val_mae: 0.0113 - val_mape: 5.5390\n",
      "Epoch 57/60\n",
      "2651/2653 [============================>.] - ETA: 0s - loss: 0.0110 - mae: 0.0110 - mape: 193.3396\n",
      "Epoch 57: val_loss did not improve from 0.01017\n",
      "2653/2653 [==============================] - 9s 3ms/step - loss: 0.0110 - mae: 0.0110 - mape: 193.2275 - val_loss: 0.0134 - val_mae: 0.0134 - val_mape: 7.2547\n",
      "Epoch 58/60\n",
      "2653/2653 [==============================] - ETA: 0s - loss: 0.0111 - mae: 0.0111 - mape: 321.9721\n",
      "Epoch 58: val_loss did not improve from 0.01017\n",
      "2653/2653 [==============================] - 10s 4ms/step - loss: 0.0111 - mae: 0.0111 - mape: 321.9721 - val_loss: 0.0140 - val_mae: 0.0140 - val_mape: 6.1813\n",
      "Epoch 59/60\n",
      "2646/2653 [============================>.] - ETA: 0s - loss: 0.0110 - mae: 0.0110 - mape: 483.8782\n",
      "Epoch 59: val_loss did not improve from 0.01017\n",
      "2653/2653 [==============================] - 13s 5ms/step - loss: 0.0110 - mae: 0.0110 - mape: 482.6887 - val_loss: 0.0102 - val_mae: 0.0102 - val_mape: 5.5165\n",
      "Epoch 60/60\n",
      "2648/2653 [============================>.] - ETA: 0s - loss: 0.0109 - mae: 0.0109 - mape: 295.5840\n",
      "Epoch 60: val_loss improved from 0.01017 to 0.01014, saving model to C:\\Users\\Hp\\Desktop\\ml labs\\last labs\\checkpoints\\E1-cp-0060-loss0.010142.h5\n",
      "2653/2653 [==============================] - 16s 6ms/step - loss: 0.0109 - mae: 0.0109 - mape: 295.0803 - val_loss: 0.0101 - val_mae: 0.0101 - val_mape: 5.0718\n"
     ]
    }
   ],
   "source": [
    "epochs = 60\n",
    "verbose = 1 #0\n",
    "batch_size = 32\n",
    "History = model.fit(train_X,\n",
    "                        train_y,\n",
    "                        batch_size=batch_size,   \n",
    "                        epochs = epochs, \n",
    "                        validation_data = (validation_X,validation_y),\n",
    "                        callbacks=callbacks,\n",
    "                    verbose = verbose)"
   ]
  },
  {
   "cell_type": "code",
   "execution_count": 23,
   "metadata": {},
   "outputs": [
    {
     "name": "stdout",
     "output_type": "stream",
     "text": [
      "379/379 [==============================] - 1s 2ms/step\n",
      "Mean Absolute Error (MAE): 171.57\n",
      "Median Absolute Error (MedAE): 143.28\n",
      "Mean Squared Error (MSE): 47890.24\n",
      "Root Mean Squared Error (RMSE): 218.84\n",
      "Mean Absolute Percentage Error (MAPE): 1.18 %\n",
      "Median Absolute Percentage Error (MDAPE): 0.99 %\n",
      "\n",
      "\n",
      "y_test_unscaled.shape=  (12105, 1)\n",
      "y_pred.shape=  (12105, 1)\n"
     ]
    }
   ],
   "source": [
    "\n",
    "model = load_model(r'C:\\Users\\Hp\\Desktop\\ml labs\\last labs\\checkpoints\\E1-cp-0031-loss0.010234.h5')\n",
    "\n",
    "y_pred_scaled   = model.predict(test_X)\n",
    "y_pred          = scaler.inverse_transform(y_pred_scaled)\n",
    "y_test_unscaled = scaler.inverse_transform(test_y)\n",
    "# Mean Absolute Error (MAE)\n",
    "MAE = np.mean(abs(y_pred - y_test_unscaled)) \n",
    "print('Mean Absolute Error (MAE): ' + str(np.round(MAE, 2)))\n",
    "\n",
    "# Median Absolute Error (MedAE)\n",
    "MEDAE = np.median(abs(y_pred - y_test_unscaled))\n",
    "print('Median Absolute Error (MedAE): ' + str(np.round(MEDAE, 2)))\n",
    "\n",
    "# Mean Squared Error (MSE)\n",
    "MSE = np.square(np.subtract(y_pred, y_test_unscaled)).mean()\n",
    "print('Mean Squared Error (MSE): ' + str(np.round(MSE, 2)))\n",
    "\n",
    "# Root Mean Squarred Error (RMSE) \n",
    "RMSE = np.sqrt(np.mean(np.square(y_pred - y_test_unscaled)))\n",
    "print('Root Mean Squared Error (RMSE): ' + str(np.round(RMSE, 2)))\n",
    "\n",
    "# Mean Absolute Percentage Error (MAPE)\n",
    "MAPE = np.mean((np.abs(np.subtract(y_test_unscaled, y_pred)/ y_test_unscaled))) * 100\n",
    "print('Mean Absolute Percentage Error (MAPE): ' + str(np.round(MAPE, 2)) + ' %')\n",
    "\n",
    "# Median Absolute Percentage Error (MDAPE)\n",
    "MDAPE = np.median((np.abs(np.subtract(y_test_unscaled, y_pred)/ y_test_unscaled))) * 100\n",
    "print('Median Absolute Percentage Error (MDAPE): ' + str(np.round(MDAPE, 2)) + ' %')\n",
    "\n",
    "print('\\n\\ny_test_unscaled.shape= ',y_test_unscaled.shape)\n",
    "print('y_pred.shape= ',y_pred.shape)"
   ]
  },
  {
   "cell_type": "markdown",
   "metadata": {},
   "source": [
    "# Fine Tuning"
   ]
  },
  {
   "cell_type": "code",
   "execution_count": 24,
   "metadata": {},
   "outputs": [],
   "source": [
    "checkpoints = r'C:\\Users\\Hp\\Desktop\\ml labs\\last labs\\checkpoints\\E2-cp-{epoch:04d}-loss{val_loss:.2f}.h5'\n",
    "model=r'C:\\Users\\Hp\\Desktop\\ml labs\\last labs\\checkpoints\\E1-cp-0031-loss0.010234.h5'\n",
    "start_epoch= 32"
   ]
  },
  {
   "cell_type": "code",
   "execution_count": 25,
   "metadata": {},
   "outputs": [
    {
     "name": "stdout",
     "output_type": "stream",
     "text": [
      "[INFO] loading C:\\Users\\Hp\\Desktop\\ml labs\\last labs\\checkpoints\\E1-cp-0031-loss0.010234.h5...\n",
      "[INFO] old learning rate: 0.0010000000474974513\n",
      "[INFO] new learning rate: 9.999999747378752e-05\n"
     ]
    }
   ],
   "source": [
    "# construct the callback to save only the *best* model to disk\n",
    "# based on the validation loss\n",
    "EpochCheckpoint1 = ModelCheckpoint(checkpoints,\n",
    "                             monitor=\"val_loss\",\n",
    "                             save_best_only=True, \n",
    "                             verbose=1)\n",
    "#TrainingMonitor1=TrainingMonitor(FIG_PATH, jsonPath=JSON_PATH, startAt=start_epoch)\n",
    "\n",
    "# construct the set of callbacks\n",
    "callbacks = [EpochCheckpoint1]\n",
    "# if there is no specific model checkpoint supplied, then initialize\n",
    "# the network and compile the model\n",
    "if model is None:\n",
    "    print(\"[INFO] compiling model...\")\n",
    "    model = PC.build(time_steps=24, num_features=21, reg=0.0005)\n",
    "    opt = Adam(1e-3)\n",
    "    model.compile(loss= 'mae', optimizer=opt, metrics=[\"mae\", \"mape\"])\n",
    "# otherwise, load the checkpoint from disk\n",
    "else:\n",
    "    print(\"[INFO] loading {}...\".format(model))\n",
    "    model = load_model(model)\n",
    "\n",
    "    # update the learning rate\n",
    "    print(\"[INFO] old learning rate: {}\".format(K.get_value(model.optimizer.lr)))\n",
    "    K.set_value(model.optimizer.lr, 1e-4)\n",
    "    print(\"[INFO] new learning rate: {}\".format(K.get_value(model.optimizer.lr)))"
   ]
  },
  {
   "cell_type": "code",
   "execution_count": 26,
   "metadata": {},
   "outputs": [
    {
     "name": "stdout",
     "output_type": "stream",
     "text": [
      "Epoch 1/10\n",
      "2645/2653 [============================>.] - ETA: 0s - loss: 0.0090 - mae: 0.0090 - mape: 273.6293\n",
      "Epoch 1: val_loss improved from inf to 0.00940, saving model to C:\\Users\\Hp\\Desktop\\ml labs\\last labs\\checkpoints\\E2-cp-0001-loss0.01.h5\n",
      "2653/2653 [==============================] - 8s 3ms/step - loss: 0.0090 - mae: 0.0090 - mape: 272.8572 - val_loss: 0.0094 - val_mae: 0.0094 - val_mape: 4.7897\n",
      "Epoch 2/10\n",
      "2646/2653 [============================>.] - ETA: 0s - loss: 0.0089 - mae: 0.0089 - mape: 274.5059\n",
      "Epoch 2: val_loss did not improve from 0.00940\n",
      "2653/2653 [==============================] - 7s 3ms/step - loss: 0.0089 - mae: 0.0089 - mape: 273.8332 - val_loss: 0.0095 - val_mae: 0.0095 - val_mape: 4.9762\n",
      "Epoch 3/10\n",
      "2653/2653 [==============================] - ETA: 0s - loss: 0.0089 - mae: 0.0089 - mape: 265.9630\n",
      "Epoch 3: val_loss did not improve from 0.00940\n",
      "2653/2653 [==============================] - 7s 3ms/step - loss: 0.0089 - mae: 0.0089 - mape: 265.9630 - val_loss: 0.0099 - val_mae: 0.0099 - val_mape: 4.9946\n",
      "Epoch 4/10\n",
      "2639/2653 [============================>.] - ETA: 0s - loss: 0.0089 - mae: 0.0089 - mape: 261.1997\n",
      "Epoch 4: val_loss did not improve from 0.00940\n",
      "2653/2653 [==============================] - 7s 3ms/step - loss: 0.0089 - mae: 0.0089 - mape: 259.8799 - val_loss: 0.0096 - val_mae: 0.0096 - val_mape: 5.0605\n",
      "Epoch 5/10\n",
      "2650/2653 [============================>.] - ETA: 0s - loss: 0.0088 - mae: 0.0088 - mape: 286.1702\n",
      "Epoch 5: val_loss improved from 0.00940 to 0.00936, saving model to C:\\Users\\Hp\\Desktop\\ml labs\\last labs\\checkpoints\\E2-cp-0005-loss0.01.h5\n",
      "2653/2653 [==============================] - 7s 3ms/step - loss: 0.0088 - mae: 0.0088 - mape: 285.8963 - val_loss: 0.0094 - val_mae: 0.0094 - val_mape: 4.7601\n",
      "Epoch 6/10\n",
      "2633/2653 [============================>.] - ETA: 0s - loss: 0.0088 - mae: 0.0088 - mape: 206.2978\n",
      "Epoch 6: val_loss did not improve from 0.00936\n",
      "2653/2653 [==============================] - 8s 3ms/step - loss: 0.0088 - mae: 0.0088 - mape: 204.7961 - val_loss: 0.0097 - val_mae: 0.0097 - val_mape: 4.9722\n",
      "Epoch 7/10\n",
      "2643/2653 [============================>.] - ETA: 0s - loss: 0.0088 - mae: 0.0088 - mape: 258.8988\n",
      "Epoch 7: val_loss did not improve from 0.00936\n",
      "2653/2653 [==============================] - 7s 2ms/step - loss: 0.0088 - mae: 0.0088 - mape: 257.9746 - val_loss: 0.0094 - val_mae: 0.0094 - val_mape: 4.9083\n",
      "Epoch 8/10\n",
      "2631/2653 [============================>.] - ETA: 0s - loss: 0.0088 - mae: 0.0088 - mape: 268.5107\n",
      "Epoch 8: val_loss did not improve from 0.00936\n",
      "2653/2653 [==============================] - 7s 3ms/step - loss: 0.0088 - mae: 0.0088 - mape: 266.3520 - val_loss: 0.0097 - val_mae: 0.0097 - val_mape: 4.9145\n",
      "Epoch 9/10\n",
      "2632/2653 [============================>.] - ETA: 0s - loss: 0.0088 - mae: 0.0088 - mape: 263.0505\n",
      "Epoch 9: val_loss did not improve from 0.00936\n",
      "2653/2653 [==============================] - 7s 3ms/step - loss: 0.0087 - mae: 0.0087 - mape: 261.0325 - val_loss: 0.0094 - val_mae: 0.0094 - val_mape: 4.9212\n",
      "Epoch 10/10\n",
      "2642/2653 [============================>.] - ETA: 0s - loss: 0.0087 - mae: 0.0087 - mape: 271.5866\n",
      "Epoch 10: val_loss improved from 0.00936 to 0.00935, saving model to C:\\Users\\Hp\\Desktop\\ml labs\\last labs\\checkpoints\\E2-cp-0010-loss0.01.h5\n",
      "2653/2653 [==============================] - 7s 3ms/step - loss: 0.0087 - mae: 0.0087 - mape: 270.5168 - val_loss: 0.0093 - val_mae: 0.0093 - val_mape: 4.9309\n"
     ]
    }
   ],
   "source": [
    "epochs = 10\n",
    "verbose = 1 #0\n",
    "batch_size = 32\n",
    "History = model.fit(train_X,\n",
    "                        train_y,\n",
    "                        batch_size=batch_size,   \n",
    "                        epochs = epochs, \n",
    "                        validation_data = (validation_X,validation_y),\n",
    "                        callbacks=callbacks,\n",
    "                        verbose = verbose)"
   ]
  },
  {
   "cell_type": "code",
   "execution_count": 31,
   "metadata": {},
   "outputs": [
    {
     "name": "stdout",
     "output_type": "stream",
     "text": [
      "379/379 [==============================] - 1s 2ms/step\n",
      "Mean Absolute Error (MAE): 153.83\n",
      "Median Absolute Error (MedAE): 125.65\n",
      "Mean Squared Error (MSE): 39502.79\n",
      "Root Mean Squared Error (RMSE): 198.75\n",
      "Mean Absolute Percentage Error (MAPE): 1.05 %\n",
      "Median Absolute Percentage Error (MDAPE): 0.87 %\n",
      "\n",
      "\n",
      "y_test_unscaled.shape=  (12105, 1)\n",
      "y_pred.shape=  (12105, 1)\n"
     ]
    }
   ],
   "source": [
    "\n",
    "model = load_model(r'C:\\Users\\Hp\\Desktop\\ml labs\\last labs\\checkpoints\\E2-cp-0010-loss0.01.h5')\n",
    "\n",
    "y_pred_scaled   = model.predict(test_X)\n",
    "y_pred          = scaler.inverse_transform(y_pred_scaled)\n",
    "y_test_unscaled = scaler.inverse_transform(test_y)\n",
    "# Mean Absolute Error (MAE)\n",
    "MAE = np.mean(abs(y_pred - y_test_unscaled)) \n",
    "print('Mean Absolute Error (MAE): ' + str(np.round(MAE, 2)))\n",
    "\n",
    "# Median Absolute Error (MedAE)\n",
    "MEDAE = np.median(abs(y_pred - y_test_unscaled))\n",
    "print('Median Absolute Error (MedAE): ' + str(np.round(MEDAE, 2)))\n",
    "\n",
    "# Mean Squared Error (MSE)\n",
    "MSE = np.square(np.subtract(y_pred, y_test_unscaled)).mean()\n",
    "print('Mean Squared Error (MSE): ' + str(np.round(MSE, 2)))\n",
    "\n",
    "# Root Mean Squarred Error (RMSE) \n",
    "RMSE = np.sqrt(np.mean(np.square(y_pred - y_test_unscaled)))\n",
    "print('Root Mean Squared Error (RMSE): ' + str(np.round(RMSE, 2)))\n",
    "\n",
    "# Mean Absolute Percentage Error (MAPE)\n",
    "MAPE = np.mean((np.abs(np.subtract(y_test_unscaled, y_pred)/ y_test_unscaled))) * 100\n",
    "print('Mean Absolute Percentage Error (MAPE): ' + str(np.round(MAPE, 2)) + ' %')\n",
    "\n",
    "# Median Absolute Percentage Error (MDAPE)\n",
    "MDAPE = np.median((np.abs(np.subtract(y_test_unscaled, y_pred)/ y_test_unscaled))) * 100\n",
    "print('Median Absolute Percentage Error (MDAPE): ' + str(np.round(MDAPE, 2)) + ' %')\n",
    "\n",
    "print('\\n\\ny_test_unscaled.shape= ',y_test_unscaled.shape)\n",
    "print('y_pred.shape= ',y_pred.shape)"
   ]
  },
  {
   "cell_type": "code",
   "execution_count": null,
   "metadata": {},
   "outputs": [],
   "source": []
  }
 ],
 "metadata": {
  "kernelspec": {
   "display_name": "Python 3 (ipykernel)",
   "language": "python",
   "name": "python3"
  },
  "language_info": {
   "codemirror_mode": {
    "name": "ipython",
    "version": 3
   },
   "file_extension": ".py",
   "mimetype": "text/x-python",
   "name": "python",
   "nbconvert_exporter": "python",
   "pygments_lexer": "ipython3",
   "version": "3.7.16"
  }
 },
 "nbformat": 4,
 "nbformat_minor": 4
}
