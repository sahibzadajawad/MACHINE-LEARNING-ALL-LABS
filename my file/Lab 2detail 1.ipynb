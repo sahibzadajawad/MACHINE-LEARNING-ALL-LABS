{
 "cells": [
  {
   "cell_type": "code",
   "execution_count": 23,
   "metadata": {},
   "outputs": [],
   "source": [
    "import os\n",
    "os.chdir(r'C:\\Users\\Hp\\Desktop\\ml labs\\last labs\\lab 2')"
   ]
  },
  {
   "cell_type": "code",
   "execution_count": 24,
   "metadata": {},
   "outputs": [],
   "source": [
    "from sklearn.metrics import mean_squared_error, mean_absolute_error, explained_variance_score, r2_score\n",
    "import sys\n",
    "sys.path.append(r\"C:\\Users\\Hp\\Desktop\\ml labs\\last labs\\timeseires\")\n",
    "\n",
    "from timeseires.utils.to_split import to_split\n",
    "from timeseires.utils.multivariate_multi_step import multivariate_multi_step\n",
    "from timeseires.utils.multivariate_single_step import multivariate_single_step\n",
    "from timeseires.utils.univariate_multi_step import univariate_multi_step\n",
    "from timeseires.utils.univariate_single_step import univariate_single_step\n",
    "from timeseires.utils.CosineAnnealingLRS import CosineAnnealingLRS\n",
    "from timeseires.callbacks.EpochCheckpoint import EpochCheckpoint\n",
    "from tensorflow.keras.callbacks import ModelCheckpoint\n",
    "from timeseires.callbacks.TrainingMonitor import TrainingMonitor\n",
    "from tensorflow.keras.optimizers import Adam\n",
    "from tensorflow.keras.optimizers import SGD\n",
    "from tensorflow.keras.models import load_model\n",
    "from tensorflow.keras.layers import Input,LSTM, Bidirectional, Add\n",
    "from tensorflow.keras.layers import BatchNormalization\n",
    "from tensorflow.keras.layers import Conv1D,TimeDistributed\n",
    "from tensorflow.keras.layers import Dense, Dropout, Activation, Flatten,MaxPooling1D,Concatenate,AveragePooling1D, GlobalMaxPooling1D, Input\n",
    "from tensorflow.keras.models import Sequential,Model\n",
    "import pandas as pd\n",
    "import time, pickle\n",
    "import numpy as np\n",
    "import tensorflow.keras.backend as K\n",
    "import tensorflow\n",
    "from tensorflow.keras.models import load_model\n",
    "from tensorflow.keras.losses import MeanAbsoluteError\n",
    "from tensorflow.keras.metrics import MeanAbsolutePercentageError\n",
    "from tensorflow.keras.layers import Input, Reshape, Dense, Lambda\n",
    "from tensorflow.keras.layers import Layer, Flatten, LeakyReLU, concatenate\n",
    "from tensorflow.keras.regularizers import l2\n",
    "import glob\n",
    "import h5py\n",
    "import matplotlib.pyplot as plt\n",
    "from keras.callbacks import Callback"
   ]
  },
  {
   "cell_type": "code",
   "execution_count": 25,
   "metadata": {},
   "outputs": [],
   "source": [
    "class PC:\n",
    "    @staticmethod\n",
    "    def build(time_steps, num_features, reg=0.0005):\n",
    "        # initialize the input shape to be \"channels last\" and the\n",
    "        # channels dimension itself\n",
    "        # define the model input and first CONV module\n",
    "        inputs = Input(shape=(time_steps, num_features))\n",
    "        lstm=Bidirectional(LSTM(48,return_sequences=True))(inputs)\n",
    "        lstm=LSTM(48)(lstm)\n",
    "        lstm=Activation('tanh')(lstm)\n",
    "        lstm=Dense(24)(lstm)\n",
    "        # create the model\n",
    "        model = Model(inputs, lstm, name=\"PC\")\n",
    "        \n",
    "        # return the constructed network architecture\n",
    "        return model"
   ]
  },
  {
   "cell_type": "code",
   "execution_count": 26,
   "metadata": {},
   "outputs": [],
   "source": [
    "model1 =  PC.build(time_steps=24, num_features=21, reg=0.005)"
   ]
  },
  {
   "cell_type": "code",
   "execution_count": 27,
   "metadata": {
    "scrolled": true
   },
   "outputs": [
    {
     "name": "stdout",
     "output_type": "stream",
     "text": [
      "Model: \"PC\"\n",
      "_________________________________________________________________\n",
      " Layer (type)                Output Shape              Param #   \n",
      "=================================================================\n",
      " input_3 (InputLayer)        [(None, 24, 21)]          0         \n",
      "                                                                 \n",
      " bidirectional_2 (Bidirectio  (None, 24, 96)           26880     \n",
      " nal)                                                            \n",
      "                                                                 \n",
      " lstm_5 (LSTM)               (None, 48)                27840     \n",
      "                                                                 \n",
      " activation_2 (Activation)   (None, 48)                0         \n",
      "                                                                 \n",
      " dense_2 (Dense)             (None, 24)                1176      \n",
      "                                                                 \n",
      "=================================================================\n",
      "Total params: 55,896\n",
      "Trainable params: 55,896\n",
      "Non-trainable params: 0\n",
      "_________________________________________________________________\n"
     ]
    }
   ],
   "source": [
    "model1.summary()"
   ]
  },
  {
   "cell_type": "code",
   "execution_count": 28,
   "metadata": {},
   "outputs": [],
   "source": [
    "import os\n",
    "checkpoints = r'C:\\Users\\Hp\\Desktop\\ml labs\\last labs\\lab 2\\checkpoints\\\\E3-cp-{epoch:04d}-loss{val_loss:.2f}.h5'\n",
    "OUTPUT_PATH = r'C:\\Users\\Hp\\Desktop\\ml labs\\last labs\\lab 2\\checkpoints'\n",
    "FIG_PATH = os.path.sep.join([OUTPUT_PATH,r\"h2istory.png\"])\n",
    "JSON_PATH = os.path.sep.join([OUTPUT_PATH,r\"h2istory.json\"])"
   ]
  },
  {
   "cell_type": "code",
   "execution_count": 29,
   "metadata": {},
   "outputs": [],
   "source": [
    "model = None\n",
    "start_epoch = 0\n",
    "time_steps=24\n",
    "num_features=21"
   ]
  },
  {
   "cell_type": "code",
   "execution_count": 30,
   "metadata": {},
   "outputs": [],
   "source": [
    "# construct the callback to save only the *best* model to disk\n",
    "# based on the validation loss\n",
    "EpochCheckpoint1 = ModelCheckpoint(checkpoints,\n",
    "                             monitor=\"val_loss\",\n",
    "                             save_best_only=True, \n",
    "                             verbose=1)\n",
    "TrainingMonitor1=TrainingMonitor(FIG_PATH, jsonPath=JSON_PATH, startAt=start_epoch)\n",
    "\n",
    "# construct the set of callbacks\n",
    "callbacks = [EpochCheckpoint1,TrainingMonitor1]"
   ]
  },
  {
   "cell_type": "code",
   "execution_count": 31,
   "metadata": {},
   "outputs": [
    {
     "name": "stdout",
     "output_type": "stream",
     "text": [
      "[INFO] compiling model...\n"
     ]
    }
   ],
   "source": [
    "# if there is no specific model checkpoint supplied, initialize the network\n",
    "if model is None:\n",
    "    print(\"[INFO] compiling model...\")\n",
    "    model = PC.build(time_steps=24, num_features=21, reg=0.005)\n",
    "    opt = Adam(1e-3)\n",
    "    model.compile(loss='mae', optimizer=opt, metrics=[\"mae\", \"mape\"])\n",
    "\n",
    "# otherwise, load the checkpoint from disk\n",
    "elif isinstance(model, str):  # Ensure model is a string path before loading\n",
    "    if os.path.exists(model):  # Check if the file exists\n",
    "        print(f\"[INFO] loading model from: {model}\")\n",
    "        model = load_model(model)\n",
    "\n",
    "        # update the learning rate\n",
    "        print(f\"[INFO] old learning rate: {K.get_value(model.optimizer.lr)}\")\n",
    "        K.set_value(model.optimizer.lr, 1e-4)\n",
    "        print(f\"[INFO] new learning rate: {K.get_value(model.optimizer.lr)}\")\n",
    "    else:\n",
    "        raise FileNotFoundError(f\"[ERROR] Model file not found: {model}\")\n",
    "\n",
    "else:\n",
    "    print(\"[INFO] Model is already loaded, skipping loading step.\")"
   ]
  },
  {
   "cell_type": "code",
   "execution_count": 33,
   "metadata": {},
   "outputs": [
    {
     "data": {
      "text/plain": [
       "((84907, 21), (24259, 21), (12130, 21))"
      ]
     },
     "execution_count": 33,
     "metadata": {},
     "output_type": "execute_result"
    }
   ],
   "source": [
    "import os\n",
    "path_dataset =r'C:\\Users\\Hp\\Desktop\\ml labs\\last labs\\AEP_hourly'\n",
    "path_tr = os.path.join(path_dataset, 'AEP_train.csv')\n",
    "df_tr = pd.read_csv(path_tr)\n",
    "train_set = df_tr.iloc[:].values\n",
    "path_v = os.path.join(path_dataset, 'AEP_validation.csv')\n",
    "df_v = pd.read_csv(path_v)\n",
    "validation_set = df_v.iloc[:].values \n",
    "path_te = os.path.join(path_dataset, 'AEP_test.csv')\n",
    "df_te = pd.read_csv(path_te)\n",
    "test_set = df_te.iloc[:].values \n",
    "\n",
    "path_scaler = os.path.join(path_dataset, 'AEP_Scaler.pkl')\n",
    "scaler         = pickle.load(open(path_scaler, 'rb'))\n",
    "\n",
    "train_set.shape, validation_set.shape, test_set.shape"
   ]
  },
  {
   "cell_type": "code",
   "execution_count": 34,
   "metadata": {},
   "outputs": [],
   "source": [
    "time_steps=24\n",
    "num_features=21"
   ]
  },
  {
   "cell_type": "code",
   "execution_count": 35,
   "metadata": {},
   "outputs": [
    {
     "name": "stdout",
     "output_type": "stream",
     "text": [
      "Time Consumed 1.1412959098815918 sec\n"
     ]
    }
   ],
   "source": [
    "start = time.time()\n",
    "train_X , train_y = univariate_multi_step(train_set, time_steps, target_col=0,target_len=24)\n",
    "validation_X, validation_y = univariate_multi_step(validation_set, time_steps, target_col=0,target_len=24)\n",
    "test_X, test_y = univariate_multi_step(test_set, time_steps, target_col=0,target_len=24)\n",
    "print('Time Consumed', time.time()-start, \"sec\")"
   ]
  },
  {
   "cell_type": "code",
   "execution_count": 36,
   "metadata": {},
   "outputs": [
    {
     "name": "stdout",
     "output_type": "stream",
     "text": [
      "Epoch 1/2\n",
      "2652/2652 [==============================] - ETA: 0s - loss: 0.0463 - mae: 0.0463 - mape: 2305.0928\n",
      "Epoch 1: val_loss improved from inf to 0.03953, saving model to C:\\Users\\Hp\\Desktop\\ml labs\\last labs\\lab 2\\checkpoints\\E3-cp-0001-loss0.04.h5\n",
      "2652/2652 [==============================] - 120s 41ms/step - loss: 0.0463 - mae: 0.0463 - mape: 2305.0928 - val_loss: 0.0395 - val_mae: 0.0395 - val_mape: 17.5095\n",
      "Epoch 2/2\n",
      "2651/2652 [============================>.] - ETA: 0s - loss: 0.0364 - mae: 0.0364 - mape: 2202.1042\n",
      "Epoch 2: val_loss did not improve from 0.03953\n",
      "2652/2652 [==============================] - 85s 32ms/step - loss: 0.0364 - mae: 0.0364 - mape: 2201.4065 - val_loss: 0.0416 - val_mae: 0.0416 - val_mape: 18.4988\n"
     ]
    }
   ],
   "source": [
    "epochs = 2\n",
    "verbose = 1 #0\n",
    "batch_size = 32\n",
    "History = model.fit(train_X,\n",
    "                        train_y,\n",
    "                        batch_size=batch_size,   \n",
    "                        epochs = epochs, \n",
    "                        validation_data = (validation_X,validation_y),\n",
    "                        callbacks=callbacks,verbose = verbose)"
   ]
  },
  {
   "cell_type": "code",
   "execution_count": 38,
   "metadata": {},
   "outputs": [
    {
     "name": "stdout",
     "output_type": "stream",
     "text": [
      "Model loaded successfully with custom metric!\n",
      "378/378 [==============================] - 7s 13ms/step\n",
      "Mean Absolute Error (MAE): 638.17\n",
      "Median Absolute Error (MedAE): 506.61\n",
      "Mean Squared Error (MSE): 686810.72\n",
      "Root Mean Squared Error (RMSE): 828.74\n",
      "Mean Absolute Percentage Error (MAPE): 4.32 %\n",
      "Median Absolute Percentage Error (MDAPE): 3.53 %\n",
      "\n",
      "\n",
      "y_test_unscaled.shape = (12082, 24)\n",
      "y_pred.shape = (12082, 24)\n"
     ]
    }
   ],
   "source": [
    "import os\n",
    "import numpy as np\n",
    "from tensorflow.keras.models import load_model\n",
    "from tensorflow.keras.losses import MeanAbsoluteError\n",
    "\n",
    "# Corrected file path\n",
    "model_path = r\"C:\\Users\\Hp\\Desktop\\ml labs\\last labs\\lab 2\\checkpoints\\E3-cp-0001-loss0.04.h5\"\n",
    "\n",
    "# Verify if the file exists\n",
    "if not os.path.exists(model_path):\n",
    "    raise FileNotFoundError(f\"Error: File not found at {model_path}\")\n",
    "\n",
    "# Load model with custom metric handling\n",
    "try:\n",
    "    model = load_model(model_path, custom_objects={'mae': MeanAbsoluteError()})\n",
    "    print(\"Model loaded successfully with custom metric!\")\n",
    "except TypeError:\n",
    "    print(\"Warning: Could not locate custom function. Loading without compilation.\")\n",
    "    model = load_model(model_path, compile=False)\n",
    "\n",
    "# Predictions\n",
    "y_pred_scaled   = model.predict(test_X)\n",
    "y_pred          = scaler.inverse_transform(y_pred_scaled)\n",
    "y_test_unscaled = scaler.inverse_transform(test_y)\n",
    "\n",
    "# Error metrics\n",
    "MAE = np.mean(abs(y_pred - y_test_unscaled)) \n",
    "print('Mean Absolute Error (MAE):', round(MAE, 2))\n",
    "\n",
    "MEDAE = np.median(abs(y_pred - y_test_unscaled))\n",
    "print('Median Absolute Error (MedAE):', round(MEDAE, 2))\n",
    "\n",
    "MSE = np.square(np.subtract(y_pred, y_test_unscaled)).mean()\n",
    "print('Mean Squared Error (MSE):', round(MSE, 2))\n",
    "\n",
    "RMSE = np.sqrt(np.mean(np.square(y_pred - y_test_unscaled)))\n",
    "print('Root Mean Squared Error (RMSE):', round(RMSE, 2))\n",
    "\n",
    "MAPE = np.mean((np.abs(np.subtract(y_test_unscaled, y_pred) / y_test_unscaled))) * 100\n",
    "print('Mean Absolute Percentage Error (MAPE):', round(MAPE, 2), '%')\n",
    "\n",
    "MDAPE = np.median((np.abs(np.subtract(y_test_unscaled, y_pred) / y_test_unscaled))) * 100\n",
    "print('Median Absolute Percentage Error (MDAPE):', round(MDAPE, 2), '%')\n",
    "\n",
    "print('\\n\\ny_test_unscaled.shape =', y_test_unscaled.shape)\n",
    "print('y_pred.shape =', y_pred.shape)\n"
   ]
  },
  {
   "cell_type": "code",
   "execution_count": 41,
   "metadata": {},
   "outputs": [],
   "source": [
    "checkpoints = r'C:\\Users\\Hp\\Desktop\\ml labs\\last labs\\lab 2\\checkpoints\\E2-cp-{epoch:04d}-loss{val_loss:.2f}.h5'\n",
    "model=r'C:\\Users\\Hp\\Desktop\\ml labs\\last labs\\lab 2\\checkpoints\\E3-cp-0001-loss0.04.h5'\n",
    "start_epoch= 0"
   ]
  },
  {
   "cell_type": "code",
   "execution_count": 43,
   "metadata": {},
   "outputs": [
    {
     "name": "stdout",
     "output_type": "stream",
     "text": [
      "[INFO] Loading model from C:\\Users\\Hp\\Desktop\\ml labs\\last labs\\lab 2\\checkpoints\\E3-cp-0001-loss0.04.h5...\n",
      "✅ Model loaded successfully!\n",
      "[INFO] Recompiling the model with Adam optimizer...\n",
      "[INFO] New learning rate: 1e-04\n",
      "Model: \"PC\"\n",
      "_________________________________________________________________\n",
      " Layer (type)                Output Shape              Param #   \n",
      "=================================================================\n",
      " input_4 (InputLayer)        [(None, 24, 21)]          0         \n",
      "                                                                 \n",
      " bidirectional_3 (Bidirectio  (None, 24, 96)           26880     \n",
      " nal)                                                            \n",
      "                                                                 \n",
      " lstm_7 (LSTM)               (None, 48)                27840     \n",
      "                                                                 \n",
      " activation_3 (Activation)   (None, 48)                0         \n",
      "                                                                 \n",
      " dense_3 (Dense)             (None, 24)                1176      \n",
      "                                                                 \n",
      "=================================================================\n",
      "Total params: 55,896\n",
      "Trainable params: 55,896\n",
      "Non-trainable params: 0\n",
      "_________________________________________________________________\n",
      "None\n"
     ]
    }
   ],
   "source": [
    "import os\n",
    "import numpy as np\n",
    "import tensorflow.keras.backend as K\n",
    "from tensorflow.keras.models import load_model\n",
    "from tensorflow.keras.optimizers import Adam\n",
    "from tensorflow.keras.losses import MeanAbsoluteError\n",
    "from tensorflow.keras.callbacks import ModelCheckpoint\n",
    "\n",
    "# ✅ Correct import depending on TensorFlow version\n",
    "try:\n",
    "    from keras.saving import register_keras_serializable  # TF 2.12+\n",
    "except ImportError:\n",
    "    from keras.utils.generic_utils import register_keras_serializable  # TF < 2.12\n",
    "\n",
    "# 🔹 Register custom metrics\n",
    "@register_keras_serializable(package=\"Custom\", name=\"mae\")\n",
    "def mae(y_true, y_pred):\n",
    "    return MeanAbsoluteError()(y_true, y_pred)\n",
    "\n",
    "@register_keras_serializable(package=\"Custom\", name=\"mape\")\n",
    "def mape(y_true, y_pred):\n",
    "    return K.mean(K.abs((y_true - y_pred) / K.clip(y_true, K.epsilon(), None))) * 100\n",
    "\n",
    "# ✅ Model checkpoint path\n",
    "checkpoint_path = r\"C:\\Users\\Hp\\Desktop\\ml labs\\last labs\\lab 2\\checkpoints\\E3-cp-0001-loss0.04.h5\"\n",
    "\n",
    "# Check if file exists\n",
    "if not os.path.exists(checkpoint_path):\n",
    "    raise FileNotFoundError(f\"❌ Error: Model checkpoint not found at {checkpoint_path}\")\n",
    "\n",
    "print(f\"[INFO] Loading model from {checkpoint_path}...\")\n",
    "\n",
    "# 🔽 Load model with custom metrics\n",
    "try:\n",
    "    model = load_model(checkpoint_path, custom_objects={\"mae\": mae, \"mape\": mape}, compile=False)\n",
    "    print(\"✅ Model loaded successfully!\")\n",
    "except Exception as e:\n",
    "    print(f\"❌ Error loading model: {e}\")\n",
    "    exit()\n",
    "\n",
    "# 🔄 Recompile the model\n",
    "print(\"[INFO] Recompiling the model with Adam optimizer...\")\n",
    "optimizer = Adam(learning_rate=1e-4)\n",
    "model.compile(loss=\"mae\", optimizer=optimizer, metrics=[\"mae\", \"mape\"])\n",
    "\n",
    "# 🔍 Show current learning rate\n",
    "print(\"[INFO] New learning rate:\", K.get_value(model.optimizer.learning_rate))\n",
    "\n",
    "# 📊 Show model summary\n",
    "print(model.summary())\n"
   ]
  },
  {
   "cell_type": "code",
   "execution_count": 44,
   "metadata": {},
   "outputs": [
    {
     "name": "stdout",
     "output_type": "stream",
     "text": [
      "Epoch 1/2\n",
      "663/663 [==============================] - ETA: 0s - loss: 0.0352 - mae: 0.0352 - mape: 2223.6260\n",
      "Epoch 1: val_loss improved from 0.03953 to 0.03824, saving model to C:\\Users\\Hp\\Desktop\\ml labs\\last labs\\lab 2\\checkpoints\\E3-cp-0001-loss0.04.h5\n",
      "663/663 [==============================] - 65s 80ms/step - loss: 0.0352 - mae: 0.0352 - mape: 2223.6260 - val_loss: 0.0382 - val_mae: 0.0382 - val_mape: 16.3774\n",
      "Epoch 2/2\n",
      "663/663 [==============================] - ETA: 0s - loss: 0.0347 - mae: 0.0347 - mape: 2230.7712\n",
      "Epoch 2: val_loss improved from 0.03824 to 0.03740, saving model to C:\\Users\\Hp\\Desktop\\ml labs\\last labs\\lab 2\\checkpoints\\E3-cp-0002-loss0.04.h5\n",
      "663/663 [==============================] - 55s 83ms/step - loss: 0.0347 - mae: 0.0347 - mape: 2230.7712 - val_loss: 0.0374 - val_mae: 0.0374 - val_mape: 15.8524\n"
     ]
    }
   ],
   "source": [
    "epochs = 2\n",
    "verbose = 1 #0\n",
    "batch_size = 128\n",
    "History = model.fit(train_X,\n",
    "                        train_y,\n",
    "                        batch_size=batch_size,   \n",
    "                        epochs = epochs, \n",
    "                        validation_data = (validation_X,validation_y),\n",
    "                        callbacks=callbacks,\n",
    "                        verbose = verbose)"
   ]
  },
  {
   "cell_type": "code",
   "execution_count": 47,
   "metadata": {},
   "outputs": [
    {
     "name": "stdout",
     "output_type": "stream",
     "text": [
      "[INFO] Loading model from C:\\Users\\Hp\\Desktop\\ml labs\\last labs\\lab 2\\checkpoints\\E3-cp-0001-loss0.04.h5...\n",
      "✅ Model loaded successfully!\n",
      "[INFO] Recompiling the model with Adam optimizer...\n",
      "Model: \"PC\"\n",
      "_________________________________________________________________\n",
      " Layer (type)                Output Shape              Param #   \n",
      "=================================================================\n",
      " input_4 (InputLayer)        [(None, 24, 21)]          0         \n",
      "                                                                 \n",
      " bidirectional_3 (Bidirectio  (None, 24, 96)           26880     \n",
      " nal)                                                            \n",
      "                                                                 \n",
      " lstm_7 (LSTM)               (None, 48)                27840     \n",
      "                                                                 \n",
      " activation_3 (Activation)   (None, 48)                0         \n",
      "                                                                 \n",
      " dense_3 (Dense)             (None, 24)                1176      \n",
      "                                                                 \n",
      "=================================================================\n",
      "Total params: 55,896\n",
      "Trainable params: 55,896\n",
      "Non-trainable params: 0\n",
      "_________________________________________________________________\n",
      "None\n",
      "[INFO] Making predictions...\n",
      "378/378 [==============================] - 7s 13ms/step\n",
      "\n",
      "🔹 Evaluation Results:\n",
      "Mean Absolute Error (MAE): 614.73\n",
      "Median Absolute Error (MedAE): 479.88\n",
      "Mean Squared Error (MSE): 648298.89\n",
      "Root Mean Squared Error (RMSE): 805.17\n",
      "Mean Absolute Percentage Error (MAPE): 4.16 %\n",
      "Median Absolute Percentage Error (MDAPE): 3.34 %\n",
      "\n",
      "🔸 Shapes:\n",
      "y_test_unscaled.shape: (12082, 24)\n",
      "y_pred.shape: (12082, 24)\n"
     ]
    }
   ],
   "source": [
    "import os\n",
    "import numpy as np\n",
    "import tensorflow.keras.backend as K\n",
    "from tensorflow.keras.models import load_model\n",
    "from tensorflow.keras.optimizers import Adam\n",
    "from tensorflow.keras.losses import MeanAbsoluteError\n",
    "\n",
    "# ✅ Handle compatibility for register_keras_serializable\n",
    "try:\n",
    "    from keras.saving import register_keras_serializable  # TensorFlow ≥ 2.12\n",
    "except ImportError:\n",
    "    from keras.utils.generic_utils import register_keras_serializable  # TensorFlow < 2.12\n",
    "    from keras.utils.generic_utils import _GLOBAL_CUSTOM_OBJECTS\n",
    "\n",
    "    # Remove old if already registered\n",
    "    _GLOBAL_CUSTOM_OBJECTS.pop(\"Custom>mae\", None)\n",
    "    _GLOBAL_CUSTOM_OBJECTS.pop(\"Custom>mape\", None)\n",
    "\n",
    "# 🔹 Register custom MAE\n",
    "@register_keras_serializable(package=\"Custom\", name=\"mae\")\n",
    "def mae(y_true, y_pred):\n",
    "    return MeanAbsoluteError()(y_true, y_pred)\n",
    "\n",
    "# 🔹 Register custom MAPE\n",
    "@register_keras_serializable(package=\"Custom\", name=\"mape\")\n",
    "def mape(y_true, y_pred):\n",
    "    return K.mean(K.abs((y_true - y_pred) / K.clip(y_true, K.epsilon(), None))) * 100\n",
    "\n",
    "# ✅ Model checkpoint path\n",
    "checkpoint_path = r\"C:\\Users\\Hp\\Desktop\\ml labs\\last labs\\lab 2\\checkpoints\\E3-cp-0001-loss0.04.h5\"\n",
    "\n",
    "if not os.path.exists(checkpoint_path):\n",
    "    raise FileNotFoundError(f\"❌ Error: Model checkpoint not found at {checkpoint_path}\")\n",
    "\n",
    "print(f\"[INFO] Loading model from {checkpoint_path}...\")\n",
    "\n",
    "# 🔄 Load the model with custom metrics\n",
    "try:\n",
    "    model = load_model(checkpoint_path, custom_objects={\"mae\": mae, \"mape\": mape}, compile=False)\n",
    "    print(\"✅ Model loaded successfully!\")\n",
    "except Exception as e:\n",
    "    print(f\"❌ Error loading model: {e}\")\n",
    "    exit()\n",
    "\n",
    "# 🔁 Recompile the model\n",
    "print(\"[INFO] Recompiling the model with Adam optimizer...\")\n",
    "optimizer = Adam(learning_rate=1e-4)\n",
    "model.compile(loss=\"mae\", optimizer=optimizer, metrics=[\"mae\", \"mape\"])\n",
    "\n",
    "# 📊 Model structure\n",
    "print(model.summary())\n",
    "\n",
    "# =================== PREDICTION & EVALUATION ===================\n",
    "\n",
    "# ✅ Ensure test data and scaler are defined\n",
    "if \"test_X\" not in locals() or \"test_y\" not in locals():\n",
    "    raise ValueError(\"❌ Error: `test_X` or `test_y` is not defined.\")\n",
    "if \"scaler\" not in locals():\n",
    "    raise ValueError(\"❌ Error: `scaler` is not defined for inverse_transform.\")\n",
    "\n",
    "# 🔍 Predict\n",
    "print(\"[INFO] Making predictions...\")\n",
    "y_pred_scaled = model.predict(test_X)\n",
    "y_pred = scaler.inverse_transform(y_pred_scaled)\n",
    "y_test_unscaled = scaler.inverse_transform(test_y)\n",
    "\n",
    "# 📈 Evaluation Metrics\n",
    "MAE = np.mean(abs(y_pred - y_test_unscaled))\n",
    "MEDAE = np.median(abs(y_pred - y_test_unscaled))\n",
    "MSE = np.mean(np.square(y_pred - y_test_unscaled))\n",
    "RMSE = np.sqrt(MSE)\n",
    "MAPE = np.mean(np.abs((y_test_unscaled - y_pred) / y_test_unscaled)) * 100\n",
    "MDAPE = np.median(np.abs((y_test_unscaled - y_pred) / y_test_unscaled)) * 100\n",
    "\n",
    "# 📤 Print Results\n",
    "print('\\n🔹 Evaluation Results:')\n",
    "print('Mean Absolute Error (MAE):', np.round(MAE, 2))\n",
    "print('Median Absolute Error (MedAE):', np.round(MEDAE, 2))\n",
    "print('Mean Squared Error (MSE):', np.round(MSE, 2))\n",
    "print('Root Mean Squared Error (RMSE):', np.round(RMSE, 2))\n",
    "print('Mean Absolute Percentage Error (MAPE):', np.round(MAPE, 2), '%')\n",
    "print('Median Absolute Percentage Error (MDAPE):', np.round(MDAPE, 2), '%')\n",
    "\n",
    "print('\\n🔸 Shapes:')\n",
    "print('y_test_unscaled.shape:', y_test_unscaled.shape)\n",
    "print('y_pred.shape:', y_pred.shape)\n"
   ]
  },
  {
   "cell_type": "code",
   "execution_count": null,
   "metadata": {},
   "outputs": [],
   "source": []
  }
 ],
 "metadata": {
  "kernelspec": {
   "display_name": "Python 3 (ipykernel)",
   "language": "python",
   "name": "python3"
  },
  "language_info": {
   "codemirror_mode": {
    "name": "ipython",
    "version": 3
   },
   "file_extension": ".py",
   "mimetype": "text/x-python",
   "name": "python",
   "nbconvert_exporter": "python",
   "pygments_lexer": "ipython3",
   "version": "3.7.16"
  }
 },
 "nbformat": 4,
 "nbformat_minor": 4
}
